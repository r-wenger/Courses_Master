{
  "cells": [
    {
      "cell_type": "markdown",
      "metadata": {
        "id": "ykNT51nH5dGL"
      },
      "source": [
        "# Word description\n",
        "\n",
        "For this deep learning course, we will use an existing network ([UNET](https://en.wikipedia.org/wiki/U-Net)) and the [Vaihingen dataset](https://www2.isprs.org/commissions/comm2/wg4/benchmark/2d-sem-label-vaihingen/).\n",
        "\n",
        "## Step 1: Download and Prepare the Data\n",
        "\n",
        "### Option 1: Using Google Colab Commands (Preferred)\n",
        "If you have a slow or unreliable internet connection, run the commands below to download the data directly into your Colab session. Once the data is downloaded, you can drag and drop it into your Google Drive.\n",
        "\n",
        "### Option 2: Manual Download\n",
        "If the commands do not work, you can [download the data manually](https://drive.google.com/file/d/1GaGCF3natHMlbn7KXrkaEPjWTmAJ6zEW/view?usp=sharing), unzip it, and upload it to your Google Drive (preferably at the root).  \n",
        "*Ensure you have approximately 1.5–2 GB of free space.*\n",
        "\n",
        "## Notes\n",
        "Throughout this lab session, various concepts will be introduced. Links to explanations will be provided, and you are strongly encouraged to read and understand them.\n",
        "\n",
        "## Contact\n",
        "For any questions: romain.wenger[at]live-cnrs.unistra.fr\n"
      ]
    },
    {
      "cell_type": "code",
      "execution_count": null,
      "metadata": {
        "id": "ddTcHPmHnD8k"
      },
      "outputs": [],
      "source": [
        "!pip install -U --no-cache-dir gdown --pre"
      ]
    },
    {
      "cell_type": "code",
      "execution_count": null,
      "metadata": {
        "id": "qZQxEAprmtVj"
      },
      "outputs": [],
      "source": [
        "import gdown\n",
        "import zipfile\n",
        "\n",
        "# It will automatically download and unzip the dataset. You will find it in the file explorer on the left side\n",
        "url = 'https://drive.google.com/uc?id=1GaGCF3natHMlbn7KXrkaEPjWTmAJ6zEW'\n",
        "output = 'dataset.zip'\n",
        "gdown.download(url, output, quiet=False)\n",
        "\n",
        "with zipfile.ZipFile(output, 'r') as zip_ref:\n",
        "    zip_ref.extractall('.')"
      ]
    },
    {
      "cell_type": "markdown",
      "metadata": {
        "id": "b9kJRoJQtxQT"
      },
      "source": [
        "# Libraries installation\n"
      ]
    },
    {
      "cell_type": "markdown",
      "metadata": {
        "id": "hqF41Lc6_gUk"
      },
      "source": [
        "We are using an external library to facilitate the deployment of the deep learning models, [*segmentation-models*](https://github.com/qubvel/segmentation_models), which enables the use of [pretrained networks](https://towardsdatascience.com/transfer-learning-from-pre-trained-models-f2393f124751) to improve classification results."
      ]
    },
    {
      "cell_type": "code",
      "execution_count": null,
      "metadata": {
        "id": "H1DGll64ly-s"
      },
      "outputs": [],
      "source": [
        "!pip install segmentation-models"
      ]
    },
    {
      "cell_type": "code",
      "execution_count": null,
      "metadata": {
        "id": "qYHLmOsiZAO8",
        "colab": {
          "base_uri": "https://localhost:8080/"
        },
        "outputId": "4661cf72-4c14-4e7f-d0be-ee523b157614"
      },
      "outputs": [
        {
          "output_type": "stream",
          "name": "stdout",
          "text": [
            "env: SM_FRAMEWORK=tf.keras\n"
          ]
        }
      ],
      "source": [
        "#These are all the imports we will need during this work\n",
        "import tensorflow as tf\n",
        "from tensorflow import keras\n",
        "from keras.layers import Input\n",
        "from keras.layers import Convolution2D\n",
        "from keras.layers import Activation, Reshape\n",
        "from keras.layers import BatchNormalization\n",
        "from keras import backend as K\n",
        "from keras.models import *\n",
        "from keras.layers import *\n",
        "from keras.optimizers import *\n",
        "from keras.callbacks import ModelCheckpoint, LearningRateScheduler, EarlyStopping, ReduceLROnPlateau\n",
        "\n",
        "import numpy as np\n",
        "%env SM_FRAMEWORK=tf.keras\n",
        "import segmentation_models as sm\n",
        "import tifffile as tiff\n",
        "import math\n",
        "import os\n",
        "import random\n",
        "from random import shuffle\n",
        "import matplotlib.pyplot as plt\n",
        "from random import randint\n",
        "from sklearn.metrics import classification_report, confusion_matrix\n",
        "import itertools\n",
        "from random import randrange\n",
        "from tqdm import tqdm"
      ]
    },
    {
      "cell_type": "markdown",
      "metadata": {
        "id": "8yZVQDNMt5TD"
      },
      "source": [
        "# Data Preprocessing\n",
        "\n",
        "In this section, we will preprocess the data to ensure it is in the correct format for training the deep learning model. Preprocessing steps typically include:\n",
        "\n",
        "1. **Normalization**: Scaling pixel values to a specific range (e.g., [0, 1]) for better model performance.\n",
        "2. **Data Augmentation**: Applying transformations like rotations, flips, or zooms to increase dataset diversity.\n",
        "3. **Label Encoding**: Converting labels into a machine-readable format (e.g., one-hot encoding for segmentation masks).\n",
        "4. **Splitting the Dataset**: Dividing the data into training, validation, and test sets to evaluate the model's performance effectively.\n",
        "\n",
        "Follow the steps below to preprocess your data:\n"
      ]
    },
    {
      "cell_type": "markdown",
      "metadata": {
        "id": "QWzUtCPe_GDe"
      },
      "source": [
        "## Hidden Methods\n",
        "\n",
        "These are complex methods that you don't need to develop yourself. However, explanations of their usage are provided below for better understanding.\n"
      ]
    },
    {
      "cell_type": "code",
      "execution_count": null,
      "metadata": {
        "id": "0ji86kF0_Ff6"
      },
      "outputs": [],
      "source": [
        "# Method for Randomly Applying Data Augmentation Techniques to Prevent Overfitting\n",
        "def data_augmentation(patch_img, patch_mask):\n",
        "    \"\"\"\n",
        "    Applies a random data augmentation technique to the input image and mask.\n",
        "\n",
        "    Parameters:\n",
        "        patch_img (numpy.ndarray): Input image patch.\n",
        "        patch_mask (numpy.ndarray): Corresponding mask for the image patch.\n",
        "\n",
        "    Returns:\n",
        "        tuple: Augmented image patch and mask.\n",
        "    \"\"\"\n",
        "    random_transformation = np.random.randint(1,5)\n",
        "    if random_transformation == 1:\n",
        "        patch_img = patch_img.transpose([1,0,2])\n",
        "        patch_mask = patch_mask\n",
        "    elif random_transformation == 2:\n",
        "        patch_img = np.rot90(patch_img, 1)\n",
        "        patch_mask = np.rot90(patch_mask, 1)\n",
        "    elif random_transformation == 3:\n",
        "        patch_img = np.rot90(patch_img, 2)\n",
        "        patch_mask = np.rot90(patch_mask, 2)\n",
        "    elif random_transformation == 4:\n",
        "        patch_img = np.rot90(patch_img, 3)\n",
        "        patch_mask = np.rot90(patch_mask, 3)\n",
        "    else:\n",
        "        pass\n",
        "\n",
        "    return patch_img, patch_mask\n",
        "\n",
        "# Color Palette for Segmentation Classes\n",
        "palette = {\n",
        "    0: (255, 255, 255),  # Impermeable surface (white)\n",
        "    1: (0, 0, 255),      # Building (blue)\n",
        "    2: (0, 255, 255),    # Low vegetation (cyan)\n",
        "    3: (0, 255, 0),      # Tree (green)\n",
        "    4: (255, 255, 0),    # Car (yellow)\n",
        "    5: (255, 0, 0),      # Clutter (red)\n",
        "    6: (0, 0, 0)         # Undefined (black)\n",
        "}\n",
        "\n",
        "invert_palette = {v: k for k, v in palette.items()}\n",
        "\n",
        "# Method to Convert a 2D Classified Matrix to a 3D RGB Matrix\n",
        "def convert_to_color(arr_2d, palette=palette):\n",
        "    \"\"\"\n",
        "    Converts a 2D classified matrix to a 3D RGB matrix using a specified palette.\n",
        "\n",
        "    Parameters:\n",
        "        arr_2d (numpy.ndarray): 2D array with class indices.\n",
        "        palette (dict): Dictionary mapping class indices to RGB tuples.\n",
        "\n",
        "    Returns:\n",
        "        numpy.ndarray: 3D array (H, W, 3) with RGB values.\n",
        "    \"\"\"\n",
        "    arr_3d = np.zeros((arr_2d.shape[0], arr_2d.shape[1], 3), dtype=np.uint8)\n",
        "\n",
        "    for c, i in palette.items():\n",
        "        m = arr_2d == c\n",
        "        arr_3d[m] = i\n",
        "\n",
        "    return arr_3d\n",
        "\n",
        "#Methode pour convertir une matrice 3D RGB vers une matrice 2D\n",
        "def convert_from_color(arr_3d, palette=invert_palette):\n",
        "    \"\"\"\n",
        "    Converts a 3D RGB matrix to a 2D classified matrix using an inverted palette.\n",
        "\n",
        "    Parameters:\n",
        "        arr_3d (numpy.ndarray): 3D array (H, W, 3) with RGB values.\n",
        "        palette (dict): Dictionary mapping RGB tuples to class indices.\n",
        "\n",
        "    Returns:\n",
        "        numpy.ndarray: 2D array with class indices.\n",
        "    \"\"\"\n",
        "    arr_2d = np.zeros((arr_3d.shape[0], arr_3d.shape[1]), dtype=np.uint8)\n",
        "\n",
        "    for c, i in palette.items():\n",
        "        m = np.all(arr_3d == np.array(c).reshape(1, 1, 3), axis=2)\n",
        "        arr_2d[m] = i\n",
        "\n",
        "    return arr_2d"
      ]
    },
    {
      "cell_type": "markdown",
      "metadata": {
        "id": "AW5_xeGG_Ng9"
      },
      "source": [
        "## Your Turn!\n",
        "\n",
        "Now it's your turn! Carefully read the instructions before starting, and don't be afraid to experiment (even if it doesn't work!) 😉\n"
      ]
    },
    {
      "cell_type": "markdown",
      "metadata": {
        "id": "PGduAmjmHSqk"
      },
      "source": [
        "The objective of this section is to provide functions and processes to extract a set of image patches (256x256 in size) for training/validation, normalize them, and transform them into tensors. We will keep one image (not included in the training or validation sets) for testing purposes."
      ]
    },
    {
      "cell_type": "markdown",
      "metadata": {
        "id": "WZfhRU_SDOds"
      },
      "source": [
        "We initialize our constants:\n",
        "\n",
        "- The path to the folder on your *Drive* that you downloaded.\n",
        "- The folder containing the ground truth data.\n",
        "- The folder containing the images.\n",
        "- The folder containing the DSM (Digital Surface Model, not to be confused with Digital Terrain Model).\n",
        "- The color palette.\n",
        "- The inverted color palette.\n",
        "\n",
        "\n",
        "![mSw8Y.png](data:image/png;base64,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)\n",
        "\n",
        "\n"
      ]
    },
    {
      "cell_type": "code",
      "execution_count": null,
      "metadata": {
        "id": "q6mfpE9KuEi9"
      },
      "outputs": [],
      "source": [
        "# Add the files to the dataset (or change it if it is on your Google Drive)\n",
        "PATH_GOOGLE_DRIVE = '/content/ISPRS_semantic_labeling_Vaihingen'\n",
        "\n",
        "# Folder containing ground truth data\n",
        "FOLDER_GT = 'gts_for_participants'\n",
        "\n",
        "# Folder containing images\n",
        "FOLDER_IMG = 'top'\n",
        "\n",
        "# Folder containing DSM (Digital Surface Model) -> we will not use them during these 4 hours of course\n",
        "FOLDER_DSM = 'dsm'\n",
        "\n",
        "# Color palette for segmentation classes\n",
        "palette = {\n",
        "    0: (255, 255, 255),  # Impermeable surface (white)\n",
        "    1: (0, 0, 255),      # Building (blue)\n",
        "    2: (0, 255, 255),    # Low vegetation (cyan)\n",
        "    3: (0, 255, 0),      # Tree (green)\n",
        "    4: (255, 255, 0),    # Car (yellow)\n",
        "    5: (255, 0, 0),      # Clutter (red)\n",
        "    6: (0, 0, 0)         # Undefined (black)\n",
        "}\n",
        "\n",
        "# Inverted color palette (mapping RGB to class index)\n",
        "invert_palette = {v: k for k, v in palette.items()}"
      ]
    },
    {
      "cell_type": "markdown",
      "metadata": {
        "id": "8NtxNqa6FqeT"
      },
      "source": [
        "For this section, you need to split the images into training, validation, and test sets. We will only use one image for testing. Multiple implementations are possible for this task. The goal is to create two lists (`train` and `valid`) containing the names of the images. Don't forget to set aside one image as the test image. 60% of the remaining images will be used for training, and 40% for validation.\n",
        "\n",
        "I encourage you to read and understand Python's [*slicing*](https://zestedesavoir.com/tutoriels/582/les-slices-en-python/) methods before starting the lab."
      ]
    },
    {
      "cell_type": "code",
      "execution_count": null,
      "metadata": {
        "id": "Qmq9Y3OIFHWi"
      },
      "outputs": [],
      "source": [
        "# List all ground truth images in the folder\n",
        "list_of_files = os.listdir(...)\n",
        "# Shuffle the list randomly (https://www.w3schools.com/python/ref_random_shuffle.asp)\n",
        "...\n",
        "\n",
        "# Extract the last image from the list as the test image : use pop function (https://www.programiz.com/python-programming/methods/list/pop)\n",
        "TEST_FILE = ...\n",
        "\n",
        "print('Name of the test img: ' + TEST_FILE)\n",
        "\n",
        "#We count the number of images in the list (nb_file) and extract the number of images that will be included in the training set (60% of the list, variable nb_train) and the validation set (40% of the list, variable nb_valid).\n",
        "nb_file = ...\n",
        "nb_train = int(... * (.../100))\n",
        "nb_valid = ...\n",
        "\n",
        "print('\\n')\n",
        "print('Number of images in the list: ' + ...)\n",
        "print('Number of images for training: ' + ...)\n",
        "print('Number of images for validation: ' + ...)\n",
        "\n",
        "#We extract lasts nb_valid images of the list list_of_files\n",
        "#Slicing\n",
        "list_valid = list_of_files[nb_train:...+...]\n",
        "list_train = list_of_files[0:nb_train]\n",
        "\n",
        "#We print the results\n",
        "print('\\n')\n",
        "print('Validation list:\\n' + ...)\n",
        "print('Train list:\\n' + ...)"
      ]
    },
    {
      "cell_type": "markdown",
      "metadata": {
        "id": "RrQXQqAQGIzW"
      },
      "source": [
        "Display a random image from the list on a graph. To do this, generate a random integer between 0 and the size of the list -1. Here's what it should look like:\n",
        "\n",
        "![téléchargement.png](data:image/png;base64,iVBORw0KGgoAAAANSUhEUgAAAX0AAADxCAYAAAAnfGdGAAAABHNCSVQICAgIfAhkiAAAAAlwSFlzAAALEgAACxIB0t1+/AAAADh0RVh0U29mdHdhcmUAbWF0cGxvdGxpYiB2ZXJzaW9uMy4yLjIsIGh0dHA6Ly9tYXRwbG90bGliLm9yZy+WH4yJAAAgAElEQVR4nOy9d7xlVX3+/15r7XL6Obe36Y0ZBmSQjooooKBREzWWGAtqgokYQ6JGRH9WUGI0VvLFqKQQo8GKsWGjCQpIEYaZYcq9M3Pn9nt62WeXtX5/7DMFpjBjQfLyPvO6rztnl7XX3mfdZ33W8ylbGGNYwAIWsIAF/GFA/r47sIAFLGABC3jisED6C1jAAhbwB4QF0l/AAhawgD8gLJD+AhawgAX8AWGB9BewgAUs4A8IC6S/gAUsYAF/QHjCSV8IcaEQYosQYpsQ4p1P9PUXsIDfBRbG9QL+r0A8kXH6QggFPAJcAIwDdwOvNMY8/IR1YgEL+C1jYVwv4P8SnmhL/3RgmzFmhzHGB74MvOgJ7sMCFvDbxsK4XsD/GTzRpD8C7D7g83hn2wIW8H8ZC+N6Af9nYP2+O/BYCCH+EvhLgKSyTlmay1PFUPXbRFojhQDAYIiVKYMDuAhcIUgJhTaGCENKKjRggLnQ39s+jpDUdUTbGAyghEBiEAgUIIC0VDhSAWAJAZ1jpRCEQMt2sKWkZSI04Ac+fuCjDGSlxAKMidsxGBSCuAVQQtI2GgBbKsompC3F3gdALp3CUqLTc4FBEZi4h0ZrtNb79gkpMMagtSGKQqIowrJUfC9KgRDoKNp3baM1YRBgC4FtDMYYQstCWBZKaxJ+QGQMs2FA1HkWBni0DGg6e8BxHCxl79vmSIHUETIIqYcBrpD02Qmszv17wlBXgkgIEBIhBAgRtybi6xhjkEKiTXyvYRCgwxAbQUoqJBB1+hMZjW80CWVhifgpY8CVFqEOsTrfrQSEkARS0BAQdK41XSrNGWP6ftNxezQ4cGyTTp/C2rUsAY508Vlm2c3ufd/f0aJAgcUsZpRR6tSP/kTPhYlh0BKqOTASpWDVKihlxpll5uj7YgTsWAHlwqH3S8hkYNEwpNNH38UjwQeqQAgooIuY5MYZZ5ppHBzWshYb+3HbmpiAyckDNiSIp/I8neE/ChQ7V1pFjgzDQGrv7qNARMQ2th3bd3RYJPd3cGwMMzd3yG480aS/B1h8wOdFnW37YIz5HPA5gOMLPea6s85jVMIN0zsZ9epECKSSpBJJ/MDHVhatRp2VQnJRIk+PEaSFwJEKiaHLdgiFYmfURimbWb/FOT0j3Dg3zjfqc5RMxJC0sBE4ApII+m2XE1J58sIiZ7uYKERHIXnbxZISG0HdaAZTWb4RNXg4nWDb+E4a9QrrLIfz3QxSa1whGbZc6lHAoJPEMoZG5LMomWXK93DdJLe369xp+0SOQkjJhnWrOXF5P45lCHXE/Zt2MdSTZ2slgZPuJow0jVqV2eIsQgh6e3pwbAejDcJo6s06s/OzZLI5Vi1fRbFcRIi9E0OE6RCpkoKUZVOrVcgUutFAHsnQxDTf3b6FTe0WkYiJWmuNNjqexYzBYBAGUpkcq1auRwlFFAUopQh8n3wqiTW7m6c2QqrNBn1umvV2kmXJNC0/YKvQ3JdLMNOVIgKk7ZBMZ9EawBAEPlprEgkXpRReq8XExAS1qUlOUyl6hWSq3eLBeokTM3kG7STLMl1Ewma63aARBfQ6KbywxUg6z1S9hIgC+tw0gYkI3AQ7UhZzCYcP/9d/7HwixvVjx7Y49VTDPfdQB94MvAHo5mCyaNLkbM7mAR44pg6dy7m8jJfxFt5ybIRi2hDtikn/31+LfMc/8a635Pmb9xV5qtxwDIQPfPNF8IovA+6hj9Gx1HDddXDGGfEc0SR+BknomAmxMSaOmkYP1RXDbnbzUT7KhVzI83jeEdszBh5+GM499zE7POJv9QLgvQYGrgHxfuA9wJupItHAGzBcDvTD4/bbYNjMZl7Fq7iP+37te4zRAiaBK+DUzxz2qCea9O8GVgshlhM/vlcAf3bYo4WgHPis6OrnH/Ih14a7+KXfQEiJ53kgQNoKqRShBozBM4actGmEASmlCCP4WXOeoXSWJJIEAhfJ+fkBEsri38uTVITA1ZphEdv5trCY830cW5ITgiCKwEAtDOhLpskLiy6jsSLNomqN/50YoxH5WMYwpGwCrbG1YUkyhTKGmtFYUhIFPo602dyqYQSkA8l2PELbxiDoLeRZs3gAJTVTsyV+NTbB7Q+NkXIcqoEAJAOpDCcrl5/P7CIwhkw6w4a+IZ7SO8CuhE1gKfq6e2g2mzz48K/o7enDti32rQyEQEpJLl+gXq8hEim0kLiOQ8Xz+OH4KLO+17HEQUcaYwwC0B3SFyL+bgYHRrCUhddqIqMyQ4ND7JnTRIHH0HAfdc/H7IqIAp/ITlBTFltNg4ZtUSqXyHpNVFeeojHUggA3kcJ2XdxEcv9EozWhjpgszuGk09xdqxO1WvhhgDCaLc0aQRIKQZow8vjO7ChtAcvSec7I9VELfca8BihFw4QMJTMkvDbn22l+Hnm/n3F9AIrAO4HbgU8Ay3k08UskCnXMHfom36RMmRu4gdfzesYYO7oTBWBFQITzhut5/7rX8KYTnkFbBrRpH30HAhv++TLwnSMe9oY3wGmnQRTBL7fAJZug/Sx4fje8QrT5b95NmhSXcil99P1a5C8QLGYxn+JT+z4fCWEIH/4wzM0dYqcH/D/gNgFX/wU894/AWsRepbwOfBKfh/go1/JKlrP8iJOWQLCWtXyVr3ITN5Eixb3cy0/5KZvZjI9/jHfbAC4lXuMcGk8o6RtjQiHEpcAPiNdEXzTGbDzc8Z6O2Bl4BBM7WYzkPDtFoEMeCtpo20JJRbPVYCiVId306FM2fcqipTXbPA8dQEXXmNIBgacYsDTLU3mINF3K4SnJHHZ5inIU4QhBn52gEgTMtltkXEF3yoUgJCkVjTDEsRwsy8YKNWhDJWxS1hFN30MJwSongQkj6sCGTBfldhvQDCZSJJG0bZetXp3BRBpfR/hKYSsHYwyOm+CkNSuIAp9K2+PLt9zHVKVJEGrKXhMDZFIFyu02dwZFFg13sWu2TKNeJScsTg0UjtKMZtNUEw5OJkc7DJifm8F2k3R3dSGlIIo0biKB1iaWo6RFpA1tP2Tj1keYqdfQEMtCOurYWgajDcboWO4xAtBMTYwR+j7lSpHBgiIjsgzlJN0JTeC3GXcT6CUDdM9X6bd72NwoUdQBi3uHKU6Pcka5ypAvmMyn2ZS2aJsGlqXoyuWpNOqEoUYbsG2HU086mXqzyS9/dT/GtbAcRaLtMx4GzNZLbGpUCYymYSJ8E7G5VsRB0GPFMlxRh/QZw2ijQp/t4DZKbBDHTqa/jXENse37AmrcQsAsXXwbwX3A24C/AhxiK/AaruFhfr0goGfxLM7lXF7CS/gYHzvm81fK5Vz69JPRVPkQH6JE6ehP9hKwZ4QjCR2rVsHf/z0IAddcA+95D1RqwHGw+c1wzSvupl34LFq2uVHcyKVcykt5KXnyx0z+hz/eADcSz9VvxBiHW26Br3/9cRrcCPypA5cshXcBvXtv1QAP82M+zrlcy8t5OR/kgyRIHJH4l7OcS7gEgeDVvJomTb7KV3kP72H3o9xFR4NG5+fQeMI1fWPMd4HvHs2xlSjgtqBF2WuxwUlzsuVwsk4zHfjM64jQGCwhyIUhy5RN3kqQFoJe1+HWZoV5EzFvQlwhKEUh61IOKalom4iEtJgzEc3YoEUiyEqFawtKfpuCssFoakG74xswJJVFLjTYBqZCj1vrRe5p1xFSkpeK5yQLLLdSbG+UmfQaLHfT2EDZ90knLOajEKkUUkqmQ49JHTJjSxKpDCsWD1IsV/jf27eQSVnM11u0w4hAxxZ2wkmSSmRoN2Yw0pBwJGeesJJt4zPc2ghJFjIsKhU5e3IGN53lZ30FdilBV76LZrvF1h3bWDSyiKTrkslkmZ+fRQgZr5JCzS83PcDs/HxszYtYyTcm1seNMWijMQZi14PGUgodBUxPjyGEpFy16cm5dEUR1XobqUAZn0QKNhlF0N+D2dHguXKAu5st0m2frX6LpgHVqHFmdw+P5FxmRY0S0N8/zFy5iO/7CKGQMvarFPIFhBAkHIe54jzlchlpDDUTYpt4VWIAD80vavO4gDQaISSbayW6HZcVbpKmsun9LZH+sY5rgOPw+TIv5g5WciUv4yc8nXEc/gFYD5wPNGjwRb6Ix7GvSIYZ5mIuRiAocBhN/YiQnM7LcUjxZa7nGq5Bx+bA40ML+PqLYXzRYQ+xLLjiChgehttug/e+FyqVzs5NwFug9Zk1sP4/4bwf88Dr/o1LEpdwjbiG67medaz7jSSf/dgB/A3xGuv1NBrwgQ9Aq3UUp7aATwI3A1cD5xlQE8BlQIlxSnyaT7ORjfwxf8zFXIzDoVc+B96LQJAmzWt4DedyLp/jc3yST9I4ApEfC57UGblto3m4XmYawc90xHW1Oe70aiAMdByartbkQk1KG/a06yQtB0cbVjlJnpXMM6xcfCHIOQ6SWNtu64gtXo3r58cBcKSFJQSV0CcBJIUkLSQpHV8qZ7ssTmRIRxqiCGU73BU0edBvIjAsF4JTLZc1doqMNqxP5GhGAfUoxJKKhLJ5uN1kLmyTt2yUVOxWhrtpo1Mp+noGmK/U+OYd97GrWGXj7jnqXoCvDZEBIwSFbAFXtujJOoz0ZGj4If1Ljmfl8pU0giaPmDLOhc9DL13B8hAubEX0JJPYlkU6mWZkcAiv1aTt+wR+vGRUSqEshz1TE5QqZSKj9ym2kd7//72+AOhIPUJgK4UQEgEIo1m7bBBBhDYh6ZSNY0kGChZ9eUWx3WQqmOZey+NL6YCfladYphWLlUtaKh5sFKmU5nl+y2ZQ2LRaTcZ2bqdWLiI7k3IYRqSTadauWMlTjlvL2lWryWWzRBi0tKjR0YMFKETs8BfgmYgWsYOvpUMavsd0q8Fcu4U+Wn36dwCbSRS7eDoTfJM/4xK2cSIP4xDxCww1avwj/8gWthxz2xLJS3kpffRhMOTJH2MLJwBf4AbexgsY5R9497ER/r+9Di77Z/APo+UDz342vOxlMbm+/e1QeuwiwgCbB+BrL4W/+RTyNf/F8aWn8xAP8W7eTUR0jPd0KBjgC8A8cDnGuHzlK3DHHcfYxP3Ai4G/BcY+CeaWfbt9fL7P9/kIHzlmZ62gyFLu4wNcwTVcQ4bMMZ1/ODypSd8gCIQi27uUuXaLLWGLB03InBBoA93GsEHanORmWGK5dFsuZd9DCMEzMj0c72ZZ76RwlE2EoMtJkrFsHMdhIvL5865BLsz24BpNUkrWp/Kc0zXI6ekucsJCm9jKLrVbFL06480qu70aM36LMJkgWcijMxnStsOQZeMFbaSQDCayJKwkD7Ub/LRV4aZGie+2SsxEAWlp0TaGcSJUyiWTSrB68SCKkHYYxlq2NoTaoA0dp6khb/ucvrzAYCFFsdbCD0PC2U1kqLKoN8OZq7qZn72PHauH2DHci8wnaTUbSAHJRALXcUkmUxigWq0gpUQpG0tZlKtl2oG/j9DjSJ3OzwHGlBACIcC17X0WvxDQnU+zYtEQRtqU6nW8wKPcaICTw0m4LB3sIfDbVFs1frp7O6xYRW3pEmQyyQ6vhkJTsF12E1IMfCwkSmuUMLTqVYTRSAyRjrAsh0gbWs0mSTdBT76Hrkw/iWQBlcjS7PgtLG2QWiMM2EqhZDzUU1KREyJeISaST/yg3occ8G4Et+Pycj7BL7iT53AXuzmTu3kFr+BKriQkfNyWJBKrs2jPkcPG5ot8kUu4hDp13MM5Ug+JDLFo/VqapLmJ3UwxeYjjLA7poNUSvvJyKB9eU87l4P3vh2QyJv3p6cfpUmijvvUnvO5LP+CvvcvwjHf0k9DjYhXwVuB8pqcFV18d+xeOGQ3gM8A5b4FP/C2UCuy1KQSC1/LazorraA0NA3wHeB2Ki3gVcBUf+q0Q/5MuZPNAGAMIQak0SdtvQCdkMRCxhLZSWiyRip5Ic1K6QKXtYZl4FWBbFrVsFtGXY6kOkKkkdyeS5CLNzkaVUi3kGcbh2YksU80GWyOfuShkMAipG82E36RpkgghcDGk7QRl0yJSkrmuDIXIZm2UBm24tzhDMlHAb3sk3QTCdtmpQx4IGoQBRMAix0ELgSaWhxZJh4Yt6com6M0Y+nMpbCkIo70qutg3PJK2zeLuDI6SDBeybJ0o4YWaSEfkE4oNywep1xtsnypR6KpR6+1D4pLWafbMTmPZNrlcARVZIASubYOUWJaD73vYTgKlLKLOaI9MfH0pwGiDkgrTkU6UlKSSOfx2HYEmlUjwJ88+iaH+fhIyYmp2lrbvI5Sh5dXI5VwSrkWt0SSbTpPq6sJYNhMZh+lVSRIT46wuVxDC4jOjDyJ6e+gtFAi8NhnXJe+61MMQlBVLYyoestoYhvr66c4XKFXqjIglTMzsZKbdwGAYEhKpIxpGo6OIEEgJwXGZLCudFGEYIvRvizh+HXQBZwAvRvDnKC4mxQWMs5mX8HKqVI94dg89nMd5nM/5pEgxwggP8AAb2MD1XM/n+TzXcz0lSpzBGTg4+HQRx5RsI9YmDoVXA2eyf7Y/kTgYaeyAY44HPgoMAP9OnIs2G+9SEfzFv8LG9YfV9Pc6bwGuvx52H4VkHQSCd16W4I9vv5Irr2pgL7ePPi7ysBDA64AQrRWf/jRs3fobtrd7Mbztn+A/X4248j30XHAvz7bO4TL+BMm7iL02vYSE7GAHy1iGjX0IqUoArySehK9EcSt/zTWcydlcy7Vcx3W/9sT3pCb9vc8h9BtIKdHaIAWkhSAbaUYsl1XKwcKQRJCy3Ti23LJ4cKDA9qEeWkqR7cSCNxGYMEIkHdxUipu3j3KqtmjqkOXKYq2d4n9KU+yWkEtnWJ5KcpoWpBF0O2kStkMtk+QnxSkKls2851GuVfGigL5UHz2pNEpKWtonVIakUrSMpq0Nk4FPFsmJwiUpbZZEMFdqMLAqgw59ulIug/kMo7PlmHClhTIaWykGcmlKdQ8BdGdsCmmXqYrHdKlBTy6NlBZhEDBQSJJwQmQ4Q1vksZxuhgeGKVZKFIvzZPP52NrXBmnFPotmq8WSkUXkc1nGxndRqlQAg+zEu++1TEQnP8KxBG1vPyGdvWEN55y8EikMrZZHpRGSTkiCSFOtVdCBTSaZZFF/llw6oBloUB6t0CWyHBojS3hI7OK7e3azO2hiZkMqrQa2kNSrFU5L5xnq7WMi6RBYCsdxsSwbKSUGg2PbDPZ1YymbmYpGWYq21kxoQ0IIHGV1rAdISIUjLYqBT7FVIy9+3wvd1cQRnNcBPhHv5pP87eMS/kt4CVdzNUtYgoW1jzCeyTMBWMc6drGLm7iJb3f+xYv6q4iJ5Bbg88D/wr6IHAFsII4l2uvrMMRxRROdz13AC4ArOn0XwMnAJcCrgAfiTS/5GqzfCH/7CfjR+aD3+05WrIC/+ztQCrZvh49+FI527g1D+OpXLGamcnz/e/FK4TeHxBiHhx+Gz33ut9Ee8f3edzLuK7/ODT+rctb6NA5/DdwAvApDD3PM8WJezAADfJAPchZnHYL4beBPiD08Fgqb0ziNdazDYLie6wkIjjmH4/c96o8IJTsOPAyWsnAsGykkNpCSEqM1w5ZLl4gJINQhOcshKuR5pL+A77ogJWLfj6DtCFTaRSUTPGICrq/OgBT8WfciVrtpzutfSpe06M53M7xuHTXHRmvDRODx5fos/zE5yqa5We4rzqHCCCMlF+QH2JDqJhQ2DzWKpBFclOzlGYkuelDYGNrGsNX32B36NDHkhY2pN5i8YyO773iEWx/Yxp5idf8X2AmTdJTAVhBEEdOVBlsmy4Qd527LD0knbPoKOXq6e1g+MsSigX4Gu/OYWhWr5ZGzLAZ6+ynkCpgowmiNsiyUlLFcYjvYlqK3q5sT1qxj9bLl9BQK2MqCTgLZ3qGolEIKGevmUtCTT7J+eTelagOjDZaK+xJqiW07CCEp1tvsnp5n91yZdhSwcjjNUKZNl13FFj52IoHf1c20iYWMMAopVStUKrHkNNmo4MzMctxclXTDw0RhnDehQ4SQKCnx/TZeu4WSstM/QVtATQiqQFMI2sCsjtjWajDWarAnimjJ3/fwj0MI4ooN36VFP5vYdMQzRhjhY3yMlaw8yELcGxrYRx/XcR3rWX/AmQngbOII+OcC/w18sLMd4jC/H/LodIMq8CFij8iJwPeBL7Kf8On0/3hij2Z6/22t3Qw3/Cm88yOQagAGpeBd74KRkZjAr7oK9hyUzfA4kBF7XvExbkrceFTS19Hiy1+GYvG31hwg8CouW+/owzFFBN8FLiJiJd/m21zABWxhCz/hJ/wVf8XkISW0uJ1YCtyf8pUmzWf5LLdxG5/kkyxhyTH17Elt6adTKdatXMWeqSmarQbtdhsjJLaA1Y6LE2iaUcCw5WACD8tN4ufzPDzSAyk3zuyUMvbuSYlj22A8Go2AR3bvZKZWpQd4QWGIfjvJSKaAFj5tK8Q0W1hT08wl0+y2DV69xGjQJowCfGGY95uEvseQtFjrJFDGZ4yQPZZkDQFZx+V4k0UJeLhdY0fgEQK/bBSxpaJfOQQ64DiR5qSmYrLSYlvsRMAAWuo4OUVrpst1LCkII70vusZWiv7uAkv6u5FSYTpafLUVEvptZkan0a3dnLV0NZvTDihJoVDA1xopFcVSkabnUa5VOpq/g+s4LBocYvHwCJVyidHdO5ktzu+L048j0gSL+nMs7s/SlU2wanE/AsHGHSVsJ0FfT5ZKy6NYD7EVpGzwQoGlUni1Eo1CinQyRTptIS2XybkW3f1pigND7JqZIogiFIIurQmEoBSG/Dxocnzbol/AdgVOLkfgh1hKI5TCsV2UpRjqH6Bcq9FsNUHE8pgvICB2yCcQTAQ+41FEJQrZNnOsoXC/K/QCvUgaR8wUTZLkKq563D/yvcR/Cqewkc3E8szT2U/ogtiKvIyYsL8MvB3oOaAVTSzh3Nv5/CbgNA6tqQjgacALiSeTzqZcDT7w/8HZd8AH/oWBriVc+Ip49623xkR7zMhX2H7Rp3mlmOUNvIF38k4GGEChfqNonre9DfJ5+PjHYWrq127mIPzrv8I556RZs+b5IN7B/Wzi1bz6Uau5h3iI+7iPYYaPqk2BIEGC0zmd0ziNsziL1/Laow7tfVKTvjGGpYuWsHh4EZVqhcnpKXTgI0pFctIip6NO9Igh47jsGhnmka4MswmLIAzZ5440IC1FO4qoVErcs3Ejs6Uiq22bk+wUGwqD1ETEPAFlEbE4nydMRJTny6wUkuGBQf43aBBFIRiDFrGTuaoj1imbSrPKYhTn2A7bnQSWtPEVDJgEfbbLWjfDRNBkMgrZ2G5wc3Gc1U4aECSFIiVtVGRIRXFpiSYaIo1lKRQGbSReqFEitrYFgpHuLEv7cxRrdXQUoXUIOkRJicouZthyyMuIex95kP50jlX9Q+zJ58FxqTebbHxkM9VGHQQ4jovrOOQzGaSUeF4LYQyB78dROx15REcGIxTTszVSjiKdcKk3PZYOFQhCjdeOWLu0j2q9RbE6hxe61JpthrpsjKnTiGC+HtIMPHr7F4PfxImqKAwnLevCVoa5ahOvUsLoiJyUhAiUZbGDEEsHtCs+SQTGcYgsA0ZjOXHmbk++mxPWrGXj1i3Umw32KlQGQAg8Y9gThShtUAKq5vep6R8MF5dBBtnM5oP2rWY1H+EjvJAXPi65RURczdV8ha8Af0wsIWXgoAnFAp4HXMSjydwAvwD+Bfbpxp8nlhnWHOaqingF8T9wYGSN0vC8H8M500zWl3B5Cq7w4H0fgGbziLdxaNQzsGeE1tJdfIbPcCM3chIncS3XMsTQUTdjMGg0DRqkRIp8QfG2twme+1x4/vNhfPzX6NshcPfdcOGFBf75n7/AhX8U8Qnr9QfJd1myLGf5r9W+QHAKp/BDfsin+BTf5btsZOMR9f4nNekLIfDbPlJAX3cPfV1dbNu6BRvJslQPVhAw7dXps13quTwP5pNsrZeJWgrbtog6xO+6LpZSCCEIA0291YIo4mm5Xs5wCzzoVRnMFUhLi4Qfoowg5aYZcTOUjE/FkaxGYTlJdgctbMsi5bdZ5SRZZiXIKpsgisg7Fr0K2sYgjUEZQ2QM1dBnxvc4Ll1gebrAlvo8j3h1MnaCnJvmoXaDnUELTFxHSCDwRVyjBwNSaKQAS0l681mStmLDigF0GLB9Yo7ebAJHgaUUllJke/rxnF241QY9QnJmskA1V2BMR/itJjvGRilVK4RRiG3bNFtNkokke6YnabVacR0iIchqzXGWyyonyc7A4+F2vLrBthidqjJX1/R0j9NXSGCrkGboE4YRM8UaYxMlurIpgjCkUglotX0KuRQnrBhmvlrHkppirYZjwWwtoCdt8dQ1/YztKtKq1wgRDFhx4loxiPBswXSjynAqTa3ZRAZBPEikoDuTJbB8pOPQlc2xYe3xFKsVtu0cpd0JTzWAZdudSc1DETt2n0wICQ8Z1tdPP9dxHWdz9lFZszvZySf4BG26wXwU5rsgLWJl5yDsW8MdgAbw98T5wntxH/ATDk36BvgpcDn7CX8xcd05CeIkyB6HycL1wLdKUD/2SNT4Oqu2wXH7T97FLi7mYvrpP8oWDPPM81k+ywM8wK/4Fc/hOXyMj5EgyQMPPE40kdBghfHS0Yg48/hxvpOxMcGrXiV48dtH+cYV33703Gvgafoc1sg1BzVjMAQE+PgkSSKRh/z+BYJhhvkwH+ZyLuc6ruPtvP2w/XnSk346GWuOYRhQnJ9jbs8eLs4Pckqym7aAiUaCe3wPK59grN3EFYpHJieZb9Zp+QFRFJJwHHpyeboyaUYn9lBtNigg6JUJ7mlU+H6zyAtP+mOWrV5L8+abUV6LyGg8W+JqhVNrUXBcuvJdzFYiVODzvNwAw26SUuijUBil8NHcPD9BRYecmMqzXCWoBh53NIpMRz49mS7OzvazqTbHzsjHNprx2TEaOiSSoDorCDO8UXcAACAASURBVEUcDNeONCDp7U6TsiWOEhg0URQQhCGhlszXmlQbbXpyKXpzNvmuYSwrD6USyhhOThXIK4vtriLQmjCKkJa1L4kpkUjj+22mZyYJtcZEIWkgISVLLZe1boo1iTSFdpO5KGAq8EnaFtl8N6Vagxt+spFi1eOis1YThhFjkzUqo3WyDZ9a06chIeFYREJwwZnrybqCmWLA/MxudBSRSydZnu9G2Q6LexzCpo+/x6XlB7S1ps+yMbbNg2EbISUNAQXHISEtZBiQ9wKWNEpIpRDdXWxKhqTdBKn+JNlUmtHxXZRrtTjqKwwwUuImE3hem9qTzNK/ndt5iIcetS1DZh/hGy3w2pBIdPLnDgGD4Rf8opM9+zLwlsAbBWTZH3DzuPPGJjio1o8gnjWqxI5dj3gCCIkje/4K9unSWeDfgNuII5Q2dLbF00N1kDi88VLgWKQUFcWRMd37JyMLi2fyzKMqVWEwjDHGZVzGt/jWvu2f43OcyIm8YOJNfOADgr32xEGQEfz1NfDaf48/ewm48gr4wXPBHNk/1GzB9Y0pkAckWBlgzwjb33UF916qOO20R3+vO9jBJVzCLnZxIRdyFVeRJn3EzN48ed7KW7mWaw/blyc16YPBsm2UlISBjxCCJV3dOEbiKBs/8hltN/lWZZrG1hKhjnDcJGeffiZ9xTk2bt9KvR1SC3zqjQY7dBSH6hnNU5wMfhjwo/o8g0tXkCv0UjjjTBgeYvu//RsTjQpTgceInSBQinGZYmTRelrmZwz4Eafnhpiw2jQ9C1vaKGUz5XtsbzcI0TxNdYElubdew3Zc1sk0Q+kcJNK4ToKnJHu5t15nj45wpKQgBKkIvA4Z+3EqLEFkqNQ9Wlas6QfakHRsBrqypGxwHQeZHmTOq+KXPUbnxshOPcAFwmYoYZO2XeYySSYVtMMQY9mk02kG+/oo16poHRCGPlGnIJvolFrIEFcHLZuIllTYBoQ2JG3F4pElvPB5FzE5PcM9v/oVzdCi3gowUiH8JH87vIbbou08Up+nEWr26JAonWR0d5F8GoLIsG1PkVzaxXVs2q0a2bRNvZbivk2jrEDhGxgLfbaFPsVQIiybTCKJ5bokEgmkBuO18P02IhScle6hVg9QwENRhHFc8pkMJ6xeS6vdIooiHtyyCT8MSSSS2LZD89fSF353uIu7Dsq+fTkv57k8F4zgZz+LSxVcfjmcd16c1XogDIZ7uZf38T40KTBvgP+Rcbh3SBxV+XVin+ARsb5z4I3ElSTTwFOJI3cuB/6DeBJYShz6OQv7JAuXuC7BM4FndbY9hqQkcTLTCPAa4KjCJA2c8kv40xse1dzpnM6pnHo0DQDwft7/KMKHWA77cPSP3PyRl7Bt2+FWDAZe8k348OWQaezbxJf+LJ6I/v21EB2BTs8ALs+BcmGvA7qegb/8HFu+dzp/9H3BVVfBa14DjhP36Z/4J37MjwEYZZQpprie6w+b1bsXezN6D4cnNekLIVFCUqtV2bR1K+VKiXQQMOFkMKkequ0Wt1Rn2BN5mGYs5YzkMozt2MS6dSexZvVa7r7/lxSrVWaKc+godo5mhWI8bLOpMhUXQ/M8HhwbxbrrTu5/4C7u33Y/EbFdM6psAqmoG818eYplAoaVS0oqhgOHjIpLMNfQjIc+lpSkiCtxPlCZZbtX5xndi8kgyflNZoMadibLcYsGqdWr1DBEYcjunWNYYUhub0SJjlU5z2iaXoRvxyNdCsEpaxaTT1rUWm0KuSx2YYDidJP1pz2N2269kxOlS1bYaKNJKsXt81O4J67CqlRpR4Z8Nks+m411b2Dr6HbmSkWM1ojYfUxKxclpCij7Hv3JNGu0T7XXZfVxa8glXBY95QTOPu2p+H6TzZs3MTu1hyEy3FWagtDjGU6SPuUybrt8r1Vm48Y9DAzmWDKSJ2Mierr7abTrJJMJlg9086M7HqLsayYjQzsKqQuoCUAphNE4joNrWbTb7diZFUUsdVOsUJJG0Gai3mRxO8O2rEUlHTuspeWQchNg4ITVx7FjfDfNVhPLsnDsI//xPJHQaLY+hv0KFPgb/gZpFJOTcOml8KtfwV13wcUXx5Eww8P7rcPNbOZFvIg9zACfAPMsKIlYzq8SS+5JQ6zTF4GdwDoOLgac6hz8HA4sox2Hd/4M9klQj16VxHgKcbLT41jegpgI/xF4KTxugm2mDu9/b/z7AFzIcjL8iNg3ceQkNIM5bP2g3btg4uuPs/Lz8+Cthcy97Etc7CrDZy6FJbvg6n+AVpKDJrlu4J+BrrXAhcCNEBXg45fHqwQEs7Pw5jfDPffABz8Io72/5L/Ef+1rIiTkNm5jnvlj8l0cCr/vmLUjIi7uFVvnxUqJar3KUBix2BimGkVuKk0yFrbwMQRRGJNZ0kGHbR5+6B4e3vwrnrrhVE5adwJPWXM8y4cXkXFdcsqirDVlHREYw/aJMW76xY/4f1/4F35864+Zj3waYZs+IVhnJai1mzQCj3ptnrbnYTkWs34D2xjSlk2LiLrR9LtJLsoNEmjNPc0KmwOPko5oYdjWnKPhVZie3cmJXf3sCEIWLV3BiUtXsnrpcp6ybj39/QM8vXcx690si22XbmXhdsoJSCFxLcVId5oVAwUMgsFChuMXFWhMb2JkeIjN9z7MyXM1Tkl20+NmSaVz/LBRpbJ0Ec9/2Z/Q1TdAGIUoJdHGkEwkwcTO4YG+fhw7nihA0O+4jDgJBpwkvckkuVSKFekcjWYbv76L7Y88wPzcPCKKyCTTjI7PECjJ8acPMlpIEmTS2MoioywWO0lOSxc4wUnjzTSZHA8wvqRWniVoh5x83CLm5irsnKgShZpH2k12Rj5lAdJxkUKgjaEdBARak89mSNg2KQNdWrCxVuTBVo2aidhcmWNqbJT58XHCVoOgVadZq2BMRDaV4cRVa1i/cjXDvf1sWHv873uI70OZMrewP31fIHgjb2Q962m34R3viAkf4izWa66Jrf2vfQ18P/a1R0SkSdPLm4DXg1RxWZnvAW8B3mhAzAOvJbbcnw68kf2JWnsnhP3va4gpYq/ubwFnEU8UT+XQbwJ4bCXOvW0eIpZcEM8Rj1dLX0bw1k/CBT/cx6ex83OAp3EDgjcTl1L4DbB0giX/vQlxOoeRvwT89DwY/QHweuJVToc+kx5ccSX8z8vgwu/vC1EFYknqiiB+t5qwgGvjMg033wUfe+ujchh8P84VeNGL4H/uf4SaqT2qB9NM8z7exzTThITHHJ+/F09qS990arenUymOW76c7Tu2M2TicgpFv8X9rTJlY4gEuLZDfyEbJxV1zi2XZ7nn7ptZtHglS5cuIwhDlvQNsnPHNgqNJqWgzazRaCEIIp9ifR5BbOcoYNIYeizFCdlutjXL1KOAPWGLrqqm20pRSOVphlEcbSMkbmSY9BrUjeaWWnHfi1JumtvFgISlVhfLExl2tT3G5qcp7dxGo1qjV0rOHVnO8MlnEJSqrJ+fx8rmuF36hHvGqM6XSSVd+nI2CUsStFu4WYdAS7LpLGesEdw7OssJe1o8W6ZItQMS2Sy3ZRR3JSIWLVvGL+68l5mZWYQAreNnZCmLVDrDiqUr2LV7DIxBCUmP7ZA2gkWOSyGTpek4NKVgummolj1u/sUWli+aoeVVGN3RjZvIsm1sO1e8+fl8/Rt3MlapMuEoam6Bbe02J6F5XqaPrzVmsExIe3Ke7dOabFeWof4sOP3cd8/PCZo+AxpmtaEkFclMDqIAHcXPsdKok0ulWDIwQKvlsbla4Tszu7HCEGMMi9wEvcqiV0ck6y267BbTWWiHbTJei3Ymh+e65DNZcpksUfjbi/P+TVGiRIXKvs+ncRrv5J0Irbj2WvjKVw4+Z8sWeNWr4ho2738/HL98PT8Rd/Ei0szt/dOWxBb16YCoEFd8/hH7SfhrxNX8zycmzncAM52TBomdAH3ACuJs3k8RB8Eq4orSF8GjnM897K0RCpuBbwL3EGf6voCDVgC9wBAcPh/NwLN+Cu/4xzgSCEiR4kt8iaczT46/AC7u9PXIEAgW8dgicJ28BflHjD7jzHiC/Djw6cf0SQBvFfDUbuBaoAR8ljiPIYzLUT//O/Ccm+D+DfCFN8C3XgRn3QtvWg5yXaeRHpg8K67T82hOj+/WwJ13wl3Pfw7ceEosaYm9T8LweT7Pt/k2J3Myr+AVjDDCTnZyBmewlrX7cjWOhCc16WsdEbRjzdm2LIb6unl4zxSjzQm8MGBnFMQx2ELQmy9gy71vpxIIEZcS0FHI7p1biIRN79BypqameNGydZipSX5emSXjt5gxUNpbv13E+aihEDSMpuAmOTnTQ045bKrO4WpNl1F0KRdHKEQY4IYefdIGO8mdJqKiIzwMEXGtly5lkRIAEqRiulYnQODVapzjpOiRFplShcymbWx2JDfXiixNKAZ6sqxfNsKmQNNsNmjYklTWRmlNs9oml5eEWlMqtxgf3cNZsoCybYSBXQ5s6s0ylOznzLPP4pZbbsdrex0rP8JSFpGRNFpNFLBkeBgpYK44T7XVYiDp0JvJoQd70e02lVaLhLI4zk3zcLPC9h1z7Jous+G4EdLpPH/6vFPZvGWcCS+BSfmEzRbaUqgNJzMzPklrcgbp1XlqMouxoFSZZsh2OEXkaXzjF+zaM0OXMYRRhG8MVjIVF3rr1PMHgZKSE5ctx7UdFILFIyPcMj2Fq0MWK4tnpPMkjcFKpLmxOs/De3bgWBbLLcGIbdOYm6aeySK6eiklM4jHiuK/RyxjGTdwA1/ix/wngsvC19Ilu/n5z+Oqj4ebn3w/LmVw223w7vcKNr4yz/0uj7ZW9wXo7CZ2rh5oIQbAV4G1xFrLdZ3t3+n8lp2fDcRFRPuIw08MsW7xWIlsmpjNisSSy1hn+/eJmfR1PEpgyBJHlF5GHCDkdC4xCUQGhifiWjbZ/Qz5TJ7Jc3kuNncTa0Nv59CiRQ2YA5bteyCXcAk3cANFQiIuJJ6MLgDit8zRDbwfOI+4YsJ9nVs9C/g74mgLFPFs9U7i5LZ/iu9XaHACOP1uOPUeePeHIFGA5A/2d8knfufKoZSxAxBN9sHH3gb/+eed9xvE0GgmO/++x/eQSCIiuunmxbyYi7mYszjriG0/eUb9IRBFEfVKkSCKqNWqFGsV5oI2mSgi1Jq2FEgEmXSavnyqY+XvHe37X8GntWGu1WLn/ffQm+9CDy/jhFqTNW6W75X2oJs1UpZNNQwo64hIGhwhOTnbQ5eTwEZwQjLHXKPMiYkkbculblmEkc9NlWmelcgho4BuleQ0J82DrQpF4rFSEIJFSjHoJFiRzuNoWKwDmsVZRqRgqYoJLC0V7UaD0ymwK9IUx0Y5vzJMM2hwR72OJRVBUzOQzpGLhknunGPUnqVrUYb2WIWTQoeBhEUpbFNIpvn67B4ebEzTPzjMt7/1bXbu2cNscY5MJsOioRESCcUjY9vYPbGbpOsy2N1FOpGEQheZQi/DvcMEImRO+xCFRMbQbLcYkRYTSKZMRLnuc+u9O1i3rI/jlw2waVuZynwRu1ojKTS9QpIsZEg3u9isfVoTDZYm0+xqt1DC0NsO6aLFt6fHaZmQXCqNV/PRnTILEhCOS9trxfV0evvoymQJ/QCMoSuTpa+ri5npKaQQVII2Qlrs8Jr0KYutgUfbD7FUAmU0VhCRLRcp1Ru4i5YSOMdSiOx3C4ViPc9mK8/Cj+C9Vwp+PA4///nRZYru3Alv+kswN4K+kliBOcjgGyL2nm5/zPYvEJcIKB+wzSYuRvYIsePxIWKn7l5JZ5p41fDYzu0krk3/GR5dr6cJvJtY0z4gCUkAzyB+E8E3iH3Iq4F/BT7uw1Xviks6HHAvF3EhFrcTh4V+kUNr+RHwXuKVzK3AUgSCEziBH/BDPkSSr7OS/fLVAVDAucBNxFr8fxJHPh1UrNQlnnBeBPwFccmKDqSBxXuAPyVeLbG/dP/1h+juQRCQeiGIdxC/XufgWkkGs6/aaJEin+fz3MVdXM3VR3z5ypOa9N1EgtlqiaRlgdDMVerYnRrvTRGXIlCWxWB3Acl++0WwX5E0Bmq+ptLw8L0WZddllxuQWjXCKTVYZAXsmPIpmATnZfJsLc2yyW+SRtArbVIR4Hn47RYjjsuwneCHSnCzXyFoNdnWqrLYSbI4UaCKYdBJcX6uj+/UZmlHIaclczwz2x+HZCYSlByL28dHCXXIkJXCmDg8ctprcGK6gK0jLsp0E2UM0nJZJTSr3SSVdJJ1lstpIayZKPGDZp1by9MM7LJYbxxOcbOsSuQpBh7fa1W4pTpPpWrwhKL9/3P35mGWXVXd/2fvM9+55uqq6qF67gydqQOR8DLIIMaBSYaoryiPiAMaXoQXEBUF0fCCgIL6w1cx8hMVUQYJCIQxkJAQMiedodNzV3XXXHc+097798e+1UNSPSQQyfNbz9NPdd0659xzzj137bW+67u+KzvC7KLVyl9qNZmem8N1XdrdDkI6pEpzbH6O/nKZsaFh1pT62HfsGOdXaszUl4m7MW0Dx9otLioN0vETFtqLFIQkMbC8qLh19wImh1KjSZArBl2N73lsCYo09t5OJY85pHNu79TJjSaXcHNrkaU844jJ2OD4NDpdjqYJLdch0gotBGEQkSYxpSDkwg0bkcJ+0sZAmmUs15fRGPZmKVG3xWyWUpSSfumQGYMjBS2lOapTFpWiaQwlzyD27WPMC0/z5P13mgEOktPPdZS50Qi4GR7+ADx8Zgmex5jKsWjKLdgg9Fd5VI12AMuoOdnpu1invuK8d2LplwNYyOe1WHmG38FG+yvn/A/APScdR2Jx7hf1jvcJVrdVoAeBDZxfd9JrbwVefAi2fPaUXV7CS7ia/4HgauA92IXp0WawBee/A9ZjTAWlrN6PEpKPcRE3nubsTjmnAeBdWGmh086DWal1PJoSNYbNIk7WMsKWPM4FVVwHvKMA8l3Ybuc3wypNe4+2e7iHn+Fnzoj3P6WdfpbnPHx4CteB8bHNRH6BNFmibrRdx4RgoFql5Ds9XUoAgabHaDCGTGuWE0WcdCw8sGUzZTdn2jSJ144Sjl7EJuDAof3c16njRiHjOueiqMz2sEix1sdcp8nRRpPBqMj9cZdDAg5lMYtJm5LnkYYFFhxJW6VIBIeTLp4xPKs0wMWFKsrzcH2PzpYNLEcBc0cPgNb4UuI7LonWrAtKVJyA79bneChrs6VQoVsso3LFRumxJ8+JtcM0hv2dYxzKElppwnKnxXnFAQY9Fwf4RmeJT7YXaGpLzzx4dBpjDK7r4Uh7T5XJ6aaJLZJnKY4UJMZKOK8dnyD3BXHo0Kovs7FQ4pY8596pwxSyjD6leFFpkFhK9nWbLOqcNM14aO9BRoVkrfRQvke/B+PrN6Fu+j5fnj/MYp5SkJJ5bejkipeWR7hNLHFP0kJ5LkfjhCEvJOkpeRqjyZUmbzVwhOCC9RuIHDsU3RESIw179u/FSTM8IYmN4a40QWCoGJjPFCkCrQ33JCk98hO+cGhnGRuky7jzVGDvHMTwIj7Ny/kn/oTn1OHbbwX1OB3+KXYM21t1PXAtVhNNgo22bztpw2diPe2ngV1YqOIqTqQJBus4j2E5+Suwzl1YrR2DdWjPwuLqV2FF2Q7x2O5fesc9ufi70i/96AYxA46B849ycmF4O9v5KB9hgLdg04GfPMNN+Bt7JPMhHnigxh/+oWU8veCFcKkL/36ufXmSU+WITrE2VmX0WnjMdKvLgT/ihLYRtrXhH+Gs4pgOVtNukl7x9ypstvBSbMPbme1smkRPaaff7nRod7tUa8Mcmp5CdjskxpAISyyMgpDhavH442nNHFeE1EA9MXTiLmCYGFvH2mqEMApjYH7xKI4bMLRzB/nYKNO772W4naIdnwuiMpvDArfW56k36whHcFHYx3J5AL9T566uYEoI1ngBG72A5TxjKYv5fH2GjlGs9UK2egV8DdpxULki33sQP/T56fIQ39eSA90mE27EhB/RyDM+tzTFnrzLgsqZTmOcpVkGXI9xP2QgyZjKljkioO06dPMMz1gJYaMyjM5Z8iWL5SJZvIgRklwrHNex7Jce79/CXTlSOGQqs7UPYydi6TzlwYcfYMPEevqKJb6VLzPWaRBKB1dIfm7bTibbOTJJeMXQBr42P8W3GjMk3TZaGbJyhaLrEXk+467DRDPnP4/sZTZPERhco9nmRZQCj4L0OS8s82DapZvnNFTOVN4gdSSR6x4vNmMM44NDbB1fi0TSv3E77dljzBzcQzY3T4jAFRJlFFJAZgwdrSkg7AKBOO5aHMARgkBKCo6L/yMXXGtheBvzLPAhXsG7Ndz1YfjWLT+EQytsvfaFWLz8DUD1JhAnC7rVsFHkz2PvzqM94Uq4e7Imzy3YFGKlbXUMK70wcNL+a7HA+B9xglUjsIyflahXAX+N7eR9IdbDjfX23Qv8ORaWSXp7C17MixmiH8EkdpFZrcXYAHVs7eA1TE09h6uvFtxzD3zhC/CSl8A7fh9u3gEfk3bpWqWeeo72b1ha1Gpe/ItYTaPX0CsUWmjnm+dw2BcCv8hJH4cALsPiQm8DbsfWYp6YPaWdvtaaqFihXBtl/uD95HlM5rqYPEdKh5H+Pjy5Et9znLAses6tm2uaSU6uMqJCiQs2jOMJhTYrevUGkyVk+Zxl/lx0CYe+8x2e7RdJtOJo0kY065zvBiAERQc6gcM2ykyGBWbThNRxmIo7rJMOVSHZEBRoqYznD69jwIs41FxkUjgoCX4n5tDiAvtczXmjEzgLM3x1aRZHCJZURgvTi2QFiVaUhGBS+mz3Q14QDrKUJjiOwz8tTbFsDBd4IU/zS4y4AbHOuCttcltzhtHBkKnlFJ3a4rTsTbjS2qCVAmOIijVk5pGmbQLXY8fYEPNLdRrdmEf2P8LYyAiVUoXvzR8l6bQZjgqMT6xnfrlO45GHycl4qLWIIyAKytTKQxSkZLnTpK8cMjyyFrXc5ECekBtNzXGoCYdAODSVQpCzzo+oCYeDaZsYQy4lkedZCrQQCCSh53H51m0Ero/WinhpHt1pERydZdQIlJTUlcITgtwYFIK2EKRGkGP1CX1hP2spRK9+IumoHMf94Y1LfGL2Cbp8gWv4KGvNToZvF/zlB49LHf1wbBH4Q+BmA5/6AhRPxnqvh+Qe6H4eqjvPoVPXAJ+D48JeHrbCWebUnR3gN7Hw0I1YJz6KdcQC6yS/isX4G1gwX2IhkkGs0z6VT38Zl/G/eSmCd2Gbv0o89oQNdlF6HfCrKHUN114rjlNd49iKvH3ta3DNNXDNr8P2fnu0wzNghjhre8Gp73Ufpw/bM6yT/kXAteWSazm7r+7HEoIes54JbEb1NWy68G44rTLnme1HHeqc1ZK4zcLUQ5B1SbCOSwB95TLV0D8O6ZiVDhUDCIHSmkYKadpFCMEFmzfTH0psSeCkh0XYneJ2nbvv/j5xLyrd12nw2fkj/Etjlo+15zhSCkgKAX69wb5OgxtDl+XBPtz+KsuViHp/iSVPsNYLGfcjRJ5T7zYZrQ2wLDRKQMso7hEZyUgf32jOcsXQGnaUaxzTOXVhYx8F5L1vfVkIAiEYDyL6pcuWQhUPiZ/n+EoxjMQ3hgEvpBAVuWt5lgvO93j9qzbQX/FB2AVQG0OqcpSyDWxoTX15hiRuIYXg/PFRtg9X2Llu2H4ljWG4FPCcHWt57q6dFKsVjqmcwzu2cfC8bdwUeXy3tYTnOkRuQH9QYl3/KM8d2cQlQZmi57O2mbJ3+gCpyohVzlKWkhpNPc8Y9HxGXZ9IWPZRjnXWUtrFSWmrJuoIyc4NGxmp9WMch6BUJV+exzl6jBc6FZ5RGmRAeggMEjsiUfYeglQYMmF7k4znoqXAEXYxGfJC1nsBgz/iSF9zAR/hPXyJV/IbTck7/vcqYwN/GCaA585C9KgRvgb4+AvhBTssqeesqhRtTpVn+G2s3MJqMJnEMoJ+DTtA9n9hoR+DhZNezamcSI2lfh7g0Q4f4Hw20ce7sYXbRVZfoVq997kfY+a4+Wb4x3987FZzc7az+fnPg8Ln4P+5AwrPxpYtDtNbdRMsdXWFjfTolTjHRtxnsoeBut31Xzi1BLKaCU6UTk5bPyhgFU+/g11EH3/g8pSO9AHIM6SKaWuNkRJpNH4QMlwtI4Wxzt6cmgkZoJkJmu0WKksZHR1n02AFRyiUEb0pUKI38s+mjlMzc7jNNtvcgJtai9R7TVUtKRgbH2FfLeSYzNgc9vHVPQ8ypRJq5TJjtRpRpUiSJxhSluMmz6kMI7Oc0VKN2+sLrC2WSFTOApqoXGEqTgiiiCNxi6fXhlhWOXe1l8mw566MJhISF0HZ8egTDiJPcX1JN2nxrEIB33GQCibCMiYImHINcsTh/E1lbrx9kbnlBHqVDo2dgKWNQSB6DVi2+7YcRkiT04xThJAUA59iFHLx5DieyVlf9Rh65mXUozVUxtYRTvqMbD2PT338b1l4eDe7ogo1CU67weY0Y1wG3DQ/x2eOHuKoiukYRb+UXBwUmfQLhEKymMYs6TazWrOoczT20c3znKynkS+lpL9SYsfa9QRhAdcLGNm4hUM3fZML2opBN6IVZaxP2yzpDKNVT8JC2MlfveHuAkMzz2xcKGyndFU4bPQLDDg/2kLuDM/gr3gGL9CCW/+vlRt+UuyZBl7/9yAfxdqZGodr3wb7PKuK/DYsDGQFYHu24uwUFmj+Su93D6vgGXIOKcJJtoSNrZfPtuFx8/B4CUXsYvFGTg+yt7Be+xLa7V/nD/9Q0DrNWFpj4O674epXQ60G7Rmsj/6Sgb/+DrzwbSD2YhejESwU9UxOXGvG8Wlhp7U+jtc2noNll/4nnHbO/WXYdfSssYjAwmEfwDr/R862wyn2lHf6Ua8Ym/eiQCkdRvuqRK69M9pYaYKTuTtxrunkkKQxEPjnOgAAIABJREFUnhewc3I9vsjRPZXgrDcW0HMs3t1od6nPLrLeCyjmmq7RdsweUCgUGOyvkSnFctLmLidhZGQIc2yORxZmOOo47IpKRKUK3UQxr3LaSjPg+tyyOE3Jd8l6hedqGFFr13kg6zDVanJ/nnNZuY/Lin24CO7r1mkrhQYCAYG0NYNIuriOxBEOgVEMCcFkEKGlx2Gt6FYC5l1BsTDBUjvhprsPkittb4kUaK1wHY9c5biOQ2oUrhS40qESFah3Yzq5IQgLjAwOsWmkj3IYAopEaaLKELUNO5BSoHROIhx8P2Tc9YlUTjHpMqEXGCr1gYGdfondaYuDjsNCbolt2hiKCJbzlFu7Ddb7Id/uNJgxCiGsyJzu0ee00Rht2DE+QRJ3aS4t4UnB1NI804/s4WlpwEKeMeL5XF4dsrMGtMAFjmYJD6cdOkDXaIzR1LAPujACLWA2Tbi80o/r/OjgHQO8B0HJwEvugWvee+4TpB6XVYFrD0P57zglWlUSPvAm2LfR/l7H+vQbsXD6dgNiETttax6LN/y/nEgHMiyV8FLO3lJ7sh3lXIqRK3Ypl/IyXsaL+CkE/ZzeK3axMNKnMKbMJz4xwbe/ffbjJ8mpqppito0pvh04eTr6HPBKLB//57FON8RG2n/AY7uQAS7C9j+U7eY7sLfv61hk5hZOzawKXfiTQ9C3kd7TepYzF9gP97n8/8rpC2NwtKbRI9wLAeVikVoU9CJ60dNMNydx8jXNXBIWQsIkYcvaCYYKAmFWZr8atLaiYjm21+Kh/YcYy2GDE3IkrhNJp8fXF4wND9DOEkLHw/c9qy8fSravH6M6v8jB2VkuNS6bu4o2Hk5Q4ov1aRzhsKgy1ro+S/VFfM/jvGKN/d0mRzsN2lrhCPhuY4E5v8vTa4OsiyIe6LY42GlSAKqOT1W6ONLBdVxmu02mspgx36VjHCIR8p+NKVppg81eGScq8Jn7j7HcOTFLQPdWOpWnSOkQFgfIm3MYbReAWAmSLEekMdniEpdsWsfm8VGk5xN3W9z88GEqw4YrN6qe0xc8dM8d6L0PM+l4jDgeE17EgHQIshSES8No1ngRB5IGC8YwLQTjRpMAMypjbxYzqzI6wmYeLvYzNBhQOaUwoJWm3PbgbspRSMnx2TW5mREvQM/M8oBwiIxhU2mQiuNwRWWIIg4mzYgdyc1xnRmTU9eK/e0GQue4vWxwwPUY8n0SlbOYnG5O7JNvDaxL+OcuvP/3LOTwQzcBXKPh6R8Csf/E6wa441L42Gs5xblobEfqPcCfaXjVW8C7DsTpigz/ie22ffY5npDBcvhPzyE/2QoUeAkvYTe7eT+G/8UfUVxVLc5gif3vAL7I4cMXcu21T2zA+c/8QoObfmwPC4/xucewYnPPw9YnJDbrmMRy9Q+ctO2l2BLxJo7fX4FFwX7CwJUPwRem4K42HPZgfhye/8/wvI+CeDYWvnk+qxfXTzYJvAq7mpwufXisPaWdvgN0jAZpBbdcx2OkVkJKC06sdN4KxHFsvp1DO00RSUy5UGDraD9OL2qXUqA1xxcIg0GWqgzLgA06IdAaZTTrXY9UK5z+KqVChBSCVOdkQuBLB+kJMs+h4vUxgqLZMcxqRSQkQ47H3UbT0oqGUXRzzbIxdLMut3caGDg+1dLFjvbbnbSYmY8pOi6h41CQDmvCAuuDiLaUTBtNv1JMZTFGCoxwyIXPVJaS5xlb0oCXV8cZKA1xz9wx5ntKnQhxXERNSAfHDWjW51Da0jQ9KcjTLrnK0VoxVC7xY+dtx/c8siyjODDMVVddgi4P4EcRRkpa9RZ3fufrTGrDmBuw3osoG02AHWk5F7e5pdvkprhO12hCAUoK7kw6TMVdumiMFCyj0Qg8AT6C1BgUNjLvxjGOgaJSrHddtoqA4PBR1rghawo1RpwARziUpEA4Lg9lbRpCMOgHOEJwcd8AS47g3sYCi2mHTpyzvVDhYLdDQTqUHY9GlhKfVkP3ybfDwDsN3Pcx+MpXzrr5E7NdBq75NsiPnfp66tuJVvXHdBtZm8LKMd/4bHj3l2Ak60k4PPp+aVYfsK6xE7cy7GSuCtYx343NHM7NG3fo8E7eicHg4LCVrbySV66y5f294+5CqYt573vhwIFzeotTbM0YvOUtfTzoDLPA7CpbHMVG1SO9a5DAy7G9DX+KLbBKLHPpSlYtNIsHofxCePU0vKpHV9U+yKS3uH4OC6G9CruYrNpld5I9C7vAvAv7wZ3dntJO3xhD2puRK4RkqFbBE9BJM/zebFejFGDx6izXtJVLu7WA4zhcvn0rRVejV9iKAhupr2QObsCFu64gvPNhdoY+nTSm63o8qzrMPUmbz6Ud0naX/nKhdz52fLUrHVwkjutSGajxxcYUGwZGMQsLzHaaZECCnYubYUgwZNiFyhiDxuALwaB0iYRES5fZLOZoZtPEUAhkV+NkGYP9w9wZ17lz4RglAZdEZZqZInIUc31FGl2f8bDGmqifZQOLmV3xhbCwzoqEgTQC3wvptusIYSj4EbnWCJPiOC5F3+fSzZPkRtBqtEmSLn6qGF/bT6lcxghJqgz95RBfK+vksdcSOC41N6SjcvanHfYnTVxgV1BgwvU5YAy3ZsskQrAxLLI/7pD1nmOvRxcVQpIbw6B02eyHPBR3kFlOZ36ZWklQky7GJExGFSt0V6gRd5fRJmXMDZlDIQKfVreLdjwOt5a5e2mOepYiDNzXbdPQOZl28PKEshEUvNOPJnyyTQLPfRBe9qdPLCI9q5WAP0ug7z1wkqaPfXPDlVc12H8HTE+vtjOQSvi7X4JbnwXX+vCC+8H9NIivY+GMFXhhtaEq38R2orawzVOXYEO463lsB+/qNsAAr+AVXMd1xMQoFM1VyZUGy5JJMOZabrqpxMc/fk5vcaoJyN4Ev7jxsYz7E6awUM83sI1hFex1vpwTtNYh7PWuxiz6PlaB9Mjx97Q9CY+O0rvYAvk3sBXgK1Y53op5WLbSZVhl1LMLzz2lnX4OVilQa4pRxECpQJqlLLZjctPh6ZdcTqe+SLe5hFI5XVxa7TpGazasm2S05IHWx9k6xhiUXvmGCdbvuITbvn0TleUGw7U1LGUpz44qDEqXUrWGVAEPzy3Q12yxfqgfz3XQ2pDmmixXFAMfx/cZ37KFWCvumJnClRAYC6sYoINBG1Ar8EWPN+4iSLWma3I7tk1rHEdQki4jjkdVOqheEXKdX2A6KjDfbTKbdrkwqjLk+SwHIZXxcWZbhqMq5rbGEsvkK51pdp6usUBPluVk9VkEmrVDQ4yUIx6cnrOLgtFsXTvGzk3r6eaa2eU6Jd9OBPrGl7/IxvMvZu3GLZSKIfd84waS2Vm6rk/VjygJ13LjjaFuNLd0myxpRb8UDAvBpPS4PCyyHMfUTcaYdFmSLrM6xxGCDLsox0ZTchwGpUsnz1nn+SgDNce19ZQ8Z1OpH6My6nmGZo6+oIjq3dMECLUAN2Qui6l6AeNeSJrnpEbTUhkSmIs7kKYMBIpt0eB/8xN9wsYMXPt2OPrEWHdnt18FnnM/iMcC29u8jXzy159D87mCP/gD+NznOM3gEAH3Tlqf9rJx+IPnw7YWiJUoV2JXl5NNY/npK859N5zj7NaTbQc7+HP+nAIFruM6RhnlJ0/bjPUK4HJarcv5/d8/ffH2ZCuX4VnPgm9+E9pt4BKYfy3Mr8AAq9p2bAbzV5xgGH0J2z57hBOLwGrib/NYxtK+s5/ccTuI7er9Grbb+XQmgA2cTVp6xZ7STh8BRmtcx2G0v2qLj0FAGAS005zD00eYGBwgbi7SzQ2tNCNNE8rlKhesW4Mn1Gk5z+WBEZqNJt/92tfY5PoMLR9jXCsq0jqxRwoBI8UKteEhDs/OcvfhGdb2VxgqFzEIEpWTdRSu5+NHAXfsvo9UZ3QFxFLiAZ7WKHNCXNZekj2h1GiavZMzWLmAgpAUhUQYw7AXIKVkJu7iKM2uUj/7gDHpUnM8isIjwKHa38/D6Ry/e/AWFnoQlJCSXOVgLHQijSbGoI2iGEVcuHYNJU+TJAkHFhpUCgUu2Lge3w+I/Jy0VkA6AYXaACPtjEN3fo/m4cNMjg+T3HE3W6o1up0ObW0YLlVZiJvc3W1we7fJbpXiYljv+KxxAwYcl4rWXOIX+HRnkRvbdSSWPqmg1xhmFydH2/tQdl2WsxSkYCwqEQjJkHQRRtPIc/q8gEhIfCHIhAPCUMgdImWhL9fxONaqE/XGy63UCyS2thNhMDq3stU/IssX4Atno/A9UbuAXvd/ymo9/z/FTzEmxmCbFWv75Cfhj/4I9u9/zKbWYuCfga9J+J2KlSXoZxXfaLDY9hce/YfHbXPMYTC8l/fyO/wODs4pOvI5OZ/n8ygUu9jFenMpH/+4HTRzLvaa18D73w/fuhVefS0svR7bq0aAjdTvfdQeERbT/wNOpZTG2KEyH8FSWod5LI3SYDWADpzbyZ1ie3vH/30eH0vq9PaU5+mDYKBaoeSdWJ+EEDbKzrvMzxyhm+Vov0i300ZKl51bNlN1T6gznnws1/Fw/Qi/UOM7119PimF/0mEpaTHg+gRCUEdT910c1yX0A7ZPTtLXN8ADxxa498gxq+OTQ70bIwsV9h46SDtOj0NImdF0BHQdB9NL4QTY2bNGI9FkGNpoEqOQQlCQDhhDS+Us65x5lTEchuwoVRkvVpjKYgaKFUaqA/iuR+xKtBDEccL987NM6ZSO0AjpoLFdtgUhWCMEVYTtUBWSWqnEUqNOnGmGaxV81+UZ52+lvxDQSW0BeGJ4kDVr1tDfP0LU6TLWiTn/yAwP3PB1NjshF46MMTI4hI5C5lTCTa1FbugscWfaIZOCquMw5HoEQhA6DkXpstEL6Rqb8Cth6xpZT3r6eNEZWFYZU2lMF8vTrwYhyvPpOg4daeUWPCEJpYsvHBzhkGqNUjlpnmPyDDKFlynqaYLSConNrIwxREIwGYTUXI/lfDXWxX+PTU2dXjnzB7IIizwMg22aOjWuK1LkJ/gJW+cREATwP/8nfP3rVqYgPBOLdQbre56H1fixrOCeJVjJhhdjxyn+YDbDDLPM4uKynvVMMMHJksF3cie/xC/xSl7Jr/ArPHQg4b3nyIBatw5e92b4jwD+/X9A87PAT3Oi2MdrOTWDGcZe+JU8BioDbEG7g422Vys0K2zZ/onSs67jTKCTtWnOoE99ij21I30EYeAzXCnhyJ5j6HkIgcEVlnPvRhUGKjWWlhYZHFrDuloB0YM5LMJxgs4phcCNDTM3fJPW/AIJis2uZaA4wiHxHG4rBXR9D22sPHLk+Vy0fQfVWo2H9u3jnulpyr5Pf98gOwpFDqUJxhikFL1hFjayTDBkUuJpg9RWJiAWljfvGIMrAGm/fAJb9vKEIJQO/Y5Hn3SppzG50bRVzqAfUi6WEJFmfxTwkO+wf3ra6uhYPitCCowyCAFFBGhji9hA6HuErsP0YoOp5Rajg8NsHhvlsk3rEVLw8MEjJAWPWt8QtTWj7L5nH6MdzVyrwwOqyRXGpa9SJa+UiaISC67m3naHQjBCOe9ycSdlqlmnYjSbwxIDjsecNsyplFuSFggYDiLiLCU1yjZiAYk2GGGvXQo7WN4TEiEki2nChrBk6Zh5znzSZiwqgZR0swQTlRA5eK7HUhJjgESlbPaLPNCuUxQObaPIMEgBFSk4LypQkw4z3TY/KnvSpPx/HvhJKAvQHKF9UvHVw+OdvJPn8bxTdhEC1q+Hj37UDvD4vd+D3adDZFbqsa/GOsp3YjMLeROW5H9uzJwzWUDALnYxtOqQFpsZX8/1x4fIH8mP8u4/yzl8Nr8ISAlvehOIdZb8ubjCqjluAsvHfz82vbkUK0C3GcvgeXQjWgWYwBZTK9gi7zOACzkRU3d4YlH+ih3C3vR1p/n7SsPbOeBaPOWdPgjpkGiB59h1XgiIjcTVOQJDquHCLdsY8H3Gan0s5YZEugjdxTWK48QeeouGgh2pT0P53Fcp47TqTPgR40GBRBsOliIe7ishfA/PGFwpwBgCz2fbukkGSmV279/H0dlZillOK01Zv2aETGlm4tji6Fr3Ig6DMholBWFQIk9jtM4RPQfnICwmLSQIgWcE/a5938U8oZ5n5MByFjMaRowUirSAfbWQGd+n4Qes3bAJ4/vMLS2SKEWuLCtGSEmmNYGw/arG8xACFpttDAalNXE6zcuuuBRfGrSUHJmbo1Gq0L9+B1P1jHqW89DyAlvTjC0T4+QGvK7E7ebMe3Ak62BUwppSgR2iTEm0CICjrQZHteHepMFN7ToZhlBKdhbLbClUaWvNHc0FGiojN8q2UBnbiez09FIjKRkLIjKtqEQFljsthqICRSlJlAKpMcKhYTIaJiPXkAiNpw3jXoEjSYeqlGgksVI9xpShJCUVIyhpc44I6FPH+vrs839aqeVNwDuh7MH1GP6Rr/CxHlNmZRLXClTyaBMCPA9+9mfhiiushv/f/73lsa9qKdbPfAv4NQO/eQOMpz8wAnEhF/IRPsLFXHzGOa8FCjg4OMZh6Maf4zOfOOvgXwB27YJf/mUoCfgtLGX+seZgO4lfywkXKbAO/f3YC29gC6yvxA5V+RAn0p4+4GpgGzYtKvPEQRXBCc3/01mM1fo5N3tKO/3A8wj8kLlWgqlUiESGI6HeSRit9ZF1l9i8YycDpTK61cTxfS7duQ2VZRw+eJi02yQSqdXiAYzSRG3N2GJO6knSds6YG5DkOTM6x1Sr3Fb00J6HkCfhwcYQd62mezEMOW9yEkfAzPwCN9y+zLaJtVT6+pmamkJ6AaTd43QhAQjHxwkLCMeBPEWlNiLNsQlfx2hCBGUh8cFi2H5oaxlBxELcpuK4xGlClmfEPiyGIV4QITLFxg2TTIyvpdFucXRujrnFBbTKafVYQ5kjUVLiYsjyjBXU64KJUTaN9CGMppsYrtx5ISIqYYoDZM2MNG4yU59jk4ioNlL2hIa4vwauy/f27aXa7lCVDg8YhegmVPuKCFfQNIbrGwt00XSFhZkuL/ezyS+wplDFdzyK0mVf2mEmj1lMEhbzjKbSFNweVm8Ma4pVRoKQdpoQOi6ulCAlcZZjZERX5dS7KZ7jooSgk2sKxlDPU+5oL9DQOV1tM4qVbKeucu7tNHhRdRD1I8T0H695Hnzwg3DRRTYS/8pXHsX68bEebMLGphejed9JM3dfyku5lmsJzrLUCQEjI/ChD8GVV8Jb3wpHztRLtQD8GfCJ34Q35PDL18Hg/BN2/jvZyZVcuerCdPwcEfw2v02VKjU1yH/8/c/y3c7Znarr2rGTlcqJjoHTm+CxSqEOVkvnF+h9c7H0zP/LqTINS9gOXrDRf5Gzd++u9v4+1tn/OaefGZBjdYzOvUD0lHb6BsHE0BrqrWXqjTrLWjNUKzMUeZi0SalvgPVja5k7eow8zxmf3MBArY80S4iiiNm5BeaPThPRxSOjrR0GUs13RZNbkgUqCCpCcjCJcSaK5JWQRSGQSiExOI4LQvQUHxXaWM575PlcsHETg+UyB48dY74bkyQp1cFxXOkyO3MALYCeHEBYKGN0jpASxw9x/Ig0bqGzFDAU0BgkjrSKkf2eT9Gx+pCpyim5Hh2VE0qHPs/DU4JpL6De7SJ6sFcYhhSiAtVqP5uzlCPTB5mZnyNOUowQCOGQ9RrCpIDBUoErtm3CFTbT8Ho1k+lYEiSG+ZlDqKUZ+oXDjAOTg32EjSX2HDpA15U0Oh32txv4xko8uAbimY7Vv1GKbi/ClALWhkXWBEWkhk6WMl4a4AIkYdLk4Ox+2ipDYtAC5nVOn+MRaMXeVp2JQgmhNXmeo7VmLCxSlBnNPOeebp3UEQwVyjzQXGY+6eJqQ9nxOZLHVkrD2Pmsfq9pOxSCtlbsjdv0/wi1d0ZHrQDY8jmqEbz85fDqV4Pvw7//O3z84/Ce95xwyJMvgwMvg2Fh51PdzALf6mnDvIAX8GE+TJnyOZ+f58HVV8PFF8Mb32hFyk6Plws4tBbe+l7b8HXNX8DV/wKVxuN2/vvYh0af0emDjfRfz+vBgWe9TzBYsfek0zn9PkrBRz4CW7ZAeCF89gktTKL3r43tyP0cZ8bqG5wr1n7CHKxUxUux6dujBe1W7G+xC84hHk9z1g/01AshDggh7hVC3CWE+H7vtX4hxA1CiD29n32914UQ4i+FEI8IIe4RQlx69ncwzC3OU4wqjPf1M1wuErk+UVDG8Qs868dfyHfvuJt6JyaoVJgYX4sxlpsupGR0dJjJrVuJhtcxn0iG1m5heaDGwVLAvnaTRpowk6eMlCu4pRJT7SbtJLYyAL3RfXmWk+c5uVbo3khFyziRrBka5uKt2xgfHEQrTafdJOk2cKRrNeEFeEGRKCziuAHSC3DcAMf1ccMi0g8RAlxhcf2a47ExLJCpnEBIQiQ5hsXMYvah7+ELB60U3SzD9QNED/uWQpJpQxhEVIsR2yYnedrFl7J2bPz4vUQ6KOFgpMvGsTUcWViimxsO17v4QUjbeCxQY67RRbspi50mw0jO33Ye3oZ1yEKBY406rbl5dqSGTcInwdDIMxZURjdTdNKMllIoY+OQmmPHOzYyO8vHE5K4U2edlKwv1Kg4vtVAErZYYxA9Ry04Fre5bWGGsh9Sc32EMQhtmM8Sbm3O8/3WEnd2GzyQtqhUSlxQ6WfYj3gwsbRRiVXYnPB8+qRDvxBsdD2eWaxilEbK08c8T/azPT4OX/6yHW6+mhrE1VfDy15mC63r18Of/Il1+EJAoQCvfz184xt2Ru7zngf/+h54ow+fMHb4lIdPjYiQkF/kFxlm+JRC6LmYELBjhx2+/n/+D6w9ra58z4yEB3fAb/0VPOebcNvlj+v9gLM6+1POD4EQgrEx+PCH7WJ48cVwugTOGLj1Vtv9fJDHo/7zmCMBn8cWcJ8M7YxnYafIXILNFE73uR3EznN8fEPhfxihznONMRcbY3b1fn8b8DVjzBYswfRtvdd/Ejv5YAsWMPubsx24Wipz4eQk7bTDUqYICmX6iwUqgQ9ekU9++nM8sPch9k4dYuv28ylX+2y3qrJFU2M0xWJEK25zw3dv4Z8+/Ulu3fcIWRCihcOszplwQy4UIdumF+lOHePBfXu5b+8eWt0OeZ6htTppVusJeWLL+dcsLC9x/8MPUm8s0mwtM780h9YK34/wHJ/BvgGbITgeCKeHX2tUlgCKsusjpYNEEmvFsSRmU6FMKKVt4pIOJekSOi7SGLo6p4shdxyKxRJKa6R0UMbQbLWZnTnK8tIycZISeHZAtZSWBioEOK6H4/ocWmySioAMSSXyiDPFVFZCGcHkRIkkqZMHBdK+GoX+Gnl9maNHDtOX5mx2QspIluIuKk1JjCY3ti9BGVs4Xuk67ncDXMcjdhyWhWEmi1nIEx5anuGzB+9nOmmjetPQJOAJiLUmAzYGBcrGcKTTpKUylpKY6U6DmTThG+1FDuuU6TRm79IC03OzjBnJzvIg64ICoZR0jaYsJE8vlLgkLLDFD1nnh2RaUxaCqjjr4/+kPdsA518On/mshW3GTpogeNll8Bd/YZUgX/UqSy3cuPFUZyYEbNoE110HX/wiXD4Jbz4Kh66DdtNgzPdpsURMzG/xW3yTb3KmaUqnMyEsp/1Nb7JzeK+5xgqUndG0Y4eDf+QN0IkeK1B5BlvPetxVAQiD5bjfxoqjPd6GgoVuXvQiuOEGeMtbLISzmr361fDsZ8MWYevPTxzgu5Fz7Sx+/PYzrM4CerRt5YlcwZOR374Y249M7+dLTnr948baLUBNCLFmtQOsmDGGYruDzDKa7SZ7jk6zb7HO0XaHO+6/i73791D0XSLV5oYvfoaH9zzMUr1Jq5uQ5RqtNY3lJW74+lfpxG2WWw1KlRLjfQX+x67LGB4coouhazR31xdoxF3SOGZxeYnbH9jNnQ/uZnp2hrhep9pqEaYpRluYRymFyhX9tT7O37KFMAwQQmCEJNGKVreNdD10FpNnCVrnKJWRpR2ypAO9ZqFuj3WzvlDClZKK4zAURFSlh1Ka2bjDaFSgzwvoKkXmutzeX6Vc66fVahCGESCYX1zk3gfu4fDho3iqwvfvvZf9hw8z0DfErvMvpq9cIfJ9BIZMZczUm3zlrt186Y4HSZXDXOrRMgFbNg6zMLcPmWquWLeRy579bFRfhQPzM9y1OEMZyflhhTmhMMLgGMi1QhpDZhQKO8RGOi6p0XS1os8PGfB8lrOETMCBtMu/LB/jgaRJ2qOzej2PlmpFn3SoSodhx6WmDVWlybtdjrbq5FnKujBi2AvIhSTTCqNySkJSkh6hkDyjPMyQdHERLCvF55cX+X67iYOlxjbRtIymqR/3l/aH9mxnwAsEHCzBG95gKZOvfKXF0z/4QSgWLXb/r/8Kn/oUPPQQ3HabFQdbcXRCWGfn+xa6ePe74XWvg5/6acObbv4PlpSlF7Zo8X7ef8rcVIOhTp097OEIR2jROuOisMLw+cAHbIbxilechd6JgH/+efjtD0OzfE6OXyB4Ps8/zV/ngV/CyhMsYwz813/BAw+cgJ2EgMFB+NM/heuvh507Tz3C+Di84x02sxrArtjvwyoHPX7X+WRKeMyf43ZXYfO6x2c/KKZvgK8IIQzwUWPM3wIjxpiVPsNjHJ8KzDinkk2P9F47pSdRCPFr2GiJWrXKbQf3sahytHQwxnDg2DRaK7I8pRgVGK0U8R1B0lrkxq98lkrfEEiHSy9/Gr4f8PVv3cjc4jy+5zE0OMK2kRoeKWNll8FLd3Js3xRzc0vc1+zQMYpcK3IpEFlGkmW02m0mHI/LozJZqchDA/3MRgGq1wSFMrjuST0E9CIQIWh3W7S7bVzXxw8iVBYjMBRdqwqZaatD0wYeUSk11xZcfSFpmxRlDIGUBD24SEjJlO/RiSKKWpFlCYVSjUZjmQcfeYgsSeksvGdiAAAgAElEQVTv6+euvXfRaDdJphUXXzhGwfe5/MJLCH2PRrvF7NISMwtzNNttploJB50xjPCJQsmF29fw6d1fpatisqCE+707iMolnO3buaxSYu3+acxym6HUcJNSZNIQCBtVGyAUEtXLgiLp4ArBsBfQzjOOJF0Oxx2Wspj5PEWJ3pzj3r2bcH0uCcr8WKGGMopHkhaDXkBfpuhzAhyZ4CMoCoefHljLzUmDpbTDIA6boyrCcTBG4WnFlYU+4tY88zqz09aMoWM0CYY1QUioDPmZSd1P6rM9vm4dL8b2WQoBW7daTPrAAYs5/8M/2Kg1z+Hf/g2+9S1IUxgehre/3TrdKFqRFoGvftVqxysF375RwFXXwus2wZvfDyMz3C5uZ5ZZJpggJubLfJl38S72sAcPjy1s4S/5S3ax64wQi5S2mPxP/2Tf8zWvgfnT+Sjlwj/8inX6f/2bMLBwRu86ySQ/zo+vAkPl2Kaom4CfwZgSd99tWThK2Z9veANs2GDvh+PAM59ps5PXvtYuClLCm99sMyaEZc2vEDF/D0uw/HtWVxL677eHz3G7FcnnqzhXuib84E7/mcaYKSHEMHCDEOKUyb3GGNP70pyz9b5cfwvQ39dv5vLUUgyz3PK6lcXXXcdhuFolcGyFzurFa+rzR0HAjV+Zo294nEcO7EdIh1rfIJeft4NQrjRtaXyRsXbTGJ214/QfG+bg7ntIVIajBYEj6EdwieszJCS+NlQaTX4u03xhuJ+7jOLg0WlacQxC0E1Sei6/dyGAlJa/70iyLMGonMCRXDAxwtGFZQ4vt5AGPEcyPFBhcqAPji0xl8U0s4SidBgLizaSlg7zoc/3HFiaX2BuaZFKpUIct2l22iiVM1gaoN1uMN+cAwHr123GE9DttGjmKVEYsnZ0lLWja9DG0E0T9h2Z4vC+h+lfs47nP+cSHtx9F2kSM15bQ/9Cl/6ZeczhaQ4s19mwfRv6ijG+dcst3LHYJBVghCSWBqMtnJYajYfo9VIIIsch1pojnSaZEByO22RGEUorTrc5KDLhhXyzMcfFQZmfqI7jArfUpykIGOkpjdbzhGE3YF1UQRtFv+cxaUJ2hEWM1pTdkK7jUE9jAmDUL7AjKHIg67I/i8kRzOQZG3VAQUj6XYmjzvhoPqnP9qW7dpk/PulvK41SW7fCwYMWwz+Zy78i/7u0BL/6q9bpfvSj1oktLNiFoHvcYwloVOHPfxf+6yfZ8Mf/wO/+7FbW+GuIifk1fo1P8kmyk6LV7/E9ruIq3sSbeDtvR54BBFihdxYKPQmDM160hE+9AtpF+PBvw+T+VR3/JJNcx3WsXVUr/wBW2mEU+GPabY+3vvWEMukHPmAzoje+EX7jN2yWJIQtfne7NnMaHLQLgBCWc/M32Hay+7Ezvt6CRem/hiVgnl0haDWphR+W1eH4lIkzmcBytdbxeKQufiCnb4yZ6v2cFUJ8BngaMCOEWGOMOdpLcVfk6qY4dfrBBGdhTZksQ2uNdCTG5Jieno0jJZVCib6CxayNsU1buodbCwN52uWhR/aQKUvZWz82xnBB2mXfcTFa9fLknIIvOG/DGrpxm9sfeoCS41ITkqqURMJCDX2OHTweKc3TW132VYt04pgkyx5VyhHHw30BdiC546GNQsoAoVPuP3IMpQylKAKj6S8X+bkrLyVTmgeQHDOCgaUOYZwRK0VXOCwUfO4RhjseeZjlPEO6Lr7nUYgKDPYPMjo4xNFjMyR5ius6VGuDDFaqxJ0WeZaAMWRZyv3NBv19/axfM0alWOK8zZuZW1wkntvPFz67h3ZngdGhAUrNhOq+wwil8KTkktlF8pnv0Oqr0cawEPqI1GoZ5djMxsGqerYxeAgcbVjKM/Z1m+ztNskw+AguDkvEKic3hqU0pmxgsxdyXlTlkc4yrhAUpctkUGRjWGUp7bC306A/jOzQe9fFRbFmRTROQtvkGKW5r7XEYtKlICQ11ydA2odcCCqOy2yW4fQa9sIzFHKf7Gd7P9bpPBohyXML05xJJTLPLWunULCR7vveZweCPNYE7D6P6V94H413gnybYEoe4LN89hSHv2KLLPJBPshLeSnncd6ZTh+w2Uj3nEJjAV+8Cu4/3+o9vPpfkUGGL3wyMtaxjk/wCa7gilWifAOswY6UuhStL+YjHxF89aunbjU9DW97m4XJ3vc+OP98KJVswfvlL4dWy9YmDFYO7uTbVcdOlDwPK1n0JazO5eewI+BPvlPbgQUEc/wGVkDuydDSeDyxxB4eb+PXE8b0hRBFIUR55f/Ycb73YUvar+lt9hrsvaP3+i/1mA5XAPWTUuVVLdUKISWe61nOvBAIYwhcj/F+G+VrbXqRu1nRGQMMhb4BRicmUEox2D/I9tE+pM6Od/Xa2mGPMaI1ZRXz/PUjhI5D0hNpu8gLqSBIVU47z0lURo6hvbjAM3PD5om1vSHsZuWeIKSFfYRj4Rj7uo16vZ4kdCvO6Oa2kcrzPJ55/mYqhZD+Sokf27WTnU/bSXXHBhojfXx/oMR3+grcMtjPnc0GDW1x8yzPqbebHJ2bYfeeB5lvZXTylLzX6ToxNEy3uUTStU4/y1K0ykmSmMPTR+h0UxYXF3GEYN3YOOMjIwxEfQS6hGxoKkfnqbZjAumCkJg8x8sU1dl5SgcPIeIuKTYdNoLj/QyBEGhjiDHERjGXxOxu11nWOcpoNvoRa92AIccnxZAADyYtJsMSG/wCHZUyl3XYFFUZCSq4OAz5RS4vD7DWLyAklKWL6/g4BgLpkEpbT8hzW+RuoplRGbuTFkeU7YmoScmo61N1POJcI3HomtUjqf+OZ7uf/4+88w6T8yrP/u+ct00v24ukXXXJki3LFTdMCeCCKQmYJBASakIJOCFAQjHlI4SEmBRCQgLJF/BHaKEEbIgxATsY414ky5KtLq22z+70mbec93x/nNmVbK2KCcXf9T3XtdfuzrxtZt55zjn3cz/3fTzzWmvDv/+3fzvZngbD//CHDf5/553w6U8fxfmXeDUEgeATnxA88gg42jkpV79Eic/xudMq+maerLV20hBwcBTe8BkSr/kif9n4NPdwD9/je9zKrSdJ+A9guPGvQ+sXc9ttgo99bGn6aBzDf/4nPP/58NnPGkosQG8vrFwJvjAJ/+84vm84xnzA7wD+N0Yp/4eYNqxzMYx5D/g0xqvqAoY7W258Km/CacbpVhg0Zog6CU91ififzPT7gW+YpIcN/JvW+j+FEPcCXxFCvA7DKVoQwP4OBnza07nK15zqBDGglKKlIiOJjGl46i8WyXrW4mzaROcvodHCYsMZW/j2LbdgWxZb168jbRsISAggNkJsCzr8QsecPTBIVyJBrdHilr2HiIOAPfUWZ1iOce/UioLt0dbQ7SRo1erMtcqd6zIJv5P6ERgpaLTGto1aZcKyOGu4yMGZeaYqkeGzWxarBvtYP9yP0poo1tgOuI5DZmUf98/O8KPHD6CEoLtcoVqtEAmjjR91mqwEIC2Xlt9eHMRSjqQ0sY9isQfPS6GCqNOcpPEch4Rls2vfY0gnwbASDPTZuLZNLC3WJnMssz2a4SR+IkG+1QYBvhQcCRtsa9U4rEISWtGOlXm/AbQmAQTa8O01EGqNlBDEGoUmKW1mQ5+ZwNQ2ktJCYZhQOWHhakgKgdIC13JwpI0Ugmbgo7WgqSPafpOy5eB5CaRtU1IBjudSDXwaUUjOsskm0hz0WxxsN1BCU5SS1Y7HkOUw4qWYatUZzeU4EJyQ2/xzv7eLHP/VLpVMobF9Csr1S15iOmerVQPrVE+DBl4qGVrjJ/9xGe8Rf8cf8y7CE+i5bGNbhzx74uQzO2u4+085Iof1O1/CG0VHJuSkoTGdrjvQOmZ8XPC2t0FlKfmbY2JiAt7yFvP3619/9PG7gKs5eQlWYUbw9wFDne2fiRksPokBUzLAZgT3sBXz0b8eAwz9rCLHqefjGlM6OhFR7MTv7U+d9LXW+zCeYE9+vARPEvcwj2tM5/NTOw8aOkVCrTW5VIbebOrYZxeh9I70Pj3LV/HQIzso12qsG1nJsqyL1gqkbboz444gb0ebZ0Umw2Ahj99skc3lOHt0hHXpDPsOHiaIY5rTMyyTEmU7zLsJlG1TXrGM0r0/Iu74siJ0Z9aP8d+VFujY8OjR5FwzwBTSCaardWzLJuXarO4rsvvQmIGutMK1LfJdvRQGephp+bSjiFjDTHmeOFYgJXEUGrkHQEiJm8hQqUyDVniWxLUEQRQyMzNBMpVhsKsXISxaYWjYNRrDtrEl9zx8D+tXrWHNqKlw5VMZRittwlwPD/pHSOOw0o+YbjT5em2WaR0RCUkdCNBYlqGLxlrR1PoJ/rRZKUkI0FLQjjs+QEIsCsKFOsYVFv2Oh9KAtMhJh0E3SaxCqkKCdEg4CQqWxTendtPrulyc7SWhIqpSomxJiObuSolxv4WFYMRLMR76NImxNKSEZLmbYpntIGPF5nQ3Sctlb7C0C/kv6t4+NuLYdMFuOwVaMDBgEBLHMVj2T35yesf3PNh4NbxCWPyEVxByKSa9/RXoFjRbMNYDD28h3f1s1OWCk6Bf3Hkn7N594udPFi96kSB1WqoJD2CsvD6A74/yznfCjh2nd44VKwyFUwgDh+3eDSvWwpU2fOMU+/46LOp5CkwKvgYjt5bBDAzTi8+OYFQwL+ep2haeOCYwa5ETrcgWEv7vYhqznhxpzFpy6Xhad+QCi7N5rTWO5bCsu4gjF9p4YOEvA6FoGmHM4wcOc/jIIYqFbjYvH8Ba4NNqo92+IHAmMHDE5v4+pIYD81VsN8lmN6JLW6xYvZb9pVkebDT4Uq3GcCGHk3DwgXa9zODAMAfGDxPFyujndEYfjRlYhBAoFWJZNrV2xLZDkwRhiJQS27LYNLqMQjrJI/sO0JX2yCUcdKzxbYt//OZtzFeM05a0baQwx0RYRqu/I/GgopBqZdKwghIuDqCjGGEZOKzVqrN25Sjnbl7PzT/cxXSliRWHJJJZdozto92qcf/2BynPT3D1xWeRzK/k8fkW0fYdTJbn2ek3KGhNs1lnSisChFHIxDiRRZiXLSwLJQSaGCkkdhyT6Mgp+HGMEIIVbpKCsNjnNxZ9h4acBGd5WRIYb9zRZA6tYyphmy43jSVASwuhFXWt6Neagu0RhYo+BD+uTBE6NnNRSD02GjvlVpWoc9+MOh7rnCRZJOXApyAkliOw3QQD+aUFvX7RoTXcdx986lMng2kMA+Wd74QNG+Chh+CGG07fV3fgZXDjVfCQAHOfLgPeBPpFcGcC3tyGfXlopPluUvCuNwre+17o7l662enii811nFCY7QSxahW88Y0nbqAyoTs/y4H3Ece/zWc/K/jqV0/vHI4DH/gALFt2lNn06lebn7/4Yxjphq8LkzafTNrtwbB6nnx5gqM2KUcwPKKjz/RwsiT71ONB4B7gshM8rzCco+8u8ZwA/pCTafH8PyCtbD5+AfTlC+Q8M04ZEIVFfRsw8Eg1spicmkAKwcYVy8k5x/gjokEYUxMQBJHC04K061FptRkbn6dnvkmP7WIBpVqNm3bt5P75EkF3N7PZDBOORcm2qLWb5NNptmzYRE+xiGXJY3BQ02xklDcl6Bg/UsaLFoFj2wwWc1y4YQ29xQK+ihkr15motLCyBdx0Bs9xTdOSEDiWTRSGWLaLUqHpOAaSXhrbSYLWDHZlePM153DB+qHOfuaLNdCT5Veft4ULNnfz1ledx1WXriMpFDsPHaDVqhmut9RcuK5Ij1cl0d6Fk1fcYYXcFTaZRrOz3eBArKgLY1bSRpMQHLOyYTFbSdtCSIndgXjqseHEW4CtNRNBiwVZBBtNn+UyEzQJdIxnObRiRaRjkpaDiiMCFWEB1dDHBgrSYrpZJlABWWlTdBM8XJ1nOgpQmK9Du/P6U1KSFZKGCtnequJaLqPpIr2OR03CYPr0ZQl+ntFsGljnVJIMF19s4Ipm0xQtS6fbiDkMBz8IDx1nFCagtAz+oAe2LYN6FrSk2RT8zd8YJsyJ1EB7eowMRNdTyHWWZV7n8PCptmxhOlLvR+u385Of5PjAB05fmfSqqwylVQjzHr2n40H8iU/AK66AF/433KeMEPSlPHHm+zJg9BTH34sRYTg6OCmeigzCqWPBOetEfST3cuL1yibgD0569Kd10l94S7XWpBJJBvLpYx89bvuKr2l1LICWDS5jVW+2k3zFwoGOrhyAAxOz7Dh4hGqjxbYDkwy2jeaOltBSIbfv38tku0U6myOVyRr+ORALM4vWWpN0LFYODrN2eDkDhQJuZ1YOcWdlEaOlRFpWx+LRwbMsnrt1Az1Zj3Q6RTqZQgC1KIbsIHsPzTHQ3UNXroAUkigMkLaN6khBANiWTaBMw5cQ8KyzV7ByMMcztyxnqDdrmEOW4Fd/ZSvd+SRxHNOVtbjikmW88tfOx7VjLGmhY82KgQJrhnPm2FETp7WHizfmGV4xSGTZRI7xGUgJgRYahSCUglAcu+JagMuMQUlCCCSGYZ21jC3kcjdNqBe8BQynPyctCpaLZ1n8sDzO7ZUjzIQ+4+06vo7JuykCFTEXtkkKgYvRJyq6iQ6bS+N0JK0NEdecM9KalW6SVV6KjJAMOAnjuKUFtu0SSZvgl+iRuxBam67aH/7w5NtlMobGmc2a7U+JpzvAhRh60J/wBI/uxYgw2vv3Hb+7bZvagX0CLEAIU1f46ldNZ/DpxLOfbTpiTz3L/xcMlv8Y09PwtredRFn0SSGlWUl4nmE2feITZlUE5r2+/3546Yvgkx+Gl5Thy/roHF0QU+EILU7ssxBjBJcDNMZo5b3ARzBDwc8yvgrcvcTjGsMaOhFX9rl03GBOGE/rpL8QUkiGuoo4llicQS8apHTuoFYYU2mFRGGA6yU5e9UISbmwRliYlZofIaBab1KuNpk+PMXf3/oj9Fwdy7LAkmgp2Dc/z/bSLHbCo9jVA51CbRzrRXgl21XkyOw0Ukq6cgUGuntYv2w5o/2D5NMZpJTEShGEAQqBZTs4jsuW1ctZPTQAloPruIwMDeF5HqOjI1RrTZqtNrVGg0qtahRCO6uZKDJJSkpBMpUHJEoF9BVT9OQTRDoml3HZuKIbBJy1bpjzN60wWj0tn1YrRClFLGwQNo5lYdsW/fkEj+6dpNpqY7sSKTQFr82VZ+W58pzl9GRTWIAnBZYGqRVhbGoDwDHrG43VcQ3TsZF47rIdMkJiAbfXZvHRJIRFv51gpZumGvpMBk0ea5TJ2g4bkwVylsOaTBcSQdxh6Awlcww7CZYns/Qn89jSIbAEB5s14lhjiaNlxwU4sBL6DNoeZ6cK1FRISyvKcUhDSAJg0v/ltuJoDXv2wJ/92al9cl/3OtNwtGuX6Tg9pa/uyzjKO/wdjk/4GoMO/BNLMgSf/3xDdTxZgpbSJPKbbjKKnCfbNpczjKNk8hTXTbNzUZsJglfx3vcKHnjgVPscDZ2HL4/CD4Cb7loaMqtWDS32mmvg4XvB6siga3bwZS7iz/kC5SX4Sxq4D803mMUYkV+FkRj9KCdOwj9tNFi6M3fBdP5EsYFTsX+e5pi+SSxduRyFpLtIzQQWIQ4pbaI4pBII2n4LFYWcvXETvUkji7xwI8bHsGzCSPHYwXEKlRaOilmfKdCDwHYsLCEo+T4/OnyQUAi6il3YjtMpTgoEMbHWJBMJfBVwcGaawzMzpBMJkq5L0vPwHJuNy0doRyFz1aqBUCybrnyBrnyB0YID0kYKiUawcnQNo8MDVJRm14FpYqUZm5peLNZKIYii0AxcUqKVol6fR0UBrmOzeqjIgfF5ZubqrB7uYv1oD3sn5rn68jOJwpAohN2Hm2i7wGif4L/uO0wUhDh+m5XD3RRTNo2Wz879M/R1ZVjRn0dqsEXMhgGHodwKHnw8ye494yRUzIid4GDUJlCathQLxFfQmjhWeNowc3LSJtaarG3RYzscaDdp6ZiitFjjpVnrpEhJm3rUJtCQs1wK0jYdyWFAdzJLOw5JSZuEEGxM5RlwUzhCYjsOdak4t6uf4VaTw36THa0aoY6xhOkHiLVmKmhRRtBrezhCGM9iKXEtm7W57uPuuF9khCF86EPGRetksX69kQQOQ6PHc0Iz84VYjpFZzmLIpk+OhTrgu1iS7VcomOvyTlBHrFZNd/AC3r9+vfHZ/fu/NyqW09PH7/Pa18IFF5xqlg8mYb0ErV/C5z/fw403nmr7J+6qr4PPb4B/K4N8NwQnYDZpDXfcAb9xJag/Bt4UQ/qTxOIwH+VWvsXv8CEEV2LomgJooXkPe5jjN4H7eWp8+qcao8CTBes0ButfagWwEKfG257eSV+D69j05NJGPbPzsBBGXc+wL0NqQUy91SYMffp6+lk/UERgmq+EkIZNw1GE5/B0Ca8ZkAsicsPDbE5mqemQtOtCpNh+aIzxRoNUJkM6ne1AFmYA0YDtujTDNo/s3E2kzKrDr9XQOu5AO4KeXIG+QoHeQp5sOtuhVgrK9Qo/nqpxYGqKizeuoZDJkBIBNTfNwf1jaA37xsZotFumlmFZnWQaL9I8g1ih4xAhBZ5jU6q0kQLmam0OTFbIJF2uvHQzy3oyhGFIo6HozVsgQyYqWbyqZlgLZjS0ay1qdY9s2qblKw5Mx5QqU4wM5OjOJg17IWVxyZn9JKVmYtcUGctiOmyjidEKAgSRmV5jaU1eWKSE1RFQE/TbLpsSWTYncjzSKNOOQlJCkBSCjJC4tseBVpVu2yVve7RVaCwkLQcHyUy7yq7GHEXPJeEmULGiqRVtHTPgpeiTLqu9DAfaDeqxgehcIYiFJOF4rPIyxFFAFAXmGm0Hy7KIo18uvHPTTUYZ8mThOIatMzhounC/9a1THNQBPgh05AaWjBCDSuxa+unf+z3YunXpBK2UGRC+9z0zc7/6anON3d0Gr3/5y+FjHzOwz4LM8erVRgJhKTXR4yMJfIjxcfjwhwXBUzHiegamh0tCFGM0Fu7npHB7ZQ74Yw2H74O//goIiNnLNiJegcMrMOsOD7iTgP/mf7EkHvYzC4lR1/xbju/6LWPw+qVZZ6cbT++kL8wsP+3KxYQtOslloSnKjxRzjZBWu4FlO5y9dhUpS3UgILEIjyyIlDRabSYPTfHKxADTfRBKi7lqnVQxQyThiN/grqkJpONS7OrBto1too5VB0MWpJJJduwfX0z4LKxAhEDpGMe2qbUa+GEDSwi6812sHB4lk3Ip5CSliuZQqcr+2+7h7NXLOHPNKFP1gHY7ZLZcZmp+fpFSihCo2EgNG4XOzmuXFnTglCNzDSbLTRxpTMbXDHVx/pmjqCjsFJhNsVZZSaKaxUVNxZmFAb43N8G+cpMd9TZD/Xl6uzOoKGDWh7pfpS9fZ+VAF54tUWGMO9+kX0j2tZtEgNQGMk4Kw8UPgLywkAgy0ii4jHhp8kIYM3fbwYvhvuoM9TAkl3A40KwwlMiQlBYFxyMGqlHAgJfCkzZR6GOpiNXJLAhN6LpMB2200AgtafotMtIm0pqUtEjHioyEbunQUBHTQYshJ0HesklZDjguraDNo83KLzXpRxFcf/1JnKk6cc01Bls/dMgwUk5ZhngxxjJRwNGZ6DHZWwNfBL689O5nnGHkDJayGtDaKG3+0z+ZDtff+A146UvNoLRundln/Xr4zGcMU+aDH4R77jGDwbEqoicPU5+5+eZTmLc8OXLAx4B85/9ujNT8tRhLx5NNzIWC8/8OxEIDQB2ICPg2X+Vr9LGRIpI7eYCQbz+Fi3qqITAaQ9dhXsixo67GUEPvOcUxFKdagTy9kz6CdqhoKUlCxp372CRXreNOghA0W03iOGbDqrUMpR3Qik7r1SLsAAKlNXvHprjcLjCcyHHEaVKq1Tk0shI9O8XqdhKlIzzXBS9BMpUxg0Ucg9YEcYS0LHbseYzZWtXALxqOtmWBbTkkPJdYBWht/HDL9QoHxnbzzAueQaUesGGkwPrRQfaO1ahph71zLVot4+mbTufo7upirlImitRiDcO2LKPu2ZGi0EDCsXFtiYpjhDB9Cp5tc/Ulm0l6Lrg2oIkiRSsQlNt5Gvc+SLHeQCHosRyOoPFDxcxUlTYettOmmE4RhxHTczGVus+K/gK9gc3yOnhuig1Oki9WpoiFoFfaVGKFEoKkkDhaE2qwNRRtl0Ss6XEcolgRaIt9bSMMFeuYI+0GCcsmZ9kI26MVtKhqo5vjIIlUiGs79CZztOIQJDQsSc2CgnQot9u4wngO5GyXjekCYWOeVU4SiaZtRQgVMdOskHTTlIVgwHWZUG3KjSqD8sl+p7+4kBKe+1zN3r3ihM1YfX1mNm1ZJoHu33+Kgy7DwMsegOZS7uDl/JAf8RruZzmHABVxQlXgBapjX9/Sh69UDGuo3tH28n2jeXP77cZh67WvNQVnxzFY/wUXwH//NzzrWacD6xyNIIAvfOHk9NUnhMDY817CE/OkgxG9vkibHqa/EUeFM46NjTvhmm8fs28Osxz6S9rcxQ2nf+n/w+jFWCOeqBC7k1NDSh/hqA7g0vG0LuQKoNpqM1ELaJJEITufSwwavHSeM888iziOKOaLnLViAEeqxQR4NBWbhqCpuQpeqc4liQIPiBp3TE1Q2nAG865Ho7+Hm2YmeaxS4yVr1jMca6ozBl+3LQchLWzbJlcsMlfr3PVH8abFu9pzHZQKWNGbpZj1Fgco11FcsMnjonNX02g72NImnXSQ0qJSC2j5IV4iheu5rF4xyrmbtzC6fAUJ1wMErm1jiQX8XCClJOFYi6/V/AieccZyBnoKtCOJH0YgLIR0aet+6tv30z02hdCQlha9rsdQp/GpYHu84lWvZ82GixgvtwiFUfYMQ8WeA7Mc2jZBr+XR53isS6S5IJ0ng2Sl7XKWkyAJ5ISgT9j0CguhY7osiyHHIyUsskKSEhIpJZEQeMIiZ9nEKqYRhbbv2H4AACAASURBVDhCkpM2Bcsh6Xh40sYPfUIV0hYxzTjEsh2aQYCnoR342FojtMAVpukuLYy4256gyUG/Sa+0eW62h7NTRYQQRsZaSErNOllpDNN/WSFlmRtuuJEvfCEwyo/HPW8gkY0bDQz0pS+d4oA2po10DXgCLmKGf+H3+X0+ypc5wH3E/CuaVTamtfTjHCWed+Lqq40x+lIJOo4NXn/PEhPNiQmjaHnVVWYloJQ5RiZjHju9RqyjsXOnYdmcdmzFoB7HwUcaxL1Q/JphMN2GmfkfK3gkYvjdf4T8wixfAC8HxjHsnF9UFIBPAStPss27OLXQ26OYpq0T42JP76TfSXLlaplKW9G2cvi4aC1QQN/yUR7Y9jDSsrhky9kM5jNYC22EWiPF0cKvH0QcOTzF1cleJlM2N9dm6b/wMl700ldhSdi2awdOMsEhC34wPc35wyM8w0uRa1QJaxVsBFEUcf8jDxvpBb0wnCywieIOFKToSnv05JOkEg6WlFhCc9XlGxnuT7N2sMmVl/YyOrIGx0njOi5xHKM0BJFJQslkkmwmw8rlI2zesInN6zeRz+ZIeB6e62IcgyxCbRPFnRoHgr58ile84HzOWNNPIevwnTv2cdejFWZaeRp+hvShSazAdOVKISl2BMmuzvbwolSBPd//AZt7BujvWgYii+t2EWNj1RXDvmDA9kgKi4zjcl6mmz43QaQ1ZyWzDEuHbiQ9QrLMdhBak5c2RcshY9nUdcxUGDAeBRyJAnb7dY4ELVLSYj5oUwl92iqiYHvoOCZUIbYw7KdS0KLp2kzoiBBQkUIr44xlDGLA1oIRL03OdpnuKLMudxM4wuJI0OauZpkH63Nsm59AtetMtmv8R3XyF35PH42D2PZ1vPSlO7n11jIvf7l+Aj3ywgsN9XB6Gt73vlNLM3A18Gq4UsAdRNzMB1jDNgQvQ3I3XbyXV6K5TcC1KXDfjunfuRQDo3aZWb57gsXP+Lgp1J5o9h3HpjD6whfCO95htj+9mfrx9OuVK00TWk/P6eyP0UZYsuWihJk5vxPEP8CGPXCjhpuBF2KS/+gBuPYrx8zy12F0+/swGnu/iBSZBj4B/OpJzicwxd03nsbx9nAyN62nddJPJVMU02mUVoxNHuTQ5BHqyqMpMqR7h3lo+yPMz8+zbmQ1G4f7cBwbIa1F1U2NQHaw/73j02xVDgExP85LyOa58MLLGR8/yLbt9+JHMbaXpqe7h+2lGW7c/xiHgjYXJzOsDQJ0aZrxmSnaCyDsMUwigUm8nuNiC81Ad5p2qJit+uhYsWl1HxdtGTXFXBGTctr0pafozrm4luGL25ZNEBn4SMUxQRhx+MgYO3Y9Sq3c4JwNl7J141mcv+lM1o2Okk6m8CNFMxL4yhS2X3z5ZkaWdWFZAqEjNm3YwNqVIxxo9DB2YA5dbxIpRRwpIq0ZSmVJWhaHO7o9W45MwZ0/5vzeAVbni0hlMTUVMDPdwI8iqmGbgusRCkHkWFyc62Uiitjjt7gyXeTKVIHNboqVTopltstsFBBqjWPbOG6CichHCOi1XYa9NDNRgGM5HPGb+IAWFpawUFFEPWgRqhBhO6S9JC2gqkL8KDSDHhBqhWVZHApaPNws80hjnmYULt7U81HIWORzd7tKVZv/b63Pc6ffwrIT7AtPAaj/XCMCXoUQH2flylfwuc/V+eu/1vT2GmngP/1T8/tjHzuNrtch4GNwZsIIgp3LYYrcgmAL8BxMZde8a8uAz6G5Tu6B8/8PfLtM/3s0f/iHxnRkqVm+1ma1MXkaY2StZly/3v3u06CVojGNRv8Cx3Dj83nDUrrtNuMcdiIW0WLcjHE3OC4KGFGFI8BbQDwL3G/BszV8DfhOFf78f0Hvsablv8XRDtuvYhocft6xFSMqdzrpuHaaxzxxJ9vTGtOPY4UfBriuhyUkluMyNT+DDTSjiLn5Mpl0lovP3AxRi2q9YmaBC8O2Bi1grtakOVclqyymRnpJDw6ypbuHvY/ezfjUJEEQ4HhJhvt6kFLS39PDfGWevXPTXBgqBmyX/5qdok6MEBaW5RCpCB0rhDzaB6B1RF8xRbMdUm4qHDuJJ1tc8+zNqDCmVK/TbPrUG03u3j5OIAcAAxupWJtjmQouh8cO8/j+vXhOhnXLn0EmkWJm7hCOrdi0ajXtdkDTbxNpTRxpLGlTbYW0gxDPlXiewznrE2yfSFMpt+nb/jCpShWlFLYwssetdshku8n+WLE8kWaFm2UyaNLVqvP4/ByRX2c5Diu8HANekn7bY95v85WZQzSE4ezXY0Wf5TAkHQbdFNNRyK5WlS1Oiu1hkyNRi0hCTzKNHRklTIFm1E3TDNtkbZe84zERtqmpkH3NMnnbodtOooImRdtmjpC0k0BoULEi1AqBQGIz4bf5aukglTgig2CZ49FrJWmqCCEsdvlNBtwUq7w0s6FPG40SksNhcJKvxS8iXEzn5ZcRYoRk8h9505uTPOOiN/Jf33e47DKDlX/2s6c4zIKH9np4uzBsTcEI8H0M2+PNGJD/t1ioc3lAnb8ys9/CNbz7Q5/hrXEvUi4NvAeBgZdOF2Pv7ta87W1VLCvBUcLjUlEBfh94DLgIjpFzltIUlT//eaOcef0H4eGHOB7SlhhpzCX9e+3Ok1/GUJUmgHlzOa6GZ30J+Pwxl5cHXtS53hCT9E/Fj/1ZxDwGjjmuZfqYCDGD4z+fxvEEJ1j6AE/zpB9GEX4YYXVmin29Q/R4CR7f9SCTMwFaa/p6ilgiptmsoeN4AW9Z/B1GikcPHGEwjMnnuqBrkIbQuK6LVj49hQxrVqzA85IUcjkcx+HiLWfjBz6PP/IIuxsthhFs8TL8uFUhIDCdq2KhTGzUCBdm+ZVai3QqSRgqdNTmjFUDjE02qJTmsC2BFFBtxmzfP0+pOsVg/wCrRlbS9gMs20Kp2DBuOubgy7rXMNS1ngNT9zNZmsCzYd3QIBtHVxJEEaVqGaUUDT/kszc/yI79M/zONeewdqSXcivBwfkEzoEddAVNnEgh49g4VglNRkiel+tnXxSyOtlNt5tGh/DP2x6iEUUcVgFuGLI8XSBrucyGTcZVyLgKaegYD8GLM91cmizQJS3qKsIVFiuSOepRm9XKYbXlcSjw2d5usKfdYDoKSErJoaDJRekiYWfAyUY+aSHJS4fJsI0iRgqLctRGWhZOpHCFha8VKelysFXF17A/aFKNzcqlaDusclM81KpR0zE7/Tpb00Uy0sazHHqFpKZjHmxU+ElzjvbPlWd9qliO6axMANei+TO+Jy5lbOureedW8+XfseM0CqAvAF5jcPyjbTkSw9msYh79TWD9E3Y7m7NZzSr2cRNfsl7MNdaNrGHNkqd45BFj1Xg6ISW8+91znHvu1QhxNkbIeKk00wL+CEN/fDMGVnliCGHgpmuugd2XwrZPg/5bYOqYjZ6LgbBPOEl2MMOcxMymfxXzLpVA3MATjc1/DzPwaIwY3XVwku7cn104nLxAG2Lw/ndzMqz+dONpDe8kPI91q1aTTqYYHVnPZedewnmW5DnnXUgxk8FREQfHD/PF79/Go5M1lLBNqXdBEwbB7vEZnFKFc6TLQG8fM44ijNVi41PCcVi9YoThvl5iFaMihR+GTJVmWbV+Bft683y3Mc956SKDwiapBTkd48RGt564I+sQR2gUcSzwgxihFcv7c/zutRewdnmeR/dPU2mFdHUXiRMD+LFFrdVCWA5+YKiVsTKGMe12m0MT4/SmhhjxVlGa2IWwK/QUipy57gzmpqv0Okl6kglG+voY7evHQ+NFET/edoAP/sP3ueWeGR4eT9GYLdE7eZB0yyfqNFKJTg3CAtYlMjwn20MiVkwFDQ61GzjJJOMo6mHABekcRcsyfP18H6lMgYyXRAFFabPFzdAjHaTtcmttmm1+lZFMN0PZXnqSeR5rN+m2k5SCgMNRQIuYho5JSMnuRpnJoMVwMs+mdC/dTopxFbAnaPCj+izfLo8zFbY77mMWh5tV7ihPckdlknLk0+smKEcBtpCkpKTfTbA7aDCufDKWhYUgVBE9ToKim2R/0OJzpcPc3pynirFQ/OVFHsMx/BSaH7KXIq/n0yRFhoqAvxLwhrdE3HzzLi68MF46+fcDfw4kDcKz4bgNspiZ4Vs59qsuCHg9F3AHt/BR3ss8j7GPfYwxxhf5Irdz+xP6UW+55Sjn/lTxnOcEvOlNf4+U92IcJJe6cI1xwvo8Jtn/CSeaf2rgRwL+ogv0n2Dk4xfYRb0B/EUJ0lM8MXkfGy7wUow31t9hmDlgRo4nc0I3YpZOMfB/+MUkfA9D00yfZJudmCr96SZ8zcnsE5/WSV9KixWDQ2xeu46MA9GBx1g+2M+mc8/j8pVreG7vAA6a6fIcP9q2g1seepxZ3xQ5QVBptNi+9wBREOBFmvl2k2rYWsT5hY4Jw3BR1iGOFUEQsGPvbnYf2MYzz58klZ+jkkoxtvV8Spbk0lSB38z3c6GbIhnH2JjbWsUagY1t2URhhJSCX3vBuRRyKbryBpQcn6mxf7zMN753FzNzZdphwP7DBzlw5BCVeo0gikCD0pIVgytY3b2OWAf49izZbILhgUFafpvpoMr+mSm6nAx+tcGgaywHL8h2kRcwPVfngcMuh0uKcNs9DLSaaEuD65h2BSFQnbqHrWJyUcREs8xXapPcEzaZRxGoiDOWLyO0bXwh8aVkOkrwk3KVht9Gas2g7dBjO6SdJONBm+WJDH1OArSi6KboT+UYTOY4HPocikNqaBqdZLI3bDARd2b0SNJOknKsuK9ZxrVtzs71sDHbRcI23dAtrUjZNjMqIFAB3VKQt21GExk8JHnLJWXZpo9CSnptlxEvzfJElpS0aMSKne0aM3FIS8REQPxLnenHmILhtcC5/C03sJoBXojgP4AvAKG1n8suewnf/e5dXH+96ZRdDInJlZsAYSb8XRge//z8AhQjMEns2K+5Br6H4BIG+C/eRZV76ediivwhL+DVvIrruI7tbCciQqN50YsMBXMp7v6x0denueGGKun01zBFx+tZOsXUMdo6FmbgO7GHfBODXk0vvJyeJqRKIBX88fWdQsRWzMx8qZCYhPlRngh55Jc470LT0yFO3vX6swqBWX28kJNLJ4ScDKNfOqZO+MzTGt6x3STZwgC2NQs6xnM8qgP91KamyM2U+PF8iZYynbpNv8Xe8XEmS3OctWYNa/pyPLj3IKrtU9OCG8uT1JslsqUeRocG2bTxDJr1Bk3fJ0Z0ZJAND740X2LVsEc2rxibbLB5/WU04gglbaa9BE4Q8rxMN2vtBGU0d4RN5mJFNpWlK1+k1phn7Yosq1cMonFIJiKKuRT7JypUwiwDAx5z9Qqu8mgHPvvHxjg8MY5tWaSTGbq7exge7MfVMTps4eYspAShBVgOxVwRP/A5dOgQzXaLR8f2klEx2xt1WlohtObhW79OMLKejVPjJFMFhOOAZdOUFrFS2FIstnHEQtCTyLDchd0qZHJ2mg39I6zuXcaO1uPIICCPJhFOUW/O0tKKbmnxwnQXWSDWIfOqjSUkfV6aUtjCE1AKDWtmf9hiMg7RAlwksdDMq4jz0kXyloWvQuLIpxW2WeGlWOamGHaTJN0EoZA0LInvOqQQXJzrxzVLLL47d4T72jVaWlMJQ3ytaKuIbKdnIO94PNauEWjNo+0aNa3odxKUVEhDK1zxy5zz7MIs2d8E/C1vRpBDsBujgfZpFFk+hRC7KRYf4PrrL+aKK4wcw49/DMlfgcbrAGHIK+8B0PDlL5vi7/vfb5q6XPfJEFEA/A2Gr3kIyafI8zo0H+Y9BBxkCw/yCJdzOc/hObyTd3Lhpgv5j/8Q/MM/GCvCpYzQLQve974qZ575KYR4B3AeS+vAaEyy/1e03o3WV3U67Jd+lzTGYX6x52b4a/C1v4X//Wp4w6dALsxotwEvOcF7vVQr8BBGgvg6TFK1MJCYxjhindT47KeMROc8Czo9FwJ/gVmNnCw2Ab+CqVj/z+NpnfTb7RblWg3h+yxLpGk2muyZOEKy3uJIq8GRdhMNuI5LoCK01lRbDe7a8Sj7JopU52ZJxcb1qiogCmNUdY7kYJ59jz5AYKfJF3uwtDFLnypNc3hqikI2zZlrJF//TkCoCjy8+1Ea9Qqe65FaNsTemSl2z0xybbafFybzDHqK+1ULJ1/gSKWMkB7zNUGj4ZNJCKSQDPQU2La/SXl+Ly96fpL9hyPqLbtTAI7RWtJotag2GszMlxhLFUAHdOVyDMV9LB8YRAG2sMG1SXguvo4YXtZP1nHZdfAg7XqIBySlZLO0WTs9QRFBKWiTkaajV9g2ko4rmZT4UqCk8Q5eHcbkhU3dSTMcC1pRxIb1Wykf3suA8DhQn2cyaJJAsMlJkteaqgqILYuRTAFfOtTiiNlmjUqjwvpUEQco2jah0szFESnLYsB28bSmpCKGpUMYNXCkzbCXomhlKPlNcpaLI2207aEdQcVvk9c2ea9AIw7YE9S4v12ntmCwI2AmDMhLQZ/tcqDdYFurSjM2loxSCDYnjFLq1kSGR1t1tPz5NtSfPHLABBrYziP00ssAA/wIwbVonsktCP4Zw755FVJ+hwsvTHDTTZfz2X+1+MyzYVfapIs/BZZp07z1vvcZY/VXv9ok/Q99yHTJHk2qJWAf8AYMhWUDsALB5zmLb/JDLuWTfJL3836+ztfZxjY+Kj7KS7Mv5Y/+yOaKK0wn8Xe+88Tu4CuuULz2tTcgxEcw/NHFtuBjQmOgijcBf04YXssHP2iauK66yjR1PTn5pzFG5UngFjQl8Q3CrffBlgdAHgvpnC6/cyEE8DqMW/ENGM2GSzE0oKci+PNU4pUYEbVvAWsxHWPF09jPA67g/4ukH/ot7r77Nga7e0iEMc9J5DmybIDHXYsjmSSiZJF0XRKux1y1hlYRUlpEKmByeoKMjrExTTkB4EjJGSPLyHge5UaThx5/hMvPOwcvlaPabPHI7sdpBD6WJbn1Hotsukg2kyEol9Fa099VZOXyYYSO2NOo8f2owZEQio02r84W2JbN0dVVIIpjqq0WN968g8vOHuTcjd24nsvEXJVsPuQ/b28yNQdCaOOnC0aJM44NK0VIGo0aftCgWitTrcySVD6ZbJFUNk+pUmbXvj3ksjlGli1HK8U6L8OOnTtoNesM2i6Djkde2tgdqQahFI7tEQqNY1kECJKWhS/MFycQMKdCxrDY1NvHmiBm/+Q45VqFVf3L2DZ1hL2NCmWtWG8n2Oqk2NNuMK8jtogiaZnmQNgmZzkkLZtcOss+v0HSslGBMWbvtR0ytsOA47HcTZDUIG2PlJNCak3Nb6Jii02ZLnKJHJNhk5yQtFttRKyIsKlFbSoq5L+rMzR0bFYr2hTULQE9lk1C2lR0QEWborWvNTlhMxu2iXXMucksA2kHX8c/t6/3qWM58GFa+Pw2v02ZMh/hI1zLr/NyIiR/hSnwfRTDu/51hHgm2dyFXP77aT4CIEzD6bMxDJuFhE/n/698xTRL/cmfwGteYyigQgwAt2Jmui/onOMtwCUIfSlJUvyB+AN66OF+7ueLfJE/4l1cwiUMyiHOPNMweb72NTOg7N4NQ0Oaj3/8DlKpv2FBMG1pWKeMGWx2oPUct9xipI/BFGvf/37YvHkBRtLAYQTDFLD4B2AexUuY5l7BgjRmJxzgrJ/iM/AwIkRDGAesIqZr7eAJtg346UXWlmOw+2mMOuc1mEar021VHmRhvfM/jad10k94HlvOOAMHQX+1wUggGMz0cCCcZ2R4GdlcjmwqzdjkOKVKxYirobB0TFJrkoBCm5KGECzv7WGktw9HWkRKc8boMnozScZnJwi0zVBPF48fOUIQKMamQ2AchMCSkjiO8KOQ8ekpxufnqfk+j9kxG57xbCiV2Ds2xt79+xgeXoadzkBKEMQxdz5SZqwUoaKIdqiQbcX4hEJjmVl+HBvXKaVAgGXZSNujXptD65iU6+C3AyZnphkMQsLAp1StUaqUSeXyvO0db+fQvsPce+fdTIwfoe16aL9JO45JS4mnIS8kuUSasjDyCLEWSClw6NQihGAm9Lm7OUfFtnnWyHqaXoIuv407X0WXptnZqrHXrxOBkaBGsjNosi6TJ+t4JLwkA7bDPTNH8MM2OSTtOKasAp6dH2CvX2dO+2Qcj2oUUokVSdv0KexozJEGHMvFiRUJYROGAQnpMB42OFAvM5rIg4DJsEVZR0xEPqHWRJ3mnkBrkgIqSlGOW9S1kXYOdUykNbYQtGJFXlpEKmbITVFwTkUA/3mHRUhImzYHOci3+BYv5+VIXOCvMLPyMzF0yxyav2YXKV4pDPrchWHguxq+8NWlxdsmJoyWzje/abj/F1wgkXKBe34+Jon8I1pLvvGNJN3dcOmlLq+1XstreA2v4/X8JZIvMUgFeJ6ASxLwm79pcP6//EuTqDds+AFC1DC8+F9n6WT2bYx2zPspl6/gQx86qj307/9uPAXe8hbz09v7KEK8GIN5v5Yky7HQJwBCuvjp+fQFDMQDJiF/huMTaxJTZfkJpp35pzFMeRuwAjO4PFk981ShMBbtP5sa1NM66SPAsR2k1qhslofyRcppweT+WWzboZjNo+IIrcGzXAIdINA4wpguawQtjPFJyvPoy6dpthskvSSObdGT8iiVppBKkSBgY1+GrvQqth86QqXR6DhsQRRF6Djm0NQEk6VZMukMo8tH8VyXTedcQMaR1O66l8t27GDsyCRBXz811SSdSpIvFGj5mv3jNfxAU5sGrW2D0QsjpxBFIRoDQYShj+8bBUvXtrA7BiEz1Rq92RyqUiYnJeesWknvyFqEhGdctpVsIUPTj7j73jto1aGVytONSw5JFkFs29hxjERgCYmwLAIVIbWmpRWtICBQMZvSKeJSmUSksbJJZgaK7JuYYGe9gq/BEpKVThIpBEXHZdBNGB0kKUh5Dmv6+tg3X2IIh6l2g4tSOdZkuuj2U3yjdIDxoMrKRAoH6EKQclwer4eM2h5Zy6aiIu6rzZC1PfJOgqS06bU8wjjEc2xmIp87m3M00CgBShv2uRbGc7eGscQMOhpNMWALo7EqO8qefW6Smt8g90st5JrIkeOzfJaHeZhX8AocHEzC3NzZooxJRm8lZDUfRPBY55nnAWfqU4uxxTH84Adw5ZUmoV533bE2iAKtN7N7N7z97UY2+a1vhXe8Q1AsCraKcxbZ7mDIM58DBgUMDpmkDwIhfhcjIfBi4Mm6CxpTkj0HeAtaX8dnPiOP08kvlYzO/b//O1x//U948YvH8LwPIcSNwKdx+BU+zsf5LX6LvU8wLXk+Ryk9P00IDFPnAxxvhpLBzNCvwhRcn4OpBex8iudIYGoHj3f2vQxDvzqdmf4jGHrvzyaE/qXS1k4efb19+tdedq2RRdYGpkh4SZCCcrVMu93CcxNEKuK+7dsIlQKt8JQig6AhNH5HF2e4p5+0FeHZkmImTVc6SaBiEskMImotiGQiBDRCzf75BnvHx/GPYfd4jgtx3BFWs9m0dgPnb95CTxgzFPn4hw6xtzzP4UaD6UaNkWIPzoZ13PH4o0yU5tFolIrRHXqZ63imAS3wkRISnsYPIgLfJKisZ3R3FpQ8Nw0PkfWSaGGMZaTrkuruY2BkGa0QZqfm2LnjYV5w/vNIRS3WjO1DOBY96QJzYUiiNE+m0cZVMVEcExLjK8VE1Ob+VoWajnn+0Agqk8KrVJlr+3y3NotvSSabdephQI+0+e10N+eki8wGDSzHIpfMEDkOynVpEjOjQg7OzzNZqzDspem2PPa3KjzerjKrQi7NdZETklW2R0LY7G9W6bddxoI2D7RrdNk2q7wMF+aHsGJFSyts6eBrzWTQ5J7GPLvCJjMqWHTiijoz/QQCJaAZG+jHEuAJSRLBsO2SQ9Bludix4gXdI2y+7Rv3a63P+0Xf2+edd56+777TqSgsJEyXPTicj2lpOgfTOjQcwBveYJqYTieEMISXj34UXvACU4Btt+GVr4Svf/3oNuefb6CX1RfB+fKJ5MYCRqDg65ycaHg05jH8+Gei9ft5/HGLyy8XTJ2YYILjBFxxxX/ygQ/8Keecsw0h3gTcgAZu53Zu5Ebu4R42cSZt3s+32HC0KfO0QmN6BVqYlcK3Mc4zx46cHsYk5W0cLQZrDNz2auCup3C+LKa4/SDmE3wWxuHmVJadGmPY8sGncC5zKn2fXvINeXrP9MFoyXf+VEpRb9aRUpJOpYk1xEqhtYGCombTmJ1ISQOBLwABhUyOXDJB5NeI4phSrU6t1aKYTpF0W4BYVKoUwjSFDebSJEQ/D+w7RKw1rm0aZiwpUUoRqYhHdu+k2qjzwo1nYY1NcTj2+eHhAzjSYjRTwB8cZGyuxGRpHqVj47iFXlylRSoys3ytcWxBGMWEYYzQ4Dk2iz7AWhOjiYRmoL8Pz/VwbQfbsmgGPrfcdBOzjRZRFFLM9XDX9rvJeUlqI0Ocf/bZfOvOH/PY2D7OHVzJxYkMTqWKbDURSnPIb1LREUnbYsTLMF6tcLA0iRMr9vltGipi1ElQjiLaQFEYB62k7dLlORySMfM6Jk79X+beO1yyqzrz/u19YuWqm3Pfzi11K3YrgBIgkAXMEG0DJhgPM2DAD8HGY+zxZwN+jGVjxsaMMTa2AaPxDCMDJhgQskwQIFBCqdU53+6++VauE/f+/th1u1uiw20JIb3PU7qt06eqTt0+tfbaa73rfV0yWuLFCjtJmQ9aHElC9icBzShk1HFZ5Xr0KIcdzRp5BBk/h1CaXttljZ8z2XnYxBGCjZkCttZEOkXrlKVEUk06HI8DZpKQRpqQaLC7ctagccRJCW6na92YFxa2EOSEZL2XZzFqcyxq8ZreVYhnVIZhpRAsh9ZVwJ9jctJXAYMaPv/FFYixnQKt4aGHjGb+j38MQ0M/rdOvtRFWEzN7RQAAIABJREFUe+lL4QXvgeNPUPpVGOmvlemoLbNhvodRfP0ffPjD9lkDPkAcu3z1q/+Zcs8L+PQ/3ItlmZq9QHCDvoHigzfwzmybizd4tIXF72rT9g5hhWXyGNPLCDCt4k/w+IBP9+9/g8ezfwSm6fslTH9iJRn4AKYsdCdG9U1jSkU7MMvnE9HBLCg/wCz4/2cF77FyPKuD/rLEwfL8t/lqa9I0IWpFeI5DtlSh3Wmxac1a5hYXOD43R5okJGmC0hrbsin6DmGnTpwmxIFiqK+XNI6YrzfpRBH9xQKOZZEohdCavGeTpArle4z19XF0YdFo2Csj57xsnQiQtzWV8X5qo4M8+L27qEnBFi+DHh4iyWfZvX2fuW79ONt0432bJiilkZbAdVM6nYQ01XjSwrOdrqWv2YJkHActHZaUw8ZCD7YwZafpueNE7Q5KpygUMwvHqHfa6CRk59FddFyL2aDDsaUFDs3PI25+BVsTi+yDD9Bs1NgZNTkQtRj0c9gaHlia5riKCJTCFZIimsNpTL/jYuuUNY5PyXaZjlr8a2MO13Px8zk2X7CeTL5M+pP9uPUYX1pkLYt9QYsR22bAcsgIScGS9EpJTgvGLI+KY1ORFj6SC3NlMrk8C1FAAjSTAEsI9gdtvlCbIRXG9LyuFTGakmWxxssyHXYIdUpBWjTTFN8SdLpewuu8HBVpMx936Lc8EhEx4vvMh21895zefc8qOBi+yTKmjprm7XkZjXRx7Bi8+c3GhvGDHzy96XitBl/6EKbv+xHgatNk/e+YPHVlefUMJqgOofVHuPNOh9tuW+FFFgX2b+UR8nndA+Yd5+YEv/ZmmJvLnWhS/6kND90CP3gBRmL5rIYtGrgLMyDmYaQX7jrNeZ/HLG2XYvY3V3TPX8TIIH8SE7TPJdXwC5hdxAsxBNT/h2E4XXKGa/s7zDDZ0+P38KwO+lppCrkC7U6LVBn1JrG8Y5GSOEloNOvkslkyA8NkM1l6yz0cmDpMo90yxuFaU49S4iggjkKKhRw3XnE59zy8ncXaErV2SDuM6SvkKGQzJ3TUJJD3bDaP9BIGHRZbHRzbJlFGq18KSSGb46oLN5K0azQRXHn1VjZfejEH9u7D6e3jwJFDdMLwRMDXXS18IQRKGdtFLQWgCCNFEBlJB9d1TwZ8zK2+ZmSUwKlQ2fAc4ngR3Zhlpl5jPkzotVxquoPsNoLTpI0toRM2+dodX6Fc6mPTlksQQrDuwvXMdgKsYoa+x3YR76ozlwiK0mamVaOuU3whSdG4KGwhyUmLTY7PiJvBR9KfyfOD2jzbgzr52KbcbuF984cE2Ty+7bIQRcRK0ed4HA87xEqR6ZrBlG2Xy/w8c50W7TSmR1pkpYUjJaGGPsdjyC9SiwLmOh3qScw3G/PMqpREmIGqWGvylsWE41FCsDHfy1zUIUJzlIBAmwWrqWKOhG3W5nu42O+n13IRKkF0vRh8Z2XFiacH08Achmp4PmWJk/B9uOEGY7d4ThXOJyBNjfvVnXeeQxhNAz/ElLTfA5e9B95ZMmWzlaGK+XwfpF7fxgc+IOis1Jq4Hx6chFgIllvuaWrmEB5+2Pz/e98LX/qSoX3++KMY9uXrMYoFk5zhV6sx9uZB9/HdM1zAUYw+vcBEhK0Yhs8DwHMxTfaVfJiru6/Rg+kP/BYnOftPRAL8C09XwIdnedAPOwHhTJWB0SHqYYt20DZqN0IgulUSrTWtVgvLsimVesjlCvi+R5Iqwjjh8PRRlmpLDPQOYTkOE+UMPdk8lVyO+aqZwIvSlOO1Os0gpK+Yw5ISaUlsrUlSRTnrs9TuEKcJQkikENiWxbYtF1EqVIjTGK0UtpXS41rIdatYjGHj2nW0w5Cp2Rm6a4WhZErrRPNWIEhTcISLJMa2hdHNP6XX0lsqou0MvWuvYrYhqKce+XqLI7UGQ0ODHJuZxhMpoQalEixLYgtNqjDlrKVZqrVFbr72Wop5nyTr0fJsjpZy5HIW8sff5f7mAo4QWOgT5SSJYNj2GLVdLsmWKQrLWB1Ki37bpiwkQaqoq4hOmrDUbqN1CyGggmB70KbHthm0XfaEHTIILsyW0EpxIGpxkZul1JXCTrWmmkSUnBJhqtGpka/eETQ5ooykstnpgRKA1lTjiEsLebYV+vnS/BEilbLBL7AYRzRVjC8keSkZt33G3Cwekn3KDK9tzhVZSp7J8s5RTCv2DzANwvM3dOnrg09+El72MkPL3HG+vUVWooTZRQ34EKjvQHwbJtFdETYCd6F1mU9/WqxYwwfA92DQOqWaro3y5qc+dfKcNDWsn29/u3ugidlYfB0zsfZfOU2U62BWspVCYxg0p5oJfLn7OBdsjJ7P8upzslx3elQxswNPH57VMgypTnn0wG7ykcUFGy5kbHAYtztcBMvKlhotjPpio1lDqZTeSj+FXB6dRLzkhS/lykuvJkoiMl6WxdDmiz+8l11TUyy1O/T3VFh2PKwHAVMLVWZrDY4uVgmTFN+x6MkZr1iEkWq2LJvhnjIXDPdi6dgEoE7EUmj6ARJDgyzmC1yy6UIuu/Bi8pkslrSQUpKqFAWI7kSoRtCJU6SUZF23KxNhFjTHspgcHkUVRpFOmUYzQrSXkK5DO45RKmGKFNd1cV0Xy5KglfndiJNq5TnfZWNfhubBn5C2a2TyOUoDZcKca7wHtCZSKS2V0FQJsVZUbIfNbobL/QKDwqYWBSQ6pRMF5IEh2z9h7NJIEpSA42GbFFiXybMlU6DYHT7LWRYdFN+uzbI7aLDay1K2PXKWgy0tUiQF2ydJU+IophNFxChGvCwZKbv2mJyQj2hqRVUrftJucOvsQe5p1zgYBxyPOozYLlszJS7w8/hI09RVCmE55B2fhtC00dTVM+mRuxYTfN6G5iAxMeqM+jGnQwT8Lxzna7zsZR3uvFPzrnedv2HJeUHDRBmKxXOfeqpOvtb97Nvn8JGPGCbRSrElDx+wTwb9hQWjs988s6zMSRzBlM/BFPofx1fpYMTofh7wMZZmK8UxzqaF/7PAszro245DI+3whbtvZ/tD95E7fICrpcVgoYBtmYzbkvLEQJOUkiiOaActctkcSIfx0dWsmVzLG1/7RtpBg7nFGaYWWzStAoViGUcKGkFIIZuDrlhbK4ypd0KOLCwx32yRz/pkHNuUfaTEc2yuv2QLGcdGdE3Lc76LLSFQoLNFXNel2WqCtCgVi1y25SJWj40z0GsmB5cDu1pWBhWCjOuQcx2yrkvOc8hlfFYN9jFc6WGkp58k7FC0AnqsBldcewO2l2VqdgHby2BZFrYl8V0HSxg7wmVIIbjuog0MVIpIFTG/937i2f0oLfjRQ/fTtCU9Y+Mo36ejNaFWOEIwIC0acUSnq4s/FTRRUrKURPS6GQZtF9AMuT5lx0UjmMgU6HV8PMumx3ZRSlO2bDLSomDZRvtHpYzaHmNejlRIEq2pKcViHBoKphDc01jg9tos32su0OyW9lJtNr8CQYqgo+GxqMMDYZNIwJJKmYpCHg2a7ApbtFRKKuCBThXteHyzNsMjUQtsh2/UpvlO43TeeT8fKFVG668Bn2OBMq/gFfwhf0jrxIj+uTAPfBB4NUK8muHhu/noRzX/8i9wySUrUOd8EiiVTA/hTEYrJ6GB7wPvByLSFP7sz0wf4XxQyMFW2dW2So0ExIMPrvDJGeDdmAT9HZg+apNuf3A3ZxMk+9miyEmRt5XgGD8LJc2z4Vkd9HO+x3O3bmX1mkkcSxDWGxSOTHFs33YGexUZz+7qdghT9tEaq2ui0mw36a2Uuev7d1Io5nnlf7qRt73pv3LZps0EnSaLiwscX2zxo92HWTs2Qn8xR6oUR5fqxBoQknaUcGCuyo6jsyAklmVhWTaXrl/LBatX43u+ea8gIcZB6pjZRpNWEKCUIk5TI6KGxnM9JscnmRwdJ+N6J3YMtmWZcpKQgCTn+RRcl6zj4WcKtFsBWcemEBynHBykHB5hbM1qsG3aQZtUSjqdOnEcotEIAY69nBuZb/6qwT62rZ8kjCKCTJH7j4VUGy0KlQI5z8Gv9NA/MsH4mo1YuTyRMItbqiHnuFhC4jsenuXQiSP8bqDeE3XISIs+26NgOURpSl7a1KOAhaCFIwV5y2YpiZmJQuajiHVOhjHbI01T4jTGkpJEWASA7/hEKiVMYobdLDNpwqwy2kqpPtXWVZNoTV0ltHVKjDZsHaAj4GgacTBqI1XKc7JlNno5poMmVRWxKpPnkVaNR4MmR5Kn98t1NuzbBw88sB6lbiZFs53tfIpPsYMvY1gb55r+7MXUh0eBbwB/gG3XufnmDnfcofmt3zJ2hcuQEi6/3EgdPFm8+c1w2WUrWVDq3WvbDki0hvXrjTvX+WDVKkMp1droDX3ykyvX9CcGvoWpwNyKoda/EniwAerd/Pwy/av5KV/Ks2IfZ1YM/dngWR30kyikYsesGxtCOw6tgX5+1F/B6xNcv3WJseEmqyfyuI5zYvuvlrX0EaQqxRKKPTse5bP/9C+0622Ozc4Ta0EnDqm16nTihMcOHmP70Vnmmx2may32Ts9zdLHOsaU6C402c802QZJi2zY9hTwvuupKCsUK5UovjpehlPPJy4Rqo8W9O3cxMz9HFEdgWURxiG2Zhci1bXzPP9ET6OsbZHRgkI1jE4z29xEpzXwQ0dFgSYGMA5I04fjiPM1mnYpsk/VhYt0GWu0OaZqwetUEgpg0CdFK4dnLpRCzGLqOw8aJVSBdyoODXP+qV/DW9/w667Zdx+23f5OCZzFQ6UGlCYVsjsHBEVLL7WbSpvGcaE1TJ1zSM0SfmyFWKcfCNjWd4iIYt1ziOEZqiNHUk4ic7TLu5eizXSzMJLAPlKWkIiRW1+RdCMmc0HiWg61NPyPWqfE4FpoEZUpIYnmOQqC6Al0SsBHIbqNcCoh1QqxTPCHotxzWe3nGXJ9dzXm2uj4XWi4vKfQyYNm4ZzAN+XmgXoebbjJ8ebfazxf1F/kWt3M592PYHi/GZMtninIexoDk+5jp3d8H3ocQL6C///9xyy0dvvY1Y7sohOHk33GHKY88GUxMwG/+Zh3L+gJmWOxM16W713M3RujexnGMheLttxuT9HOpdS5jZMT8XFoy110/nzidYESJfh2zfqYYX5mbbPji6vN4oaeKS3i2hdln19U8AZ0oZqlWZciJKIgA8jniQolCeSPfvb+C7ytWDQuGh0bJ5wrGLxWgO0wlRdd6MAo5cmgf9z3wYxaqCwjLptgzhl/oJ1KK+VaHqcU6s80OSggSBFHXgctM5Zrmqy0tbrpqGwO9/Ua0TGmUkyHTM4h0PTqWw0Ktxg/uf4CpmVnaQYBtWyRpYgKxEEjb4cpLtzIxNMQFk6tYNTRE2Gpw7aYLufaizTzvssuYnFyNl8uju0yV44uL+L5HLKFnbBSkoNVsIC2H3bt2kKYakBQyHgJprrm7A9q6fpKRwUGE7dGzZgNRGDA63otyFccO7EKhWajOcnzmCEVXoFOFkEYiwpUmo8/aDkdbNVCKku0y4GZZjEMspdjg5wFNn+VQBJphQK/tkhGCIE1QWjFkOUw4HhkhSZIUVwiG3Ay+tGgoRTWJ8aVD0cmQsVwcYdHveOSE2bFEXW0d2Y0zy+HGEZyYXwWNBfhCMur45ITEFYKstMgIidSaHsthjV9gi1/iF7IVXpw/X5Guny0WF4142UtfIml873I2pxcj+UNMWWQHcC53cIHRjXk3hk64CyMJ/AYs67e5/vqQr3/dsF3+4i+gUjmPxu0pkBLe8x7F+PgngNdgUufTYbnh6QK/hOaFHEWwHVAStm6FL3/ZyEGsJOv3uwbmn/jEyk1cHoeYk2rJy5jPwk9OR5V8OiAwfgHnk1y8gHMPbD01PKuDfsZz2HrBRmyhceM6uaRKyRNoJEFYZGFxmD2HMpSLJfLZHD2VPlzX2LNpNEorpJRYtkWSpmhShvt68VwHAfheHtvxSYBOHJ+QWLYty2ywugwhISWO47BubISL1q3HEiCFptHuYLk+BdcisT3u37mLZicklyuQyebQSmFJC6UUUgqWajX27HmELavm2XbhGFlL06pVublUJnfoMM6xaXoX6zxnZIwXXXM9q9ZuIFeq0AwifMdBCAshXbY/+ij7H36Usu0ShgGO4yMsl3xhAC9bMmqa0mKgUuQ5m1azquyRkQnTjz3C1P79pEpzz90/QGhFEKdEcUJPzuGadb28+PL1bN18MSN9g0w4PsO2S5om+NKiFXVoJhExmrzlom2PahJzNGyDUlgahi2HYctDxAkLnTZ5IalGIUOWQ0VIFpKISGlsJDnb40DQxNYCTzgIJEJIUqE5ErVpKZOxL+tvpXBCGkMCLuJEWSfq9jCyQrLG8RlxfI6GHb5fmwEkPZaLUKqr6WOx0S+QJE8iAv6MoTXcfbcRHPud3xHMzhbR+vcwAf+/sbKAITB88tswblSTwF6EUPT0mCx5wwbDu//Xfz3/a7z0Us2v/dpOhPgLTDnp1We4rkWMcfdNwD8Q4PM+jHblu4D/T8APi/Db//1k1n+mUpFtw3Ofa/78vOeZCeGfWZ9ivq9LAXu6kcHIIp8P1vLkxONWjnMGfSHEPwohZoUQj55yrEcIcYcQYk/3Z6V7XAgh/koIsVcI8bAQ4vJTnvOr3fP3CCF+dSUX51iS6SP7qFfn0TplodHEac+QCZdI44A4BJXCUrV6opFZKfeQz+WRUnZpj0bJEiFQWtNTKrF57Ro2jPYx2lfAsZfZLqYsIrt1e2nZpN3GbrFYplIq88Krr0LaLkkc04liSsUCBSulGXTYd+w480tLYNlMrlplvGhtmzAKEUIQBAHbd24nY9dpN6o4okWtViPXaDLgZRnOlbmwZ4jjCws8dM+97Lv3XuIoolgoseWSKzhSXWKu2WJ6ZoFHHtvF0UadtevWcvm6tYz09tCbzzG/OIsULsXCAK7tcOOlmylls2ilUCpFasg5eR57dCf3fP+HIMyORkjBdVs2UMxnyLo2pXwet1hmT9Aib9mo7o3SThNirfEthzmVspTGtLXCtxzqKiFnO+QsG4WRUb6vucDhVp2yELhoYq0o2zZSgGvZVFXCklA43Sa8Zdkshm2ytsOFxT6GvSxKa5TWSOiqKT1+yK27EcMVAhfokzYXZ4pcWxxgyM1QT2Jy0mZDtkSUpkyHLXzHw5c2nzu8H+CSZ+LefiIaDSN78MIXwp13SrQeZqUiB92r4KSV1o8wPHS/e33mce+9ppdwPnBd+P3f15RKf41hlbwHIxz2RCjMvPCtwDQaj88juA1DQvwbTLXldcC93az/D/7g8U3hQsEE91WrYNu2kw3pa66Bb3zD0FJXxhw6B+68Earls5wwiSlRbX2Kb/RWTmcDeXa4mGXy6cNKMv3PYMScT8X7gTu11usxs8Xv7x5/MUYoej3mE/8NmC8SRs3oKswI2x8uf5nOhlRp4jgmShLSNKXXB6lTpIpoNtumvqsVjWaVZruFEBLPccjnC/RV+sn4htXS1TLg5H8FWc9lrK+H5227ivWTa3AdxzRUpYXl+mRzJTzPx3ZchBBcvmkd/ZV+0kSRaGgGEYnlIiyBzhbw/AxXXnopV196KblsFsuWdDodDh6ZIghD2mGILVNe9bwKJd/n+Jxg6sB+rvFyHK42kfNVluYXqNguB9tNvr9vDw8/9igDA0P84qt+mVf90hvw/Ay5fJaJ1Wvoq5Rpz0yzOp/nxVsv4fXPu47XXX8dng5Yqs8zPjRJT7EXx/HI5nIIyybTM0DP5Dj/99bP4wroxAlBFDE52MdEXxkUDBYzXD5aZG0assXN8EBzCYFmxHYp2A6un6EuwXEcPGB32OFYGlNXKQeiNjWVcChoMR+22eznGfOyWMLCsWwuLVQoSQtPSKpxQAr0CItOGtGI2jSjNgqFI2z6nAzbcmUmXJ+CtLr+T8vZmTaiaubmwkLQYzlUpM2441OSDnlpMx+HNFVCM43ISpuaSpG2S5DEBEnEfxlZDbDnmbi3TwetDdf+4MEn8+xlCEzjsIcnZuOXX250epbLJivBzTfDS14iEOLdGHvDX/+p1zWYxUixXQY8nyZG2OCJe6kaxj6mExg2TnjKqMTb3makoB98EL5+Bxzo7e60hSkHfehDRsf/uc99Klm/htd8HsrVs5zzDkzJ7CuYXcuTxRbgfJVcBeZWevqKMOd8Za319zD7tlPxcsy/MN2frzjl+D9pgx8BZSHEMKYzdYfWelFrvYQZ7H7iQvJT6MQpu6aXiJSpMadJQqrheDM5KdGARAiLNIlpNOt0QjO6X8zl8F2XfDaPY9um3t9tAJrFAjphhyBss35ikhdcfS2Xbb6Evko/zWaDWqNKb6WfjOdTzrps3biJNI6IgjazCwum5KMipOdz8Pg07U5AKZent1xBKcM1f3jXTvYeOcx9jz5Co91h3eoNbD+YZ+90nmOzC1xSKCEyGSalR2pb9EmXvk7C2kyeQi5HVmsaS/M06ktMrlpLqkBGARkVct1zr+HK659HvtZmx87d7D58iA0b1nH9lgsY7SnQ6FT58r3b+e6OKYIwwc3kmLjsMv79zu+wcPQosdI0gwgEXLF+FVIKlE6xLYFIAqbnZs1svlIUpEVWSJRKmerUibViVbaI1pqqSnmg3eC+ToO9YYudnQZKJUxIh1HLxUXiOS7aMpTNST9PwXII04R60GRE2hSkZCls0kkjMo5HkCY0o5BBx+Om4iCvKA2y1S+QFSbsC8zuPMLsAgRQEBbX53rY4BdIgf1BnRjNhJcjSGJilZKzHfLSwhICV9rc0DMIP+1D93O5t8+EX/5leMMbVhLUFMbdaeUlqt7eJT72sbu47bYqV12lz9lQPUnRXK5N/wqmZHHaszHSAX+CUlk+H8P9p+n1asxe5DZg7Waj9gknRd48z9hC1vLwJsEJRVEwTJ7nPhf+7d/gAx94gn3kSjFyDH79k5xoEJ0WywvmMOYWuPFJvBEY3Zwng6t4aqqhZ8eTncgd1Fov+4lNY/aVYAp+R045b6p77EzHfwpCiLdiMinyuSzNBA4t1ik4gp5CDpkt42iYGJkAAUeOHQcpyWRyJElEu9VASouagrvu+xGWEIyPjFMpl1GkJ1MHDH9dqZRWu4nneWxavZY4jGg1G6Ra0Wo3KVcGmRwewBIultBESUyjHRCnmqhVJxKafQcOkipFtd4g1ZreSoVDU0dYqFVRStFsJWzf+Show+cv5goUclmGL95CsxORHJkhjjSeFLhpyo7FGWKtucDL0dm5h9v+558yceVzSMImw/2baLcCSBJy0sKer7K4tMD2xSqveut7yc/NM7E4jee6DPRU+OEju5mvtXjZi1/AUqfDl7/wZXwBrSAiiCIumBhipLdEoxNiAY4UPLhjH6OppMe2WWc7aK1ZjEP2RC2kZUEU0ohDQqXQAtpaESuFjWbS8XGQVHVKGsdYjsNU0GK1lyFIU6SbwRM2WIKsl+dY1MEVAltKPMtmV6fOQhxzIGwxryIaKmGVm2XQcinKDo00PZnva6PP5GpY7WXpd1zaacr367MsqoSitBhzMzTjiIlMkZztEiQRNjAbtcnap739fy739ulKJJs2maart6Lk8CGM7NorMZuRfs5e/9fAbTjOu3npS1dz/fXv5dZb38hHP+qzf//pn/HGN5rdwcqy6gzwHrSGb31L8Of/COqDnNYxcSfwtozm4ltmuOyN/5fdf3A9wY8u47LLjIVnEziIcar9No83fBfCBPvf/32zC/md34HvfW+lQ18afvWzMPZEQ/RTYWPMTeBkyexvMYI+51CJ+ymc7X3Ohn6MSfv0k3z+2fGUZRi01loIsVL27Epe7+8wikP0lAraIaYVKDodhcrkCedbZPNlUpWyUK3y40ceRGlNMZdjqLefwd4+fMtmoVVnsK+XYzMzWJ5nlB77BmkHLeI4Mto3WMhulThOEo4dP0opn6VYKBAFAePlXmrtOlMHmnxXadYOD7J6qJ+egqDTblGLIn68YyfbD0/h+T71VgelFQemDhPGkZFR1kYmOe6qacaNiEa7Tb7p86XqElvGV7F5oEzU6pCbWaKjFc04RqHZl9a4KVtkqBnww9u/ycDYOOHeQ+SqVfJH5wh7+ygN9vGigscdjXm++IVbSYIOlXyBxcUljjRbBJ0m9x6bYbrRwPvyV4maTRLLohPFOLbkyo2rCaKY7+yeJec5rC/bzByZ5YZML2uFTcm2uTtu8lhjiYwQTFgWURJja03BsmmkMQkaG+gozaEoIOv6DDlZjkcBze7ipNMEW1q0lcIXKY6UZCyHIUdwJGggLU0rajMbBdzZWmBOL/PzNccCw9XTQnYjkKnmn1rb3xu0GLNcGklM3nY5HBi3roNBi2HbxRaCmbADKiVn2aQqJlJnN5t+Ou9tIbY97nVzOVPTHxs7fZDV2lAX8/llW8EIw136S4zmwMcwpYizRejXAxmE+DOKxXfykrfXyL/iUu77+HP4509lWVg4+dyxMUOztM4qXPZECObmjI/vrkcwbNL/AbwZ02c+8fKakC9zr/U+uGg/fbcNcsPOt3Hn5IW8h1F2cTWzWLQ5s12JlGZn8JWvGHbPLbdA9WwVG4Dh4/DWvzvlOizMorkXs4iCYSc9/3GfyTCkBji/oO9htHmeDGzOj9t/fniyhaOZ7taW7s/l0cajGF+wZYx1j53p+DkRJhqJQlqSuWqHgWw/ffkiSZpy/6OP0IlCmp02R6aP8eiex3C0wnZdRoZGWD08ygVr1tJq1ejP93HlJVfRU+jBdTwsyzpBo0QIlDIcf8dxWTe+Cs/3OTg/jdaaCa05dGAf9z22mzvvf5D9U0cJlGamFVFth0RJQq3ZJk5iEIIwSY1K5/IkaZqQqgSlUjS6y9vXtIIO9+zZybeO7CfsKbGnnOH7BGSzGRwh6LUclNZ8t7HIgNKMHp+hff89WAcPMLeMyfw2AAAgAElEQVRnB/LRB0lnlmi5NgMDFY7s28nhIwdohTE/3LGXux7dzZG5JaSU7N2/m/3799IKOjSDkChN2Tg+RF8+w4H5JosB9Pf0cv9DO9kqc1Qsh4qXx84W6SmWGMgXsVyXkuOjMxlUxqfP8em1zfBWCLRRuMCEl2MqaNNnu4RJhNApQ14W2ZU+bqsER1pEOqWeRpRcH1taFCyHqoop20ZwLgVSIegAiRDG9F2AZXg+IKCjtWHmqYQDoekpHIk60G0cp2j63QyW1rhSUnaNAUxLKarxaUPKz+3eXoYQxsDkppvOnFUvLhrP29e/Hn7yE1DqSozOwLswwWgXptH6H0CDn+bRL2u+vAEzzPW7fE7s5S0jLyb64/dx53dSXv96yGTMNbz3vaahej5Ynpp9dLktfhxTGv9F4JFTLynGNH33gdDMO9N84aIP8nbnNXydl7CPu2h0Tz7bmiOEaf6+852wbt25rk7Dr30aVh065VgR+J+YityHMSpt/4ufLmHZnB+NUmA++GvO4zlPxIVP4blnx5MN+l8BllkKv8pJ5aGvAG/qMh2uBmrdrfLtwE1CiEq3yXVT99hZoYXEtiSp0ijhMDa0Guk57D16mMf27mOxWSdJU1SagFZcMDlJfzFHq75IbWmOUr7AUKWX0UovYVznsZ0Pc+eP7sKrjLDxoivxM1kT/LtUTcu2T1R/1q+aZOP6DaxftZpez+WKIGIgaKGDgF2zC+xfqDFTrZJoENI+oYsfRxFKp1iW0dlBd4O/NtOyE/29rOmvmIEirdEaGu0mfYMlRjevY2TDWsbHRhG2w6E45MutGjvSmKKUXGT7FJttxmNFudbgkVaNxcECnYEyWDa+ZxMnmh888hhhmhIo4zUQhAGu5zE6sZEwlTSDAMeSbFs3gdaKgisZKTro5hz1Y4tc6hawU8VS1OZoq0rZdrm8d5ArhsbIlcrg+WSdDHnbISst7C6vpqU1C1oRAxXHYyHq8Jx8hQ1+HqVSbAR5y/jkKtdmj5sSOJI2cH99Hi9N6RWS5+Z7GLPdE3aISVcAzu7SN3W3LyOAEE0DxYBlU7YstgcNDsYdypbDoO0y4vikacpc1GIsU8CzHRajACybeXXaevjP5d4+lbVy/fUmOz5TVp0kxlHq+983rlI33gjve5/gyJERtP4oRjzsrZhG682YNsTjouwpEJh16QNMcg0Sya3yc9y9+e/5vU/v5mtf07z1rUau+HyapVqb6/vbv33C1GyKsdt6EfBXQGv5ss7ETKoDb8LlNn6XJq8+61Syea/bb1+BPMPIMfhvn3rCRqiNyfB7MQH/wxgJ5Sd+cJvzs2O8GEOdfQrjz0/jxPBKKJv/BzNet1EIMSWEeAtwC/AiIcQejEj0Ld3Tvw7sx+yXPoVpg6O1XgT+CLi3+/hQ99hZ4bo+dq4H5WQJlcto/wilSgnHdtl5YC+25ZCmCUqn9BQKXHnBhaRJQs51sCQcnzmG67nkslkkcHTmMBNDA0xP7WN0pMglW69gzZq1eK6LJaVRl1Sqm/2DY9ukls3SwDDlkRFuLGZ4cV+WvkKBaqOJZbtcvOVScn4GujIQSZqSJKnJ+vWyl49GCElPIc/zNk1y7foJ1g/2IjATqDdcspkLVk2wefU4119+MS95wbXcfP01VCoVQluSCkEqLXq9HGPSRccRw0oQLC6xp1rDzhbZuHY9vZUeBntKNNsdojg25SUhiOKYkbE1FEt9hAqiJGHL5Ai9+Sxaa0Z68ly7usJPtu9kzPEQUnAgbHEgafNYZwmUwsYiVeDZHi4WFddlS7mHWJ+cmJVCMOb4Zk4AGMoWaDk2fV6WiuUwYNmAZtpx2BsFHKktklGaahIw4JjJ3R5pM2rZTNieEbTt0m4jrQi1ItGKtEvj1Jiv47CwyGkYlBa/kCvzglzlhP9vNY2ZJyFyHBLbwnIcZuKAspvhQ3u2gykZ/9zv7U2bjJHJ5CR87GNnpiJqbQaaTg2m1aoZtrruOvj4xy2q1QvQ2sMEm3WYHcB/xhh8nxQ+ezwEr+W1fIbPsJnNvE+8j//u/CbXPT/hE584/yZprWbq643GGU6YxSgKvxp40KGk/pEreTvuadVFj5DwRv6dGwnPoTjZbpvfxen8AE5Cwxs/94QsH4wS27sw/6Rw9tLYc896HScxjBH6eSqDf0vAvz2F558dK2HvvE5rPay1drTWY1rrf9BaL2itb9Rar9dav3D5Ju8yG96ptV6rtb5Ia33fKa/zj1rrdd3Hp1dycQIYHhilGcG2bVeBJ2h12uzcv48oSWi0GqRpikTynM2bcYFUKVIN7VabHQcPcPsP72Lvwf34nkc+l6dSLOKT8B/f+A96ii77du0gn8nj2V21yW4GaSwKBbFKaQnBY6Uid1f6eNjyCZQmk8mZnYjjMjE2Ti6TM5m9+bDdzF6cKPFIAYPFPGkS0+p0UGlKzveYHB7ghm3bCOKEhaVFbKHoyWZ4/guv47ptlzPe20c+m6OvWCFBEEvBPCl7oxbTQQu30ebhB37CrgNHWL/uQuarTaI0Ndz2rg5RvlCmt3eYxcU5Op0mxazPFRsmaQQxP96/wLHFFtMLi9TmqlQUHGpVmUlD9sRtmkJQCzuESczhRp2lJKZtS5q2RdnPMeplcaXERaDQ5ITAikMyQlD2stSlpOO5CNdHuBl0pkDOLxCVyli2TyeJsFVMS8UcSFrEOiWIQ8YdD5eTCjQak+EjBFqIE+okHoKcEKzyspQtmxHL4ZXlIVa5GVIJR5OAJhosSaQVU50mjuPSVgm/vfYCgIefiXvbceCv/gr+/d+NfeGZ6vj795vhqtPp5R86ZMowL3whfOUrgji+EVNI/yNM8JnFSDV8i1NS7JPXgMNreS3f4Tt8l+/yMT6GLZb9m1fyKQyUMgvXPfec48QUuB3clwg+89go3+YveTWv7qYIT3hNIu7V9/DZo/9OvX56zR2t4ZvfNA5gZ0X/HLzlH84Q0w9gNnR7OLO0hMBYHZ6twy4x25lvYnj2T2X46wGeTnnlZ7WefpTEzNVqTI5NkHdd2lHMPQ8/ZJyhtEKgQStWj45xwapJI2ts9BE4OjfPQqNJqjXbDx3gyOw0A309DA8MUy6UiKKYb371dpbqTV728pfy2c9+FoQgn82TzeYJk7Qb+M2tECk41gmhYwa5wqiO4zgs1JaYnZ9nsH+AA1OHTzQaRVf7R3f/nPNdMpbg0Owivi0Zq+SpBjG/cNU2PC/L9MIUWmsarSZO4jF9sMGuI4e5ePV66s0mReFzvBkw6vfzaHOeO8IF9nfaPJLGXHTxpRybWeBHDz3UFXEzjBshJXEcs3pkkjSJmZmewhKaKzasppz1ue/APLsXAgr5HIcf2ss1Vo5+YdFKEx4MGgy6Htv8HO04omi5KDTHVExRungCPN/lxUMTXNhucH9tnuNhGxsYdTK00hChFZW+ATqFHAfnZphsxwwKm7YydMHRfA9x0CGjoeRolnTC/iRgMYjoKDOI5QAJxtx+WU1VaNXV3YE+KbHQxizF8diQKeILyVrHI+7q81iY6d0ojqiGbbK2iy8tqvqZtUt0HFh7lqpBpwPvex8cOMv3Xym4/354zWvgV35F8IEP9DA+/v4ur/7rwD9g2CcvwgxsPT6FFwgyZNj6JAeRtIb77jNBf6ViaFdvgJvWQAaHj/NxSpT4Gl/jKEcRCEYYwcamM1fgT158PXcPwd//PYyPP34xWnGW/4ZbYe3ZptLuxgjEfQYz0Ha6gD2Jyd6X2zUe8MsYbR0LYwr/fEzt/6kEfI3ZeZydZPBU8KwO+kIIVBKB9GgnMXsPH2RqbsYEU61IVYrnONxw0UUkJjHHsSzaYcD+6eMYR1qTcdfaTaqH6yxUl6gUK0yOjpMv5JCW5IF7H+Saa69jy5YLOL7zMXSzwU+OzBFHCeEJm0MNwhieaBJy+TzlYpkjR02wXqouEXVN1KWwAG3q2I5n5J+FZmqxTsaxyXkOutbhorWrWTs+yczcHI1UUPIzhI0qbsnngQceJO+arloxl2e3ZePlXOY6KXfVIx5OjN58xpJIaTPcN4htOdy342HiJMa2HaIoolTuo1zqZW7uGGHQZLCcZ+u6cRabAfsXA3rKZWpLi0TTSxQsHyUk++IOBcfBsyyUVrSUab7aQjCbRMyGmmHXp8dyicOQcS/LusFJDoZt9tfmOZqGDEmbY6U896YtdKiJdIynIwrKIiMdUpVSBUYyeXLCZTqEHzfmeCxqESqFjSDmZNCO6H6VtDrR3KsISVFIHGDIcRl2Mjhdhk9VpQx5GRpRwJi0yKcJdqrY4Be4p7lAxrKpPqMmKmeHUoaV8tWvruz8MIRPf9oMN334w5KXvzyH674C+HuMsfZcl++0PJ74s5EhaLXg937PMItWAs8z/YtMxlxDOe3hL/XH+YD1AT4iPoKPz7t5N652+ad/k7zr0Tx3PGLombfcAi95iZFoOK8s/+1/cw5ePpiWzXWYxu5lGOKoxNT7LcwcwjUYq0Mw7ix/wePr9imGb2R3H0/mdxxwZm2jnw2e1UFfK0WqFX29g6Spplwqs2XDRnYe2EcQBqwdX82qoV4GKhWiJIUoQiUpD+0/SDuOTLaLNguENhz9OIpo1xZ4tL7IpVsux7Yke/bvRe+OuOfH9zDo+zx/wwSXWII0TtlvSWal0XcRCLTUpEoThREzszOkWtFoN6k1G0bhE3BcjzSJSdKYJElIAe3YSCnoBDFLnZC1o8M8f9vl7N6/n7l2i1X9vXRaAY0w5ht3fIf9x47jWza2OM5ApY/xgX5CBKknyIwMkU0CFpspfSUz/BnFMZVCiS1rN3DPYw/R6bSxLIeRkUnSNGF29iiWFFy5aQ15z+OeA/O0Y80FPVmmfvgTrsuUUElKj5/neNShplMSpXAsGweoJRGJEDTSmL5YMh3WOCwlQbNJRVpcmClipylr8mX2thocjgLu2/UoC6Q0hCAjJfNI9jsZJjMFhpwM33WgODbBxUHKwIJmTEXsTEIyIiVSCq1Nlh+iUdq4ei1/dbMC8gjKls1luTJumhCmMcrxiAFtWazOlkjdLIPSQmiIVITUimHbJZaCXrf0DNzVK8OOHSbIna9A2t69hl//utfBBz/oMD7+Kwjxn4CYBVI+yLsYYYTX8BpWs/opBX+tjYvVCdeqFeDGG005Sgjz/FtvFdx5p8373z/ILZv+FCkFEkmSwve+zomKy44d8NrXwm/8hmHr9PWtJMsH3nA3rD1yjpPABNv7MU3wXkxd3cZIMVyJ2Sn9BoYddTPwuzw+4C/LSf8HsAZTYruIswd+hZl7bXBykOseTGvo6cOzOugjBMVCiZyfQ2lFuViip1xibGiIB7Y/glBAAs1Ud31lNbsOHeHY4iJam8ailJIwikBrXNsm6zoEUYy0LB7e/hBrJteyaeMmjkwdYW5+nmoY8JMfV9lQLjIgPA5mMziJIknjrtuVYGhgiFqtZqZ/pWTdqtV0wpDZhXmW6lXCoI3omrsIwHdtLARosC0LISyu2LSBcrkXlaRkHIGdxgRJyj27d3Hfrj0kaUop49MKQoZ68vTnNEvtiF1LdSzLYdPEKubm59k/fRwQrBodx/d84jhBShspNX39wxSLFY4fPUgcdRjtKbJt7QSpSllsNOnJ5Via2scFbcWFmTKx0CxKQaFYZqmxxPGww4VpQj0KmUtCPN+ljKaUpgxaLrPA/jShnUQsIvAsm5l2g/Vujl1JkyWdGlllpYjSlAUgrzU2Gl9rRqXPoaDJjvHVDOmYdQ4k+Sy7agtMN2okyuy07K5K5rJJvA+UEfRbNmtsj5l2g6wQDFouu1tLjPp5+oVNL5LU9giTCE9aNLWi13EZlgXubS0ysFKN32cA4+Omlv/xjxsP3PNBGMJnPmPYNH/8x4JXvKKE44AUi3yX7/IIj3Av93Ibt2Gd3UH8rNi9G/70T1fuhpXJmGav6xofg7k5h1tuEezcabL2t7/d4h3vMAvC4iL8yZ8Y/Z2//EvjmtXpGErol74Er3zlCrL8PuDtN4P8Wxz+lo20CWmTnFI6SUiYYuqUdGKJx0tzfr37+DAm229iJo+fOH/3HQzdUwGPYhaQP8LQNjM8PvhrjAnOXwOfxqgTLbu4xTydpR14lgd9S1qMDAwb/RwlMHMymlI+x5Z16/nWD77PweNTHJqdY8uatRybOcp8rUGcpoDG83yCoAlaIYWknM0iuoFDWg5JkrB7r+G233DV1RQLRTrtNlESEkQx5LJsGC6xY6HNYjPt9hEgCgOCKCSfL7JUXcRzHcMAEpLeUoVd+/cYZomQZC3DGJHCWCkqlTLYU8F2XI7NLeBZNhnHoR10eOjgFPfv3kuUpAyWCwSxoK/ksnlsAKVSyhkL1ePzHw/v5dotG7lw8iK8vQd5aPduZpYWuGj9JvoqvawbXcWeo4fJ+FnarTpzc8dwpOCqDavJ+w5Kaa5dP0SjHfLN7xzgMjuP5/tI1+WR/hzzKB7bHbFQDVloLqDCgLIQbFI2447DSJrS71r0xTATJ+Rcl/koZFPW4YpMiRKSY8KiKC3aWpMRmlZqhN0ipbC0ZpXlUm/UCOanEAf2o22Pgxa0sh75TAav1WS1l8UBDkUBSyql3tXvX+O4hElCRVpsy5bpJDFzacR8EnO4U6fHcpgQgpLSzGvN9nadvLQYtF0cx+NAcwnPsllIn0m7xLOjWDRlkF/6JfjzP4dbbz0LM+YM2LsX3vSm5awfxscr/LP4Z97CW4ieojuTRrPozFDorTAzszJ9mZe/HJ7zHI0Qf43WC3zqU3/Erq7OwtycoaX+7/9tdje1GrzjHaansW2bmU9YXDz5uT7ykRW84S8Caz3gTbyU1/E5TJZ4qi3lIQ5xDdfQ4Fy/3AhjZD/MyYndZWiMG9epq99RjErqbRhW1XWYHUMeE/B/CZPV/8xm/1aMZ3XQl5akUq6YDDtNup0iTTsIOTo9TaIUSZqwb+ogx2aPMlTuZa5eI4oDXMdFpTFJagz2cp6HI0wjMONaJnPvZo+FrMNFwyViu8BCo8PM/CLTccB8pPGrAX2eRbUtSBNNpdLDwuICaE2jWTPBvjtspbXm6Mxxo/po2Qzm8viNBp1EEeeyuI7GtQVvedlLsYVFs1ElsWy0UuyemubbDz1COzJ+t0LaBFGLF2zZSCmfI001aRoTxTH9lTwXbViLa9lcaVnsOHAQy7LI+BmW6lVml4zH5tTUfuZmj6LSiKFKkYsnh1HdsonvWOycnWcg1PS4EkfDLl/SzudNZq4UKYLpNEGj6ZOCVULgpylKg1IxGSQDQmJpTcn1WOy0kdJiyMuxudJDrzfE3UvzzDf+f+reO87Oq7r3/u791NOnj/qoWsWSccFF2KEZPrbphlCSEHqAkJB7yX0TCC2AaTefkDfJTQKBxIlxICEEiLkEE9vYxFQXjIuqJVmjMppeTn3q3vv9Yx9JLrIsKQb0rvmcjzQz5zzlzHPWs/ZavzJPVToWY3/U6wCDYyAwmmcIlx4jeKjdJm43mc5TKt2KviAcCtIhA1pKoTEEwsGTms3FKgUhKXoBtzdmSDAMOA4DXgGtMoyByajFrnad5/UO01/qYc4oxkMHV5SYjaNf2rV9KiEErF5tq/03vtHq0P/nf0J6Gvn6aNX//e/bqv/aa8/lNu82GqKB/G+IenXo8PurruWF372Gl/3pB/m7L8iTmpxUq5bh67pjwPXs3/+/+Zu/eezw15jHqoB+8pO2f3/NNafnrQtAL7YbI8FD8A58uoaoj4ky5dNscW3CavM8Pk7kBamwRLibsWS0xdjVQpvjcNpffJzVSd9zPYIgoNFukec5YRAQxTE/+Om9TMxMd4lUklwrGlFCo3MYgUCbnDTTKOV0zcVdyr5vk7wQCG3RHwiBkILnX7CJgdBH6ZjeimBRYYA9cx3GZmag3UZgKIQlSGIcYWGQQgirHtkldFXKJSqlMoXAJ0oTsizDyxWrc8X5YZnr4wazecaS6gBxmhPoCA+DMIp6u8Xo5BRGSKQjqJSKtFPFquE+hssF4jTDlQ5JbhhPfS7ZsJao3SIWVnX0OZduRWhDOSjiuy67D+5HdQlrGMVA/yIuXTtEMfBodhIUgqLnMrsQs8UJ6fMCxnTKfW6BwxMTOI6gVqmgtWK+voAWghhDKiB0JBNZzrxpkZkWuRHkCjJHs75QoZSlhF6A60nWLB6hogwdv4DSio7O2d9qMOgFtIxmXuc4wkFjmFEZwhiWOx6DvkfbaKp+SMXxqMRt7mnP4xnQGPamHZY7HuNJBLlCC8G4ylAYFrkugeuhhGA07fBAVEcIwc52g0MqJwl8dDFkm0qZzZ+eYebPOxwHLrkEvvpVqzL58Y9bMtLpJMJ9++yN4+abBR/9aIUVKyr/LX36SSbZIXawb9E+fvS/X8+rXrmaD37Q6uCcaA7xmtfABRcYhPgCSi3lz/7sBRw5cvIDMMbe8P71X09BYuHx8VqOifZcDjyHxzdY7FeVKhUqNE6ZDNXDiXnCl2LT6ZO1ZhRWi+dM9Xievjirkz7Yar9aqfDDe+9mvrGA1oaJmRnU0Ste2MRv04HVYBRIW9Fqg+d5lPwAIQwCidF5d8ALGDh/3Qibli4jzXKUttvo8X0WBwbVU6OdaTpJhu+HdJKY6bnp7tUjqfX00mm3uvaHLnONWaQUlAsFCAsYrXELRejt4W0bN/OFb/9f9o0d4R++cyuXrFnJ4lqZMPCZTzrsmZog15DnGWkSkeaa4Uo/C6021ZLE96Hgu6zpK7Kot48kTVB5CjplWclHyTL1VsR8Y4EoTUCA61oyVJGYzSOLEQii3KClw9iBMSYeOchLA4v//7vpw+yZOYDIc5b4IaurNRpG0AmLPJzEBL5L6DrMJAlaQCg007kidAvUvIABr0Cf49NjBG1hpTPMzBQDBrQboo0h0RlTXsz9aXRsfOW5PndHbQ4kbTYVSgwIF2UMzTwlkIIeIehxHBZ7IdM6J9UGZaDP9eh1fI5kKXdGdRpoLgyKbCxUaacxu9MOt7bmEEJQEYJYZawxgpJyWGglJFLh5D9fL9KTR44lB51aa0QIi3x5xSvgec+DL37RtjgOn0YOSRK44YajvX541atsJX0mMcQQb+WtxMRIB7Zu3cs3v1nmxhuH+dSnBIceNTvt74ff/32rl2PM63jggVfyT/90amzVubnjbZ1Tjj4sPcGx6vT/CwgxtOnwMA8zzzz3cz8pKb/L77KGNYydsnLGyhP8TAAvw3oNPNT92Ti2oj9NA4NfQJzVSd/oFj6TxGaAPMuYmp0jSZMuFNOGQICw2BqEOIatByurUAgK+C5kXXaqS5c4ZaBWKXL5hlVkcYTreIChESt8BQMlj4U4ZareJs0VS5cuJ04SkjTtyvVI4ihCSkmlWGJufhbd9Xw1Rh9T8xwPfVrAwMwMjVYTYwyzjSbfvud+RoYHeda557CQRiS51Yj3XZcsy1na30fgSqYaLSY6CWuHB3Glw2DZJ0kiDJoMF+G4yLQNeUrRdVlozHHUIF1IaRE760Yohj6Z0tQKLq12xLfv206z1eZvm02WBCUOupCpnJWOwzVeSLkV0et4VHv7uLW3zELSZmZynIqUhAIyY/D8Aq1cUcYQKdtz0NIlEgo3M6i4cQxyKQEtHM4r99BqzHJLc5aa47GgUgrASi9gsRcSOi4HOnViozEEBMJhtecy5Pi0Vc5oFmMw1POMwWJASbrIuAFYueyKcLitPsV41zB9xA1pq4yq45EZRVlICgaC3LDFLfP//oKv6ePxMJbs+2FOB9p3VGXyXe+yZKgvfen097xvn4WDvvSlZ570S5T4DJ/pftdEiOdQLive+c4/4KqrruETnxjgn//ZDl/f9CZYv96ujtN0I5/6lO3Z/9zi14H19r9bsAaEeQa//cDf86/P+AC5F6FQ+PgMMsT/4f/wCT7BN/gGGSeb8wisRv6J/l4h8Ccc7+snWC2k53G2Jf6zF74AeJ6kWBZIITh3/QY817GwyG4j8AnLU81jpJMFgsA9bo5idE6mFEprNIYrNq+l6vtolXdVMDX9RRePnCjXzKcaELYan5+lHbc56uHkuhaL77oupVL5mMyvXXVYiKeVZdAstNuMHjrAiiVL6anUyJUmyXN2HjjIjbf+F7fdtZ00hzzP8VyHWqXMit4iGJDSwTea8ZkZphZaGJ0jdMLoxBT7Jyapd6KuYJzGNTHnrxhk69oR+sslHAxLeqpsWr6oSxI2lpR27zbGF5oYrXhE59wSNxhvN+kkCbXlw8ilw4RhwKpihZLw2ZhKBsMSP3Bcbs9Svtzq8KV2mymtGctT5rMUX2umkoimFHSAxIA2dvgtEQhje6s1HFZ7Bfodj1mVkdmTZMALiIxhLI0ZcANW+AX6pUsgJIFw6Hd9nl3q5YJCBQzUvIBtcYuxPMETEhfB4Tzle6157kpa5AJGvAJFx2XYCxn2CxSlS64yMmMoSo/wacKqn1nEPHEg+GTPO4xdGXQZI8b26M/E+hCgWIQPfciiac40xGO+yljpgRJCvJnVq7/I5z4HX/+67ce/611Hq3z4r/+Cb33rzPf7lLEEeA/HOjCvBgoGbr8dvvrCt5O8889RhxaDgZQan6TCAbbwD9zIX/KXXMEVPJtnP0mfP8QOY08Uovtwuo8iVuPo157e83sa4qyu9JV2ODLpkqsGP33ofhaadRDyUX8Oy36V0iEs9tFuzaGy6FglHng+Ko/Rnk+apXYgbAAMa5YOsG7RILmyg020Yi42DJUlUgrmEsH+sXGSNGPVytVsWLeeoaFFjB46QLNlJ/1C2GR28PABRNfyTxuFOiamdnxQo4yiXCywcfVacq1oRxG7HtlDmlpnsKOKnxrJ8p4yvjRIFEJ0PWBzzZG5OgvtDkO9VXpKRepRbBnIQuK6oDQUpMOGJQMM91R5+MgU540s4tDULFplCODQbIOfHZpCastfiLAgMdoS8AUAACAASURBVAFIx0E6gvnhMnHBZShxyTuKWu6xROWYTLErU933UeNEDS4rlAmFwcMwHBYJpIOrFLmQ5CbDIFB0Tc217aPWhMuQ6xNJQUtlNIzhgTQicl2WBwG9Gvo8n6pwUVLgSQ+NYXFQZFfaQQvYE7chLFECitJhRinmjOaeLMI1BpMl1EVOICXrghLTWcJAsYeK45Nj6BjLQfjlRS/wZp66yv8m8DvYnvH/A/wKrZbDhz9siVFnEq9//cn9aU8/JLZzfjNW9O1KPA+uusq2oo6Ky3U6tq10IkmJpyOEgFXvgkdW2e+XA6/Dvk/XXSeIF0K4/i1w57Pho5+GX30jj3hX8BtCcDE+b+Md3MJbmGOai7iIySdIKR9N6qd8RDxWgPXsiLO60hfCY2Zqjt17H2b08KFjmjbm0f9iUCon6iwgDAhjaw/XkWAUUZqx0O7QSlJWr91MT22AQuBx2fqV6CwlVxlSGlwHaqEkyzNm2gn7pufZd/gQuw6OcmBinJnZWYp+yHkbt3DuhnMpFktopZibn2X/oYNMzU5jcsWwMgxJF0/bNcHRRpTWxj6MxnMclgwOcsHGLfie21072Ercl+A7FmUEAqMt1TjHAyGZbUXsGZ9hqt6gt1yk4lrRNikEnpRIYc3DpZSsXzKIVjkHp+c4ND1HI07ZM2nbUKGwyd5aDtJVBbXvm5SGqOrzb6LNbRXBXfEUe5IWjXb7GFYeBI6UFJAsdjzKQK8UlLIMT0i8LEcoZYXS0MQ6JzMabQw1x2Wp69vhtNHEwIQjmfF9vGoPBdej5AaEfkCEoUlOUyt+2Jhhd2RvuAo4mMakxlBwXEIh8RDkApoYciFZGpSQSKazhIK0z2lkCe3MMnFD57+jgvjfi2ZzGUqdyv4vBl4C3Am8DGP+gRtuMPzoR2e235ERy6A93bZORMTX+ToP8AB2ffZ45InADjnfzVFZ4KNziKM3l3vusZIRP69Ytx5Gul7yAvhtYIWBr3wFfvKTRx3n3rXw5r+Ft1wBo5KmsZSqtyH4Fj7DLHoSWYoipyexDNYs5+yqrc/qpB/HGXsOjnL/ru2k3Q+q0aoLOzzKtrU3AJVF5Co6KpBJT7FAreBT8D0Mhkqlh0X9i0iTNltWL6OnEGKMZddmxiUyIZ6ETpIyutBh74EDNDtthONwYOwI/37bd7jlztvZs28vBT/kvA1bqFWqhL6HURnjE0fYvXMb1UOHOH9snBe6BfrCQleCQRyDptmC19COIsLAZ+Pa9dQqR5mhgmaieGQ+ZSYR5EbgOA7aQEu7GMcj9BykgGYn5sDkDLONBkmWWVN3KXCEYbrRZroZYVRKmmUUfB/HLzKbukw0EkKjkcaQYrrqmBLHkcjupzNXmmaccmBmmtxXpCsHafSGlHp6KPo+jhAgHRTgC3lMabNtNJnvMZ502NG0aBvHGLRSaKOJdM58ntJQKUOOx9WFKldX+lkbhPQ7HjXXoxO10cbgCEHmOLQxFHAwWtNUGZ60rZyq47I8KBE4XleiwYqw5V19/dhoJtKIgpQ4CEqOi+94aGFJZBJQJ5ZW/oXE3r0eH/2ooF5/Ks2alVhRzzuAF7F//yh/8ifm9CGMWBTQ+98PK07ka/4UcYADvIW3cDmX83befpLB59E2xxPj8sttAn7mM5/OVYYNx4HX/CE8NAhgOBfFO9BMTFgC2WMRRQJSF74kbcP/y0ACHWNV8H+MZAvPOMFe1nL65iaXceLh7y8vzq5b0OPCk4bffs2V/Mt//oT7duymkyQo05U+Nkcx37aRf7SVYtAUg4Cy79qFgdu9s+mcHTvuoxw6nLt8McbYtokjJYEjMFKTKc14M2ammVBvtxCOQ5zEKKUJwwIHpycZnRjHd136KhUcYfA8h2WLl9DX00OWJMxFMWun5qgcHmPtupVMDQxweGKc3HTHz4buoFViDPRUqlTXb2B8aoqDE+N4bsBcq00rTlje30tfYCj5gpqJMNqQOAFG+gS6BSpjdmGBZrvNcE+VgufQjlNcYSh7kGvDUfm3augxOt8mTWIqStPSGhk4uNq2x0T3w6q7Qm2FMGD9sqU4GKROWT5coW/ofB7eux8Rx8wqRbQwxxEM53ohBcdFlovsXzpIfaHBjsMRNTRLgyp3zoxyUW/IwZbm/qjDVJ6SAzXHJTGGGaz38b44olgos6JQpZ5nZDq3qwYkJcdjc6FGbxYzozIW+SFSSB5O2hxOo+7gtzvWEZBhcITk3EKV+SyhnqckWlFxfTIMic4x+S+PnKW1hV7eeaeVEzj//CdLhAL7Mb2QPP8nPv1pw6FDZ1arPfe5luR0Ogk3SWx7ZE3vGv5G/A1v4k3cyI1cxCZ+l5diK9nHM05PFBme9wWuuWaIrVuv4rOfLfPnf26dtp6OuGwr6FfDjIAadT7Ne+jRz+RDf/Uu9uw5ybGNAm/Bdqaug/GV8AohuJDXI7kB/Sj8fT8X8xZ8KljVnaeWGzJYjNrZlWbP6kq/p1pkpFfzv177LN7+8hewYWQVwmCtDo19PKZ3bsCVklqxcOznR31fZZ4Sdxa4bP0KCo7A9yS+5+P7vq1yTU4ryUj8Mg8fGGWu0ey6X2niJKLdaRJ12mR5RpTE7Bndy/a9u9i2ZzcPj+5neq7OOes2U12yjD21Ct92FQ8tzLBz1w7mJiesJITj0FVjOHbsuqvB7/sepbBA0Q/ZsvYZ5Lli/+Q0++djZjqGXGuEsD66nrCvzZTlFiZpyqHpGQ7PzNFOUhxhCB1wuoNl15H0DC9jLoGy46C1JnPszeAoYsiRAs/pSkcIies49NfKeN33KHCgpCM2r1nOcy+7jJUja6j2DxEVyxyWgjQIGe+vMb1siPS8tVTPW8cdgeKwyRkoFZiXCQfyiN1ZxGGdM6Fzducxoyoh15qLvYBfrw3iac2syrirNc+21gIhDrkxSCPYWOzh/HIvK4MS+5MOc3mCwCZ651EDdG0MqTG4UtDnBpQdD2UM7TxBCElLZfT7RQ6nv1zBtaODzauvhs9+1iJdnqzqN0Zw550uX/rSmbWkqlV7kykWT+/4/v7v4TnPgW9+3ePZ2ZW8yryKm7mZX2UEO2d4GfAzntqg3QC3IMTr6e29ive970Fu/a7i2leaxxjKnEkEAfz+++HWkt3P6/gXrjFfZNeuFp///ClsIAW+xLGqfy6B28xGNF/kqC7+cpZzA6/g0wg+AHyQJ7eIPx6TWCjRrjM6r59XnNVJXwpQeUrUnKcxNcPySplzl48QOO4TevtH2z3VYqGr04IlJwmrweNIwbkji1jZ30Pguniuh+zq42ht6CQp04lh94HDTM7Pk+WKPM+P3VCU0kRJhzhqEccta39oDHluEUHTM1Pcfc+PmYtT3GdciFq5itkkZXxqgvH5BZz+Hgb7hikWirbdo61hi9YaRzr0Vmucs2oVhYLH6JE99PcNMVSqck6ccGhsigMLGc3UgE7wVQcBzLcU0628m+igGaWMzzepd2JUF+Rk+6o+bnUxs7OzVHJNbDR+6CCExnNdfEewvK/G+SNL8B3JTKNJlOY8sP8QY/UmSgiEgCVDfSwd6mXH9DRr12+gXCqxqzHLl+cmuF9lPFIMORLF7BqbZM/ENAsFl68nszwC/NtkxO5UWRs8AUoYMmMfFSHwhBVUk8bwtblxftheYHfc4sfNWfYlbVpG8VB7nvvbC9zdmWd/FnEg7oDR9Ls+6wtl+rt9eykEmTEkWnEk7SCBHjeg4AbERiH8gAeSFl9pjD/5xfcLjKkpa5f4xjdaGeUTJf5mEz78YTsMPZN4+9utp+ypVvnGwPbtVhph2za7Qnj/24b4yOg/8gLzAhZxGXAuthv+Aqya58n6VB5WPfKzQB/3yQd47+YX88Yv/yc33mjYuPHMzgus8mbpSnigW+W/jb9D5cN86lOvZmbmNJY1o9iq/w3AXoFvns8KfputbOX7fJ8XZs/l/vtAZXa0/n3sBKN8wo2Z7rn+4MxP7OcUZ9e643GRphkP7DyISgVJ7tBXq5EacHyfhx7ZQ5x13am6TKtCEFL0vWMIHYy9cWigVgq57JyVBJ6L6/hoI8lzjUHjSMN8ohidbjE2OWkRJzo/Vo27jkuurL6+xqAy2xYQAoIuCStKYvIsZWzsEK1WkxUrVqKNIggDpufqqGaTVZvW88jBvYRBSLPVJO82GrWx7R7PlaxYvARtNKVCkV7p8czDR2gfOcB9U5PMNIss6akwWHLxHEGt7GM4Ot+ARGmUhoV2RJRm9JaLlEOf/kWruOuhbQStOkJlaFeCFhSkx1BfD4trFULPRWlNJ01J85w4SamGHrW+PtYvX0I1FOD4/GDHAeabHaYf/BmV4UUcnJogiTvcOHmQfGECx/fZuHIFxWKVhw4/TK4yduW5TfQ6JxaCAPCMQAs77G4azc40Yk4rUq2s6Qmag3nCWCvFY5YBx6dpFJHOWekVqEqHXWmHLE2oSZchYxE/PRim8hSBwREO41nCIi/AYNhucjppzKxUfG9hhvnTlbD8OUaeW8bt/fdb1u2jPV+NsaSqH//4zLa9fv3pm5xHEbzvfTAxYb9PErjxi4Lv3xnwx38Mr3vdcoLg/yLEfwBfwWIlTxYCmx7fBLyBlLvYLXbz4+B7fPLVV/HsZ1thtc997vQw/NUqvPeP4HrPFuxv5nYuMNv53p3X8bWvrTz1DR2NFPhXqDwIN94huHzR+3B4Dz2mh5v+Q/DmN1uC3Ic/DBeuhPOFveX9FsfNlG0Yjputn11xVif9dpzx8L55hop91hoxzfAcSb1ZJ0liQGCERbdIoBz6xxyrjuL1rb694NINK6mFAZ7jIKRHJxcI1wUyFtoRo/MJO/fvZ77dtu5b2s4KhJTdpCy6LQSsc5PWSOkghYPWOUme2TaNENTrCzwy+gjr1qxjpeMwMXWENMkYmzhMpVyx28O2ZaKu/svRFYUQAle6JGnCtEi5Z+UyKgM9FLc/QDtqszeJmS1XGK4E9Bc9fAsRIteW3EVXsjbOcuYaLYSsUXYCFsbHea5f5K5kAaSgaBz6e2uMDAxwaHaOhXaHou+D0Vy6fi2ddgshYOOiGqFUZMrl4PQszQwWDy/m3u0PcGh8jJlmvatgmSNTQ9WT7Dl8kHNHVrBlzWr2j08yMT9L1rU61HbIgOs4uECmMpoGfAxplpJjjjljpQakMLSMYS6LEMAK12eZGzDgBhit8aSk3/XZEFT4QXuOnWmbS0q97OjU8aTkwbjFrrRDKh20qNFo15kXmlTneO7ZJ8PgupbB+ujYvx/+5E/OQH8Ga9TykY/A8PCpv8YYuP56q3z5+Bgdhd/6LbjpJsEnPtHPxo2/iRC/xhP14x9d9YvH/d/hMi7jZ/yMAgWEgEWLrNbOK19pOQTf/e6pyUq//vWw5EK4WVjs0O/wDFJzA/9ww8uJojNvZLzuV+DFA+BSBIqMT8AHPmDlIP7xH62ctL35wUtD+JqwLru7sGLJT3wPzp44y9s7gpXVXjqNOrrVoJMm1KOYuWYTIwQGfay9UyqEBG73wjsqs4BNpquWDvGMlcuR0kFjoYlF3yFwDAiHpvbpKJhtNolTK8Qmu7BEKSRKKxzXwe22lQSAEPh+aElYWPN2pRVoZXVmkpgHHnqA++//KVma0dvTy0J9ltnZaYxWuK7L9t072bV3N42m9YOz2zpKKJZoA1OtBtJzuPSCZ7Jp7XoC32OmPs/DE7PsnGwy2UrJtCDT5pgMBWB9a4GBlZvYN3qQoVadC6RHR9ih6CIvREcZD48exCiD53r0V8usXTTEOSuWUSqWMFpjtML3HIR0mO8Y+nr6UXnGwNAQnbiN67lo38d1ffzAzkcaUUy93cIRGb+yaTm/snEN/eWy9SFGgOvQNppYWa+BipBcEpa5vFBhxPXpl5b4lhhNrHXXGB2WuD6bgzK51uyKm2itWCY9Lir20CNdtgQlfqNvGevdkNVuwEXFGiXHYcYo5lRGUysmpeVMGGGI1C9ThuHEsWGDrciPtnjy3EoMn47cwqPjxS+2lenptnU+/vEnT7p5bolhz38+/OVfClotD2Mev4ME+GOsVeMT32eJpIceAoJjRCgpbQvqG9+wFf/KlSc/1sWL4T2/D3/tWPraq4Gl9POr4gaij7+Xlb91KxQ6nG7yXbzYylofXRnlueUX7Nhx/DkHDtiW2Wtfa9+vZxl7pndgjRV/mbGIRQwy+KS/P6uTvue6JE6I7B8k7OmlUCzTU6mwftkKBmp9SGn/KoHnUQlDhDHILioG7FivEHi84IKN+FJ2mbmgjbCoH62IcBhrJvzkgQe6iVsjBPieTxiEGG1lmrVSYOwwVRuD5wcYINcKz/MpF4pdUpZGGE0ex6RxhyyOOHRwlMNHDhP4AXESMTUzRZ7nLF20hCiJOTA2RisHrdUxvL7Wlg2MkKRZTp5lLF+8lIu3XEBfrYfA82h0OhxqZeybj0mM2z0vQAgcRxAUiqzdsJnG3CyXOj5LK32Uh4aQUrLC9TkvKDGYGcqNNjUgSRJyrTg4MQlYNrEQAuF4HJyu04lSDu/ayY7dOxgaHCCNYzzhkCPQjiQMPBKlSHLFfLNJb8HBqJRaweGK9cvZvHwR5SBAGDv2M0AoBIPSYcBx8Y3hmYUKg9Il6M4R9KOeV0JweWWAjWGFABjwAlYVqyRZSqpyVgVlzvGKDPgFUgT3dBpM6ZwUQ45mujFDnGckWtHRT5971NMZN90EL3uZxbRrbQe9X/7ymW1rYMBKKgenJu8D2LbOe98Lk4/nJZ0gJietps6111pJiMeuRPZhbRpfg8W6nBqTTAg7bH7rW+25v+MdUCqd+Hm/8ztQWm1nsGXgHcAOtnGruJWvr/gLRv/6RfC1VyEveLAry35q+3/3uw2FtWPEIjrm0HX99U98bp5bZ7Mrr4Q/+wyoBmwx8O/A1WQIZk5pn09nXMql3M7trODJcblnddJXuSGSDm3Ho6khE4KeSplKGJDlOa7r4boevZUSdIk/qqul77gejuNxyYZV9IZBN4lCnivyLlQvSnOmI8UjY0eIM9uecbrD3SzP0FohpbQVPpArhdb24in4Ia4QuFKitSLPMjpJAo5LuVzGcyXVWo01mzZz1YtewSte8VpWLl1uVSWVYnZuBgSsGVmN40gOHT5ItdxDX6WGKy3rWBs76EUIDIZ21Lasw+UrjyXkV73kWlafs5GpjmI+MSgc3K6E9KoNz+CO27+HOTLB5V6ZfaUCqevQLyTnuQGbnYCLCjUuDSsMRzkTU7PU6y3GJqdpdjoIIRFS0ogzDs402DW6j8LCPFs3b+bue+8hUAqZ52gMPaWAgudQ9D0W9ZQp+A7oDKU1UaaI0pyRgR4uWLWUSiHElQKBYYnjscYPyY1mTVgi0oqmUQhjuY+LXY/NfpFB6eAKmEg7RDrHaMWGoMwyN8Q1hpGwxKDjk2UJ64s1hss1duuUaaOpdwfGCIkBIg0agXsWJv2jif7qq23f+P3vP7PhrRDwe78HmzefXpV/ww1Wvvl0jve22wzveleTZjPmeFW9EfgGcA7wXjR/hUKdgNT15Me/YgX81V/ZxPqsZ9mVwNE45xzbZrpFWGmz/wU8A8NX+Mpx/Rwvh6u/w6tv/TzXfPCn0DPPU1X9554Lb/qtjH8SNwL2xvbe99qb4ZPF1JR9zktfCj/6ESxS8FF24/8ce/pb2coN3MBn+Ayv4lVcwiVczdX8I//IhqPyok8SZ3VPXyNoZzl5mpLnCqk1baXZcfAgUZLYgWfgEzoSrekmZNvuSbOMxf09XLJuxXHjFCEQwgedWa2d6gDxXItzz1mP4/vs3LcP3dXoB9u3dxwXbTRojZICraBcLMNR5I1j+QDtOMLxPPqXreBZF29l+YoRatVeCmFIsRgwPTXN9gfvpbdnEI2i0azT6nRYiDpopQgchT83ywbXg55edqHs77TB6G7FLSRKKYphyKZ153BkaorxsTGed8kV3IUgTmPmFxYQJqFvYJgd+4+w66H7+VXpUq0EPOgaPAPDBhZ7LoN+yIDjkRp4sNNisREMzLcoJJpWbwWv4NPODHsPH2ZyvkVFGbL+GntmpujMzbDE9ThsunMIx6EYeCilSfOcqXqLI7N1nn3uakYWDWCkQ+gHrHc9Viwa5uvfvwu3O3tpK8V6r8BoGjGhctpao4CadCkgKQtJxQ1Y6Rd4sDlHRUpcIM1TKq5HWKiSYZhI2vQ4Dgeac1xVqHFQZ+yvJ2jp0DDHRegCxyFTivgsGuQ+PubnbUvhTOP8849r3pxKGAO7d5+8rfNk4fspf/iHv021ugrrxwu2ntwK3Izhz/ksd3MT1/ByXs7beBvBKaqLuq7lF9x8szVH/9M/tUn2D/4AaoPWyryCBUZOcoSbuOkxr/eEx+v7r+FzH/kovHQC3v9JuON5oJ6Y+lwX/ugDmjv7v4GHR0jIvXtsK+epQmvLuXjZy+A//gNGL9tBcoqrmzOJK7mS3+Q3Afif/E9yciQSB+cpV7BnddJXKidt1DGO1axHSg4dOcJUo3GMtVkthChlk69SGVJgrQkFPOe8tRQ8lzzXOAhrnu4EGJXSzjSz9U53aJuzZGgR5VKZvaP7mZie6op2OseE047CQ6ulMlK4aK0IgrCLYw+62v8hL776ZSwZXkSxWMQYyPKMJBbs3PEgzXoLP/BRWtDfN0ix0KFcKrF4cJgsSfByTXtikhdpH85Zwa76Akoroigi7Xr+Hm1KFAsF1q5YwfzcDNseuo8ksaXI8sVLiZKERg7bdz3EoNE80y3wEDlT0qGmDev9Im2Vs68+ScEN6ekbJsgrnK+g30Cvkfzz/jHSwX7qyxW1cg/aLSOrfdR6q9z83VsYEpK2gVQ6GJUzOb9AVCyAEcRdqGtfpcSzL76I/mqFZjtirt7GFfDD+7ejsa2oFM2szhnPMx5JOszonERrfGEr/UQrhHQIEKRK0esFBELQA/R7AUXhcCiPyYTBE7AorLCtOUMlc9lUqXFPax4lHaQxLO4foBl1jklPG3n2VfpPR4QhfOxj0Hcir48niTi2aJ0jJ/ICOWkYXvOaf+Xaa7+OEJ973O8EFud+HTN8jFv5CHdzNy/iRaxi1SnvQQiL0nnPe+AlL4F/+Rerz3+PgJ9gXW1XYfhr/o1DHNd0lkjezbu5kAt5WO6GZ+6Bf38FfPEN8Mn3w+FlPHrIfOHz6vzw5dfxLfFVvs23EQi2brWicf/2b6d2rJdcAuedZ7jp54zc2cMeC8nufvni1MkOZ3XSN0qTRR0i6RKEAa04Zt/hw136vKZaDBFGo5G23QHdtojh3JWLWTvUCwgcR5JkFoFTlBFp4EGxRjLbJMtzosQ6bCVRRKvVAoSVNXAc2wrqsn4d6RAEBVw3wPcDXMexbFZhISlKKTzfo6+/D4EhCCRCGB7etZc77riDvlovwrHzBClcysUSoR/QbDVQQWAJRUGBR3r66AiJ57roVDHQP0ir1aTVaaGU7mqLWGSS77kstFvUevpotVtMz89SKhZxpDWQKRrDTY1ZftacZkgNMeL7jDVb7G90OJDEGCHIGzNs8YosK/fjS0GqMi4qVbhjdo7tu0dZPDjAkmVrwJF897bv0JtmJEIy323/OCrHkQ6NKEFgV1TFYpFrtl7Iov5eGq2IibkmuTL8bOdO7t17AKWszHFVujTzjPuiBm2tyQW4XWmIgpD0uR4GwXSekBvNSr/I+ZV+pNI0dcZts4fxXIey47EyKHEk6ZDoHIVmdm4ejMYoQ7FYxHcdlvb3kStDO4kZ7u1n+7YdJ7kC//8Zr361FTs7nbbOF79oK9TTjdWrZ7nuuo/ieZcAr+REzFyB4F28i7u5myGGWHRK6qJPDCFg3TqL7gFrOjgM/B6GnWzjb/nbxzz/hbyQd/JO3sN72Mc+e2ilDrzzc3DVf8Kn3wf//GvQKiNrLTp//Id8NvwCV3Il61iHMdYH+M47T+34Bgbs0N0r5PyQH57ROZ5qzJk5/ulLmrt/4nDhhbBlix189/Q8ta7SWZ30o1wxHcUUiyXSXLHjwCiNOMIYQ8H3CF2LpnGkIMtSpBBobTH5z9my7lgCUkBiugufPCEr1Ki3M3KtyLUhzXOyNGHXI3tpRR3oKmbKbs8+yzWlQgljNEkcU+wt4zlWptd1XLTWqC6Of3R0lE3rz8F1JEEgmZ2eZ/uOh4iyFC3t4BcMRilcx8F3XXqrvURRmyiJ2VcOGSWC+YxCoUSr0yFJYoIgxPcDFhoL5Hl2XHJAa3SWsdCsUyqUCMMi8wuz5HnGqhUrGZ+aZNfcLALD5a7LedUKLdfnrpkpGol9Ly8QHpscn0FtuQ2R45Eh8LRGTU7jNNo0k5yJTCPmZhHG0JQOaVfxtFIM8aSgk2RkXemHLees5VlbNgGSNFcM9VaZm1/g0Pg0WilcrQmkpCocio5gPEsw3RacMQZPSIpCUkKwoVBhZ1tTdVxMd85RdDwio5hTKcNOiG+wkg0Scr/AQ3GLn3TqeI6g6nlkKieLOrjCQ0qHJX199BzTPPrFRxj+fNQmlyyxSfFUBdWMsfr6111nB5OnE74PH/94kZGR1yPEy4ETTFy7McAAX+NrSCQeZy509+gb2dXAvUCJhBfzP9jJzmO/K1Lk1/g1ruVatrP9cRsBVu2Hv3kX/OaN8LEPozdvY9vWvwNheAkvwcMjTe0gfOqxAPwThpTWz/e882CX2MODPHjG53gq4emQr3xF8O2uTLXv25vO6tV2LnEyeYuzOunHecb9YxMsG+gnlA6HZ2etgqSAnlIRoRWO65NlKa4jLcsVw4XnrCT0QrQReFKQpZpAWPli5Ya0lU+StEjSjE6akSYJ+w6M0ooijkn0dfvnpovm6a31MD11xFoIzmb09A7ieQHScak3Zq3XbrnMzl07uOC8CygUApYtrTF2eJy03mDNkiWkyrJnj80JsIlbOA7FYgk/CGl1Wt32Q0qj1aJSqVAplfE8h9EDo/T1b3S1WwAAIABJREFUDTJfnyPLMqSUFlZpDEppmu0Wvusx0DdIO+rQbjdYN7KSwsbN7Ni5jWYroul4OJ7DFYuXMlwvc9f0BBuCEr6GVOX0eAE9Tkjbyejr8fAch/lGk6mHtvFIFh8jqHWEQEhJ6AmKvkeurKS0AEqBz3M2rqDsWdipIyXtTsy2vaPsm5gGY0lZ2him84RYWcvDfsdnVVBkf9wiB0LhEBnNfBpzUaWfRW7AQhpRdFxaaYyL4cJSH/vjJgOFkJk0IpCS2SxmV9ykZTQGB6UUjusSpSk9tQKe6+A5mkbrdD34nr5Yv94OJ6+/3hKfno6Q0va61649WZVvsDXyFLCJLBN85CMwdqrGUY+KV74SXvnKIkL8cfcnT760EAhCwtPfyUki7D5a5JQo4eKSd+0KIyI+xIc4/GT2hAJwFVzxA/jmy0A5IDV99HE1V4MRfOtbp+5ZcPnl8M532r/Bbnafhv3imcW6+jP594eOv99paltzR45YZ7STxVmN3jHGMNdqsH9qhm2Hx7rqHoZiECCMdak6apYOFte/dukgl65bgQRyZchygzG2gsy1oU7IxPQsWhuyTJHliqnZWabn57tbt9o+XlCkVBsmy3NqlRpzs9NdFUuBzjPq81Mk7Tqt5jyFMCAMQuqNOoeOjNFotlDaMDO9wE/v/jHzs7PoNEGkGSrPjsExc63IjUYZRZylGKBUqhKGRWv0onPiqMNCfYFOJ2HR8BK0UvTWegn87iBMHDdsAUOap9SbdctE1jA5PcXogX2sGVnJoVqVb01PMpHFKEdzTm+VTQN9jGURvuPQVDlNleNqxTnC5UIRoNOUPVmHDppzgxAXS04z0ur1VHwXgSHOcqSUBK7DZeeuZVlfjXa7Q5pZxFOr1eLHu/eRGYPTnccIIDKaTAgGvYAe6XBuUGKTXzqmylkWkrbOLTInz6m5AYfjFq4QVB2PopRoo9nbmkepjHoao43hwlIvi4Lio2CfglzlNJptzh0Z5sWXncMrrjjnF3g1PzZcF/7iLyzRZ2Tk6dnm1q3w1rfGCJHy5CiVHGvr9wqMmeXb3z71fvWjY2TEDn2tbs5xfsjTE8c/06cSJUp8ns/zcT7Oki4z2GA4xKGnRgsJoBBD2Q5dr+Zq1rKW6WlLvjoVE/pazbZ1qlWIibmTO08ZpXQmIRCU9p3HxMSZvedndaVv+/Ow0KrjOi6BHyCFIXRtVV8olUg6bYtsweC4kisv3ESlENohcG7oKA9UgisNuVfgxw/uojLYT1FKfnDfPRSLZbIsJ81zpLRVoZAOykhmpg5bpyoDeZ7YytqAI+C5m9cxVCnyXzsP0OgklEpVemp2hlAIfSrFIvf99C4eOTiGROCikRiMVqTG4Dg2WUrpEKUZP9v+IGmWMdTbT19PL8VSiYSYLEvJ85QoauN7Ab09fTh+wK59e5ACapVq163LdFdB9iaQpCme52EchyMTEyRJymW1AVK/zS2HjjBSLnJxfz8X9w+w4LWY6yQsdUJCIdFpQtXAdJIxEbUZcUNWBCG9wqEsPA4axYzQFFyHZb0VQs87tgKTQjNcDikXS3SimHZnliQXfP/B3UzWWzjG4EuBZwRNo0iMoEc6XFzsYSaJ+Elz1q4WpIsymtQYa4KStOn3CjSziCG/QFlawGUgJVNZwrDvsyws01KKqbSNIyTtPMUIQAprcKMVhUKRTWuWUwyO8zl+WeF5ltxz8cU2gX7lKyeHBp4symX4xCdyyuUPYCv5v4UnVNYG+B4WSvlypqd7+NCHTn+l4Xl2ULx69dMvkWwZHDdgyV2vxZrNnHwnOTlv4220aPExPsYt3MJN3ETC6Z2YQPBiXow0km9+0/bzn/I1Xb7A1q2AMNzO7fw1f31a+z3dMMbwz3fvPeMV4tld6UO3vWKNzrMswfN8cH38sEieZRgpMVhS1UUbVrFmeJgwLOO4BVwvwOQJ0nFQjs9kJjgyP8frf+PXeeZFz0AIwezcLDPzs8fULg2GQqGCynOUSnCkoBM1cD3/mIzz4v4eLlu3nC0rhnn9FVvYsqSGZ1LIU6JOi/0HRtm372F+ctdd5NpaIzaSjHqSoo1ApxlxHJMkCe12k59tf5Dx2RmmFuZ56JGH+eH993D3A/cxMz+PyhVRu02WpcwvzDE+foh2s8mh8TF279/H3tF9xEmEFLI7ULYXhRBWi3+4f4DN6zew8ZyNxFLwwlIv7157PsVVG/jGzCz3NecphgHVWgW3t0jTF2yPG9zbqdPE8ILKICukRyCgIF2e3zvMCy+6jOXLVpBrGJ9rgRD0lApUiwVCz2VscppWp4PjOORa8MjhI9z3yEFcrXG7+PgC4COszLHR7I0aFKWk6vnM65xQCGqOS4/jssS3xLeq4+AhWEgi2ipDSEmscwLHQQMHoyah41L0Qr7TWmAWO9w3XVcygFLBtwod0ukax/+yIgcOI4RhzRr4/OdtK+Gyy04dZvnoeMMbDJdffmcXQdPkxA5PCfBJoIJSf8Sf/ZnD9u0neNpTxLXX2pvV05HwOx2LhT9+A54G/hwrZXYFVuz+5BhSieRSLuUe7uG73MYX+QLv548ochqSoti5wxVcAQh+/dfhC1+wbbiTxQUXHDd912iu5/qn8Nn978cIIxR/+uwzfv1ZnfQBgsAj8H2EFEjpECcprThFSI80z1F5Rq4Mfb09bN2wDq0FyggrG6xyPKkRRtFxShwYn+L5Vz6f2+/4Htt+to1F/YOPMdIwWMP0NIlJozoFP2DDsmVUfI9CoYIxIKVg9XAfriPJckU1DLjmgk1sXbec8SMHSOqz7N+7k1tu/Q6z87OkaUon7hAlEa04YiGKSHJFFsfU5+b46UMPMjYzaQXetLIrgTxjZmGWB3dv494HfsruPbuRwrB40WKMgPr8JFvPu4BNq9fS6XQ4cOgAlXIZz/WO2TZ2PSMRQuA5Dp2oTdJbY8/aFfxHY5LtB/YysGyEn6aGr46PcShLqDsataiEXNLLLpmRCNBIjmQJP2vUub29QFYu4K5dzXDfAL1KEUY5+47Ms+/wFHGaoYwkU5pD4xNorUjSjB9t30cWx7jdIa8CGlj9exfLP8iBAEmcZyzxAlygT7r0OS5lKRn2C4xGTdo6pyMs87qTJdRcn7JwWBoUGSlWaecp3+zUuUdnZEKihYW0ma6WUq0UEitJnKQ022coWfm0xE4sWzUCDJ4HL3yhZX9+5jOwdOmpb2nVKnjf+yJc9zpssv8DTryI94A3YcyfcvfdW/jc58QprXakhOc+X1HZMMaKtSnXXcdpyiGfuF1jjGUbP/e51k/X6hgOAzdhq/x9WP+rh066dQeH9/N+vsSXeCNX4/My/gi4g6/yP/g91rHuBNj1HuADwLOhK1lwARfY9pCAA0W44A3w3f+CD34Q+geeeA7FouFTnzLHoLGzzPIjztDS7BRjE5u4Of0upe0Xn/E2zuqk7zguPZUeRpYsY3hgERpwXQ/P95hpt2ikGtwQz3V5wTPPI3BchDBkuaLeyciMtOqObsBUK6ZarrB+5UoG+/sZm5rm8OQkquvbarpKl1IK8qwDRlEKfUZqASO9VerzU7iuy/mrV7B+2TBT9TZjM3NM19ukuaKpPLxc8aqgj86uvRwZnyBJu1DQNCbLM4RwUAZaSUKUZkzMTDNTn+9KPBgLL+yeu8YgjcbVmlwI9u7fC0mLof4BvDAkzzMWDw7x4udfxXkbz6PTaVMpV6iUKziOw1EEL4huu8rQTCJ+sjDHeBgwn8Tcv3sHzShCLlnO/8fde4fZdVX335+9T7t1yp1eNKNRt2RbsowrBhcZ2zExNj2E5kBCIJAXAvkRE+CXmJIAoRoMBF5aQiCYbhODCxhX3GTLkqxiyWrT587cuf2evt8/9h1JNmqGGPy8y77PPDr33HPOPXeftdde67u+39vDkNsn84yX64ikyarFi7A62rjdL3KrW+aeoEFsWaj2dmqOw2BHD1dk2nmZneaitm7cesDOJ0eZyhdRSPaOTxNFIbv2jjGWLyDjGKEUCSAnpNbMFUJ3DwPToc+jbpmUYbEymeX5mRzLnTQdhk0t8DGAehzRUDEdpoMhtB5wJfBYbjv0Gha7GmXuqc+zNW7GWkIQCEEoJVFT3WvFYAdp6TM5U+CeTSewfn/WzESrKn0Mzdqim8daWzXN8l13wV/+5fH5700TPvhBxeBgHWgB/i9avPtIYbgBvIFq9XW8733ihNksk0n420/vxXrwXN535y9Yvlw9gyhfoZ34d9Ei74esWITrroMdOzR181vfCqOjAqUWA19Hp6guRwuMH9tMTK7iKi7hfAT7sLiWM3kXn+Es7uEe3s/7aaHlsE9chXb6twJfBiSXcRkGBiGaPO35Aj7aA+++VvHXd/w3vPp7kGiwMIktedOdnHORe/BexMQHC8nPho0wwrf5Nu3FJezf/7svs47r9IUQXxdCzAghth627Z+FEONCiE3N1+WHvfc+IcRuIcROIcSlh22/rLlttxDimhO5OCEEsZGiNdfNxS84n4vPPod1q05iw1nP55x16xns7cVViti0mS17zJSbohqRj5QQhSHKSnCgHvPAY48QRnU2PbqFRzduZvf+/bj+oTw9SiFUjGrSKaMUplDMlTUFsiklbUmbi05ZjvJd5ucLKCWoNBrki0Uyts1AZyebynk65wqYnocX+NQ9F4ROJehzxQgEsZC0tncy0NOPKSXEEZZhNvH3h8RhYilxI63zOzs9RnlqLykRsXL5CmzbZr5YIJtO4dg2tWqZOArJZlqwLROFIo4j4jjSUb80EIakM9fB6mUrGegfxLQdli9fxSte8VpYfTI3TE7zwNgs9SDEzUh621pIWTatlk1XOoM30E+gBNHEKKdaSXqSKdoqVZx6g2LDY9/0LPXJeRr5EvMTs6wuSa5a/3wGBocQpsSWAhnHOEKSMkwQghAtepI1bTKGSbs0SSlBqzRIC4lqauzaQiCVIiUEk40K426VKI7ot1P02klGA49NQUNz9qNIo1NdkRBgGDiORWdblp2jeR7fO8bN9z4CsPaPMbY1W8y/A/8N7GpuawDzCKFYskQLq9x0k0aGHC3ls2GD4tWvfhAhPoh2lO/mWOLdSgm+/nXB3Xef2FWCphfYsLqfs7JXcl3/hxkXzwTqE6PF3a8G/h+giu6ahx/+kIPpJc/TSKYNG+BHPxIEgYNSb0Rz8B9OO/oUWsKnmA5zhtEyWG8C5hFspZsuruVafsgPuYiLmsHQf6Hv1QEgT5oUG9iAQLAdTZxWRU8HV8qAb6+5Xjd1/eAVcOaDsHobT/zjG9loPnDw/FmydDZFV54N28AG1rGO0QOC+ePLdh3VTiSp+U3gC2iZ+8PtM0qpTx6+QQixGi1AvwZNsH27EGIBInE98CI0Id5DQogblVLH7IyxpGT9smVkUzZP7tzKjr17cD2PaqXEGWvXsairEy8IyReLbB2fYXK+SmvKIZuwSNkG9YZLQ6S544F7kHadxSMJdu4qMjE1xdTsbDOHr+2QApdqCptAzXXZMeESRjGWaXDhKavoyCTIz0VUGi4116c9naSto5uzV6xlKJWm8MAm9hTyHCiFZDq7sZMZpMHBuoSQejUhhCBWkq5cJ3EcMzY5RqwCpLSb6J5IN05JQAiiWDFZLLHcsWmUZpmOQgYWLWVqdpZ6vY5p2Ti2Q7E0zyNbHuHUVX3kWrqYL/tEcdTk3NcpMqVibNtmqK+fTDrL4oEh0ukML7rwUvYtWc7Pb/0Z4/k51iVteh2Hy/v7ma+6rFw0zEx7K49t3cTQfJFWDPb4VR4lYk7EZICckeBFcZplszHqob1EVpru9hznn/UCJqYnefTRB0nU6qx2kuwKXGpKkW7eGwOYCBrkDINWYZKRBl1WgkYY8tPCGLYQLE+kmXJrDCSzbK8VceOAdek2otDHRDFoJ9kXBhhCE+4lhMRA0dc3hAjLpBM2vZ0dzJVKnLZqCdv2jO06wtB71se2Ti98DZ1ecIDb0Pn2VuAHgIlpwoUXCn7+c82J84lPwOjoYUdogw9/eI5k8m/QDDQf5Fhx3EKz0cc/fuI0zZ2dmlK4ZKbYwaewybOZLtLNb3D8eFM2v1cZ+M/m33+jWBzkuuvEb13Hrl066v/zP4drrxUMDppPW1VMo8VJXokWYH/69xXAKvSE+n506kYgEWxgA2dyJu/lvdzADczz72gtAJ9TOIUVrCAEvoh2+KCnlrsRIDJgB3D5zRrmme8i7B2j2txToahT/716EI5ntzf/G9u2Ad//3ZM0x/2kUuouDqeIPrZdCfy3UspTSu0FdqPXmmcCu5VSe5RSPjq8ufJ4BxMCwplRZvfv46Etm5mv1ZGmRalS5sFHNrJ77x4c22Kkf4CzT1nH8NBSbt85yb1PjOGFETLVwlQtQMmACIMn9hSZK5TYMzZ60OFrpy8Ojl6NzhFYUmJJiRJgGJIVg32MdLYShBFBpGGdnu8xV2uw5uzz6TplJZlKg75EGkyLqFFncnQvjfwkiSjSPDPoFM5CN+3C33K1ClIXI/3QPci2KZvi400WfwqVOlIK0o6D8OvM7t1ORkaYhiSOdIOZEALbUAz3TrF+jcuSkQ5aMyktZi4W7qsu+oZRRKVa5r4H7+WnN/+U+x+6H8dOcvllL8FcNMRN8/PcOTcHSZORvhzOQB8z5RJz05Ms8nRzW850WLv8JIa7+olixTIzwbAyaAliEoUamycPcM+2Tdy/8QFkvc6lvcMMJ1IoYMC0GXaSOAi6TYtYxUgFU77bTHVpnVsJJA0DSwoWOSlaLIdaFGIKwZpUO40oZp9Xp90wOdPJYKoYs5kusZoNcJMTB+hpy2AYgu62JP09PfR1tgAnvB7/Xx3bmjHmT9ENTe9Dyw5uR/PV3A58GPAQArJZjRC5805NMpZO62fjrW9VnH76dxBiEzqyPXanaxBobv3JZyAY9ta3worV8E8C9mKxk36uwuIMaryXO5hg6jjwRIHO038b+Ffgf1Dqw/zgBxy1iOx58I1vwCWXwJ49T393K5q18yJ0KutInVMCvdoZ4XBdK4EgS5bP8Blu4zZex2tJ4gI1NrABB4ed6ETUU81snqtdH7q1DEuf5DTWc5Y6C4AppngZL2MrW3/r0/9bto99vEK9gk8/9svf6zi/D3zhHUKIN6Cb4t6jlJoHBtB0GAs21twGHEaKobefdbwT2LZDxbQpFQu0plO0teaoNhpMzhWYzOcp12bJtSUxjDQd7Z0kEw6LFw0RBR6Pz9RwUopGCCNDI7S1m1QrFsVKAW+Bx6ZZ5BNSYAiTwPdQxJo9U4gmgZsglbA5c8USUk6CMFK4nqcbjKSkf/EyslmHJ+7fiJkvEkrJbOASRBEtQH+5zEikqHV2M5NOEzThlUopyuUSxWqZaqN2cPKRUouTG4aJMAxEkyVfIli/dh3nr11DJpmm2mzQmq012DWxh0QqQ8K2Sdo2CSfN7fdO09ezjRVLe1i/5CT27rHJew28KCJWMUIYCKGhr45t4/o+m7dv4b6ND7Jk0WJObWlnpH+IiTjmvlBxipPAa2unOD1FrzRZbJv4vk+H7RCPjjFWKtGazDAjY7aHDYaFybyAm90y5diEOCIzm+cMK0WftBlyUuwJPX7tljEtkyVmEitWTAcu7ZZN1rSphj7zwqUcBgghcBAEcUyrtNjn12kxLTrsJI9VCzRUQKdhs8OtIkMfaQiUkKBi/CBASMGygR7SCQeEZPlgF62po0Zlz/rY1tZAR/md6NTHn6Ejz1cCK4E3A08ApyNECyMj8MUvauGOb34T3vUukLIPeDHwDo4X5d94oy6YnqitXKknm19LfVULFhDxJP/Kp/g4P2GEv+fTvJrLaUUeJfIXaPjo3wJDFItDfP7zx19tWNZvC8rAhcANwDtR/AslPEz+iRQp5AmUKAWC7/E9vsJX+BSf4p28kzu4gxfwAkDwPThCW5VAcDaX8QU28nfMMAOeQ/oT/8rcqzrJrYz4pPgk9/wBpBHLUY2tW38/rPHv6vS/hA5FVPPvp9Chxu9tQoi3AG8BcByHnXv30tXRQWdHD6aK8KOYjJOgtSXLfGmem++6n6Rlc+G559HX00u9XscyDWqxoFZz6WjvYCixlKnZOVQcMNjXRzKVYnImT75QwA8DEE2hctAO39BZP4XGvZ+1cinp9l48A0SmA2VM4gY1Wrt6eeHFL2DnY9toPLITu+FyoFpi0q2TFQbPT7fRRsxQLPDzeW4rzRPlOkhkWpBSEkQhlUbtkLA7+qSiWWPgYAOazukOtiTp7uym0XBp6+jFdes8euBx9h3YT7VR5+S+RXT0dLNiaDGFco652VlGpaSxfTsj5ZBlq0/m0cin4jaImkyi+vAGqUSC4YFB4jimJdtKuTDP6qrL+vZ2nlyymAmvwa5d2ymVKnT5HvVAkhACT8Xsq1eoBh6ruvu4pV7hW+V5OmKFk8owDUSex6Bp0u0HdBFSiGMyCJ7nZEg6CbYFDdwgJGGZ9BuCnGHRaHYHF6OAA36NGA3Nq8cRpdCnx06QEAajXo2ZOEDFMYYIaTUtMkLiGocQTAhByrZZ1N2BISUxYBuCbLbtjza2h4Z60Q7s3cDfoZ3iRuD7aKLg56PTNd9FO7krAJopHy1WLqUAXoEuSh77US6XdS/AiTQbgRYQed/7oK0HPoKenrQp4C7gOhQxu9nN23g73+FGvsta+jhWysdAqZcdM8pfMCk1r322VbGJzdzKrVzIhaxlLSaXALciuInr2cx/cSZv4A38A/9wBJTOb1uCBFvYwv/h//BLfsnpnA7oJd9DR/nMuUj+k0sp8Pf8j4r56fe6+fVHzufy/4i59Jf/xn8O//tRPvm/bNUM7F52/P2OYb+T01dKHZRYEEJ8FWgyQDAOLDps18HmNo6x/enH/grwFYDurm5l2Daj+WlOXrUGRxrYhsVKQ+LFEfdNT+OkUiwZGqK1pYXpqSmCOCSVSuru0GZUVyqXCIJAO3Nl0JPror+7n3KtzkR+iqmZKcrlMmEUYNkJHMcm8BugFN2tWdYN92NGWhaQisvJwwOMFVvJDS+nNl3G8ASGYfKbmXG2V4v4ccRlmS4ubunhzkaeLSpgINNKolJm/MBeWvoGSLd10N/dR6xixnyfIAq1elZz9SGFrmksWGdLlrVLl+IHMY1GgziKCAybxx7fRk/DZVhJlucLPDY5Tn9PD0uzrZzUO8hcKkVs+0iqjO3YRrB4MR3tHVRrVRpuAxXHSKEdpIoVhgGuW4dsitnMUoyWdg7MTeFJQSqVRkqDkiH40cwsZweQVDBar9FtJXiwXGLKqxMJgZewWLVoMeG+XUS+z1JpslxK6mFAArBihSU0m6YMQy5IdRA4Jp5UmH6IrTQtRENE5FSKRhzTIk1coRFJJnrCCYlZlUizL47YFQUYKEa6ezg9m2VUxUx7HiryWdrbQqlWpastoWsrSKwjqIv8ocb28553qtJpj6vRePSPAKcBD6IngA3A42iV7nVPOU6zLr3wLziBPHI6XeUDH7iPD3zghezc6XC8bLxhwu1LYQl6+nGBjShi9qMnKYlO2bSgWMRdhLyFB/kiq1hE9qjOt1jkhKL85csVZ710gr8W/8SP+TEFCqRJs571DDDAIhbxYT7MXzDHbfw5NWrANqCIRkUdvZj9Sl7JYhbj4mJhHbxWE11l+Qw6r78A6O0FvkBMjk+RU9/gpQce4LprhyCAvdMVvux/jRMTiekGXoBexU2gF4gPNj979BvSRT/nE3OAWVZbL+bA1Qco/7KH/dvTFApHpsI+lh7y7+T0hRB9SqmFzOBL4WAi60bgO0KIT6OLXcvR30oAy4UQI+gH4s/QFNjHNMdxuPyCDezYu5uOtg6SdgKnr4fpqUmCuVnOGVpMuq+HXEcnkecyPj5KR28PpmEiDYOEk6DWaFCu1ZACoihGKUgkbIQ0SCcSnHPqWvL5fjbt2MaBiVEqNa0rm062Egd1Vi3qbd7BkCiMsW2JNEzWn7oOvyoY27ybhBswbkBhqI/JrbOc5CS5rLWT/5kb5z63SFJKEkpwXjLNyabNr8f2Mzc/R+vgED3tOdpbWskXC0zMTBEGPrZlkbAsDKmvOZtp4czVK0klU1QqJSzTpOTWuefhR2gUCrwk3Uaf0o6wEHksbgSE1Rk60lmqXTEVw2CLY7Kv7BONjnHa+hfQnWqjVitSLBWIQs1LhCFQaISRG4bsMgzG/Boy20KjMEuhOE/SSZNy0jQGLG7K5+kr1zClQcU02eN7OOlW5ktzrF68msHOPmbm55jKT2AB/dLCi0LaTQupYgzDJpNM0m9JIgTVOGTObZA0LNLSpKGgSzikTROkxFawsVbEVRFDsQ9xzIhpk7JsbvdrxMNLGBwcYv2aNfQn0niGScVz8WoVKqVZCo0S+/MurUlBOmFS9X/7aflDjW2w0VH815qvKtp5d6Kj6U+g8/3r+N9onDfNR3n5y1/KuedeyMc+9gG+/vWzqNWO7vh9D779JZg7B2404BrgTcT8mA+ieAxdxj2rea3/CPyM/yHg+ZzDZXyNl7OUCxHYHJpelOKEonwh4K//JubjHe/lOxySDatR42407MjCooUWruEafsJPdA2HNwB3ovsf3gmczJEmN6Op0ftUCxB8l37O4GOs4CIkn0DwIPD3KNZyB4LrCcI/48MfHmTv3ubHYql5e45rGfTvfcFh1xSiexH2AXPAPeiY4PAJYB1X8Hm+zJsJkCTTnyX6YDvR+ySzM7Bpk6713HcfbN+uJ9U41h3aR7PjjiYhxMKVdgohxtDClxcIIdahf/F9aKUylFKPCyFuQE+5IfB2pVTUPM47gFvQU/DXlVIn1Avo2Banrz4VL9B8Ir7nkst14GYyTI+NIWcLVMOYWkNz4zuWxXy5SGeukyiKKVfrgE6T+EGAbemOzDiKSToOcRgRRhG5TBa3rZ35Shk/jGjMFxgZWMTinj6ytokI9lnAAAAgAElEQVQpDVAxkYIoCpgf24NQkkgYzEhFNZGgLZejf2iYysQUXhRSJwADugyD9ijCcl26pMGrW7sopZL8Jj9DOQjoX76CrvZ2CCPG85NYQpBJ2Hieh20aDOdaqFVKzJdKpJIpLSCuBI/t3EEChRErTAWRYdAmTRKGhWmbRFHMyMQMs+kEhUyGwb4+5mo1pif309nTz4YXXcj+J/ezc+cOKrXqU7SBlVCESlFt1JFSkst1Mj41xeR4AUcaJFttMp1dTKXT9FsJRgsF3NkZvFqVXGs7i7sHII5Z2j9MpVqi7ntMBi7dps2AncSybIqmgQojetrbGGs0wPM0bj8KaTMcBFq5LIpjEkhKkcfqVJYJv0Ex8Dg/k6MRBtxWnmfMELz2RS/ipNUnU5wtUVea+TSTStPS0UlnMAiBjy8Fk5P7aJM2//rV60FDPcQfY2xDCp2LfzOQPPypA84/ymcUEKAniGeC1T4NIV5Df/8NfPrTf8WVV97NNde0sXHj4d2wT7NbITMGclh3AHwVgQdoBuYS+tbs5PCSxhh38f/yev6T27iUDF9Fx7cL1tenCeGORXGweDG89FU+3xBHb8oKCPgIH2E3u1nMYl7Ha1nKJxH8XzRK6BfoVNk5x7sxTRtHp9oEBi/lMv4P57OM3yA4BQ/Bh1DK4JZb3sZ3vnPYffcc2LMEVu08wjHTwOvQENLz0VH+4XUHCz38FpSuXoJuRLsX/dsuBb5KHz4me7FYB7RgChPT0g18AwNw+eW6SD8xAY8+Cnffres3R7PjOn2l1GuOsPlrx9j/o8Bvaf4opW4Gbj7e+Q43Q0oyqTS1Rh3T0DcrNk1sJ4GQku6+fkpljcZJS4PO/j72j4+ybfceWrMtrF29GsNyMA1JrV7HsiykYSCbuHnikHK1TqVSob+nh/bWFnbtfRLX82hp6aFar/PzTbs4e9kgpwx2kHQciBRh5BOEIdJOYJstTE7sY1YKtj6xk1xLC2LxEN+cnOFkJ0WXnaBDNw2QQtBhWCAEHdJkrrUNqSSxMNg2X6A9m6HdGmR0ehLHsOhvSzLjuhhElMolNu/YzoXnnEfacrj77vuo1GqMWA5dQlKPQp4MGrTZFkQRJSFoMS2KDZd0pUyfVaLYmiXb3sJMfZaZ8ToqOI3e3n5aWnLseXIXE1NjeIGvo36ltYAViiiM8Stl2lpbkJhMTExi11LEmHT19FD267iOibRtjCDgpOHl6BI0tKYznHXyehJjeynlpxkyTGKgGMdEYUS7aTJdriMNhWXZ+H6ErfSjIaSkAmQMgzkVMOCkCKOQzkSWhpUgEoLHApetIsZp7eDUU9cQxSAMSRwppKn5e8AEy0LYNinTYlH6VOIo4k8uu4LN27ZvVkodrmX9Bxnbh0zACdMFKOABNBTxi+g0wYlaBl2u+CtM82EuuijBLbfoVMvnPsdv474F8Cq4pP8QnVo7gi/yUf4RxY/Uj2hw+1Hmnb341HicDKMccvpCaKH2006Dj31MI3RqR8iK/PVfw2CPdVzMu4fHt/gWAF/hK/wz/8wb+So2VyH4HHCCBQxA1+T/tfn6KoLbSPELLmIlelX2PgqFMT74wVNpNA770sKA0klox/50c9HAx0+gHf7x3G0GzTv0bXRS6SXY9HIBv0JgwsFreaoJoTukFy/Wr6uuOrYGwHOecK0tm8W2NEwzjmMSiSSmYVKLY3bseZIwDKh7Pl25HCcPDHD/r7bryNBOEMRgScHE1CS79++nu6OT/r5+MukWejo6qNU8ZuZmMAwtmt7e2sbI4CCFYhHX9Rju7sINQ369bTc7J6a5ZO0qOjM2hmEgpIFLG+wZY2dxhvv37MaPI8ZnZ3AsC0tKdscxLxtZw1Cui7HRfUjXJY5C0qZNw3aYsyEwDWTQQIQ+OcvkguVr+HHoUwhDWjt76M62kS/kqVfncEfHOHXlHMlcN4/v3oUQglIUMR75VCIfhMBA0aagGviYQssKtkiD8XqF7sDjtFKZQkeObVnBT3/8Q5YtX83g4CJWrDiJzs4uDozuZbYwRxA29Uz1/0RxROgGJFMmK1YuoVH1aGvt4JTT1vDY1kfoUopEwiFfKDA5O0XGcsgkU0gEaxYNIqfGuDcOKXt1SrHCFpKsMOlIpmmVekkqLZO6NIj9kFLoo4TAEUJr8FoO077LvO/xvFQLZhyzP3DxhWKku48LX/tmdj6xn2wmi2naxIqDxXjR7MFQKiZGEIUB1WoF13sWCO2fVSugUT6Po/l1jm5KNe+pPJwjx2IBZSqEIJfT3PsvfrEu2t5xx2H54XOg90NwvnXIrwsEi1jEN/gGlx14C2/6zq8Jrt4NvSGIW9EpCljKabyHHC/jqVE+gBCKgYGYz35WctVVgve//5AIPMDgoMbpCyEwn4F7mmSSd/AObud23sN7OJ3bMZ8R944F/CW63eJf0Au69uZ3l8ClCAHPf75g926oLgD5Xwxc9RpgE7oMfPjvEqFXGzeiNYP/onmOo13XQnT/Twe3nAKcywvQMN6WI3/s6Uc5zgLwuU3DICQZwyTX0kJvVzfpVFrj26UgmUyS6+ig5vuc/bwX8uev/AvqUUQUxVh2gp6eXlLJBLVajZ1791BtNHhybJT7H93IvQ/fx28euZ+HNz+CiiKCIOKR7Y8zOjUBwiDX2k5XZxfj+Rl8z2fp4CKkleSh/Xl2zlSJYoFfC/Ge2M9oY57NE6METfRPDNR9j1Kjjm8n+cn0Pu5KmXRtuIRg2TLCrh5qLS08YikqCZsolSRMJEi2t5Npa2NrvUEhCpmvVnhifIJ6vcrwosV09w/jC5uNT+xi47btxFGIISWdhkE19JmJI9KWTRDFeF6dSrVMaxgxYiVI2g4TUcDORg0Z+AxPz/Ci6TlyjTp7dj3OY5seJj8zSXtbOytXrGFoYIiEkziIIlIqxmgqhAVhSBD6pLMO7b1ZDozto1iaJwgjWjOtDHb3YCQMto49wXhhGmFJkl4FX8bEjs2WyOd/GkWKcUQoFAlh0K8M2ryQ9rqHHYRUDIVIJzAci1oU4scRZd+j20ownMySVxH7Ip9Rv0FSKAZGltLV109nexfVcoVyuUwQalF2BARhqOmyLQuUJucrlYqUys8u5/mxbHRUi5ecONOnQvdHPgK8EVh7zL0bDU3n8L3vabGWQ+dZiNu1SQmnn67J3j73OZ1+oRcSX4CP5ODpOBGBQEYW9338hQTv/yCc/y34j29D/ZegXk+Kfr7CNbwVkx6OtBD4NXAZhvFRLrqoxi23KL75Tc2/k0zCm96kUxY+PpM8g4YCdMrn+3yfi7mYf+RD1GgcoYdg4Sk9kglgMbrX7mYWOHkW3svlBJ/7HNx8s0ZQGSPAJwQkTkdH+vcAf3KE43roSeHdwAc4HoHc4dYFONjAuei+QB+d3vvdYZtCnfio+4Nbrj2nPvKBjzLS14thCBqBT75YpFyt4HkuhpQUSkWy6Sy5tnZm5qZ4fPdu/CBi0cAAYeCzadvjzFcOzb6KGMPQ4iMpJ0HCMlm7Zi2O5XBgbILurnaIYpSKiOKYcqVKtVqls62NlmwLCdskZxlkXR83UNwzcYC9+RmUEBr2GcfEKiblJMkmU1SqRaQQjAyOcOULL6GvVGRi75O6IJlMgJQYBykadIRTdxtMzc4yMzvL4lXL6WvPkZIWM/k8ew7swzJNKpUKyvc4z0wQui4tCYcWIUkJg0IYEArBkJOgy7CJTJs7S3OkIp/znDSd0iBrOdwU1Ihz7cStbRTa2+kdHGb7rl2Mjo/Sms3Q2dVFGGj+oIUxFimlxWqUvo/pZJpYQRj6RFEASvMj+X6DMAgZbmtnlSNJBSFb9h+gWKvTKJd5idPGsJWkHPrs9Wo6irQTzEuo2iaGY5GPIiYqZVJCkpUGndIkI0y2eRW8METGEfnQ47yzLqDrRZexZewA3//pDQhDsnL5Si656FJMw2p2Qut0k9mcvLY9/hgbH32AH/3kRxuflt75g5gQz1N9fQ/ztrfBW94C3d3Hi9AUmhTgN8B16ELqUfZU8IUvaE1ZKbV04rXXarH0YzF4LnTs/mwcFl8IV4rfTgUopUU6Lr/8sGjXRKesrw259OwZbjJ6sY4aTx5A17kfBE4HvoJSp+D7uii5eDF09yju4R6u4ApKnCBB0NNMIrmAC7iaq3kNrzls1bAJHX2/GRjmWCif37YY8FAqQb0u+Mwo/NtKKB/83RQ6qn8pR3fKWeCXwPM4kZrMC5p7a3xWGV2kHkan945+7c973vN4+OGHj3iC57TTz2Qy6rTTTuWMtedw6oqTkKFHR1cn8/U6xWqFUrkEQpFOpak3GposLVbUGh61epUn9+/lybFRnaJorvVFs1PTNk0SlqXpmqVgaW8X55x+FlNlj/zUNMmkgxeGKBRSQMN1KVUq5Fpbac9mQQgKxSKP7NxBGMcgBDHa6SfsBJ2tOWbnp5uZbUApUnaCq//0T7GTrfz49ltwA5+WTIZkMokpDWKl89wtySQVz6Ncr4OhGB5cRFgPeHjrZorlEgKFDZydyHBFopVJt0YsoUWBY0g8JZhGYQKL7QRzccxmt8YQgqUI+i2Njd8S1DktkcU2DKr9AzzalmG2WmXLrp24gU9v32JWL12KFDH1ep04jpuRk24gi5trcsuyaMm00HAbbNm5na7Ofrras1iGxFERy7s76M+kqM7k8efmcSdm6KsH+GHEHdVZ6sQYCoZNR9My2BY50+bhRpVICGpNsZkewyShJLlUEktB3nUZM+Ddb3w7lYF+7rj/Xn519+0Eoc/SZat47cv/vKlhrBFJURxpCmrg4YfvY+Pmjdx+6y1/NKcPDx/UfX3Pe3TTVXNoHcU0U2iz4nHEPZSCxx7Tjv5wmb/2dt1d+853nsgEc3Sr1eAlL4Ff/eoIb2bh0tfDv78Xhoaeeg6lIIihJBUZUSDBNxD8Cs0IeuFTDjPPPBdyIY/9L4iLJ0jwFt7CtVxLG23oCP7l6CLrP6J4F4fICY9nC1QZrwVeQ0SK+xH8A3oq1k/DzehO62P51ZPRUN1htPMf5ki/ZwLdFHfFwXcfRE8DlwI/4ViJmmM5/ed0egcUvu/xm4fvYnx0C91dXTiGRVvCoT2dJuE4tGRbabgeyUQC207gegHVWpVde55k//i4XtYuJHdZ4NaJSDgJgsBDCr21WqtB4QADlstgWytu3dVUDIZFoGCmXMKNQ/ZPjLNl53by+Rl27t+HH4VEcUQUhU3pQnBsh1KloInTaKpaKVjem6PDKNNOgT/7k0s46/Rz2Ds5xaadO9i250l27N2DlJLTlc1JnqI7k2GosxfDj8nP5anWqvpBUooOaXKmnWaplWS9k+H5dgtnOK2sxGZQCc5ItDDgpBn1GjQCn+Wmw0zgU1Qxk6HPnfUStjRwkAwLi9OLNfobHulEgt6uLizDJJ+fpFYtM2gnWaQkKUsD8PREqPn6hRCEYch8af6gyth0fpq6SmFnOsFJsm16lk1Tedx0ms6li+kf6GMqYfFrt8icUFSUoioUo5HPVOyz162zp16hFPostxMsN+1mU1bIVORzX3mee6pFHg3q1GybjY0q+eI8lqnjIdMw6evuRUqDOIpRsSb4Us2Jql6vkp+dxhB//OG/EF2/7W1w8cXw058+PR1zuEl0dHd0B1WpaH73p+u6zs9rdacLLoDvfvdY5zh0XU9/XymdLrrzzqOdHG75om4cu/56fS0LxyiX4VVvhrXfF1xY7+Bu9R5ibkIDAw87B4rv8322HIdO+UTNxeXzfJ4f8+NmwPIidCHcRDHKDdzAR/gIjcPaz45u7Wjah7cCV2MwzbloN/9RFmjhVjT3O5ZtBf4e3Xl9GbCZI00SGfRa6NCvvRed2nkRJ7JKOJr98Uf9cSyKY1Yu6mPtUAeqvItyaYI9o+P88s47CN0a9VqFhGPrhqowpOF5hGHAbHFei5Cr5gOPaiJSNINlo0l9ECMRCGpegOuHpAk4td/hhSf1s3J4GBUqtj+5m/0T4+ybmGB8Ls/+/AwPbH+c+WoFQ+olllogajMtgjDAD7SsjYr1j9meTnLBKcsxpUSFLlZtgpPaYaS7HddzmSsXwZDMVUvcVspjGiYD0iTr+uzeuYNtu3dpvqBYFyVb0Pn1ooooo3CEIIWgGgbEUpCIIzrimKWmQxwGjNbLtEvJZBxxW6NCQcUYCNKGSUoYZMKIc6sBg17A0r4BTl6xkmWDg3RlMszt2sGlZY/17V20Zls0fBWaHPXoxi6lCMOA7o4c/d0dzM+O0tqWQ0gLJQxm6z5bZwrsKFXJpxI4rRk6nTQ+gipQV1BGESCoK8W0CklJyfnJLFel21llaMc/qyIaKKoqpgGUPY/v3vhDvvbtr3P3b+7U3ElS0pHL4XkuUayZU6MwwEBgmgb1eh3XcwnUCbKO/QEsjnVB81Wv0tqzDz30TPL9h45x3XXHcMpoGuOrr9arisceO3qTVLmsSd5KpUPXMTGhJ44jNQMdbvv3a4qIT31K/1sp+PnP4WffhsnXwgN/AlfeKHi/a/CwEk3eTW0RET/gB8THaFZ6pqZQXMd1PMRDREg019GDKD7Mf/EdPsSH+CUnwmezkLu/Co3Q3YpAl1ffi14HXMIIBn/LiWNkdqLlK3+7MH8xuhCuFExNwfR0DddNoNRylPr/qdNXStGSSnLx+jVYhoEhIEOFxZ0J1qxcSbnh4vkuLakUrutRrtVQccTeA/up1usHo/wFh69QqDjGNCRSLGDS9T5Zx2ZZXxcrBrvoSFsMZgQjHQkWLV3JsmUnk3BSB0tA0QJdL4qUpXVhDaRGiQQ+kd/QfPHNkWwKyQWnrKC7rQXTsDTFMTBbmGZyrkAymcIyDNqyaRquy0Rlnl8UJ1H9nQyMDLN6YIjuVBrTNFhYrVSjkLQ0aBEm84FLNQ5pqBBXCixpopTCRuJIk/HAwzFNAsBTiqFEknPTbZyebidl2NRRVOOItnKVNVMFBmbnGUqm6OvqotyokejsZCJp0ogjEpZFe2s7iURSw18XWEOlPBh8ZDNputoyzE3todGoMp2fplQp48ewv1xjd6Qo9vXg9eRQ6RQVKXRPYpMIzkNTLfcYJmkhaZOSS9JtRIBCHBy0AkBaRFFMtV6jVCmRtgVrFvdSLsywa/cOCnMzlMpFwsDH92rEoU+9MksmlWLN8gV89HPHgkALqWhxa51DPnaqoAZsRamY++7TjvZ43a5BoFcUGzZoHdh8/qkTjFKa2+ev/gr+9E/h3nshDOGzn4Xdu0/se3R3w2uaYO9GQ9cYogjd4XAXFF8JH7sSzrsV/sSD7Qs1IyIKJ8zveOK2iU1cyqW8k3eyj1EUixCkuZqrWc3qZurneCbQzdffQqNpLjj4jkS30f0Ig89yDb28At3D90Z0H9+x7C50veYQ958EXo+eOsJQ133WrXsV5513D6973Zn8y79oHqUtW2B2VtNrHGl1diR7TkM2Ac5ffwq9nV1IIXVxNfSx4wpZo8FtWzeTTGXpHz6ZoNqgVqsxOT3F2PTUIT4bITCE1JFo4GoZQTQySAqdrDCF5EVrl9OVtQl9lxiJrywe2L6byTp0tHeTTWepNSrNugAQx6QTDklTYAmJKwVeoLCkASpCSIFoRvnL+jpZNzKAYRhEUYxETxz3bt1NvlTGME1aslmkkESRjxDQ2dFOZ08X0pD0JJcxEDWIxyaYmZuFWNFhGJzsZAClueLtBKNuDcdO4giJQmILRSUO6bGTdBkmY4HLI26VXGSzPt1Gm52kELjs82ooAaOBR1qaDLtJRryQB9vTBKkUcyrmfsdC+C5mwoFYYRkmdqaFhltvRtNoccK4KdVoGjTqdWzLJpNtYyo/RRiFtLW1o9JZ9tUqtA8NcWZ3F7vGR9kxMclMGNEiJAFa77cShexxK6xPt2EGAokiUopYCCI0S2ksJXEcEkY+fugTR4qONkHWnmX2wCjuXJogNBBOGz29Q7S1d9KS0NTL8vdAQDybdvLJ8MY3KoS4Gfgcmtn8SJj8GM3+eCeFwl285z0pisUTP0+hoCP3kRH4i784tP3AAfj0p7WzueceDel8+cufAVmbhL/7B1jRJJ6+4w548MGn7RMAt4L3a3joYhj9FKxeBXXqzHM8svgN6Jz8bnQn8ygngmYpUuSLfJEtbOHn/JwkSa7kSi7hEpJPaY47lonmuc886jtvx2EDn+T9uPyMJQRsRqN6joZGioF/Rjv9awBJBj1VCGB8XHfczs1lmJpaz8aNzfMJSCQgl9NQ15Ur4R3v0JrLx7LntNN3bIv1y5ZgSE2rABbSMKl7HlXh4Po+5553HiPL1jCdn2Ryeoon9u0ljGOU0EiYOI6JhTqYz03YFqZhoISOmiWKk/u7MQwLJXVTjxKCiUrIxHwNN4b5yg78wEciiJSONw0paU3ZLO3t4smZIjQaJK0Ew/197BufoOFr3HwmYXPxupOwTVMXQoUEYsamC2wbnSKOFVIp2lpa8IMQISCOFYM9PUgpCSOFY0oGurrYtWu3Ls5aSS5ItpCU8IPiBDkhqXguwpAstxO0W0mkmaCGwmuUUYaFZ1p4UUBVCAqhx3ytwCNeBU/FFOOIWChOs9KMWEl+Up0lrhVozBpkkknOTLfjdHTwWL1KMpslm23FsUxipciks/iBj+d7CKXz/arZ2CWlQRhHOI7DyNAIURjQ0zvA6pNOYXx8jNH9u2lENWZcH8Mw8KOYMgoLQUoKBp0ErdKk2GwY6zUsSlFAgCICYikxFhrImnTUUazYuXea568dYaA3hyk8VBzRiOapzFZw4hwovUJJp9N/xNF9ZDNNuOYayOV8tLN/FI6ouarQhJ5PEkV/y8c/nuSho7GFHcPOOEM79IVFbxTBJz+pHf+Clcu6kepErf98ePWb9DE9TzeABUeTjfXBuQd6XK089Xk+zz72HecMVwOvQa+CKujC6onRDa9iFV/iS1hY/Af/wQ/5IVdwBW/kjRjPCMlzdBMIVjHAd9CF2H/iVPbzLrRDP9rk1IDDpBb7mi+ldIdt4QiLH6X0Kmp8XL8efljrEBzPntPpndZ0mqRtI6Rspg8MIiyqgcGv7rufgYHFnHXGeYzuf4I7772DfZPjRCpGSp0mUEoRRxG+7xEGHpZh6FSMFIimaHYuneSCk5cx2NlOqR4yUY2oRyYH8kUMyyGIYvaPjeH5HlEYoBW2wJCClf3drOzJccZIP5aUrFs6zOs3nMepI8M6AAfOXbWERZ1tSENqHnsUsRty/6M7iZAYhsRxDnXZCQSZTBo7kcYQJkIIGm7A/Y9uou66JBEstxOsSbbgWAmqYchOt8a8CslZNkkp8EMPNwrY71b5ZWma39QKPFidx1cxL27tJGeY2FJSiCMORD5VYnpMh1IU0mY6hEqRj3wiz8Op1Dgjsri0FnGqMAiDgFKpiOu6WKaFbRqEvo9pmliGqZkfmw5Egc73A0HgawEZBPVqlaWLl3L22efT2T9MYNl4hkVsmjSkYF4oZuKI+ShiS6PKbrdKl50gIw18aKZ5QEiTWGmIrD6VIooVc6UGuw/MIJVLw4+xTUVPq8F56wd4wbpevEBTNcvfFcLyLNoFF8BLX6oQ4hdo/aa/RIuFPN0awLtRKss997yeL33pxPRuD7dkEj70IWhp9vwoBRs3wn88XS7pmVgrvOGjMJjRx7v//mPXGEALrZ9yCowxxvVc38znn4ROjxzJdqEHWYzmKnrxCV9enjy3cAvXcA1/w99wEzfxdt7OTdx0jE8pDo26EzOBRt+8Afg1gjfwBhzOQkM2jza5LGHh4TmLQy1cd955YmmbbPbQ6upY9pyO9C1DC6HXSxWKlQoxktbOQcbmKzSCgF4nzZO7d/KzW35EzW0QR7FOocQRotl5qeNqhW0aTbieaOqzaoGOwVwrY/Mlso0GBB5+GFE0DNpETEkKpmslgsAliiKMJshZCOhszZCyLbwgxDEkbZkU5687BceyOP+MM3Ecm91jE6wdWYQhjSZ/PxDFuPtnGZsvacij0NjxYqlMJpPFtAzWrj6Jvp4uvDAEFZOfLdCo1sgaBr2GJKnAEpL5wMdXMSkpSUqDPidNi2FS9l3y9SIVYLmdwAsDDgR1vMhgmZ3gxa1dPF6v8KhfIxCwzEqwNNlC3XfpNG1SCIacDBekc5TjkEHTQUjoEAILoRFLUYjvu6TTGSamp5grlUgnE/R0dWPbts4vCnUwHSalVsfad2AvDz7yELbtsHhohJOWraDlTIP927dyoFKk2KhRqZRphAE7Qp8uJ0275bCnUeVA6CMPpnZAGlrPVClFNungh7q4rKTBnvECi3qydLSl6OnJcdKyIVoyaYqlOqVKQHtr6++OW3yWLJXSItyJxDSaVrkV+Ct+OzZTwDeAW6nX/4trrxWHMPPPwF7zGt1ktHAbPE9PAr9zz5qAlW+Dd54JUuj00PXXa6TQ0cxINzj1bRs5YAxwIzeSJ48ujX4MTT42cYRPPY7Gy3wHrVez94QvcZZZ3s27n7ItIDhOP0AeeDs6P385zyRWHmOUGSb5PKfwEm7jAxxgB9/jEHv3gkk026quWb28uaXhcjCdczxbtAh6eo6/33Pa6YdRxMNbNmOKSOPdpUEobAQm55x6Mrunynz7+9+g7laxLJNY0BQIEdBskoqjCMs0GenpYrpQJIxilFCYUjLS283Svh5My2G6UiIpItIyRsaChBSkVUihmEcIgRAgTQNDaETvYK4NzwuY9n2CUHHS4kVEkSKM9Y91+vKlnL16FXdu3MRJg12sWNRLHCv8UoMfbNvJfByihCCdTNLX1UG5Vqder5BJpclls1iGRv6UKzV27niCdU6aJYZFo15lfaqFhGXyWLnAfBTQbxikpEHStAljrQhWjgO8WLHCTBLaMSVXC8f4ccQKK8Fdvks9jokMST0KcITCNE021+cpRSFrTYfFhsNUEDBdmaPVyuEaBknHxlAQRKGGas4XSCUcqsOyD6UAACAASURBVDWDWrlCPjZZsmIFkdcgJiKKIu2km5TRhmHQkcsxlc/z8OaN1CoV2uZnuViZFBYtYaOMGZ0a58DYKN3SpN00MQ2TLY0qeRQhEAn9YCghUc1jZxMmQ/2dbN0zSRwrQiXJV+GiFyxj6XAfpbKH74cUyx5uoGhPWnjxcyun/8pXaj1cIRro7PDfotWfnm4B8CuU+jtuuOEy7rrrmU9eixbpCcZsegCltB7vrbf+7tfPyXDFu6HH0MfbvFmjdo5l5hW/4L2nv4YPkaBxsIP2DWjn+q0jfEKitWx+go6+j0R09sxMIGil9Rh7ROj6wWuBt6H1Djo5HmxSofgkn+TLfJmP8THexbs4h9V8lDfxdb6M+xTVr140Bl+vBdY0ty50bp+InXKKXr0dz57TTl8KQaFaQxKTSVhk29pI9w6yd/v/R917x1t6lXXf37XuuvvpZWbOmV7IZBISkkBIILSAgAgoikqzg4ovAmJBFBAjCBYEwUJ5FFCeACrFVynyqnmAkIR0kslk+pyZ08vud11rPX+sfaZl5mRCVOb9zed85uy9173vXe5zrbWu63f9fg8wNjhIdHCKbtRCOo6lRhpz0u0KwHEcXOkwUCrwhA3jrDRapHlqi6xCcuUTdjE5UKXZbLDYzsmkJlNQFRJpPO6fWaIeWfN0jdVwGesrIwXMrjSRtQpxklKtlHjyJTtY7Bg600tUA8FIpQhhheH1O7h7fpqldIHtg2XiqWWOxzG61zcw0Fclz631nxv4XL5rK4v1OrOLS4wMDpAmOZ1OC53n7PRLZEGJzW6IkyqqjscmP2RnUGSiUMETAs/1ENJjR2C4q7VMvx+yXmvKSRNXChwhyIxm0PMJ45RIaTZ5Hte7BQ6ZmGYa4wPfaC3RiCMu84sUPAedZHhZQKfToRlFlIKAkuOQSIlXCCmMj9FstZAiYGWhzRW7drPQPkG9sYJSCmM09BqjfM9jw9g4tjZicH2fgUjhlss87bIr+Mot/8ah41McUDkOcDDPuDXtkPdM1I2wrliqF/RdKelEMTqNuGrXOPfun0MbYw3GJ8dxHUmtEjA/32R2MQJhRd/S8yaa/+cxPAy//uurOuibsATAkHOvKj3gE8zOhrz73c6jUijPhpT2XJs2nbpveRluummN3PujwYXqO+Dnh05uaPnQh1hzB1Iswl+/4TL+2nkyt7CqEDaGpTAmWPvIVQTYz+IFWPXqV2FFCgo8lpX+uWAwvR2GRU7OCU4wwgghITCG4B+xqqIfxPog/DI2TbN2HWA3u5lkkod4CINhHfBnTHAl7+HTfJVvY+jgYwmadpk+ic3ng2XnXOgu7sorL2zcxR30paRULFNvLpNHMLB1gqkTJ9i6cRvdOMF1PXw/IM8zTE8XBsAYjegVWx0huGRyPaFrPVYldjJZPzyIUxlhaMBSMQfSmJX2ArGUdNKcbmQ4vLhizcm1Bq3pLxfYvW4QV0gOLbY4urhC6Eqe/9SrcZyAsgdxpqgvtZGuS//4Opaa93HNFVdBBkvdNvc3DvWYLoaCH1AMA7qR5fT3V8tsnphAC4csy2g3mtx1z/00mk3mkGhVZo9XoM/xOBS1ub25wO6wzMagRNXt6e5Ihy6Cw90miYDDWcz+tMslpX4GXI9MpdwXtSgKiep1KBeRtOIuc0kXZYydPAR0jaLiuAxLhziJUInHg0eO0Y669AvJkwaGmOgbJMpzFqslnGoV6biYPOFf/uMLeJ7D+OgYfrGA6TWv2V2TQEprG5mqnMVigS/3BezavAWVZywuzRK4kmamuCPPkNiisM3d2x2DXeX3Mrta4YWSUjlk+0Q/roDv7JtleKCIIwXdTsqBQ3McOj6HCtchHQdtDLm6eHj6v/ALsGvXaqpFcLq36yMh0LrEBz9ojcQfK66/Hl7zmlNpHWPgIx+xK/PHgxv6YWPvOR9+2Or5rIUbb4QfvXIL28R7uYEbSEiwJmWbsVLHs6eNfhtW3mATdtL7CjYHDvB32FC2ajZ/62N63Q4Og73WKo3mA3yAm7iJbWzjCTyBl/ASXsSLcPg8trFqEiueNoktzp57lyAQ/Dw/z4/xY6eZtfwdLiv8DD/Nq/kp/g1blp7vHQFWZC3Efi+33nph+XzHsTIbF5KxvKiDPsDkuglibagNDuN4RdpLdfJ8HiFcK49sNKVSmU6nfZI5IgDTS/H0lwo4RtHtdHGEdaRaNzjAc66+iuGyx/xyk06cUisPcnxxEdfNSZXDnYeOEyUxQlqdnsBz2TU2QMF16GbQjWK6ccyundsY6asS5ZpYg05zKoWQkclt/Pud97Bx/RjrhsZZXlhgqV7n3iMHqccxCBgc6EPlykoaAJsmNuC6HkopUq3pdCKWl5cRxnB5UOTysEpNOCRZwsG0S8dopIADUYudjsNSmuE7HkfzhKmkw3KeMZUnZBgCI6hKh6bKqaPIBShHUuulrpbzlKqUeNJhUKVopegTEhcBQnB4dJC9pQA9bZB5TlVI9sQZtYUlMiGIOjGz1RIHioZ6HBNnHZZW2jS6HbbteQo1ujhkJD0WlZC9oG1ZniykMcsP3ovSBvI228ZdZtuaxTrkil56CITRSAyOEChh/yDCwOHyHSMIk/Pv3znEUjMGBJs3DDE73+LO+/bT6rTx/ZBOJ8X3fMKwSLH2CAPW7wu2bbNUu7V0cU6HMfDd78JffQ8OfeUyvOtdZ5psHDxom7oejyKLcyn89OVW+Fdr+OhHz804WUWhAG96k6Hj1fk4H+8F/AKnstl7OdOtto0taN+Lzelfiy30SuA3emNW38BtrOVEdToEghfxIl7ACzAY7uEe3sW7qFPn9t6/z/JZ3syb+UV+kXGuwXoJLGK5OQcw/DmreqJnyzkIxGk9ADl2B/dpBF/E4738AJfxGSRvQJwUndiBDf9ZBrfddkFvg1rNynlcCC5q9o4Qgol167nuyc+kf2AdaZowOjhCoVihHXVYrveuKmPz/5jVLlEb+F0hGKwUaXdj7jp0jJUoxvdDrnvikxgsFfADn9LwGIEfcHBmgX0nGsw14eD0CkuNBkIIQulSEIJqGJCntmtXYOgrBQghWNdXIY4iqgPDtOIuTugwODHOUiKYX5xh5/Y9SOkSdbvM79tLnCYYDL7nUS0WSbIcYwxBGLB5cqPV/BcO0ydm2H/wMKExbHc8nhSW0RhiNN1e70FFOnhCELqeVdjUmoNRi0YasaVYZMz38KUkBZrCMG1y6mi0EPjCTgJXlAbwhcvdcYf9ScSiUjyp1M/lhSqX+CE1KWkVPI5WiszWV+hGXfqFYKMf0ExiXKVJ85SJJGNPvcOOKKPoSDaPr6e/vx+jUg7e+w3M0iKbOhGj2tJkMXb3dKqWJciUQmnF8Ph2+oYmuGbXEKHn4jk+GtsQZ6SLFhLd8yVACKRwufOhOf7P/dNML0dkWuD7LpPjg5RKBSpln/6KT6VSo9WOkUKQZClJdCGt9/+9kBLe8pYLK8CtIsus3+1aQfV8eMWr4KnXnVoR5jn84R/CzGMTtDwTPuz4XXhmvw1WU1Pw93+/9iFPeVaXB57ycZ4pnslH+Wjv3mdwiql0O6fUKB2squhXsLIFr8SqTn6MM4uhBh6jQNuN3MjH+TjFHlfmZm6mzpnNDl26vIt38af8aW9yqmID/q9iuIVP8R7exJv4Bt/gkaqep8PB0nDfhpVeeDmCn+HpHOMLGF6FZeysBv3FxbXNZk7HxIRNEV4ILuqgD+C7kkbUYWFxCZXn5Lmi1WoxPTvDSquBNtCN2j0ZBIXWqsfeMZTDgHo74uGZeepxiiMll23dSDnwcDCksfWabXQS5lpdiqUKbqGPlU6G43qgIclSpHQYLIZkRjBXbxFFEbXQY8+mDUwMDRDFMfNH9jJW0Az1Faiu38yt37mD3U/YQzmo0mq3mDl8kPbCAomygW6ov0ae5yij0cawdeMEBT8gSTJuv+d+/vP2O8nnF3i+CNmlBVv9Ir7r0cKQSUmfF4K26ZERP0TnGUeSNl1ydhcrlI1ga1hi2PXRnJLqUhhKwmFEejy/NsYPVkbZ5BUpCoeRsMKO8gDrpEcRwbAXUvVDlsICTc+jEBYoOA5jUrJOOBSERBgYxqOexrS6bS5dabGtFVECdoyMsnNikiu2bGVdt8OOxWWuTnJ2jq7HdVzbLd2TxQBh2VXCirllpp/F7iS1yjC+H9JXGUYIy9bJhCBdPU5rkiQiSTNcx0EKQSEscNkllzAyWKVaCXjCji24rofjFUhzTRCGZFl2atHwfcSTn2xZNBdKJDIGvvKVtZ2RzgsH7hqBmxdgqde9+a1vWS2ex4UXwMteADVxqpt3dvb8w4PAsOn/+SK/4r2We7m3R9GUWKbSqm/x6YWKJ2JLm78IrFoYz2HNSRZOG9fGGsVceNpuIxvpo+/kCr21hk/BB/gAH+NjNGlxlAY5NwHf4l85wft5P+/iXaiT1M5zBX+BLdP+NnAntmHrMwhuYJK/4eNo/gF4em/0ww9f+MS+e7dt1LJYe8t2Uad3jDHUo4x6q0NQKJJmCiNhqb7MkenjGKyZtxU8Uzanb6yMrpCSVhyT+QWCQgXdbTFUq/CkLRP4IiNNBJ5WJHlG1wnwixWGShWGqjWWlptI4dJu1kmSGOEZJJo8z8hzRbPbwA8Crt9zKdJxrGyvMRydX2ZsyGF+70P4DmzbvI1SWGDpoTnue+i7HIgaKCDwXQaqZeI4RWC9gLdv3IQ2hjRJOXjsGO1uG196VAohw0EJnefkSEIvoJXF+I7LRKHMkOcz4AVMdVscV6n1odUZjTRBCfCNzQ/m2BQSQhAZTckITJaySJs+x2PcL2KkA0pxPO4w5od4vYLn7PIS3+0s0ex28PMcY2Bv1GJDT8TNlw6H0g67gzLFruCKzKe7skSlUmE+DGkozUIx5O5cs2PdOA8dPUIj7lIuVxFSgLSa/UKsUmIFuVIIAZMb1rHSaBLIAs1KHycWT5CmMXmeolWO77pUSh7VSki15FEp+r2fCK1yjNEMDpQZG1vPsQVFo9UiDEJuu+eenqvW9w9BAL/922v7mZ6NRsOmZ5Lkezihgjt+D17zv2DLm+CVr4ev/x/o5I9+6HnRDxO/Cz/n25A2M2uD/lq44RnQvOFLKHF6YNdYr4CX9G5fjVXzH8EqW74fHtG0dRDrdPV67KQxhC2IXqBWxBln13ydr/NNvnneMQkJb+bN/Bl/xiKL/DQ/zRt4A7/Pe3gmN3Ipl+KwgqWbvhy4knOHWAfYAPwRlqb5mwj+Apef4HnYyG2M7WLOL/C7edKTTr/VAA6dd+xFvdLPlaKeaeIsAwRxmnJiZppDx46Q5FlvVagsJ1xrhDBIKXClJPRcioGPURlx3MHzXK6/9AlUi2UKhSIYg8oVtf4Sz7/xOQzVakyMbaBUKHPp1h1cu2sP1w2NMw6oKObYfJOphRYH51eYacVMjo3RTnIiJTAIuplmw9AgSdwlXTnB1rFB3KRDo77MLXd8m0P1JRJjVwBD/TXEadLEmybWUSkVwWg8qRmslNFak2tNohUbwhKetIYyaWbz7f2Oy1PKg4z6ZQJcxsMKoXQpOR5DfoHcaEquT9coLg1LPK9Q46XlIcalR6Y1A67PiBcQG8ViHpMIGHR95mLLJSgJCUbZngClmV9aJO522O643FgdZL1X4OGec9VG12ebV2BnUMI1mpoxTKaKzsI84cwMT++kVKOEe+MO/zl9lOWZ4xybmaK0sY/MGAph8aQukjEGIWSvA9uu+mvVCoWyxxP3XMLmyU1Ix7KvDNZQx/dcNo3V2D4xwIbhMoHrYnROs9UliVPQhtHhPlpRThCEdKIE4QeUKo+mhvjfixe+0BYzH8sq/2/+5sJ52+d+ElAzsH8U3i4Nt7wlh0/XYU/2PQk3ej8Pv3s5TIhTKpxHj64x3oPXv0Gx6J846xHJmU1oP4CdBL6OXftu5Rzq/lhvgSuwu4GfwdIqKxf8+jewAYBv821ezsu5j7Wr2TExD/MwyyzzJ/wJV3M1t3IrP8fPcQ3X0OA4KV/A8Bxsr8VadCgPeBlWx+cDQGDrVr1Hw/DCFgSuay0oT11H86yV5rqog750BFGWo7Xl36e54fDxYyy3Gkjp9KiANq1j0LhSUgwLlv4owXEkrufgSMPODWNsHhvD9QOGt+7BrQyhvALF4U185ctfYX55iVKhSBLHeEozbOBJQYkfHdvMpUGRJ0oPJ84oeiW2b9jIaP8ATm2UwdFJXCmoFAIMhjxNkCiWF6aZPnw/e+/7Fkemj5BJ2zHpui6D1QppmvVue2zeMGlrEUaTJQnL9TpCCBZ1TsUPSVSO0yvCGinxpItE4GuDrw1CG4o4PK0yRE14VBFs9ossZilF6bDB8bksKHOFV+Qav4wLHEkj7us22Bs3qXkeVcflRNzmaNplvR+yzgsZcHwCKXkoj9EYKsBlXoE9TsANhTJVJGUkaMW1hRpC2frEdNJhs19ih1diAw4DnZjLohy/Xiet13lqscLTvAocXqTPDRmt9VMOi3iuS55n6J6kgpA28CulyFXO7MIME2OjXLbrUkqFIqVCkWKxxHIX9k3VWVyJ6cbW20BpQzdO6HS7ZHmO54U0O4okzViu11lZXqTVPodB6/8QHMeu8j3vwo85cuTCBNUeFc8FXmJATIP/SnjJ5fD/vQ/epmHgMTxPAFc9F17Ra8JeWbEsoLUKwtddB9c9I6MuzhYJCrBBfzVySWzwDnv3vRkrR7zavb46AWisFEMTGzzHsTn/R4ePz7N4FgLBQQ5egObPmTAY5pjj1/l1vspX+TV+jSfyUn6Ufo5wA4ajPHqqSWDZSk/h9FlXCPjlX7a9E9deu3aRv6/v7CJuzlopnos66CNcOl3LoHHcgJXGitW9F5Zvbt+WwXUdXNfDdT36ylV811I1JeC7Dv2VEs+5ejvlso8kJ41TsixFhmWOHp7iG3fdze6de2i2WsRJytzcDAcO7SPJU+I84ZJilR/pH+eV1RGGkpjZY8eZnu8w6EJeP4EwimqphJCurScIQaVYJIo6JJ0l9kyOnZQhHqxVbOG5J5E8OjJCMQxIkgSVZUzPTLNYt25bJcdD+CHlQpEEhcagex28npAgJI6wip1CwAY3ZGdYJdMwr3L2xl2K0mUiKFJ0XCKteSix9Y+WztmbtFnWOdIPWO8XmEojEqPRWtGMu5SlQ+Y6FLZvY8umrRRdH18IYpUz4PiUpGROZTS04lDcpiQdjqYRx/MEhGC7bymm03GbqeYyI7lhV6Iptrs81QvZPb/E7jSmfeIYjfoSwmhqlT7LymK1k1fY4raU5HlOq92iVChw5aWXs3v7TrZs2MAN1z6Nct96vnusxZ37Zmm2ExCSVifGGMHKSpOVVpdWJ6YYBBQLAcODw3je9y+7OTgIl19+IW5ZEWBQCt73Pjh+/HGeuAa83UDwMHZVfDOIYzD0J/COwzZu/qAB7wKoPAlkvwOqYwP9F79opZvPB8+DN77RcCh8gIOc3XEUAR/h/CvjEHgnNmf/BqxD1aoZyiq2YHn+L+NCHLEmmGA3u61MCE9GsOlRjzkXppnmpbyU9/N+jnKUL/IdnsdePsJ1pN/L9qkHx7HeBP/6r4Z3v9swcrbhcA+TkzB0hof8+U12Vh+9aJFkCq010vGYW1zkcC+tI4W0jTW9AmClMoTvOoRBgOdKPMdywLVWGJVz7aWTVIshqQOhH5MsHkBjmF5c5iv/8Z/s2HUpSRIxPTPNPd+9l/37H2Rq7gS3zhxhvtNkq+PRh2XlvrY2xgsLfRx96CFuu+MeFuaWQUiCYhWBIFUGpSFwoNNpkec5+6fnUMbgOILh/j7ynoaPdBy2bNyI1sby8ttN7tz7MHmuGJYuTyoPMFyskHoe+AVcHEqpxtGgjaCuMm5rL1NXChcHV1g5hgeiNt+O23QFTOcJ93QazGQx/9Je4pi2aTEPQao1zTzjSLfBos5YyBM8INOakuugpWR/fxUxPMiOyY3cMLmFbLCPRQF3Rh32qYyDKuX+LEJJQUvlGAEb/SJaK1p5gjEwk6fckbQZDQpsFj4rcZexoMRuWeCylpV+qBaKdKNeV3KhRCEswikZH1zHPWnaoo1BYOiv9dHXN8S9D9zHnu1VfvgFV9E3NMaR+YiFlYSZhSbdKKGbZOw/3iWKM6IkQUqXDeMbGOz7/qV3xsdXG7HOB4PNYf8ExrT59rfhk5/8Lzjxz6Zw5Z+CeBZwuijOMsh/hCca+KyGj38Stj/MWivGIIDXvxZKJeuo9aEPrb0LufpqePZz4CPiI7Q5V8fRx+Bkk9YqTi+K+lh+/J9i0z9/D3wTK742jE2nFLkwnZwiL+MV1Kihgc+xHcNHOb9p+do424RlPwd5PW/kM3zmURg9a0MITa32V7zlLV/i61/v8uIXm0fsDq+/3n4Xp7AJWH/e57yoC7naaIQjaXc7HD1+hEbXdt9KYWeyVe/TVmuFPM8oBgWiqN3T38kRCMaGh7j+8ifgS0PmlFmeryNcl6SVU0CwY/MmRsfHaHTazC3OU28sI5KI1GhQOWXANRpPK7YUytQLPjs8QbYsuGXqKKLeYGXzBBtzj8AXhIGD0Yo0Nag85+HjM8w12xit6a/V8CR0lWXsDI8MUyuXLeso10zPzDO7VEcawy4v5GnlAeaby/QJQy0ogvEw0tDNUj6/coLFPKWN4piKuLJQZsANMBqOZhHH8sTaJxtDXWXMZDErWpFZMSIQoBCUpUNVuow5PlXpkmMY8Hy0dFkJi+zrr6Kkg5srQm24ZWkR041YUplV8TSazdLl/jTmTt1h2PPZICSzecKCyhl1fTIhUKGHDBwyYRj1Q1pJh4J02WiKzNbb1AsOlMvkWtNorhAEIdVylW7cJcsyTK/Zjp71oTaGdrdLmmVorZmfn2L75B6e97RL2L+vzokT0yw0BFPLPgtN2HfwOLpnQuM4Dl7gf19X+u4FnfqzQJc49vi937vwzszzYouCN34UnN/CGmyfDgP8M4g32kX1Kz4Cz/4NeN9b4GM/C80qZ6cffu7nTqk6fvnL1uP2fHBda9UYFjTHOHaeUTGWx/6s3rlS4K+wRckfwAayjdjGNYGdBC7H6hDNYrXuAZZZO+g/lRrv4Wd5ChLJIvAAApteKgLdNY49CwZYGgQ/hUrrjAV2RsZf8Be8jJf1Onu/FyjgdoT4LLt3P4NP/e+/4/P/VOJLn5cUi4ItW+C1rz17xxiy2jdwLlzUQd8WNSQr9RUW68snHZrSXu5Yo3GMwHVd1g1PEEVN4jhFGoGDQ61S4hlX7sTxyph0maw7hxCS40enuf/oCWZWmlyydSfF+gpJt83E0ACLJ45SlJKqcCga6HNcrKgz6DyjJAvERRfVdriqXOP6wiAPTC3ypSNH2b5pA+PDFWqVEu12i2YUcf/UzMnOz1xpZhdXkNJBOi4jg4MsLC5SKxXQecaBYydQWuNg8Iwhi7ukaZdECOaTiIb0GSwWaAnDgkmpk5MaTVtnCAGeFBzLIwJHMOK4HM1SlIDUGLpGs+phYaTANeAJQdX1WYkjdjgFbiwPk6IYKlaZcSRp4NF0bRPV3PISt00dZCVLKGlDimXZZBjuzrrInqpoo6deuqxy9ucxOoa2A89++pUMFV3u+uZBaolm2PWpeT6tNGarAzOhx1y3Q73TIUoS0ixlbHiEWq3PprLShESIXre1rY9oY/WCBvr7efDwIg8cvI0t60fZTZFLgj6OLQn+8/bDREmM7Ll9aa3xfZ9MXVy6O+fGczHmJfzjPwbn9qR9LHAU/Obfwvrf4JEBfxVlTm7+xRiMf8MG/Zd9Dn7nXfCfN4CyIWPTJttf4LpWUO3DH16baXLVVdZM/YA4wB2spQF9K/YqlcD7gN/rvd4PYIPZRqwMwy9i2Tpgg/9k7/e53jHn+373AJ9lmHFGexG6Dj3blgWsKc1jQOrDL3/IBv5PvRLG5s54+D7u40Ee5AqueETjlsHQpIlGn0EbPRMuNqX1MpriHl4Z/jjqx+F1P/6L/CA/aPvTH2MG6aIO+gbBUr1BsVhk+5ZtHD1xnGar1dNrt4VbYxT9lQrCKKKohRQCgTUz37N5kEvXl9HREqlWtOOcVjvlWw/tZ7kToYzhrv17GW+1GK/VGDCGzb5PyfVwlEYpxaawyLBwCQ10dc5UY5ljXdhQ6SOvDXJgZhYvzdhgMu675wHurhS4eudGQs9hutWlVqvSjBZASuI0I4pTDDZdcdtd91IIAzwJw5UyR6ZncIRk1JVUpCBCsS0s4hjNYhKRm5zDzRWqhSLjhRL1uI3MDYGQ9Hs+oeOxpJo0VE5R2BSXj6TPcciMYUFlJFi9+pIQTMiAq7wSnjFUkAxIj1R4tBxBF+i4glQKlNEcm59lKUvxAIeebj7WOCU2BkcABmZ1TpbF+FKSIVCOYHLbOFfuGYcsZnq6xtZpw45yPyrT3LMyz5b+IaQxSKBYCOnEEa1ul+7UMSbThA3S40lekTvKAfUsQZte57WwlJFSoUhx3QRGa3y/QDeK8OtLrKuUmS8XUUpjsNIPtsgo0SZ7LEq53wcI4HIWFuCmm8QFUfc8z6ZXHqnFY+Bpt8BPvgHE+bYLEmvYvRpBXgP8MzgxXHsrfPHl8Kmvw7svh3k4dsJaO/7qr9ru2m+en+mI48Av/RKUSoa/5W9ZYmmNd3E38HFsAP5jTk1QGrsC3wu8Hfgqlqp5X2+si83x/xtnavacjRcA4/QhTq69i9gycpsD2N3GBcIAn3+J/Ul9+PAvwTveAUkAoe26b9PmJm7i03waH/+Mw1NSfpKfZIUVvsSXGGDgHIFf9F7d84GnssiX+Lb4NgLBC3g+7vcQwi/qoK+0JtcK3/cZGxph3eg6Dk0d5eDRw2RpfnLFt7S8QOA7pwoUAkb6SzzjiVtBSHKV0U0USI+v3vkAh+aXCP2ANLcX1IGDezmiBT88so5nFvv52vIsU0mXQenScYUxigAAIABJREFU9GydIDcw7whuXj7BAoYnDo/i+CE69Cl02rhG0UpjRCPnoXsP4FYKVCZGGB/qY6nRIs01Sq3qvguE49DsdGl12milOHL8BBK7o/CQhEqhVUYjU4x5BdZVR5lrLZEAJ/IEp1xk1IHZZoOq42IMNFTGgspZVorYaCpScrlfZL3r09Cab8ctjuuMYcfhSq/EpBvgaUUgJHmWEgpBRTosQo8nL0hzxUqjQdLbNTgasl60tNNKr43G2Nsxhnmd4xmBEQKnGPLcG/bgSkUuDJfuWUdhNOMoEM10WIwlO4ICQ5mim3RwCwWG+vqole0WfqBcwVleZigTXFMr850gYKVrPzNDT24DK4ZnhCDKEuZKRZywgIkjmnGEcK19pDGGIAjwPe8k5ffihuA734FD56dcnxop4M1vtqYaH/zgWbn1UscGo+L5An4R2zD0K5wK+s/Dior9sb2r9Dz4hUvs3b8F6mbLI3/Vq2xOPz3f5gG47DL4oR+CWMRr8uAtWthV/KPNyN/Emo6cPu5jPBpzxer0C6qcKvXmrLaC7b+A856GuVH7uaY+IOAvXwfzI3Dbk+GHvgiv+0sYm+V2cTtt2gycRY3y8LiBG7iJm/gj/og/4A/WOJmgSo3P83ney3t7PQHfm+nLRR30tdY4UrK8tESj3WKg1s/urTsZ7h9gcXmeI1NHiboZGig5ZYSjqBQlw5WAsYEyvuOilSbLFTghDx2cYe+xGXKtEI5HlKRorRioVMmSmOk4YjIzXOuX0XlOW2XUleJgmnAii/mmjlnSGX1DY8RhCZPnOP0D7F+YYSaJUAJEnhPLlKHaCFK7hK5g0/goh6fnbfOYsEkrAbhSorQmy3OkUpSlpITAE4bjWUKe52wJi/ieYFS6zAuHYyZi0EgqBoYcn9FyH1UErnC4P2qynKVMZwkaw6B0mHR8AgOhlEw4Hi2Tc4VfQSrFdNwhlg7bw0qPGyTxcQiVlbFQjqTVabPv8EHSJEIDmQCpT5YF0D2fgByDhyQzhgyNL+yqenigRn/Fx+gYpQ1B6JGuc1hY7PCwk3Dt9dtYPNZhthGTqIyCX6O/XKPRapAkMY2og65VuN11cXVKnEClWCJOrVtX1O2S5TG1aplCUCaKYjppwn5t8AsFSmFIp9tBSkEYFigWiiS9BrP/P+DZz4Y3fBze97tg1pDYveYaq5zpulZS4TOfWX3EwE98Gq775nkIHZPYlfUzOJPx4mEpkpuwzU5vAuFasszdnIyNSq2tvy9lL5dfTXgTv8a3TnOHOj8u9Ms5e9yjSYRKVvUrT2ewxCePfAxdakrCH78ZHtrFyQ92YRj+6rX29j1PhJtfDm9/J1e/FCpB5RGfv0TyZt7Ms3gW8pycGoPdxTSAbQgEo4zyXt4LPFLn50JxUQd90dNWmV5coNlusdRosNJsMFirsmV8HTXPZ3lmlul2g3qnRdFxGClWKXguKld04wStNEb6dDL4j3v3o43GKEWep722f4jbbcalQ6O+TLE8yKiUlggmXQ6nMfdELVaMQkmHqueTdjvkywuoNKWVdGg6ID2Pfm3VM9NqicHBEbpJhtaCoVIf5U1FDs3NEqWZbSwykGYpGI02ioIUhAhcAcLAvMpQjqGqDWkacczklAtF1klNn5AMaAcXzZawynTUIlI53+o0WDGavMd4CAHfGDb4IU2Vs95xyUyAow0H0w6+MQReAU9IpDakRhNIS9mMe1o3nu+SK0XeE4aTxqB7f2xC2MvSFQIPiY8gQpNjJ4XMEXTzCJV3kY60HdTCIF2HTMDYxBDhmEdeq2EWAkpHlpGOw8zcCYYHRygUSjRbdVpZyn6tcZTBcV2SvI10HEqFIlPTxykV67zw2ZN8536XWqWfRiuh02nTTSL8MMR1PTzXpVyu0u40WT+2gem5xyM2898Lg2GJJQICykGZt/yEYP5psO/34Dt/B9lZkkHVqqVz9vV0vf78z6FdnOdfHjwCQsNb/8Dm9B8BB/h9bOEUbPpkH3bFu4BlxLwI2z0qwQg7P1ygHgzA5ifEXPXiJb4rZvk4Hyd/LIEVgXWKXcSmng5wblOVC4XH+Quclrh5QTDA7dfAX/8CZ0bys37ftxNe87c0b0554B0ul132SL69g8NVXHWeE0VYWu2DwFuxzWeFx23reFEH/TzPSZOUnVu389DBAyzXl1heWcQRhsmBIXZW+tnoF9lYlsyVC2gpWJifo9VO2Tw5iO95aJmicLnz3kMsN1unDNOVIhAOvtCMGsGVbsiAsJ6rmwsVrlE58yplJk9Z1OAZgQeM+gG51tSnjhAIyYCA3X3DyCznWNTl3rTD5r4KS8vLVMt9SMdKCgSOy3Cthlso0DcwxEP7D1BficlUjmuMFU8D+hyHChJHCRpaEWvFoBCUHY8N/QNcUvco5JYamTouuXAQxX4e6jboAita4QlBn3TYEZZxMCR5xqhfIAWW8pSppM2EF9JVOSNeSJynDHgFhMqt5LPwcEVO4tj+B8dxrKAd4PQ+vkAKXCPIhWajV2CLG9LKM+5MWmQYUsfBLQUUih7tKGWoVkBIgUSQZZr160ZwJORZRCYNQ0MhTwmGmVrKabU0M/PTlAtlxkfX02g16HTaaDJrySQEWhmUUmzftJU4maPTUDznhgGmjkes1Hdw/97vkiuFFJJc56hU4ScJSll20CkJ44sLBsPn+By/yW9So8breT0/JX6Kj01I0g/DH7wY3v1WyO+344WwK+nrThNRGxoy7PzYe/mX/AOQu1CI1nirq0HwYeCXsCmThJ4hJTCI3QW8AmZvgI+WwVxgR5nQzP/y23lh7WYmmCB+LPlywAb6L2OD8QjwUeCNnKnL81ggWN3N9BIypyEFLrBa3inB236/x2h6lPNlPl//gs9zvgG/8itWTXVgYPW7MqfGnROrFNV3Yj0GQuBnL+w1roGLOujHScId372HWrlCf62fWqXC/OIsjfoKYZQw6CZsdH0uGRjhdk+hfY/RwUHuuP9emnunKDkuT7tiI4dmF7n1gQPkqqfnLiXKaDYIyZCQ9gIwmrrKmegb44HGAhtcj81+SMNo5hvzGGEoSEmWJER5jjaGouOxMSyxI9EMuSG64LMpLHAi0SybnEarge/5lIollHGpCcPoujHGR9aRdSLuqS+RYfCFpCIknjG2jtG7ICa9gHaeMVAOGHFDjqwscaVfJVQxUoByPWazhNAPmBR97DGKtLNCUysirVFas2w0NWGLsc08YVdQoOtpEqUYdQM2uAED0sVoaweZaEVXaKTrYRwHzw8Y7B+g3WogjL0MHSFY7/iMSY8FlTKI5DI3oI5kX9qhbRT9gzV27xhjsOYwNbtMu1Nk3VAFx3VQGoy28sfaQKYESRLhO7CupqkVahyYbTO9tMjhE1NMjK9naGiURqtBmme4jmuLsgLSNMZ3B7ntfrgkWsIPtnFk6ghK5UgpcT0XEa0WcQ0GQd4T93TExdemkpDwbt7NoZ52yif4BK/m1bhIQg/e+kKIr4G/eR8s/BVs3gmv/9UzV5BN0eRfxD+Dn9mf80JhmSGHgD/hkZo1BrvK/hzwBRDb4OrfgQM/cWFvRmpau26nJY5ylDW0Gc6Jfqyg2jg2KBosbfN9wNRjfK5VGFZTOJs4O9R2WEuv5oyn+MSrLZPpMSwalpbgne+Ef/on+//znw+edxghPon1CdjNIxvKXGwPwrOAT2J1eh4/Lr6r/jQYDHGSMLu4wIMH9vHwoX1kWYLjODRMTjfr4iuF0jlx1MEohS8k/ZUaXQN33nOQr3zxTm69+wgGgTba6rX3zFVKBoaFy3a/yOWlATb5RdI8I5CClSxlxC+w0S8iECQCAgN92ADqCsEmL2STcBgXLkmSMOQE3OiUeL5XpVoM8AOHNE9ZbqwQRTH9xQoiTjm67yGydpNyoUDgulSlZLvns9MP8A0kShFrzWKWoIABNyBTOetwrGGM0ZY7o+Fou85cY5FjnRV8DP2uR0VKfAHH84QNQYHAcVnKU1KtGPUCrijWuLLUR4DBMRqlrLbRdJ7yYNICRxJJa6UY+D5bJibZvm4DtTAEYTfJrjFUBExKl+UsYUHnTAZF+oVDEPrs2DpKKZQoBXGqODZX576Ds9RbEb7vIB1BmtmdhesF+I5ECIPnGAZLsH2swK6JfrRKuWfv/RyZOka10k+12o/S2vZoGKAnzpYkir0Hihw9HtNqt0HYmlCSJggBrmM7lx1H4jounutduOjN/yB8fG7ovACm14GBEUbOyPcGAt49An/0Hqj9v/D6v4Dhs3rMjnBkDS782fgCdoX/aCJlGYzuheu+wQXn3JUD9132PbCkBrD+uM/FBtYEG+yfDTyeluSUVdG27znwHd4M7/6tk9TVxwJj4N574eUvh5/6KcPRo5/D0kufgU2znasaLrBdxr+GFV1+/HjU9y6EmBBC/LsQ4kEhxANCiDf07h8QQnxNCLG/939/734hhPiAEOKAEOI+IcSVpz3Xa3rj9wshXnMhL1AbA1Jg0KR5RqvbpVgoEsmcu+MV9ucRy27OUmOZ5aVFZBSzrlzBlZIVDLctNXh4YZE4TRE96V5HSjxjg8KQF3B9ZRihFcOuz0Jqe+sG/PBkUNlaKKGlJDKKVp7hCkFBSGbTLhXXJwCaeYIyhkEvZCFPSE2O9B3CQgHXcejGXeYXFqgvN0AL+soVtq+fYF1fv3Wn8jyuLFXY5QU8v9zHhOtRRoDKmItauAbKjkNGjnIETTTHs4iC67NkDHuTFt08ZdzxGHUDcmOIjeZImjCdZ3R1zqawSL/rUfV8NIpBz6foCAb8Av1hFSN9AtdDC0nLaPzc6gEVwpDLtmzlRdt3cGWlHw+BBkadgEk3ZNILKQoHaQyh47J54zjl0CFX1p1K9+iVSZaz7+gCB6aWUMrY1bc2oGKM1kgh8FzLOx7q87nxKdu5fOcm+qoV5hfneOChBygXymxYvxHH88lVDr3nFkIQxRH7Du7DcxwKYdEqoCLIeg1cxhjiOKITtcmyjEazAbDj+3VtnwtGSUrve7stvH7o9VzTfDbCWIpshw5LLCIx/KQD37weXvekM+cug+EWbnlEh+h5oSR0CxcWmAUwuvjYIubSYzGqqWJ5+H8L/DD2RAr4MFaDforHx7M1WNaPOUf2vogNrmsgc+H33wbHNzyO12AVUj/9abj55l9Aqbdidx8fA87WIzodgv+qdOSFTFc58GZjzF1CiApwpxDia1iXr68bY94jhPhNrG/Yb2AJpdt7P0/G7h+fLIQYwBJsr8J++ncKIb5ojDmvypGl2WmMsts7IQTVUhXf82h1WqQY7nBbPHvdGJP+EAeOzbGl2WXU8VD9Q+xfWqClFbm2RcjVy0Ubg2sMLaVYzFL2dxrMJh2e2TdGI7Ua+yNBicxolkounbahqxS+MWhhKAgHYQwjfoF1no+TK/qkS56nIB32tVbYvxRRrfVRKZXxPR/X9Wl22sRpQuB5VIolkk6XQpxiDDzY6ZAkCTdUB+gTkkYas6vST7mnrzPsOcTlgAOuwVEG3Y751soCaU9HZ6TXqdovPeZ1QohgzPVp5hm7y2VG3QC/lxIJHZ8n9FVppzkmS1FaIYVgwC9xLEnJjSYRhoLKocdvd1yXahjaQrgxzKmMQ1nEoHBoqJx9WcSiyll0DGMlH91LL2WZ6nmdGKuTn2mWmxFLjS4TIzVq5QJpruzuC0NuvXAYG6xR8OCqbf0M95XZd7xOmhnSNKZTb1EpVUhcn2a7ju/6J4v+vucRRR1cz6Na6cMYbT2OjSFTOaVSGcdxaLaa9MSwjhtjLvmfvrbPfb3DLbfAB//Ug+YmeMP7+czfG/a8XfDkZ3V4hftjHBVH+TAfZgMbuERsPmfDzy2PkDI418mwq9Y//A2YHYNPvgqq59eSX4V4bg3z51glhAOsHYPHZuHVn7jAWPVqbGDvx670VwnBtwC/ywUXWR8VXwZ+l+NUT1YtbH9/gE2z3MU535QBvnYj/O8f578m+ApuuqmPmZl38Na33sjIyCKnms3+e/GoQd8YMwPM9H5vCSH2YvuhX4zdl4Cdmv8D+4fxYuATxlZMvy2E6BNCjPfGfs0YswzQ++P6AWBNCwejbQuQNgrf9SgEISvNRTAaKQXdNKPc77C5XGTT5is4fv8Rrl3KqeWa3dVh7peK+xorxL3gZgw4RpIojTF2teyonF3FGpGx+fVBx8eXDo7vcqIq6IYj9LeGWJk6wCAwKh2qQrLO9VlOEwrSZcgvkBmNJ6CVpTTzhGh+nrpXR7suOA5xmuG5kmoYMLe8RCuKWC9dNjs+sU4YdAKGpEcji7kkLDHoePR7ARjwMBzLU/zMGpsHxqacDicR14RlXlYe47txg0QrTpguTQOLWcJmv0jZCwiES1NlFBwHoUEYB2EUSrh0dMZsUudI0qHqOozmiqpnBc7oUTKVEDywMM9dbdtBKAzcmrTxECgMOo8wEvxqicbUHOWiT5xakxgpJUrpky5hN153KRuGKhw7MU21XWSoVsbzXLpRipSCYjGgVivjO5ptG/sZHxE8dGiGclij2VwhTmJa7RaO6zE2Mk6j1SDPbNorz3Ok56FyRauxTLXWT7lUQRnbbCcE5FmO47gUwgL0eu6/H9f22VhYsFz7kxRI7XDHrfDSl8L1P9LilrdNkex4kOeK5zLIIJ/m0zyNp/VC0D5s8nGU5/Ac/oF/OL/miwGWB+Cn/xfc8nTLwX33b8Hb3wnh2kL9r6xu47uvg3t+BMynsD7hR84xUGj4pQ/D1jV4picxhE1zbDzr/ha2iPl49SdOxxFghhNUTxo02uYsQZufx35lDzzysJV+25UcFf7LXkmrBX/5EYcX/djTedbI/xyt4DGltoQQm7Di1bcBo70JAazwxarh23rOrLQc7913vvvXhDY2Zw+QZRn15jLG5LhCIAwIKRgbH+Taq3fwnOsnee4LLyHdWKOQZ7jdDmGWE/pBb9WZkeUpWZ6RCkEiJZcXK9YbFsFD7RViAVK67E877O93WCo7bJ0YYHK0HxkW6BQK1DEMuR4lJI70aGuFKyQjXsi8yjioMpTjEQlBmqXk3Q5J1AWj6aYZs40mS502mVZ0dU4gBFuCIqnWTMcJZeGyzi8gjAFjcIHIkWgt6EsNfZHCzXJ2BRVcYygaRc0NuK66npGgjOf4dI2h5vqs9wKMNkRoprMuDZVxKO3wQHuJI2mXz61M8fnWHP/WWeSutElXGGIp6DOCQprj9Fg7c60Wd8zM0MVGSQ09Fyu7VU4EyGKIG7goAwvNiHo3pRnldBJFlCriVDM0WOX511/K7u0bcByXbpwwNb/EcsPSMP3QY2CwQiHwqJXLDPf3sTQX4XdSHtj3ICdmZnAdF9dx0ConTiLiKCJJY5S2ZFIpJaJHW223GzhS4EkXsMJ2aZZaZs9pimffj2v7dOS5NUe5++5HPhZF8LVPjZLc8FX4i9eR6JRpprmZm3sjEiyr44cQ3MZOdpyH991Du8z/Ze694yS7qnvf794nV66O09M9OWqkkUBISAhEEEFgARcj4Jpgc/0wxr7G+OGLMQaMDFySjc0FP2xjE0wOBq7JCBAgQCAUUJiRJufpMJ2qK5+49/tjV/e0pIlYgH7SfGa60jlddWrttdf6rd+PP/5n+PHVmOaHBe99HfzpP0KtctrsPSDgD7mKbwvB3w3BJa8FcQvwdoxd7XJs3guv+tA5RrJ1nLq0Mo6xTVxEH6YFW+aXr8pHwCRdTu4diixymAaB/8RMoC2DEvDBP4G7Hs3DHZqT58MbL4evY+YFfh3jI+f8zgkhCsCXgP9Xa/2AcYxe5vOwnK8Q4g+FEHcIIe5QmUJatvn6ZkY5L0662D2Dc0vCky/bRDHIE+QCICNfyjOzZRM/TbsMuXkudgsMFvKmkdfT7kmzhDiJcBG0k5SWUnRUSt62qaUpszqjNpDj4KCD8i2yJKLP6jBaKdEf+HRzPruFRjs2roCC7bKgMlLb4ytRixOuUYTUUtISghYaFcfYcYSjeh4AmEbyFsdnxHYZsl2GbZemymgrjUaSs12m48hINmNRjTL8VLHQ7ZDTFuvcIsKS9EsLlbaRWcioX+BJg2MM+DnmlOJwHKKkpKUyRvw8iZQcShMORB1uaU3TIiESihoZoYC9cZcFrShLm0ADSUocRezYt5dWbIRipZAkQpxUChcgbAvHd1m8EAwz1vRP0jQjyzSOY/Giay9jsFpgsK9EtVzAdRyEkNRabY7PzHPhBatYt3oYnUpa7ZTDxxfYs2eaFZZNGkUcHj/KfXt30+l08FyXqNs1jWitmJ6ZJosjWu02c/UaURyTZRmdTgvX8xBCUilXCPwAlWWokxPSv/Zre2bmpM2f1vD1r8NHPnLGZ5vhHyszgxzATnaS6AStHUzQP4zh1d90+pdRwgwVfel60Mu+/qljhNVe8hm4f5up9S/7rQWCV/JKruAKhoA/B74j4M9Xaspv0vBTDW/MYKgBQQf+6l0wOPPgo58GNqcORWLZ7RdiNlx3Y0ow7+KXIx+mwGcokC7JMOSBxy4dbwNGrbNnxKKBHdvh/X/2wPfr4cAAqDfAbbYRkPgDDFfqVBebxjgGPBxeb+f0WwghHMyX4tNa6y/3bj7R29rS+3u6d/s4J+XuwEx2jJ/h9gdAa/2vWuvLtNaXWbaFa3s4lo2QEtsyssm2NKvtisESQwMDRFnGfK1Bo9Gk3oabfvJzBJoB22O1F1DN+xRzPp5rhnQsIfGFIKcVtSwh1IojUZui4zGVhHxXtphdWyGxLTPmLwS+57Bp7RADw1UKxTxidAV3r6iyv2CzUMwzMdjPz4aKdC/ZxiUXXUwQBFiy93wpUA5kQhGoDCdLsbQyA2BZRkFIAiHxLIeZOCRRGqUlHQVdbXEojtBphsyMLaTMMsppwgrXZdPwCqqFEocLDnfJmE6WMB11yCG4L+7y7W6DHVGTTGqGc0UqnrnU98UdppKIjbbHS8ojjDgeJddBW5K2zsjZDsPCQicJew7uZ66+gBYslQwyIBMsvT9u4KGFkc4AsKRECkhTRZppMq254pJ1XLZtFZYFvm+zbuykk3OWmSy80WhTX0hIYsXh47P8/adv4iu/uIubjh8h0hqtMhrtBnsOH0ArRRh1yAUBWmnmZ2dYF6esDHLkfJ8wimh3OzRbDVrtJvlcjna7TRRHRjfI2CWK38S1PdhzsdbaGIm//vUmoz8j7BTWHVr6cS97GW8v8IEPWExM/D5afxUYw+UDyFNx2TVw52PgA68x2f1D7pfw7WfCE34CL/84/PQqSGxsbfNaXsvbeTsOhqMvgCE07+EbfFP8Ln+y5p943Ns/i7zlSfCdZ8BLP30eSfEcp1a2XIupH70VY5d4ESbLX49hHF16iuecC77B8qapwNTixNJPVwBPMndGninrnFdD+hzxShZVIUiAT2OW7Lt5aOA/gTGSPH8jyIfiXNg7AtNa3qW1/odld30Vo8pE7++vLLv993pMhyuBem+rfCPwDCFEtceGeEbvttNCa003bC4xbizLSBcYkS2HV/3O1Vz7pC1s27qSnG+Ry7l4dpv+/oBuHPOTxjSfnNxPrFMuWb+Clf0VKrkc1XwBSwiE1lyQK9JnOfTbDvvaC/wgrFHdvJKOkGjHxXJcbFuaWnzBZWy4zOo1g6wZLVPedAH7xorcMgB3rKxwVzWHWywwNjzM9i1bGRwYIB/k8GyJZQtwLSKhkWhyWjNs2Yw5HkFP3z4vJGXLoZGlRFrRTFMilZJkKfU4xBGSCE3ZzxHky0wVbMY2ruPbUYv5ZoOD7Trfb07x89Y8cZaRABXbZjJskVeQphk7Gwscj9rMZTExGi1tGlpzPAkp2i5lL8ANcszb0NQZh6cnOTI+vrQ7MRejkVvLMMFfuDa2a4zOlTaN8kypJe17gP5Knuufeik6MyWrLM1YOzqMlPTM7DUKi7mFlCyB+Wabj3z9Vo7PNUmUoqNMb2FRL8exHVqtFgLB5PQJDhw9zKPyJfoqFSzfIe84jA70k8UxIkvI0gxLCALfX6Jv9rYja34T1/Yi4hje+EbYt+9cHuxif/QPQZmvbaADPvFRh//1v+CaawRf+tIVJMk3ifUN6FNNbXZyZqiodiYfAQELVfj0S+EZ30G8+PP89eGP8A7eQYkHDyNpLPZzFTfxj/wp/ypfjr/xbnjCLWCfzwDVOKaK9mD4mOGkv8bQNQUm192Facg+6jyOsRxPBSpLPwkMGfKk+LEFvNAsgl98gVkIH+ayzuB6KC9a+y7Dzzl5sS0i1nBDDJv0AzOLXxbnsj96PPC7wA4hxKJi9hsx7r9fEEK8AjgCvKh33zcxUnb7Mcv37wNoreeFEG+HJV3Vty02vs4EKSUqy7AsjWdb9JJ8nnDpRi7eMoYA2vUOUgsa9ZC7d03ys/sOoJKQHUIgLHjyiMetO46QKmkogQpWjq1i9XwNnSZsco3F4hfq0wRjfZSrORKtSHTS89x1EKmRL7YsKAY2FhlZ/QDC1qzcehGZytFuh8YMpdOmr1LFsR127tmDnSsxPjsBKDwFA9KhICVb3BwrbIfETCtRdTyE7aCVwgJSZWSKW0nMsONjachJi31xm05skawe5UTYIJ9maFug7YSbG00SjPzCRUGep+UrpGFITjrc36pxd7fOsTSiozUjtsvxuEvTsgg8nwzBllIfvm3R1AkyURycPGqokZiv26Inj0CQAqmAIHDpiXqi0Sill6SPDTde8FtXb2ewXMC2TRajlCLwLYYHyuw/Mo1SMDxUZUW1QJKE3HHfQY7ONoya5uLFoBczIEE7ithxcD+e65rdj1IMX7iNwtgYtRMzrM7nKBXzFFybhWYbW5oqTblUJoxC0ixlYnICzMjpNb+Ja1tr+PSnl+vknBm5nOD/+/3HsU/+JZnOGN39NN717gpZBnv2wMteJnjxi0d42Q3Pw1/zVlpiGRtncajopsXgeTYI6ORTil8+AAAgAElEQVTxvvHb/NZf/QB/3TQm5Cw+VwP/jqFTXoFilI/yCTq/VNPV48zmJYvHjDHuWm/j5ObrfNEHvJkFLNqcNF/chinx3Lx0vOfC5LXwtrdAch6elucAKeGtfwE7R8y7txwDGLPH5Z/Q1ATc+Mfw5v8B8jrQ7n9txORc2Ds/4fRXyVNP8XiNkec71Wt9FKPece7oOU45lmRRO3rFQJHHXLQZhE2WxCgFB4/MsufwLP/3x/dTa7UQ0sKVku3rh3jKYzaw98g0E/MdbAtsx+Kqy8aI99gUTnSxk4yDUUgoIAkTZuaaBL5DbEkC30FZFm7eRiiBiFNEb/AHrXHzFbrKY6ERcsHmC9hx189ptdvUFhaYmp0mjEKjWSIsPOmx1bUoKMWczpi3YJNlc1tzli1enjBLmUtChmwPR0MOQSwEwrJRSpFD03EkDanZ6MLCzDwVK6VaqBBXykymHslCkzHL42DYYpPjs0I6hI6mm6UsJAkr3YAjWYIlFOtcn6rlclRnXFZdQRx3aeqMhTRiZa7Mtyf20k3iB4x7Gi6V+ZcWIH0Xy7bQGrJesJdSkCoT/IWALeuGefJj1qNUSpYJsizF81zswGXT2hEOHpvFsmw2rloBSjM1M8+3bt9tFkOE+b/HIhIIkBYZZjHoxJHZ+fkBtx87wGOqAblinoJj3rOVwwPk8wHT9Q7FfJ6w2yGK2nhOSHHFCMCdWutTiZ/8yq/t3bvhr/8aknNgI0oJL3sZ/O5TR7HEO4hCeOmbBVPLJISiyBinf/3mIbpvez686DMnJ3KVhMNrzcDUeWDjxim2bvkDTOHhfTwwFFQwo3pfI8blFs7M/Dk9NmGaqGeCxlTh/pzT+wGcC9YBaziM4N8wI08Ss+y8HrgV0+olK8N7Pg77Bni4s/wnPxl+92VQE0b4YdFh8mmYis+6ZY9NU/i7d8ORr8Gf3Ajf+W9G2POCC375wP+IlmEQwhiklPI5dBYBGfnA4cXPuZxHbR3CdSXactl533H+8Qs/ZXy+SZwk6J7ZRiXweN6TL6Leilk9XGW63kEKuOLR63j59Y8nbYZ8/8s/I7rjOMieWcjMAifaXUaH+xmq5inmXZSdp1rIsIXA9V3INEkcoy1J3+ga5udaSFHgWzd+g8NHD9DqtEnSFNuyKfg55lsmY/VVykDgsqpvGGt2lg6aw2EHz7KpOg7dNGM6TXCkJMgSI76GpiQtHASWZbPgWzhBgUy4VFLBYKOFj6AWJxyrN1jnBAxYDoejNlNxyILlstL2wLLZF7Y4rszrRkozlSbMpxkXDK1kq1fgrnaTzAPL9djVrrGjU8fW5hy0qa2ge2UxgcB1JL7vGslowdIshNWbfgbwPZvrn3Yxvmu25kKIXjM4AyyGBkqsHRvEcQIGSnkkiuPTNRqdxBxT99bMxYqrbZH1OsVKa6QQeJ6HJaHV7vCTn9/B9o1jbNq+ncnJOkQS15JkScj0zAmCoIDrBHQi8RufyO10oFyGibNoiF10Ebz5zXDttUZFU2vBF75gTLNPhdlDBXjFh2DHBSZC+OHJoH9e0FxzzRfJ5+vAg8XFpoCvARejGeND+gB3T7XNMS6/HULfHPNBblKnxjMwYffM52I4Lv+VgA8mtzcdj/diRsA2Yk7xqcDjgB9q4BYBHz3bQnT+qFbhXe8yctR5TPP2dZil8y0YoYWlvZSGH/8YPvYx83Mcw3/8B9x8s/EneMUrYHT0/C/jR7QMg23beH6OVjemWKzypEvXc93jN7Fx1QDFUoEsUdRmW/z0rkOMz7fItAYhUYDveVx71WbWjlRxPJttG4ZxJPRX87z4uitxpMAKHAY2j5IOFOhKONFTl9ywaROpdNh1dIbJ2RZxCmlqpktDlZBKcL0Av1BhcnKCrNngph/eyD3338NCq0GqVK/+bAJWPlciF5QQEqxVfXSGAkorB/FX9rOr6tGxJfNZRiRhlZcDM4SMi+BEFJKTNo7tkUrJ2tThoiygHWs6lqBUqdAtF9ndbtCuN7gqX2U2jmiojLk0wVaKPmkz1W0TakXZssmyDBfB3qjDjISy5ZBoRZ+XB20mZcMwIu2pajrqZIlFCUlv2orAdxf1z4yQnQa5eAVqc/uVl6xn09ggStsgTmaZaZahUsPIuvyidWxdM4zrSJIs43t37Ef1pqERi6X3xU6CacAu9hZQqtfgN2wutMa1BYP5lEsvqrJmZQ6n0UQlMWHYJU0TpJRIaeGcm2fhrwyXXmpsBl/wgtP75QYBvPe9xrCkUjHvxZEjcMMNZ9ohCIg9w9J5zQegWTRN2a8/m/PKWi244Fm7QLwEWCYhDBiC4RTwbZTexTePXEL8gi/C078Lz/kaXPFzoyl/dPUZuE8O8HRM2+R057W4t7wH+Na5n/tpMYlRENXMYApUi6fnAi8E4zPzJh7e8QBYEse77LKlS5sLMEE4jxG5Xv4u1OvwV39l/IeXY3rarOWPf7xRV52ePvkdORc8ojP9SqnCC667np277uXE9BTj85JKwWFhoY0azYi6KTt3jfO9Ow+ghRnp19pkk9W8w4aRKkmSMjpYJO9aVIo+1z/zMlYOlMiUYnamwUyjQ/OCYZoFaN5dQ/UGoWqNJo1OTDpVZ4XnkwgX7TtIpVEyQ9kuBVcS1kJuvvUX1LpmayssQR+9c8li6mGXrlY40mLNyBDVQkCnHRNLjetK2g3FwaTL7qTFWmFzieOz3S9QFbZR5nTzSCCVEoVAZimlzBDKsihDqoQ9YZ0R6TBa6EdnmloSYQNbXJ+CkCiVUcsSJrOEPmFzVaEPW0h+0llgyHbwtKaVZZSCAirqsmdigp3N2pKbla8N+0ZIiUKRSYucI3Ady+jg9AK8lD1HLW0y88Fqnuc95RJs2+plIxIpJeiMIPDNhS8t0hg8O0ELzVdvvocDJ5qAmcMwF3MvxGu9LICYf3u+h1YKJUD1nLQKOZfVq4coFfPYvs3tu/YwWM3hl4eYb0bYloXr2CcVV39DEAJWrYKPf9yYhr/zneaLvhwvfCFcc83JbG6Rz3/48DkcILMNDXPvZhgfNY3c88EW+ODl/5sX41E2XSw+zafZwQ4GGOAq/oIrGUHFddQb1sNPBwEB335W7wU0/NY3TS/hMb84xQHeAvwZJuSdDrMYhcmfAqcbcB7FtFjOZQD6MPBOjJaPy6ew+KPeKwjgBRr+9qNw5Fxk/88Tl10Gr3nNA8XxFrsFAQ98F5SCf/5nY1RzOhw9Cm94g5F0+Kd/giuvPLes/xEd9AUw1D/IEx77eCanxplfmOeuAyeYbx+jWh6EJOY7P99HJ7URQpEpUxJwHcnl28YIo5g9h08w3F+ilPd56pUXcOnmNUxO1BifmCfqdFFZTH+fz65x2LZ+hHsOTvDzHfcR+DnyuQIXrF3P6GAf8415iCKUm5FJsGSKtF1uu+sX1Nodk2YKyRCSa508u5MGs1phIZjVUC3mWT3URzfOSDX4jk3eE4yWc9QaTRbihK4tySyLltb0SRspBEqlTGcZZdcz7lBKgRDmvkxxuLnARLvGb1dHiS2HT84f5kgWUZYWOSEp2x7adijlC4ioSSpMyyzveFRcn4UohDTjYHeBSGXUs5R7WzX6bYeNuRJdpbgjbBFoCDFZvgZcxzYN3V4pDQS2FCS9HZFtS57z5EcxVM0hJUhpIaTAssQS33nR8jCX99A5h3vvP8Z37zhosnwpTR2/97jF8Ky16rlkmQvcsSUOpncwNlihlHPphhE6y2g3W3RrKfuOHOe6J21n7Zp+brpzhkhBqjKajfpDrrlfN4SAXA5e9zoT+N/6VvjpT00Wv2KFYfYsbki0hm9+Ez7zmfM4gJbwoyed/4nlQLxb8Ni+PgqYXdb3+T6v5tU0MQ3igIA/0n/E9i/8LT/68qlCiTCc/xuvhUt/cYpk/hsY28Nrgb+AB9kJ9jimwOc5s5zySzE0y9fCOQnNfQbDk/lrjvAc3ojgQ5jAG7RgxRfgyMNBiF+GfN6UdSqVB92OyfQXLRsXMTVlfBHOlpdobQzpX/ACUwpav/7s5/KILu9kWWbUFJGg4OKtF/G851zP7Xtnef37v8H/+fxt3LpvhhSJ3dNfsWybjaN9jPYXmZjtECUpx07Mc3Rqji2rBpkan2Zi/AT37RvnB7fvJUxhz9EZ+qtFtlx8BSOjawFBt9vB0hkbV62CfJHy8GqcwipU4qOVQDgBd++f5ND8PKFloaXxnb0EG+KYFZbDpW6Op7oFRiyb1X1lhIIwMg3gJEmIooxK4HHF+pWMVopsCooMWS5FaVhKrSQhtSS2YxE4OYqOj4vA6mXSXZ1hewGrgyLHuk1mkg6O4zDseFzgBVxZHqTqBqRSUpQWzx1ex7qgSqJhKgk5Hnc5lkTc0pgh8Hym05jpsM2obfNox+O3c1Wu8Yusd3wqCAKVLXGZ692UVpiBFthSYskendOU4dm+eYyrLl6N1qkpa9kWlm2okipTNOpN2q0uaZyQpSkLtSafvfEumlHvy62XiwiIZQl+b0pZWri2jS3M0FeSKYq+y0A+oBNGaKGJohiJZv2aATau6Weo6jLYXzHna0nC+Hz13X8V0MAkUt7Ok5+c8a1vwRe/aJp9f/EXsHnzyextehre9CZjRP4rhQD+BJ74LPhbYYJEgwY3cMNSwAfo0uVfxr/O697SOXOp6QdPMYNlDwlgdwA7MINWH+WBD9CYIbM/5cwBPw/8d4xuzjcx3JcVnLmMVesd+w3AIT6L5l8wY1uFAnz+M/Dyl4P74DXov4A/+APzmT44E/cxmXfGycErreEnPzGB/1xx4oQp+50LHtlBX2XUavPsO3iAL337P/nI5z/O3r272bZ+K7ONkNt2HaQTdknTiDAO0UAhcLhi2xiOI3E9p9d8hGYn4sjkLPVWG8uSrBmpsHbVELO1FtONGNeSJGGLx179dAYH+7FsybaNw2jVJE5jlM4o9w1Brh/peDRDm9vv2Ym0bRzPRQpJThuWSVNnVIWgrOExbp5nFarks4Sw0yRD080UiRZUywHlokel4HHxumGmcwJtWyAkbZXhOk6vbAVJGi3ZK2ZCEFmSQ2Gb2xuzNFRGiGJ3WGe97fHMfJVAQT2NkJ7LXGAjK1UGvDxXDKwml6twIA7paE3R8dBCcLhVZ3+nQTeLGZEWK6SFn6Vc7OV55eAqnt0/wuZCmXzPbQwEnTij0U1BW2bsXxvGTqWU4/qnPhrXEWSZQmXmdrQmzTLCKCFOFGmiSOKEOIr53q17ufvgDHpJQIElETUtxclGcu++LE3JsrRX8tUoDbONDsdmFqg1uty96wjTTc3I6hH+nxc9lVwuj2VJCgVv6YvX6rRPfeH9WqExWm1PR4i/JQjaPOc5mm99yxhuLJ5rlsG73w33nUIW5mHHlbD2DfB/bHqurpoP8SFu5daHPLR7eIj542fRo/ne0+D6L0Nt0SM2h2mbfhpjbH4qzr3CGKOfbRzpGZw0dN+GqdLfjikdXcqZqaC7gJeTMs+bMYIPQsCaNfCv/wqf+ARs2HCWw58Dtm0zZZhT9W0uxKj4OZwMxvPz5tjqPHYbWXZ2QsAiHtHlHa0087U5SsUilz3qSu7aeSef++oX2bB2o/kS2y5x1CEK24Bhcly6eQWeZQzTB4oOuhcQpBRkWnOi1sJzulQLOUb6CxycmGO4v8h8o0kQpAzYks2jFY7ZNmXfQ6kFtB2Txj6dmS75ko1KC/z4lnvIVIbVM92WwCCCirAZsCwqmKDlAOtsl3EU9TQ1huOWje8GNNoxfUWHUsklJwXbh0qUu4LYgmKjw1S3TUV7lG2PJImoZQm7Ogt4pTxztkur5BO3FVEac0cS0kZT1YoqMGw7rHDzxJZFNlDhhBD47Yh8JqgkOR5njxHXxjkUtTkRh+SEIFEZ/bZNSViscHxypi7DbLfF1kIBe7Cftb7HwSRhz5GDdLodkkxRa0cUfc8M0El43jWPYtVwAYEi08YBLe0ZkWttylK2tBFKkaYZU7MtvvLj3STq5HZ2UTKj95OhhyKwXQelNAXf5sK1w3iOYPcR08nqRAnlvEcUx6waHcByXdqtkGIuB5kxz3Gk2Q3mc3kebireLwcBXIUJfH8NzCLEe/FPTgotqW9++MO/htMZAN4Pr6jCJb2z6xLyGT5zagE3qZZkIU4PAZsfBcUPY/j1NvBsTEHFwQj3LE6ALL0wRuPuKIbUeKoIOIIxWlmsjAvMYNUYZiF9PfA5DBHydBH0FuCNdHg/n8Dncb1XcV3TPH/c4+BtbzPzFL/MDsvz4B3vgOHhU9/vYj79E5wcDvu3fzNlvPPF8ePmWjlbXf+RHfTRhFGI0oq1o6OMrhjh2NQxNm3YhO/l2XNwH/sPHaTZcoi6LUqBzWi1wKGJOkmSolVKJ4y56rJNBI5FFKc0OyEtITg8WaPeiqiU83i2CQhHZxfwCgErKzmKdpnArYJTIGxNYDtdgr7V5D3Fzh3HKGhNy7bJeiYeAk0LKDo+q2yfTtwmQGChmbMlXSl6U60gspQw7ZJlNp0wYUXVZ4PIU9UO9/ZbuDOzzHYbyCTlhE7Zls/hZgJXSDYWKnRdm7pvUW+F+LbNRNihrRWrXR+tUvaGLa4u9DGgoZZmyGaEm/NwXZ8JR6HsgPx8wkWVPoqhw13NOs0sY9iyWGG59FsWjgZLWNzbWsAXgpWpYDpNqeXKPGH9o9myYQsHxo9y/75dtNstFrohrmWxYeUAj71wC7YDUmiyKDYuVsJINkRRRifM6CsVgJQsU3z5+zuZbvS+UYKlXf5i4Bdo0AqE7FE3NbaUXHHBKpqtNoeOz54kWqQZUZQQ+DY5G5oLbUTZR6UKLIi6HSwpababhOE5as7/SiEw7JUnYpSar3nII7SG73zn11DWAUOmeTSMiZMhWKGITsXB1xgD8LMNL60H3lIA+1kYlZnvY5qpAhP4H4eRW1he1RYYKYQfA/8Lk8E/GK/ovfipopzAZPkvwuTwH+bUZSKNKS1t4y7+mAQHd7GIKWD1atNQve46w6TZs+fMv+qD8eIXm+eeLhALjIvAKCeDcbd7fmycRRw/R3+ZR3TQB0izFBVmpGmK4zhsXbeZ/uogrusy8JjL2b5lC/sPH2bvwf3UarP85y37sITCc20kGRtWD/L0qy9hx479xEmTWifBcyzu2DvOwECVlSsCVKwYrBQZqhZwbU2hHFCwUpq1aSzpk9QVDTvj4jU52rMTqDDi8StH+dHRo4x32iwaeSzYFjUylFY00oTMsvGkS9xLYhY/SCkFaZqSkBIJi1KSpxJUCXMpBIJUJezsNnm8kyfJNPPNOgN+GRnkOLwwzqgI2BBbWErS8Uts84sc6TaZSUIe5RfpZClVaRmt/cBFxgohQ5RtU+hEhIFLB0V/EFAt5PGDHEfDFl67y4jtEAiJIy32i4zIcyllElcLtnRAdjNSpbD7BigVS1y4eSv37dvN/ft20Wq12Dcxwz9/7oe85LcuZ+VQgCWNYB499k8QOHiuQkjTH/jhL/bxo51HDfde9BoCvfIRaMTiqG+PnpmlZjq4HSZ88sa7SJLYUGSBOM3w8z6B1tQbXXJ9Lo7UqCRBkPLdH+3CLowhEMRxQqt9Kr2X3wQEJnj97bKfl90r4C1vgbEx0+idOVcds18GXwP367Dtv508DR+fx3IFu5fGiJZh71ncnBxtVDhXCxBdYCeG7rncmlDz0ICcYIzBqxj+5I+B5TLNQxij8LNVqAsYps4ODAPoVEiB1zPH3UzwdlayEge59Ck4DjzvefDYx5r3/5OfPLcFeM0a87mdjRlc5oHL3fOfb1hcH/jA+QX/yclzy/Qf0TV9rfWSGUccx3TDLvO1OY4ePcTc3DQqyyjmCly67SKuf+azue6pz8IvDtDNbJoh2E6eF1z7WCpFM5KPhrGBPBMn5omUYN3KPhKdol2B5bpY0gJtXJi8nE1p0CNtH8OKQiqVAQ4fOkStvkCxmONgp8V8GC6VIISU5ItlFnTGvZ0F+tyAIcen4gTMdiKacQo9hyetTMavNWRJwvrYwV1ocySskyUx3ZzPvM6oWhZxmtBJUwIhSbKYVX6eCMHP5qcYr81yiRWwzs1zLA65J+pwb9hme2GQbX2rqecLLAhBZkucDOw4Q+ZzOFHCejtHWTukmeJyt8gzVoyxdtUYuVwB1/IIEUSZxrVsjsRtsiRmOIVHTzVYedsvGL73fqrdiNHBEZ7+hKfwouuez2O2P5pyqcJtuw/zzo98i2//ZD8LjQiVGU2eRaN7laVINPVWzLduPUCULV6pvT+aJY0dFhlLvYlc1bNKDOOY2UaTKM1MyFBmWKtgSQJLUmu00VpRr7U4cugEH/n8zdx85x6anRDbtqjVatjOIy3nWXwPHnSrMHz9//k/4cYb4UlP+hXOlbVAvxrady9LUrTkxfo9SK54yMPltd8l13e6SVwN198E1/87iDlMTvtnPFSH+ThGOTM5+Tz+AbgaE6w3YEaplhfF/zsP1d8/HQoYO8KhMzwm5gD/zlVcwdN5E7eRPKAgJIQZhPrgB+Fzn4OLLz7zZ2Dbhku/du3ZP6thTmp3A1xyiWn8Li/xnQvm5hb7ABqWNdwfjEd00DdTnqrnbZuRJglhFNLqtJicmuDYsSN0Oh3AOCatGlnJFZdcSr5QQVgu882QO3dOML8Qksvn2X2szux8i93H59iydohOmDJZl6RZSqQStG2jtEQpSFKN49oEFZ/CcA6fBq7uUBq7kOrwMIW+HF7g9ozWBQPVATZv2sbgZVcgSiUsKShJC08pLhoe41gzZrLROSlUpkApzXrhsX4mpDDb5uowx7aWJF/uZ9WF2zg2UCIp56gXfHbHdebDBkW/yGzYxbEtVto+cdRltrnArqhNgqbiePTbPl1LMp7EqFaHKEuRwrBsQGF7DqFn03YdJrpd9tYXmKu1aLRCbu40uSUJ+UZ7gZtac9zZnCdE0xaKVMWUMsXmZsq2iTlGd+0nf2IGT1iMDo7w5Cuv5ilXXs3ll1yK9PJ86sbb+PtP3sy9e2t0uwqtBFqBZVkIy+Hnu2pMN7OejaVc+swXA74QEiElQlq923rfHiFY/C8fOJQLZiK32Qm58+AUsShQb3WJo4SjE3P8+9d+xs5DU6SZYnJ6Gs8WNNttVqw4iz3eIwxCwKMeBV/5ipnQLRZ/NcdJxuGdrzcToAATE4JvfXcIlX0ME7R7DVkBT7k25ns3KZ7/fFO/fgDGWvC2vwH3D4CnYLTqX41h2Sxv3NYxkkZ/ieHbZ73H3IvxytWYRWExDA8Br+Hcw5fA+Nx8DbNY9PNQE3KDSSb4Ef/MdRznBswo1/Jk23Hguc+F73/fzFWc7hJ69rPhd37n3BbnFsvl3wyGhh5K7zwbFj2PDGZP+7hHWqrzANiWjet6RvKgN/SDMvLCiTCmKu1Oh75qP319fbiuw4VbL6BYLrP3wH4mpib44s33setojSdeNMJg2eP2+49SLOSxkaQpBFZKGCksS6CUwrFtXGlDr06vlEbaAktqHCloT+1H6pRipUyuUKAVxfRXqwyU+xnr78fGolUsEkWa3TpjaKDK3Ooxhp0U33FYmJ/B1jEFzybQksvcCke6DQgzLsHhgjTHqlhwu2sxuWKIXNpHbXYGx7agNEQ7FQwMjNCsnyDoRrRJmUojYjSbnBwX+yXKjkec86gXwO1EJFFsdG+ShJV2lWOujaNiYgllP8e+uMtMs8bxbptQp0xIh7AnA1FMJH25Ci0Jnk4JsImyFC0EfTPzlH5+F8c2riEdHUZ6LmMrRqmUyqwYGGSh2WBy5gQ375zl4GSTx2wdor/k4AUW862MRlTk0dsu4v6DB5ir1VC9Ms7itK3uyS3oHk1zkc1D734AoQXD5QLVXMBco00rSth79CjrR1xkpvnBHXtphwmOY2PZEqVSpNAEgU+UPcxk7F8DhDDSDTfcYDL+P/9zuPfeh/cYlmWCluuazPGDH4R//ICAP70A3vA+KD0NxBcossC75Nu47JKAz37WTBe//e3wi1/0hEBvyMPGj4N4PSbgvxTDpX8bhqP/KUwgvgWTmX4AE8gfh8nwwRQ+DgL/wsnw+0JMOex8IIDLe8ecAP4G+NhpHpswR8Q7MG3g/w08F9NoNbMp0N8Pf/mXhh//7neb7H9xcnbFCtO8fcgieApozD6nygP3eKWSeZ3JyVM/71RoNg2LxzlLi+WRHfRtm6HBIZrNJq12iyxLl6R6hYY4NU3COIloNusMDQ5TyBdYOzrKmpWjjE+M850f/ZDdR2c4PD6NTUQ7TrGAUJQZGxmij3m0FIzPdrFsn7F+QWwpHM9Gp0bWyxKCKErxPQtHhyjpUGtlTM7MEkhJyQ8YrlQpeR7tVoNGzmFfu86AHzC+dQO37N1L1A1ZqNXwHYdQCZq1BttzBeo6YahcoeOE3FIf59LcIHZbs0Y1CasVjq7sp7x2PVNHj1FvzXBxZZS8nWeVkNzT3k+f0tzabRBIiyHLZtj2CWyb/VkXV1qEhYCi7ZA0GgzHKXKhRbHg41s2QdHDmUsQfYMMxhGdOc1U2GY6SxBCU8RiY1BgwM9T9PPklSBMYk4kXRoaJpOQ4TSiek8D+8B+2LKZhRVDZI5HX6mKRFDK5XAcl1am+PneiC2rPDZ7LjsONam3OpQLRS6/6BJ2HTrA0YlxsizrXf1Gj19po0AqetpryyFgaY7DsaFaCHrfSs3dB8aZXEgo95UZdkwfJR/kGBzsQwmNZztMjJ9j5+sRCMsyk7o33mgyzo99DFoPk2zA059uygsZ8IlD8OF/B90G3gPcJuD918GF12EJzQCmZOm68JznwBOfCK/5KHxyJ/BSCWI98AmM/+37e38uBV6AGch6JUaB5suYI/49JgtfrPGPAB/CSCeAWRSu5ZcrUghMyFvFciHl00FjCKO/h1kuXochiAacDP4bNsC//Av83u+Zev8tt5jF4HwE0e5nSb1/Ca5regKnciAhnmMAACAASURBVFI7HZJkOc3z9KH9kR30LZtquYrjuPhBQKNRpxt2UZlC9VQWU63Ioog0TemGHXJ+jtHRVQRBwMrhEZ55zdPYfWAf45MTzC/ME8cplmVxweoLkekCWZbSiDKKeR/XlkRxhpSCSCo828L2bSylkdI2BQWpSWSee/feTaYUxUIR33WZmT/BimoV37YZXbuOuL9JPYo5cvQQx05M0ep26UQ9tohSkKVkrZBmEPLblRGCJKWehny9dpgR22HUcli30CKIU272NU4pj5yrkViKmc4CrVadmTRiTxIxHOSwk4gNXp4RP890FnP/xBSVXIF8schkfYG1+SL7VMywikn8PDUhybs2qS0IhM3BqM581F0yQckwhjXDTsCw4zPbbiLdgHbUJLB8drRqTGUxR9IOo05An0rI7drFQKsOY6uwvYDSSIFDhw8QqRDHcYlSzY7DdY7MxMSZKd9IKfAdi+2btpIPcuw6sM8Efq17uzu9RIldbAgvYlFy4+ItK+krB/ieRS5wyHsuOc/BkhLbEji2RZykdKMM4VbYNwmlUon4SPrrvqQfVghhssH3vQ+uv94Mbv3sZ+fH734whobgPe+BIAefSuHV74DuYrapMcSbZwrE38HvvVAwuiyCCGFKEs99bcin0k+i7QkMHegC4I8xdgQHMbnzszC19gqmXr8bE/7ggU3d/8Dw6RdRAbb/8r/gEs70JsXAIWALIIgxe5HbgOt6Z7vIGRLC1O+vvtoI4N18s/n3+fRcGjxUY3RGnGBu80HgSs6VWtzpLNdjOn1t6BEd9LXWDPb349g2nuuSy+VpNhrUGws9KqdeYvjpNDVlnyQhOhTT3z9AtVJlZHCI4YFB5mpzfO/HP2Z2fpaw2+LeO39IyZOE3Ra5vlHWrR5hgHm0IzixkCCdPCtKKZlQOJaFY1mkcYZlBxw8Ns3swgKe1ugwZGJ2mihJmJqbYdPIGJvXrKfQ30+sEqbuMxeyEMIYhKsMSynWWTbP9MsMacFwp4NUgj4NnpSssF0CAbbKGOjGPC0SHFAxR0tF7mjOMHFiGh3HJCplTZAnzhQzqoOPwBaS2TShniZQX2BE29j5Ins6dbYUqiwEDqHngLRIWh2UY2FnCqEVYZYtLaYlabHaDWiqjIkkZKNXoM8vUJYWU2GXQT/PsXbMiTQiEYpWIlgbSqoHDlM/eoTi6CjtgSFWKsGMJUiyFLREWDaxtmh3W0jLXvpyuFKydd0GPM9DaU2z1eLYxDHCOEb3DFR0T+WzJ9ZPIC36pOTx21dRKflorYjihHozxbdd2t2Yg9PzbF03iudos6irFCHMghCe1arqV4ckOTemxbnAskyG/c1vGi7/e997fmWB5a/zpjfB9u1GV/4134Pu507xwHGwXwkv3gzOpTwgJoWEfFf8Jdr5ICZ4vxOTrccYNjoY7v0UJ/Ut12LKPW/FKGkur0c/WHzmGgwP/7+CFkaG4XRIgVdhykivxOwMciQI/hPjbPVWTBFqLSaILsppPOtZp37F00FhuhjLfbk0mr8Tf8ePN9YxQf/ckKamvGPe09M3fB7RjVxpSdKwzfBgP32VKjk/oK+vn9GVY1TLfViWvWTWkfVYPkma0um2mZwa5+ixI9QbdVSWUS1XefoTn8S2LVtZtXqtkVGuNWilFkMrN4LK6IYxc7UOgWtTdpOe1Z+iE8V0s5TMdjg63+Xu3buxlCYvBH7eJ05iLMvC9wN2Ht7PkYkD5HyLQpBj/dgY+SBAo5HSAmWGpy6WHl6SUlIa4oh23OHubp1G0qVPCAYtF4nA1Zqq0mxtRKw4scBtczPcFbU50JNQ2NlpULZthmyPAcfDlTaZI/Bdl2KQp5XEOHGMqwX75mdozs0z12gQpwndbgeRJjhkDLsenhBIzOa6BLhKUbIdhvwCgRsQBGUOdtrU04RRJ+Aiv8TTqisZdAJcIQnTlGbUJZ2dobXzXmZvvgm9YwcDJ2aJxyfJ5hewhCBLU7TWZKpXPpM2tuPiui4bVq1mw+gqLtq4iQs3bKInnNnDSUaPhcbTCj9RtFoJc2IT3TSg3gyptbsoYSEdi1zexw08bMdCWiB1DCpFpemS/PNvAnv2mMwwfZg2G0KYOvBrXws/+IFpIp5LTXk5nvEMI9fbEvCWeai/GcOaPAWSNvzNm0w/YfHzSUm5gRv4CIsBH0ywP4JpiS6+3wsY+5DFnwWGifNh4LuYOdXT4VpO14Q9d/wMONto8zEMg+ixmPGpL7HYUzgM/A/gMjQvIeNDpBw79ejaWRFhlsLlefkCC3ydr8PG/cYT+VxfKzrZfD8THtGZvi1i3CDHvn17GVu1mpHhYWoLC4SOg+f55PJ55uZnCbsdlNZGclf3qJ5aUW8s0Ol2qFb6qFSq5IMcl154MZaUfP+WH3F0cpw47LJ7x60UfIuw2yZfHWHdmlEq2QyeDXGqaCYuI+UMXIc7d99PnKQMCcmakUEG+yvcfnicJE1pthoUAo8rtqzGdQWZFmwdG6PdCam1WmZhQlMB8kJwT9TiiLS5Ml9l2PZ4cr5CV6VIFaO1QllOb6HQRDpjodOk011AWZKjWYKjFVJrvG6TLUGRvOfRTNssyISm51BJNS2tiOKYO+emmFcpoVZ0T0j6HY8Rx+WiUh95IVht+VxarHJ3Y45QK+ayBF9INgBxmlDwy8RRB5Siq1KSJOTKygitJMT2oa4S8kIQpRmHk4j7Wm3mtcKVkgvjLuvzFWbijBXrN3O8MY9WiuWx3JaWWRiFhULRbDaZOHHCDGf11DV1T1nTAcpCst4N2OoW6DTb2AsHaXca5Dyb7ZuqICCMLMZnI3K+IAoFAkmWGRZYnDyA6vBrRxSZwPyqV5nsur//4cn6hTB6PR//OLzkJaahePvtZy/5DAwYQbAgB+9RcMsHgbPUk2+80Sw0n/ucOW5ExFf5KtkZtXIW8SngjzAGKovMLAszB/yfmAz7hw96jsRYjJzrG6U56fcGJyf/vsJJeujZ0MSwiP4UwzjagNGC0jSY5Iu8mi8yw6t4OR/gFUuDXeeKJmZqYVFhU6H4KB9lP/thLIOgC61zo2mlKcTn8Gs9ooO+Y8OW4Tly7kpuvWMHQS7PiuEVFPN5Wu02/f395HN55mtz1BbmiWMTLDOdobTxZ1VKMTN7gla7SX/fAIVCAduyueYJT+TgsaMcnThOvV6j2ajRTSXrVqyFLKYbh9TTjFyhSF9OkyiLe3YeYHahjqehWMqzaWyIuW6CLQVRosi05sqtmxksl0lShc71URWKPUdtkiQ2X2ppIbViNktoKcVFxRJlN8AHLhQFftKY5aBKGXZcNrkWngu1WLOzVeNEGrHBDUgE7EhT5rSmZFnUtaKhFQeiDnnfoq4SJudm2J4fouUK5rptjiYRdaFJAZ0qsiRB2g5jCiqOR8nxKGgoSwvXsmhnKUIIipbLhlI/bgbz3RZ5x6Nql0iVYqK9QKJT6lmE63tmsRWCjlYkAhxhjGn6FFyiHXJ+Hz86ehBdKCAtadQ0ezX7Ra38RW3+HXt2MVt/oHm10GAJzWbHZ6uXY1DagODAoWmyvU0C4bN6VZ7hoZJpLlo+F60ZJWkqOjMR3VaCHUroaIr5PLngPKWGH2Z0u/D+95vm3/veZ0b+5cOw9xbCNAKf/WzD8PnsZ03JZ/9pZGykNNow27fDPuAf7gH1fs6gg38SrZYmSTSeJ/C1zza2sVucYojrIZjBSCX8GybkLQZLgQmsH8BMKS8se47i1F66D4bGiKq9A8MCWocpyNyL0ZnYeQ6v8WBMYRrPn8UwiloY+un/BeCT5Lma3+el57kLqWGCsA8kJHyVr/J23m4WzoFZ6Jt/UNDXRvrCSSDXgVLDPGb4BJ01CbP+b7H6LGH9ER30hbCoFCTVSgp6HfftnaHVbPCoSy9jZmaOudo8trTwPI9SscTM7DSNXjnHsD40CJP1Z+0mURRSKlXorw4QBD4XrN/ElnUbCKOQ+/bu5tjkcY4c3IlUCVHUoTSwmo3VlVjxOFO1BQ4fn0RoKHoe69eMUA4EniXYZ5m63FC1xPa1q3EtcL0cQV+VNGzhBgFREpNkGVIIZgWsFxJHSnwkoUqZiSPKlk3ZdsnbkqrtoITREEJKLspXWZlldHRCE8X+sIMvLVY4HipTRGiiLGUm7hIlIdvzZWxLMihsKm6efsdjPgnJMJbZLrBSCNZoWK8FuTQ1pnWFChmCn7YWeGZpgMtzFYaEw1ynxu7WPGtyFSq2//+3995xcl71vf/7nKdN35md7UW7K8mSLOQuyzYGNxxjjLmAgRAgF8INJQkEyA2hOCE/EkqAkJBwCYQSBwI3JIbQwcGNZmxsy0W2bGlVV9vbzO7s9Ked3x9nVsVWWQnbWl/2o9e8dvXMM8+cZ+c733POt3w+TFTncUyTcbdOKCVDC/P0RRJIoK4UXhhyfjRJyrBISxPbkIQypNpYJTmWTaVeI1QCA0NPAOhJulQu6Vj+YrnmwfJMRbOQtAiDlBL0WFFKYcBu1+DKC87Gti3mS3m++5N9zIzluNCzMGseaTPC0OwkHdKkrymLuaaHVCLBuRvP4r67f3l6jLsBpfRK/PrrddXH29+uaXifqlV/KgVveYuuLf+nf9JEYk/s6L3qKr3jEBK+UIXZvwROqPCr4ft5wvBG4M149QuoPHQOXPytJS7Gb0bXwvwjR8agBTr5ewGaafNwjJzgmgrt6P8n2rkvln3djub9iQGnSrT3A7Qs8uuBn3C4hHmVLdinEC0voDtyDUL+hr/hY3yM6mJMLbUAr/5P+OS7D9KRIxR87H1wza2QmdPnRGpgebhyLeNcxfkkjvueyzqmHwSCUJnE7IC1bXX60nVYGObO22+hWCzQ2dFBMpHAsWzSTRm6u3roaO/EiUQQQq/0/UZdfxAEuJ5Lfi7HyOgQ0zNTevUNxGMxLt28hTe/7vd4y+vfhB1NUg9Nsi1dGGEVN4TdwxP4oQ5XNKeS2FJRcwMMQyKEIBqJccXZm4hZglq9jgo83PlJ9o3P8MuHHqbq1qm7NRKxCGEqyY/rJUZUgIdisDTHtF/DDQOShokjLCJWlB3VCoP1OnY0gbRtNiSytFlxflKYoaRCamFAwauTEALX9ygFHr7nkkHRm0zRbtj0YJIwLM5PZklJA6ORCHWAbsOi1TCxAVNBXBo4oSIhJQPxBN12hKyQiHqNQIV0WxF6I0niVgxXSob9CtP4JKwIUhrk3Bo13+WsaJItkRRtho0MAi5NtpONNTFlKYjFiMeTCGlgmhaGcRhZfIOqoaWllQ1r15FIJDGkqRvghMAAYkikUvTaUVpMm4uTWdz9U0xVxtg3M8ieyQPcu22Q6X1jPDo0BOUak7kcDxRyPFTMs7uUJ+Z5mEqRTqVOm20/EfPzOszzylfC448/tZEnIaCzUxOH/fzn8Hu/pycW0GGdT3xC/7+i4Nab0dxvS0Bzs+IjH/kakciXUSrPV78quP11b4T9A0scWQh8Ba17O8eRWwuDo+vm5jnxFuRL6FX9QbJidNVQCe34T9Xp++jK/ZegS0sXr2+S5ho2nwKB3yy6Rr9IgS/z5UMOH8AI4VXfAHMx8aP0Cv/5v4BzHoFVI5AuQKQORogSU4yKEwvGL+uVvmFILEMRBJKJiTkqC+NkkxZzQ1M8ft8kXevOobu7h1g0yuzsLNFIBLutg0Q8QW5ulsL8PJ7vHUoaNlaOlWpA3atTLBVpbWkjFo2hFORyeVqam9l8zmZu+/mdDO54gLl0HD9QlKs1pADLkCQTNvlSmWq9Tlc6QXsyQaZ9Nc3xBPnCAl4QEoZ5AiPC3YPDzCwsEIQBUcumv7sL0zTZE4ZMFRZ4sFJgnWGRNm3mfLeh1asYqVWZU4JKGFCvFnENWPCL/KIwwWTgUReKEEU1CLiyqZlC4FFRIUWvTsyUzJaKODKCjMSJBbAhluLRSoGFegkhBSGQNS2qgU9ZQWBYjLt1pCGo+C6GIZBhiI3C9+qEgUvEtDBCn7w/z4RfI2tFMYlQ91yaDYdN8Waqfp2UaROjwNZqAUdK4lYEU0iQJtUgRNWqYGi5wlBpfh3FIalFKSWrurpobmpix95dDA8faJyjcITkolQLMaUFZiJC0hlY/OyBYWo+eFWXtjBCuynokWB5HraEHjuCTUirEsyXK4yn0w3xl+WDMNRx8kcfhQ9/WMfkbfupo1yQEtav1yyOb3yjjuG/8IW67R8BPxuB3R9C+7YlXOvd7y5ywQU34fsXs23bpXzwg+CP98D7/wb+zx9D68wSVvwhmvDsIXQI5oUcckuHtKQkWrXN5D70UulYZPceJ0xG/Np4Ys4iyzkM0H0KV1Jo9n8f70iHv4hEK1wjdAHRmh/C6pvgzB1PPg+ACnkmOVHj2rJ2+ir0WCjWiMei3PvwPnL5PE0Jh2w2hlN0mdj1MNX8FIm2Ltpa2qjWa1RrdTKZDNFojGRCh3wq5fJBOgelFFJIlK8olRao1aok4gkGBgYIQ8FsPo/jOERjCVy3zkyhiue7CGlgqZDWdBzHAFC4vs/Q7DyBUtgWlIvTyNAlROBjMrRQY8eBYZRStCcT9LQ205JqprWpmZjtkJudZX4qTzUQlJViyKsxFwZsiiapEjIXBiR8j6IqY0YcqgJaUykiXglXKWwBzdIkKyT96RY+PzdOGNTpam0iJk1sVzIX1skoSbVSZapWJkAhUcSkybTvkTEdHNNiT73KT+slXBViKMWFiRRNlk011O9jIMh5NYilEaZBwrNoNaMo5REiWRtNE0WC0rmNBysFcsrjd7IDxO0IB0yX8ZiJGYshbYdQaOfuN0TVVUPf2BACKQ1ikRiWYTHQtYqJsVGyzc3EojGS+XnKgU+3HQMVMiMVYyLg0cG9RKNpooHP5kiMNckWts+OQRjwnGiS5ydbcEMX27SpWjYBMDyyFJWlZx7j4zrccuedOhHb2/vUOf7D68ovuoiGqhn4AXz+Y1Dfe+JrgC4Rfdvbygixnptu+jA33hgjnwcQcPNvw+4z4O//N1z2c5AnWpmHaIWs30ETq50DjLGYyO2ll8/xOYb5Bpu4hR08zG5G+QIvYIGmJ1xrhCfH7BPoeps68FV06vSpxDlsoYMTNMIeFTW008+Q4bk8l2/xrcYzhn5m/fvgu2YjJjMC4tvHuVovUwyccB+0rJ2+YRgkk1F27Z7glru2M1euYAjFptUdXHfJRvLbx5kaKzE5O02hcxU93b1kmpqoVKvIqCTiOESjcfJzs8zlc7iu23D+CqkESkpCz2N+YZ6R0WFSiQyRaJSO1nZedNVvsefAXnbv3oXrWbhuFbvBPjlbqBCEIc1xByEEiViU/NQBEpkEqaiNbVuETobHtz9OGCritsVzetvpTCXwwhpBrYJQ0NvVjdXVy12PP84Pc7OoMOAMK8JqpZvO+qwoUQQzSqH8AM802F0qUA0VHiFJw6DPjlJUITsrCzxWKtDdlUZGIwyP5djf1EHMBDU7SapBTKYbSgQDVoQt8SxnOAkedYv8WJUpGFAIIY6gFipmfB9hBcy4JYTn0W5HmXOrFKUg68RZCAPcwKcvksIxLCq+S9ENiEmDjB2l6EEU3QdQM0OKQlCuVbGVwolEsW2HoFbToTh0o5VpmlQbAuaBr7utBdDc1ETUibBndoa5QhE3lsYyJQuZZlZnepkcVUwVShR9n/HAxyuX6LajxBD4QMqymJcwHwaIMGyQmJ3eRO7x4Hnwta9pjdRPflLXfz+VOu5CHCrpVAruuRt+8tWlvTad1g1cyWQHQ0Nf56MfleTzh89KAh46D176XXjnP8Kf/p2OPZ9w4qqi61lc4I9YZNW8kit5EZcg+BCwjufzKAF/TBPf4V7gF2yhcLDo8X50pJxGFKgPxGfRO4g6us1qsQlssWLo162bbaWtQfp9MlDoO+wETEw+ySd1nwO34fEm4M9BdnLoD3cluph64ShXawM+xDQn5pNa3jH9MCDwBT+9Z5BQSfxA13is7k6jRMCavgxC1SnnxyhMDrJr50PkZqZIxuMkEnGkIWlKJOnp6qVv1WrSmWZMw9KFW43a/jAIqNYqTE1Pc2B0P/duvYfv/PA7LMznuOLiS3nDq1/LlnPPpau9C1/aHMiXGJkvUQ1C6kHI2oEBLjl7E57vsXsqz3CuSDGM8PNH9zI8PkLNrbGqNcVAWwbHNpBhHbcwSVR5ZOMJmlNNyFiMeUNQNg2GfI/p0MMHCr5LMfQwA5+OELYIm1bTpsuJEgIRBGnDwjIsWq0Iq6IxnjPQiWXHaMp2Y7a2c+/kKPf6Hre5ZWYIEFLgCcFOr8bd5XnGQ4+fuCXmDIErBcqyMYWkybQZq1fY5Vd43K/xmFdmNvAIHYspt8z9hUmkgojUillFAvYHNR6rFZBCsq9WYr9bIe/XqOIzGroUfZ9IJIqCg7mWRZZS2SBdM0wT09QluZZpH/wqSWEQhiFeGDIeeDTHEjSn03Sn4zRLgzMTTZwRieA0CvutRg4gaZrEDRMiNhMRh+8u5PBdF4mgu6Pz9Bj2SWDXLl3a+b73aRbFpybWX0ZXhx+62MCATiafiLdFCN0LsHmzzrl99KMGw8NHc3cCFprgw38Bv/s1mOhcQjWQ5JAgyqFM8la2MsdXEGxF8FvApzBo4UZqfJtX8k7uJE0dHbR0adT3woPnwye/DJMvAmWgdxSHO/irOMTrf6qIYvNWzubxxphDllT21MB+NMOmQNBPP1/ki6RJo/sWujnSRa8Gzm6M9/Dj16CbzX6HcAn3sqydvmka3H3fTioVSXMqjRSKTf0tKLfOyMQMQnoMdKdIJy1a4wEDTWWK0zsZHdpF6Hpk0xmciINtWbS2tLK6fy29vf3E4glkw1mFKsQ0LC3l53sEgc/07DRDYwdYs34N/avXcsWlV3DReeezdlUfdiROgEHdC4nGklxx4YUkojEcSzNuzpaq3LVjlMf27UYJRXMywsaeNorVGtKwMAyDvVMzZCMCUZsjqFdZ29VNKpHElwazUvGDaoFvlHJ8szTLmPJJmhYRFdImTTKWzW9lu2mSplaLCgMO+HXqUtDV1ctY3mPXyCR9vWvIFfKEQhAKXV1UNQyqKDwVMqwCvlcr8Jcze3nArzBvRYilU7QlY/TaDqsjUVoScXbEBCXHZCCRocWJonyX+dDDkYKoEMxUS5TcKtEgZKRUwG+QpoUCsqZNwjCoqZBfjA5x64P3c/cD97F7/148zycIw4MtLZpFU1fv1Os1vHqdMAwQDQqG0akpdu7fj2WaSCAVKs5xUrTnyySqLk1C0prKcMmGS6lJwVnZDkglmI86VGIR9kQMXNOirgSm7zdWuifZvXSaUKnA3/89XHfdr0+zoHETujLmH4EaQii6uzV/zz//s6YQPhae+1x4xzu087/zTq0odVwoCT+4Hl7xX7Bzwwn84QC6amdxBa4xzTRz9KLFVM5Er49/B8m/YJDgA2ziAX6fG/kc/ZyLoBWKaXj3J+G9l8Pzhe4Fmy+BmmtcNQa8C7gBnUo9VaToRXIRVwCb0f0F9y/plYuFpS2N/wsEFSrUqMGTwlagJ8T1aB6jbzbe7zK0AE0fIBnlxPuWZe30fS/gjlu3sm9wF1SrtFs21UKVveNzZDNJ6rU6pVqZ1b0pohGDer3GQDZEVg6wf/fDTE+MEXccMuk0hiGJRaN0dHRyxpoNtLZ1YtkOolEYHSoIgpBiqYRpmVSqmvd98+YzOPv8jbzwmmt5wRVXsuWcc+jtWYURS7NvqsBdD2zjoR078QIdPqn4gqGpKZQKMYRgTUcrMdvGEyZKSDzfJ5WKEyII/DpmWKAlaXDe2jWctWYN3R2d5KWgZNtg2bgo4tLAlJJq6FMMfL4/M0wx9FljR3lVppPuaIJic5pIVw/tnWs4+8yz2bVvO8MTIzRnWog6mqIgQOEBvoI6ipIhmHMMXFPihR7pdJKrNq9j4/pVWMkoXiyCyDZTz6SIOY4WMAlCHN/nvEgaI/BZE0kSsx2KwL7qPGdGUmSF5NWZbtqkSUqaKCno6eom29JKPfTZPzHKfEmX1gKHenOU5uOxLRvDsghUiPQ9HClpamqi7nvMl4qkpEEy8BChS0RaWFJiCUmfE8XyYFbAtAVuLMJ83GGPLVmQgtAyCS2ToudiSQPjaKKlzySuvQVe8U24+B5omud4HlEpHeq5/nr427/V5GqnvuofazzeA7wU+ApCjOM4ije+Uat0XXfdkzVd02n93k1NWuTjL/5C9xqcGAJ+dTG88MfwlTdAzTnGrUbQxcRFDhdMeRtvYzU3AB9D813+C7pL9lYEb8NkhtV8h7/C5n428Z7wLjq+8DP4+WWghGZNewdwZQK+/mKoxdCO81p0hdBJchgfgfWsppMol6Gj5d9A00CfGIsUDIdPOfvZT4Uqx6ZR+Bha0P1l6DLUH3KowU0HsE60JljWMf3yQoXNRRiuBkyEFZ6fzDAV1GjqbWdutshj+yfItqRIJSJ4YUAqFgUCMjGwakVKs/vI56bo6V1NS7aNmlunWC6TTCaJRCJk0hmmpiYolhYIG6GG1pZWpGkyMzvL8IFhLr3kbLLNTbgDnaxZ28X6M9ez9b6tTE5O8dBj2/n2PQ/SlYqSjFqY0mA4V6RcK2NISToRAULG8wXa0iksQ2FYJs3JuHZuERvLkASBRzqisI047ekMiUiM2bl5ZLVG1LBJ2lHMiMNjlk/GNYnWJI6UrI8lIR6nYglmE3GEaWIYFomERTbTzMjUBPPzOSq1KlJq3v/AVwgpEEoRs0zMBle97/nsGR5noKOJMzf2MZdbYNdkmboUZGyHVuk3yMsczog3U/JdJIp2O460ouxwi9rYVEhJ+bRbEZqExDYN9ss60WyGTal+rEgUPwxIpdLUalUd1mkIpximged5+I2VuCkNotLENgw6si2UKyVmczlapEGnE8UTAq9eBymIGAYL5QpGfRflagVRKNLT1MR+GVIzFEYQgiEJZaOWUgAAIABJREFUpMCvu0RNE9M+VgXIM4B4Cf79tdBUAN+EA33wrRu08kbt2ELjc3Nw443w05/qCp9zzz264PbxcT2a/GwncCua+qAHeBNC/C/OPLObm28WfP7zmsEzl9Mr+3e8Qyd/AT7/edi69WTeU8BIL7zlC8j/vo7kP7+HQvoAAE008TpexxBF7mSBGhLwuZALeQ2v4XquRx5cnzrAa9GExH+Nrpt/E9CHwSvIKsmrH1nHv3ycI71fCDwchzd8Abb+Nnzkcoiajb/BFKcGE/gTLmcAk2+gXfgUxxdrOYQiukVt0b0rFPdzP8HBmp4nQnBoXwBH2w3McOKC1OXt9IsVvEqZs+0ol1lpTSiWamKbq7h9x36UKTk7m2Ziao6qF9LfKVAqJOJEKJUKNKUUSlSZ2j9Hbq6f1WvX0xFvo1KpUiyVaM5kiceTTIyPUliYo1avgoC2bAstmQy33PLf7NzxOL/7ulfRP9CDZUsuueQs1q8b4P6t2wgIuf/hhxgr1rFKNSKmQb5U1DXlEjqbmzClYK5cYXxugb72NrLJOKJexQt9anWI2RZhoIhFLCKWT7leZ1V7C0NT40x7NVqaUoh0jKAthrkqy+TYFM6QRXJsmnNTLexMx3ksauMbEtMwEVJSr1UZGhtFIai6tYbiFIgGKyWAJQVmo2NZNIjgWjIp2ts6MWJRqqGCakhQrLOuponlFkLFlFsn79VQBFyc7qHse0TCgLlKiYxhYiOIGBZjfhUhFEVLsN8x8KRxcFdlmVajC7dRpqmTLEgh8UMPaUiCwKdWq7F/eoJ6qAnhAj9ACAiFIB5JMIYuWw0UyDDk/tkJXtaWIWzOEI3FyNsSaVt4hiAIFAItil6olJnbNUimf6n15E8DVg1DWtsbtgdn7NFJzx++GH5x2XFfGoaau/6ee+B1r9Oc+qtXn0yFz6XoypgPo2mLXXTVy/8HfAkh3kQ8/r9417u6ef7zBX/6p7rF/13v0u+xY4cON538TkOAZ3Nl7lV83DqLz/AJFEX+kFdyIa/AR/AfGLyDMQIcPsWneC7PPca1utFkxz6alOz1QIZqFf78Rpg9qoaIAN+CT1+r//sRH6Kf5dTr9q8DrsFENXJPCY5HdPZE1NAOeLGcQKG4j/sa11l1SiMqcDzNLI1l7fR1270ga9i0CAtTCGTNYG6ywIVn9lF0XXYNTTEyM8+WjX24dY+FikepVsPCY748iZImu8YLbNiYoL7DY+2adfT39zM3N8/0zCwCwaq+ASqVNsYblAxayFuSaWoily/wNx//DC+48lLqdY9rrnke/QO9XHPN81i/Zi1n/Worv7z/Hnbv3cd8uQhSIkJoSyeIWSbT8yVS8SjZVILZYokgCEjHHBIRk7F8gblKhPZUFN/zKNc8TSRm27h+QDwSJbJqFTc9to1gKGRLdQM9HS20renDtxMcaMoylIwhhRZgr7sefrXCngNDFMolrTDVKNlZzGEoQBISMQ0UjWS5F2LbFlds2UQqHsEwBVgm5z2nk6Y5l9LPBhmslei0okQNgy4cHAHVwKMmFKVakay06DcirIokMQyD0BEk6jG2BzVuHZvEnbHJtHeSyTTT0tp2xPZeoNkzhRCEQYBAYBkWnmWRbG5hMj+L57k63CMN2iNxFiQUVYDrK3L1GmWlkJbFDh+8ULCzUgTlEpYUbhAQVYIEknNDkzSC4dlZsgMnK8TxFCJWfXL+0KnDa/8d7nreoQ7M46BQgM9+Fr79bfiDP9Blnm1tS3H+Ar0a/TvgeeiQwTb0cnjR+X8RKd/E5s2/z/e+102hIEindVXRBz8I0yfuAToq0mn46EcE58c2cBP/ghZV+UMEj2Lzbn6XNGeQZJCPcBEXHacmZvG4hVbcAqUEX/mKDk8dF4GATytovhP+/OZTzOOawDs4kyFeznvQO5Cr0bq9S8sVCTS75uH7TR3PvxLN37kUHD7zCv2dPsErlrXTN4RAKkXRrZCyJYZh4routZkCv5ia5ZwzOhGGYMNAOxFL4vkeM2Wbux/dS0c6zkK5RK5cw7ZMpnK3c+3zzoayw4MPztLZ0U17exvlUplKtYpt2UScCLO5aaamJqnVqoRhgG1Z+JbLzd/6Du1t7USjEUrFGm1trezdP0VPz2r+6por2PrAI3z7B99n566d1KslLMtmcGIWyzToa2/FEIKIpajWa5SrFdLxKG3ppL5HEVKsebrxK9nEnlwFISVn9q8mm01w/lnr2LpjL7/avot1pSptza2YiQT3iIAmw8A0Tfxanfx8jtn5ecZmprQTRZdCLna7IjSVQcQ0DlJPmVJz4Jy7YYC1nW1YQlD36nRmY/Rno9Qe30PFc0nYOs7e6kQJKnVqYYBrwFBxgahhcEY8S8Wr4CCoI5kuFrAjNiXLIGnb7PVchnY9TizicOVzLyeVTHPw2yYEhpQgRKN72tcU2fUayXictnSGUqmE53qoMCRpmgx7NaZdj5RhctfEKG4YsjmeIRHYtDRlUKZJXUK+WmHf7CR+PE7L2tXMlEvUp6awEilmFgqn0bqPAgG8/NvIf/pjwu0bWao3mpjQjvhb39Jhly1blrrqt9D0wS9ETwBfQrNhgg6ffBAhvkw6/Yek068H2snlxCkrdQmhJ6fNmzm449R8+99ETzy7kXyNS2jiEn73ZK6MUpq59MMfXqQXPgHsKpz9GY5JI3pCXAVcRBs7WM0IWo3rDuAitEjMidGM3p8sRudq1JhkCvh9tGsuNp7Vsi3noNvVPHQwrh/FBr6EyUOU+Bs6aeKfOHGwalk7fQ+YDHz6nASeNJmqV9hRK7HdrzLr+tyxbYh0zKavPUF+rsj0Qp2RXIWaH5IvFjEMiW2ZCCBUPtXyAgMtVex8nW3bRkikmunvW0NzczMoRWFhAduyaEqlGZ8YY24uRxAE2LbNqu4eBIKf/+JufnjLrZimQVO6k9e85lVkmqNceuk5xGIRfvbLe/nlfb9iciGPbZhYUlKsuaSiDoZhYFsWnu+zUKlSqFTpSDeRitqk4lECBKnWVUzv38qqnlW0t7ZhSUV/RwtNyTi7x6aw7Ch1XzcyjUxN8PDg4/T39LK2u4NarcLI5ASB0nwjYtHxh43VgFJYEmy52PmqV9jZTJKrt2zEDBWFhQqObdCatpi9fy/Z4SIths2C72IrqPoedQKm/Bq5hRK2klSCOnGg34mjlGKhVqZaq9HR2sKj9SpmIsNl6zZS9ioEoU8ikdICKOj7WKRZmJqepjnbRrVaxjEtDNOkUqtSDgJmJsb1Z6EU6SBkaj7PneU8r8/28sJkB9/OD7M51sStKYPhdi3dWPE8duzZzZBbIuaYXJaIomI2C7NTrGrOsm82d5osGwyMo7JRirYZ3vTf/0X3TRv50hdh5ERUMw0oBdu2wcteBp/+NNxww1Jj/QIdG/4guoHpy2jn9TA6Rj2EThx+HngrHR1v4kc/auaDH4T//M+lUfku4jnP0eWeh0jlBFqW5A40OdrvwRNanJSC3bt1g1okcuzJrF6HD3xAN7adGAre8BW47kenuMqPoqkj4lzO/UhuANahd09rj/GaA+jJrRsdAroYmyw3HHbGN/gGO9kBDKKj89ejK5q+Blj8GfDbevQYLFbh/Kxx3d8HLmAfJ6akW97VO6bJPinICcl9xRlCKXk0rDMsITQMQmGQq/o8fGCeB4fmMK0I6WSCEIjFk3Rmm+jMJPD8gCBU7BqeYc/4Aq1Jn/NXQa00zfbtDzA+coBcbpZELEZLNks228Lq/rX096/V5Z2GgZQSKSW2ZdHcnCGRSDA1fYAf/fDbbHtwB2EY4ETgFS99Ie9601vYuOFssOIsuPDY+AwjM/OEQYhtGlimhW07uH7IjrEp9k/P4YeKTFsve2fmaW3rIJFsZs/0LGaqk7onSUUczhpYRTIao1QqMbh3D3tHhskV5ti9bydJleec3jgD7U0NDvpDylM04uZSgGMYujlNCr3CNkwuPXcdwgfPD7AMgcDl69+/m+0PjDEXNchLxd5qmaFKgelqmSmvwt2VOW5fmOaxWoF2J4IlBI4QVIM6Q9U56qHPJjNJ1nSwkxkGR8epK5vnnH8hrV29hGHYiAnrCUkpRa5YZMPGs8G0edmrX0F3bz++H1Bx3YOb2DbDpEsYbIgmGYiniBsWq2JJ3dfgVoki8EydQzAcB08plDCo16vUfZ+FcoW9xQV+8fCDPDj4+FHt7plAH30kg/QRu/MIEd4r3svHu9/BB/5C8MtfwvvfD83NS7/u5KSmWPjEJ6BWO5m4u0TXgf8VWh7rFuAV6GagRe6a9yHEJxgYUHzpS7p5bN26pV09FtO0D61PotMR6DLEr6BXz4e88OJEdvXVmpPo4YePXq6qlKZ3/u53n/zc0W81hGQRFlInU1J/GKrAVzHwuZhHkHwSeAPa8R6u5Xs4dgLvRyehX4ImmztUuAawgx3UqaP5fSbQk7Fz8Ixh9CrdRjt9cfDhIhhCoPMDD5xg9Cd0+kKIXiHET4QQjwshHhNCvLNx/INCiDEhxMONx3WHveb9Qog9QohBIcQLDzt+bePYHiHE+0703p7vU21p4/sW/DSs8V+1efZbBqFlY5gWUupVolLQ05pmbXuGdMTAIMQgxEQxUyjhBlpgZTK3wDf++37majbplMOm9pDVbQ7Kq1Aq5HnkkQeYGh8jaju0tbbR27OKdWdspL29G8uOaNUmITAMi4gTpberh5mZWf7xs5/nU3//eXxXUSpWkbWAy7dcwhWXXE5Tpo26MjkwV2Tb8DhzpQqmlFiGQcyxCRHM1QImygHFMM7g/r2UylVcz6OnbzUylsW3W9l1YIYDozMMjY6xffcg0/N5glAnNs8a0J23q1pi3PC8dZx/xiq629sOGVTjm28bBo7VIDCTAkMa9Pe0smXTGdiWoL0txvDkJP/2o7u595ER1sRbSLkOKSPC6kQzhRDuWJjllmKO7fUy46HPgcDlcbfCgiHxDJO9Xo3dXpULU23YnktXPMFZzXE29LaTsA2iwifT6JOQUlfuLNIpR8yQfYMPknDgsYcfJqjXaUql6O/uxWwQs6kwoEXAeLVE1DAo2oJRs07McRhxqySUDh0EYUioIJlMNiqXDPwgxHIcDMehGobU63WAdafDtu1Khr7/+XOu/a8vcrG6mG66+TSf5kN8iDRphNCr2/e8R/88GZTL8Jd/CW97m672ObmEq0A7mucD/4leRW7iEBd97SB18ytfCXfcoXMJ0WMXHCGEPufaa4+1Ul9sNjryyXxes46OjGhVsKuv1sLr+fyR91Qs6t2Nt1SK/NDQzJXX3Ao/ug68Uwl4HCBAUOD/oKkj3tU4frSksEKXo76xcd6fcHyhmAuBDWhWz8+zGAA6ehpl8XM5tCU8EcnEUu7WB/5UKfWgECIJPCCEuK3x3KeUUp88YghCbESTaDwH6AJuF0Isrgf+CR3EGwXuF0J8Tyl1zOWWYzv0d/Rx/55HmRUKiX/YTSpNmCUEtinpaU2QTUcJyTI+t8BcpUytLpCGgW0ZWIbmhZlfKDA6NIjX2kEslqCpOs9crsCq9RdQqZQYGzvA9MwknV29tLZ1EI/HicfipNPNTEyMUioWCMKAMNAtELZl05LJMJvPc/M3v8M5Z51D0o4jpeTM1WvpaGnl0cHH2DH4OK6EHeM5+lt9WpMJ/MAnbhtIGZJu6+G2e+5ifmGeRK1OPJGko6WDwd272LNvkJn8JEqF+L6PCjVfjRCC1V1Zelubma+42I5FJOJwVk8b6/siDI41s3t4hIVyCd/3cAOFcBWmKbFNm1jM4uqLNuHVfeo1n5/cv42fPLyHat3lqrPXoKI2zIa4da3td0GylYhp8535cWbDABdFENQxKgUShsmoqjDqVRACktLEkwahEHgNrVpDCA7sPYBpWVoHdxEKSpUybnkvu3bs5CUvWM3+sX0UKt0YhoFpGEQjEVy3hgCSlsOt89NEbIdqIsGsbXKRbeOXShiOg2hUCgkEvZ3dIASVeo1YxCYRTxJbuw63sMAd+3YDjCqlNj7Ttj24E6IHzuKf37aJc8VrmGeeLrqOSFwqpcVQHn30WFc5NnxfN1vt36/j/GvXnix/z2KD1NVoGuEfoKUL38aicxYCenrgM5/R/QM33gjbtz95ktmyRTOIHp1GQqHDSDEOd/qLCeO77z50Zj6vxce/9z3NGHrNNfqaiQT8wz9oCunBwSXenpLwwAXwym/Cb98MH/gQrNl7EuGeAFBILLS4yjnoaqJDK/Mj8XXgC437fDM6gX4kOlmkXHgZYPM/EFwN/Dt6lX/0boLLgBz6c4KNPAV1+kqpCRrZHaVUUQixA45LKPdS4D+UUnVgvxBiD1pzDGCPUmofgBDiPxrnHvOLYVgOOdNmvlZFCaEbqA6yZWoCNQF0dTSTWyixUK6wuqOVM7rbuH/3CEEYYhq6VjzqRKnXK7iez96RKVKOAWQIQoeEMUtl/F7a0104kQ4mJyfYt2+QmZkp+vvXkG1uJhJxiEYijI2PslCYp+5WtXZro6fUMrWgx2OPbycei9Pe2kE6nSHTlOL5F17C+tVraW9t5fGd2xkf2cd8taR3JIbAtBPcfs89FCsVUskmXN8jFgT8+Cc/Jjefo16vgMFBbn1QCBWyqj3LBet6aU5GKRbrzJc9jJrejUSUy7mrsvS1pJgs+Qzu28NMLkddgSlMFHDRWQOcs76DvXtm+Notv2TftM5h9LaluXhjH+ZeD9OwyAceA7EmYgguSrYglOKO0iy73QqGamiEKqgTckYkiRSCHD5NKmA2UFQaVQW6w1bTKdD4y+lqTYVtmnR0nksYVtk7EuAGFkjRYEWtUq1V9eduWMxYDvsDn6tizUykEkwk40ghsEJFxImgAh/TMPEDH8dxGOhZhTT0ptZzXexslkzPKs40JIOPbKucDttWmmWavj5BvPHviRgZgb/7u1PvwFVKSye+5CWaR/95zzsVkZbF2vA3NB5PhmnCi1+snfvHPqZZPEsl/VxzsxaIOXqISqE7p34X3R188cFxf/3r+jpPnECUggcf1LuMt75VN4tZliaQu+UW3TD2zW8uNdcgdE/Ev70e7ngBvOcT8MZ/hURpCc4/TQsFellAl1g2oRu9jvXCN6ObqEbRid4nn5chgw7enIeB4PfQ7v8N6KLaJ7PkC3S10BtZ3A1cBVyOppU7Fk7KBIQQ/cB5HFIVfrsQ4hEhxE1CiMXGsm6OVDoYbRw71vEnvsdbhBBbhRBba7UqxdoCvgowpIGQ4mCcOlSqISwtMYRujJpdqHLP4CiGYeHYOvxjGRKpQmq1ir4+sH8iT933yM3OUMhPEItKbFkna03RHlugLZsm9H1mczNse+QBDgztJeI4dLR3sHpgLX19q8mkWzAajr6h5odCEQRaNnFoeB/DI0PMzeUJA5+2bAuEcP5Z53PDy1/HpguvJpLpBOkwMV+mWKli2Q6uH+AGIcOTE8zkp3HdGr4KCJTADzRtgTQM0qkk56/uJGoKohGTbHOcSDwG0kRIHcMPA5+4HSVuWQx0dBGPRhEIaq5HzdOkc5GIgWHDxNwCQYOI7LwzepivuEzjkQ/rZJwYMcMiBGpBwKZYmje39HNFvBkTwYzv8v25cQ64ZdK2Q5Np02w5TLk1fjU6zC8f2Mq2hx9icnSskVRfnLD1BOV6Lrf/4qfcs3Ube4bz7J6I46tuDGkRhIr8QkH/fRU4QpCrVfFQtKYyBOk0qVQaJ5YgjMYIYzHqrovn+wRBSBBogr3AD3Bdn/GpSYLCHFKFrDusZPOZtm2Y4brroL39iWcdguseP2yyVAwO6sTu177262jyisMeR3lW6HLRv/1bvRLfvFlPBu9/v27oOvouo45OIO9F5w4OxfHf+16dnD0W6nU9kSwmq4WA/n69u/nX/+uSXj/J0gP2AsZ64E8+Bdf/QHfyBsd3jYINfIp3cRHnoflwXoomVTgaAjRVwjfQ/bfX8cS/o0JxgAPoJHEbBhxc96fQ027kSa8C7ezNg88ITrySX7LTF0Ik0OrA71JKLQCfQ+uanYveCfzdUq91PCilvqCU2qyU2hyLxxk+oLdcYcPRQ+OjbFiRHwTsHJ3i0eF5Judr5BbKPHpgFMMQ2JaJaUhMKZHiUNQwEo1y9rkbuez553H55edx4UWbOO+CjbS0JOlrV6xu97HMkFqtSnGhwNTkGLsGd+C7Lk3JJNlslu7uXrq6VjUSvY0/48EiGYXn+8zkphk6sJfxyXGqtRpBGFKp1SiVSvT1reG5l78YUl2Mz81h2jam5eD6Lm4Q4oW6cSoIfc1/HzTExBvqW5v6e3BME1cmyJUF0/Mlyq6LtAS2pRPPQjqUPEW5XGK+uKBZRn0f13MpVsr85+1b+cA//BfDo5OgAkSgWNOTJZ2KMT5fZSwe4GYsEk4UKQS2YWEIScSwaDYdXt/Sx2vSnQjAF9AbiRGRJhlpkJKSvA1n9PXT1tWJNCSVSgXPcwnDIyUSHSfC2Rs30draSqq5iedceAbCkvi+RyIeZ93AGjob5bJdpk1WGqRMC5FIMO+7FEtFqtUyhmFgGOZhSezwoPj5YvK6qakJM5WmclgA+HTYtuO08ld/dXzmzDVrdIXMUpOlx0Mup1fGf/3XOub/dMkDGwZccYXWBfjyl+GP/uhYuwuF1sL9BrpqZwOgxWTe8Q6dkD4ezj5b5yyOuLZQeHaZe1/xZ5TvvAje/hmIlVmy8w8N7fCv/wG86x9gtPsYLxUoLuSX/AlaQnEx53G8WtEsOir/KXRF1JFQKHawA10BlKUJTcT2dGBJGQwhhIX+UvxfpdS3AJRSU4c9/0V00A80qcfhqaeexjGOc/yoqFUrlMoFRENYJGw0FyFAhaqxugbCED8IQIUYUulEqSWxbPNglhulu+Yc2+RV111CX2+7blhCc+54rktf/yrCUNHtByQTDrfcPczdD2xDGiaveuXrMAyLYqlINBIhFokRjUZJJVPM5mbIzU7j+S5KCVCHOOJdz2VycoxyuURrSxuJRBKlYL4wTzwW57rfejHN6Sy33XUnXlBj47oN7B8Zw/V8/MAjhEY3aeNvLQXrervZ2N3EQqWKXy/i1mDfVJWYmmHz+j5wLCxs8sWAmqvTOrGIg2UauJ4LShGEPiGwe2iamZEcQRCSdEyes6qdWj1AGj65qs9IXbIxHsWruIRhgBJC76AwCFXAxYkW+p0442GdzkiMyWqJdtPCtpPYocHumSnM1jZ6e3pIptI4jkMQhIhF9TdtP+RzOSzDJGZEGN8xRiIWw/U0AV6mqYmmRILWpjTj+/fzoF9lY7qVYiKBFU+gwpBqrUoQBtTd+mFVS/Jgf8Liu5mGRc0PMA6tWsXpsO2+Pv04XpxdCC1w8vKXayrjXxe1mqZV2LMHPvc5zaHzdEAIvQp/7WtPdOZmdGLzzwCJ5+mY/V13nfj6b33rk0NGJUr8MX/MV8VXCbtC+NSfwEu+Dzd+VDNuLqHhDYTWpP3M23WS9wMf0pKFkdphdpTE4Dyey20IXLQ049UcSZFwOGbRql3vBC5B7wyejFfwCpKcy604nMmRBvVUYinVOwLNcLRDKfX3hx0/nJf25RxSLvge8DtCCEcIMYAOZN2Hpp47QwgxIISw0Qmx7x3vvev1WiOMow4KoKA4SMe7GFSRUuLYNobUylaOZWAZBmKxkiPQdetSCi69cD1bztbbetVwCK7rsn1wnGoNPYG4Ho4VI9vaQ2tHD2eedR7r16wjl58ll8uxUFigXq+RzWTp6Oigt2cVa9asJ5XKYBoGUhqN6x+icC4szHNgeD+Tk+NUKmWUEpQrVXL5PNK06O3uAyEZGxvTK9TAPxj7PkhVgCIRjdOZdEDp3YAfBBBCRFU4v6+NmBHihC6uWyVXKjCbz1OtViBUSERjt6MOpukyQnJtoplOaTDQmaVU9nE9jzAMCA2TnXGfe6JFctJHGibSMHBMR4fVpEHMcuiPJLks3UkqFsW3FAkB0guwDYvAchgaHWV0/wHyc7mGvOSis9fhOaUUVddlem6eQi0knu1EWKYOAQld5aOUwrYsRtwa3ynMcmu1wHgqTtVzdf2+ZROLxfED/+COMAyDg+pYAtHYAYT4QUhhYYGduwdB0xM+47adTC4tsTo8vAQmy5NAEGgKh9wz0KLQKHY71rPozdTHgRaUgptv1iyfJ9qFKKU1Bm699VC+IyTkQ3yIf+PfdEMigBnAb92mOY4yxwq9HGd8+1bDm7+oGUK3boZw8WZWcy6r+B+MI/gCulTznRw7hboXXQX1Z2idgJknnSGR3MAN/DN/xlZM/pXDeUafWixlpX8peip7VAjxcOPYjcBrhBDnoj3vEPBWAKXUY0KIm9FJLB94m1IqABBCvB34Mfp+blJKPXbcdxYCJTjM4est+6Ls4aJxBGGA79dJRC0kAj8MMYShuzyVjzAkUghas0le9oILtIB2oUIkYhON6IqX88/q15ODEiyUfPzIGs4/N4anTNraO9j22GNMzkwzOj6CJOT88y+mKZPmzIH17N67F8MwiMfiTM1MMj0zib8o2BKGB2UAPd9jamaCYqlIe1snqaY0pmGwpn810UiUuUKJhXIRKRSeW258YzSPgmjICrYmIszO5qhXSqzqzFKq+3ihz9reNhKZpI5hey5pS6DSkpZ4iru27aXuBWQTCRJKseDWqfs+BrDBiZKVBv3NCaKtKZSUWIYgVAJTKEIZMGIrJuN1zi2ZbDLj2IaFL8ALAywhCVGIAJKhwYZsG1axTNVz2Yeiu38NHbak7vkkkynCUE/gQomGU9D3eM7GTbi+h++HmHZZf24AQlKt1wh8Hy9QBKFCSUE8lSaWSBFKKJdKKKX0IiE8ZB+6nFc1KLRVY7KTjIwPs398lML8POh991XPuG0vAUrpypjR0V/3Skfiuutg1alRuzzFODQjTE7qap3jxfEPx7598OpXa2WxP/gDqBhlvst3D1KRiAkuAAAD7ElEQVR1H/EWD58L86fCpCk0V88tL4J7LoE/+iy89xOI1HN5J7eRohf4FjoCaHLsNfRF6HXBI2gpx6MT/S1WbmVPYaQnA6FONK2eRgghiuj2tOWMFvT+bbliZXzHR59S6mgK3E8rngW2fbo/l6VguY/xdI7vmHa9rGkYgEGl1ObTPYjjQQixdTmPcWV8yxbL2rafDZ/Lch/jch3fsqZhWMEKVrCCFTy1WHH6K1jBClbwG4Tl7vS/cLoHsAQs9zGujG95Yrnf93IfHyz/MS7L8S3rRO4KVrCCFazgqcVyX+mvYAUrWMEKnkIsW6d/slS1T+M4hoQQjzYodrc2jjULIW4TQuxu/Mw0jgshxKcbY35ECLE0CZ2TH9NNQohpIcT2w46d9JiEEG9onL9bCHF0Nq2nbnxPO13xswXL5b6Wm20vd7s+zhifXbZ9qNFp+TzQDS570aoONlrAc+NpGssQ0PKEY58A3tf4/X3Axxu/X4dWnxBoysB7n6YxXYam6tt+qmNCq7Xta/zMNH7PPI3j+yDw7qOcu7Hx+TpomaC9jc9/2djAU/zZLZv7Wm62vdzt+jhjfFbZ9nJd6W+hQVWrlHLRUjIvPc1jOhwvRUv90Pj5ssOO/5vS+BWQFke29D8lUEr9HMj/mmN6IXCbUiqvlJoDbgOufRrHdywcpCtWSu1Hc+1uYfnbwKliud/XabPt5W7XxxnjsbAsbXu5Ov0lUdU+Q1DArUKIB4QQb2kca1daZwC0JOUiId7pHPfJjul0jPUppyt+FmI53dezwbafDXYNzyLbXq5OfznheUqp84EXAW8TQlx2+JNK7+OWVQnUchwTTxNd8Qp+LTyrbHu5jecwPKtse7k6/eNR2D6jUEqNNX5OA99Gb82mFre2jZ+L8pWnc9wnO6ZndKxKqSmlVKA07eUXOaQ4tSzG9wxi2dzXs8S2l7Vdw7PPtper0z9pqtqnA0KIuNDaqQgh4sA1aJrd73FIO+4NwHcbv38PeH2jsuBioHDY1vTpxsmO6cfANUKITGM7ek3j2NMC8QzQFT9LsCzu61lk28varuFZaNvPVMb4ZB/o7PwudJb7z0/TGFajM+vbgMcWx4FmP70D2A3cDjQ3jgu0QPZe4FFg89M0rq+jt5EeOh74+6cyJrTA5p7G441P8/i+2nj/R9AG3nnY+X/eGN8g8KLlZAMrtv3M2fZyt+v/V2x7pSN3BStYwQp+g7BcwzsrWMEKVrCCpwErTn8FK1jBCn6DsOL0V7CCFazgNwgrTn8FK1jBCn6DsOL0V7CCFazgNwgrTn8FK1jBCn6DsOL0V7CCFazgNwgrTn8FK1jBCn6D8P8D0TLFJO/3yZkAAAAASUVORK5CYII=)"
      ]
    },
    {
      "cell_type": "code",
      "execution_count": null,
      "metadata": {
        "id": "mZLD_asYbiHF"
      },
      "outputs": [],
      "source": [
        "#Random selection of an image index from the list\n",
        "indice_img = random.randint(...)\n",
        "#Path to the image and its ground truth\n",
        "path_img_example = os.path.join(PATH_GOOGLE_DRIVE, FOLDER_IMG, ...)\n",
        "path_gt_example = os.path.join(PATH_GOOGLE_DRIVE, FOLDER_GT, ...)\n",
        "#The image is read using Matplotlib's function\n",
        "img = plt.imread(...)\n",
        "gt = plt.imread(...)\n",
        "\n",
        "#Use Matplotlib for display: on the left, the color infrared image, and on the right, the ground truth.\n",
        "#Feel free to search on Google for how to display two images side by side using Matplotlib/Pyplot.\n",
        "...\n",
        "\n",
        "#Display the size of the images\n",
        "print('Size of the image: ' + ...)\n",
        "print('Size of the ground truth: ' + ...)"
      ]
    },
    {
      "cell_type": "markdown",
      "metadata": {
        "id": "NbogXHBVO-zA"
      },
      "source": [
        "Most complex part of the notebook. This step involves preparing our training and validation patches.  \n",
        "Here are the parameters for the method generating the patches:  \n",
        "\n",
        "* The path to the folder containing ground truth data  \n",
        "* The path to the folder containing image data  \n",
        "* The number of patches to create  \n",
        "* The list with the names of the train/validation images  \n",
        "\n",
        "The function outputs two lists with the image patches and the corresponding ground truth patches.\n",
        "\n",
        "The idea is to randomly select 256x256 patches from our list of training images.\n",
        "\n",
        "We have 7 classes for our ground truth data (Impervious surface, Building, Low vegetation, Tree, Car, Clutter, Undefined) and 3 bands for our image data (Blue, Green, Red). In semantic segmentation, a convolutional network expects a binary band (1 and 0) for each class. For 7 classes, we need to resize our ground truth to obtain one band per class. Currently, the dimension of our ground truth images is (x, y, 3), and we want to obtain ground truth patches with dimensions (256, 256, 7).\n",
        "\n",
        "The image patches, however, do not change in the z dimension; they retain their 3 bands, resulting in a size of (256, 256, 3) after selection.\n",
        "\n",
        "However, the image patches need to be normalized (values close to 0, between 0 and 1 or -1 and 1) for better classification and avoid gradient vanishing. To simplify this process in the context of this notebook, we will divide each band by 255 to obtain a value range between 0 and 1.\n",
        "\n",
        "\n",
        "\n"
      ]
    },
    {
      "cell_type": "code",
      "execution_count": null,
      "metadata": {
        "id": "CnaZd3zLJEAk"
      },
      "outputs": [],
      "source": [
        "#Method to generate training and validation patches\n",
        "#Note: Be cautious with data typing, as improper handling can quickly fill up memory space.\n",
        "def generate_learning_patches(path_folder_gt, path_folder_img, nb_patches, size_patches, list_with_filename, data_aug = False):\n",
        "  #Counter for the number of images\n",
        "  _current_nb = 0\n",
        "  #Lists of images (X) and ground truth patchs (Y)\n",
        "  X_res = list()\n",
        "  Y_res = list()\n",
        "\n",
        "  #Progress Bar\n",
        "  with tqdm(total=nb_patches) as pbar:\n",
        "    #We loop over the number of patchs requested\n",
        "    while _current_nb < nb_patches:\n",
        "      #Random index to select a file in the lists\n",
        "      i = random.randint(0, ...)\n",
        "      #We extract the paths to the files\n",
        "      _gt_path = os.path.join(path_folder_gt, list_with_filename[i])\n",
        "      _img_path = os.path.join(path_folder_img, list_with_filename[i])\n",
        "\n",
        "\n",
        "      #Reading the ground truth and orthophoto images\n",
        "      #For the ground truth, an unsigned 1-byte integer is sufficient\n",
        "      _gt = tiff.imread(...).astype('uint8')\n",
        "      _img = tiff.imread(...).astype('float16')\n",
        "\n",
        "      #Randomly select coordinates within the image (be careful with the image edges!)\n",
        "      _y = random.randint(0, ...)\n",
        "      _x = random.randint(0, ...)\n",
        "\n",
        "      #Select the orthophoto and ground truth patches from the images → take the previously chosen coordinate and add the patch size.\n",
        "      #Indice : slicing\n",
        "      res_gt = ...\n",
        "      res_img = ...\n",
        "\n",
        "      #Normalize each band by dividing by 255 to obtain values between 0 and 1 → 255 being the maximum value for each band.\n",
        "      for b in range(0, ...):\n",
        "        res_img[:,:,b] = ...\n",
        "\n",
        "      #Convert the ground truth patches → check the code in the hidden functions to understand the output.\n",
        "      res_gt = convert_from_color(res_gt)\n",
        "\n",
        "      #Create a zero matrix with a depth of 7 (corresponding to the number of classes), which will be filled later.\n",
        "      _tmp_gt = np.zeros( ... , dtype=np.uint8)\n",
        "\n",
        "      #Loop through the 7 classes (0 to 6) and binarize before adding it to the corresponding band of the zero matrix.\n",
        "      for i in range(0, 7):\n",
        "        _tmp_gt[:, :, i] = np.where(... , ... , ...)\n",
        "\n",
        "      res_gt = _tmp_gt\n",
        "\n",
        "      #Add the patches to the corresponding lists and convert them using the optimal data type.\n",
        "      X_res.append(...) #convert to np.float16\n",
        "      Y_res.append(...) #convert to uint8 (unsigned integer using 1 byte)\n",
        "\n",
        "      #Increment the patch count counter\n",
        "      _current_nb += 1\n",
        "\n",
        "      #Apply data augmentation methods to both the image patch and the ground truth patch.\n",
        "      if data_aug:\n",
        "        if randrange(100) <= 25:\n",
        "          res_img, res_gt = data_augmentation(res_img, res_gt)\n",
        "          X_res.append(res_img.astype(np.float16))\n",
        "          Y_res.append(res_gt.astype('uint8'))\n",
        "          _current_nb += 1\n",
        "      pbar.update(1)\n",
        "\n",
        "  #Return the two lists converted into NumPy arrays.\n",
        "  return np.array(...), np.array(...)"
      ]
    },
    {
      "cell_type": "markdown",
      "source": [
        "**Question:** What could be the issue with this data generation approach? Have in mind the slides and the paper i presented at the begining of this course."
      ],
      "metadata": {
        "id": "NQklpAmB__mF"
      }
    },
    {
      "cell_type": "markdown",
      "metadata": {
        "id": "0lzupBUc6Z8x"
      },
      "source": [
        "Below, you will find the variables to run the patch creation function.\n",
        "\n"
      ]
    },
    {
      "cell_type": "code",
      "execution_count": null,
      "metadata": {
        "id": "86Pv3EVl7E9D"
      },
      "outputs": [],
      "source": [
        "#Generation of patches for training and validation.\n",
        "path_folder_gt = os.path.join(PATH_GOOGLE_DRIVE, FOLDER_GT)\n",
        "path_folder_img = os.path.join(PATH_GOOGLE_DRIVE, FOLDER_IMG)\n",
        "nb_patches_valid = 120\n",
        "nb_patches_train = 1200 #This will take around 8 to 10 minutes to generate\n",
        "size_patches = 256\n",
        "\n",
        "X_train, Y_train = generate_learning_patches(path_folder_gt, path_folder_img, nb_patches_train, size_patches, list_train, data_aug = True)\n",
        "X_valid, Y_valid = generate_learning_patches(path_folder_gt, path_folder_img, nb_patches_valid, size_patches, list_valid, data_aug = False)"
      ]
    },
    {
      "cell_type": "markdown",
      "metadata": {
        "id": "90RL8fDJRdmd"
      },
      "source": [
        "# Training"
      ]
    },
    {
      "cell_type": "markdown",
      "metadata": {
        "id": "_oCHUJfwzKcG"
      },
      "source": [
        "## Hidden Methods\n",
        "\n",
        "These are complex methods that you don't need to develop yourself. However, explanations of their usage are provided below for better understanding."
      ]
    },
    {
      "cell_type": "code",
      "execution_count": null,
      "metadata": {
        "id": "FbnLy2hwx-Mg"
      },
      "outputs": [],
      "source": [
        "#This is just the F1-Score, also called Dice\n",
        "def dice(y_true, y_pred, smooth=1.):\n",
        "  y_true_f = K.flatten(y_true)\n",
        "  y_pred_f = K.flatten(y_pred)\n",
        "  intersection = K.sum(y_true_f * y_pred_f)\n",
        "  return (2. * intersection + smooth) / (K.sum(y_true_f) + K.sum(y_pred_f) + smooth)"
      ]
    },
    {
      "cell_type": "markdown",
      "metadata": {
        "id": "bp_4_iRozTO3"
      },
      "source": [
        "## Your Turn!\n",
        "\n",
        "Now it's your turn! Carefully read the instructions before starting, and don't be afraid to experiment (even if it doesn't work!) 😉"
      ]
    },
    {
      "cell_type": "markdown",
      "metadata": {
        "id": "sYJThnqI19is"
      },
      "source": [
        "VGG16 is used as a [*backbone*](https://stackoverflow.com/questions/59868132/what-means-backbone-in-a-neural-network) with pretrained weights from [ImageNet](https://fr.wikipedia.org/wiki/ImageNet).\n",
        "\n",
        "**Question:** What is the activation function best suited to our problem, and why?\n",
        "\n",
        "Complete the activation function, the number of classes, and the size of our patches.\n",
        "\n",
        "Read the doc: https://segmentation-models.readthedocs.io/en/latest/tutorial.html#models-and-backbones"
      ]
    },
    {
      "cell_type": "code",
      "execution_count": null,
      "metadata": {
        "id": "xD8eLr_l8WGB"
      },
      "outputs": [],
      "source": [
        "model = sm.Unet('vgg16', classes=7, activation=..., input_shape=(size_patches, size_patches, 3), encoder_weights='imagenet')"
      ]
    },
    {
      "cell_type": "markdown",
      "metadata": {
        "id": "xf5gzZa72QnI"
      },
      "source": [
        "We will then compile the model using the Adam optimizer with a learning rate of \\(1 \\times 10^{-4}\\), cross-entropy for the loss, and accuracy along with the [*Dice coefficient*](https://fr.wikipedia.org/wiki/Indice_de_S%C3%B8rensen-Dice) as evaluation metrics.\n",
        "\n",
        "The training will take approximately 30-40 minutes. Complete the code and ensure it works correctly. Later, we will use the weights of a pre-trained network on our images to obtain faster results.\n",
        "\n",
        "Feel free to check the [documentation](https://faroit.com/keras-docs/1.2.0/)."
      ]
    },
    {
      "cell_type": "code",
      "execution_count": null,
      "metadata": {
        "id": "PO66-K7U2Uyq"
      },
      "outputs": [],
      "source": [
        "model.compile(optimizer = Adam(lr = 1e-4), loss = 'categorical_crossentropy', metrics = [dice, 'accuracy'])"
      ]
    },
    {
      "cell_type": "markdown",
      "metadata": {
        "id": "M0j8xpYI9wb3"
      },
      "source": [
        "**Question:** What problem do you see with using accuracy? Is it a reliable metric for our case study? Why is it preferable to use the [*Dice coefficient*](https://fr.wikipedia.org/wiki/Indice_de_S%C3%B8rensen-Dice) or [*IoU*](https://www.pyimagesearch.com/2016/11/07/intersection-over-union-iou-for-object-detection/)? Check this [page](https://sci2s.ugr.es/keel/imbalanced.php) for a hint."
      ]
    },
    {
      "cell_type": "markdown",
      "metadata": {
        "id": "fk3la-9y2q25"
      },
      "source": [
        "Here we initialize the *callbacks*:\n",
        "\n",
        "* *Early stopping* stops the training X epochs after detecting [*overfitting*](https://fr.wikipedia.org/wiki/Surapprentissage).  \n",
        "* *Reduce LR* reduces the learning rate when a metric (loss in our case) stops improving.  \n",
        "* *Model Checkpoint* saves the model weights after each epoch. This allows the weights to be stored locally for predictions without retraining the model.  "
      ]
    },
    {
      "cell_type": "code",
      "execution_count": null,
      "metadata": {
        "id": "x2iXd9FqoAIz"
      },
      "outputs": [],
      "source": [
        "#We save the weights\n",
        "PATH_WEIGHTS = './weights_model.keras'\n",
        "\n",
        "early_stopping = EarlyStopping(monitor='val_loss', min_delta=0, patience=10, verbose=1, mode='auto')\n",
        "reduce_lr = ReduceLROnPlateau(monitor='loss', factor=0.1, patience=5, min_lr=0.00001)\n",
        "model_checkpoint = ModelCheckpoint(PATH_WEIGHTS, monitor='val_loss', save_best_only=True)"
      ]
    },
    {
      "cell_type": "markdown",
      "metadata": {
        "id": "9PtEr_v94PCJ"
      },
      "source": [
        "Start the model training. Referring to the Keras documentation, complete the function with the training data (patches and ground truths), validation data (patches and ground truths), a batch size of 64, 100 epochs, and the list of the three previously mentioned callbacks."
      ]
    },
    {
      "cell_type": "code",
      "execution_count": null,
      "metadata": {
        "id": "gyDf7Ecq_lY6"
      },
      "outputs": [],
      "source": [
        "history = model.fit(\n",
        "   x=...,\n",
        "   y=...,\n",
        "   batch_size=...,\n",
        "   epochs=...,\n",
        "   callbacks = ..., #Add callbacks here in a list format\n",
        "   validation_data=... #Add tuples containing validation data, X and Y\n",
        ")"
      ]
    },
    {
      "cell_type": "markdown",
      "source": [
        "**Question:** what is the objective of a validation set?"
      ],
      "metadata": {
        "id": "XUk_2xLZK2RU"
      }
    },
    {
      "cell_type": "markdown",
      "source": [
        "You can plot the training and validation loss if you want to check for overfitting or hyperparameters tuning."
      ],
      "metadata": {
        "id": "XvoJpvFKQlAc"
      }
    },
    {
      "cell_type": "code",
      "source": [
        "plt.figure(figsize=(10, 6))\n",
        "plt.plot(history.history['loss'], label='Training Loss')\n",
        "plt.plot(history.history['val_loss'], label='Validation Loss')\n",
        "plt.xlabel('Epochs')\n",
        "plt.ylabel('Loss')\n",
        "plt.title('Loss Curve')\n",
        "plt.legend()\n",
        "plt.grid(True)\n",
        "plt.show()"
      ],
      "metadata": {
        "id": "Js-4grV_QjrM"
      },
      "execution_count": null,
      "outputs": []
    },
    {
      "cell_type": "markdown",
      "metadata": {
        "id": "TVAwjtzXcaf0"
      },
      "source": [
        "# Prediction (or classification) and evaluation"
      ]
    },
    {
      "cell_type": "markdown",
      "metadata": {
        "id": "BSc-C_yatTR8"
      },
      "source": [
        "## Hidden Methods\n",
        "\n",
        "These are complex methods that you don't need to develop yourself. However, explanations of their usage are provided below for better understanding.\n"
      ]
    },
    {
      "cell_type": "code",
      "execution_count": null,
      "metadata": {
        "id": "udDkEnI_ch2Y"
      },
      "outputs": [],
      "source": [
        "#Method for predicting on a patch of size patch_sz.\n",
        "def predict(x, model, patch_sz=256, n_classes=7):\n",
        "\timg_height = x.shape[0]\n",
        "\timg_width = x.shape[1]\n",
        "\tn_channels = x.shape[2]\n",
        "\t# make extended img so that it contains integer number of patches\n",
        "\tnpatches_vertical = math.ceil(img_height / patch_sz)\n",
        "\tnpatches_horizontal = math.ceil(img_width / patch_sz)\n",
        "\textended_height = patch_sz * npatches_vertical\n",
        "\textended_width = patch_sz * npatches_horizontal\n",
        "\text_x = np.zeros(shape=(extended_height, extended_width, n_channels), dtype=np.float32)\n",
        "\t# fill extended image with mirrors:\n",
        "\text_x[:img_height, :img_width, :] = x\n",
        "\tfor i in range(img_height, extended_height):\n",
        "\t\text_x[i, :, :] = ext_x[2 * img_height - i - 1, :, :]\n",
        "\tfor j in range(img_width, extended_width):\n",
        "\t\text_x[:, j, :] = ext_x[:, 2 * img_width - j - 1, :]\n",
        "\n",
        "\t# now we assemble all patches in one array\n",
        "\tpatches_list = []\n",
        "\tfor i in range(0, npatches_vertical):\n",
        "\t\tfor j in range(0, npatches_horizontal):\n",
        "\t\t\tx0, x1 = i * patch_sz, (i + 1) * patch_sz\n",
        "\t\t\ty0, y1 = j * patch_sz, (j + 1) * patch_sz\n",
        "\t\t\tpatches_list.append(ext_x[x0:x1, y0:y1, :])\n",
        "\t# model.predict() needs numpy array rather than a list\n",
        "\tpatches_array = np.asarray(patches_list)\n",
        "\t# predictions:\n",
        "\tpatches_predict = model.predict(patches_array, batch_size=60)\n",
        "\tprediction = np.zeros(shape=(extended_height, extended_width, n_classes), dtype=np.float32)\n",
        "\tfor k in range(patches_predict.shape[0]):\n",
        "\t\ti = k // npatches_horizontal\n",
        "\t\tj = k % npatches_vertical\n",
        "\t\tx0, x1 = i * patch_sz, (i + 1) * patch_sz\n",
        "\t\ty0, y1 = j * patch_sz, (j + 1) * patch_sz\n",
        "\t\tprediction[x0:x1, y0:y1, :] = patches_predict[k, :, :, :]\n",
        "\treturn prediction[:img_height, :img_width, :]\n",
        "\n",
        "#Method for obtaining a prediction from the mask containing per-band probabilities.\n",
        "def get_prediction_from_mask(mask, n_classes):\n",
        "\tres = np.zeros((mask.shape[0], mask.shape[1]), dtype=int)\n",
        "\n",
        "\tfor x in range(0, mask.shape[0]):\n",
        "\t\tfor y in range(0, mask.shape[1]):\n",
        "\t\t\tband_nb_max = 0\n",
        "\t\t\t_tmp_max_value = 0\n",
        "\t\t\tfor b in range(0, n_classes):\n",
        "\t\t\t\tif mask[x, y, b] > _tmp_max_value:\n",
        "\t\t\t\t\t_tmp_max_value = mask[x, y, b]\n",
        "\t\t\t\t\tband_nb_max = b\n",
        "\t\t\tres[x, y] = band_nb_max\n",
        "\n",
        "\treturn res\n",
        "\n",
        "def save_confusion_matrix(cm, classes, saveAsPng=True, pathToSave=None, normalize=True, title='Confusion Matrix', cmap=plt.cm.Blues):\n",
        "    if normalize:\n",
        "        cm = cm.astype('float') / cm.sum(axis=1)[:, np.newaxis]\n",
        "\n",
        "    plt.figure(figsize=(12, 10))\n",
        "    plt.imshow(cm, interpolation='nearest', cmap=cmap)\n",
        "    plt.title(title)\n",
        "    plt.colorbar()\n",
        "    tick_marks = np.arange(len(classes))\n",
        "    plt.xticks(tick_marks, classes, rotation=45)\n",
        "    plt.yticks(tick_marks, classes)\n",
        "\n",
        "    fmt = '.2f' if normalize else 'd'\n",
        "    thresh = cm.max() / 2.\n",
        "    for i, j in itertools.product(range(cm.shape[0]), range(cm.shape[1])):\n",
        "        plt.text(j, i, format(cm[i, j], fmt), horizontalalignment=\"center\",\n",
        "                 color=\"white\" if cm[i, j] > thresh else \"black\")\n",
        "\n",
        "    plt.ylabel('True Label')\n",
        "    plt.xlabel('Predicted Label')\n",
        "    plt.tight_layout()\n",
        "    if saveAsPng and pathToSave:\n",
        "        plt.savefig(pathToSave)\n",
        "    plt.show()"
      ]
    },
    {
      "cell_type": "markdown",
      "metadata": {
        "id": "zPg6nceWtqIk"
      },
      "source": [
        "## Your Turn!\n",
        "\n",
        "Now it's your turn! Carefully read the instructions before starting, and don't be afraid to experiment (even if it doesn't work!) 😉"
      ]
    },
    {
      "cell_type": "markdown",
      "metadata": {
        "id": "IQ8ecDMs5I3t"
      },
      "source": [
        "We want to load the model weights and predict on a randomly selected patch of 256px by 256px from our large test image."
      ]
    },
    {
      "cell_type": "code",
      "execution_count": null,
      "metadata": {
        "id": "QB7fNADkcdF_"
      },
      "outputs": [],
      "source": [
        "#Load the weights provided. Replace the path with your own if you have trained a new model.\n",
        "model.load_weights('/content/ISPRS_semantic_labeling_Vaihingen/weights_model.keras')"
      ]
    },
    {
      "cell_type": "markdown",
      "metadata": {
        "id": "zNK5ooSe0pXn"
      },
      "source": [
        "Here is the image to be used for testing with the provided weights: `top_mosaic_09cm_area32` (this is the test image that was not used for training my model).  \n",
        "\n",
        "If you have chosen to train the model yourself, select the patch chosen earlier during the preprocessing phase.  \n",
        "\n",
        "Don't forget to normalize the patch before predicting (divide by 255)!"
      ]
    },
    {
      "cell_type": "code",
      "execution_count": null,
      "metadata": {
        "id": "rSeH7TTzcmSt"
      },
      "outputs": [],
      "source": [
        "#I won't provide further instructions here. Try to predict on a randomly selected area in the image with the size of a patch.\n",
        "img_m = tiff.imread('/content/ISPRS_semantic_labeling_Vaihingen/top/top_mosaic_09cm_area32.tif').astype(int)\n",
        "x = randint(0, ...)\n",
        "y = randint(0, ...)\n",
        "pred_test = predict(... , model, patch_sz=size_patches, n_classes=...)\n",
        "pred_final = get_prediction_from_mask(pred_test, 7)\n",
        "res = convert_to_color(pred_final)\n",
        "\n",
        "#Here, we want to extract the corresponding portion of the image for visual comparison. If you wish, also display the ground truth for comparison.\n",
        "img_output = ...\n",
        "\n",
        "f, axarr = plt.subplots(1,2)\n",
        "axarr[0].imshow(img_output)\n",
        "axarr[1].imshow(res)"
      ]
    },
    {
      "cell_type": "markdown",
      "metadata": {
        "id": "WJU_LywJlxcL"
      },
      "source": [
        "We will then calculate a confusion matrix and a report containing several other metrics per class.  \n",
        "\n",
        "**Questions:** Which classes achieve the best classification results? Which classes achieve the poorest classification results? Why?"
      ]
    },
    {
      "cell_type": "code",
      "execution_count": null,
      "metadata": {
        "id": "SIiNZf2cljWn"
      },
      "outputs": [],
      "source": [
        "#Here, we retrieve the path to our ground truth, converting it to an integer.\n",
        "gt = tiff.imread('/content/ISPRS_semantic_labeling_Vaihingen/top/top_mosaic_09cm_area32.tif').astype(int)\n",
        "\n",
        "size_x = img_m.shape[0]\n",
        "size_y = img_m.shape[1]\n",
        "_tmp_x = 0\n",
        "_tmp_y = 0\n",
        "y_true = []\n",
        "y_pred = []\n",
        "\n",
        "while _tmp_y + size_patches < size_y:\n",
        "  while _tmp_x + size_patches < size_x:\n",
        "    _patch = ...\n",
        "    _patch_gt = ...\n",
        "\n",
        "    pred = predict(..., model, patch_sz=size_patches, n_classes=...)\n",
        "    pred = get_prediction_from_mask(pred, 7)\n",
        "\n",
        "    _patch_gt = convert_from_color(_patch_gt)\n",
        "\n",
        "    #Flatten allows converting a 2D matrix into a 1D list. Feel free to use print statements to better understand the transformation.\n",
        "    y_pred = y_pred + list(pred.flatten())\n",
        "    y_true = y_true + list(_patch_gt.flatten())\n",
        "\n",
        "    _tmp_x += size_patches\n",
        "\n",
        "  _tmp_x = 0\n",
        "  _tmp_y += size_patches\n",
        "\n",
        "cm = confusion_matrix(y_true, y_pred)\n",
        "cr = classification_report(y_true, y_pred)\n",
        "save_confusion_matrix(cm, [0,1,2,3,4])\n",
        "#Display the classification report and the confusion matrix."
      ]
    },
    {
      "cell_type": "markdown",
      "metadata": {
        "id": "bb-5wFc29-yw"
      },
      "source": [
        "**Questions:** What is the issue with this code? Are we correctly evaluating the entire image? What could be improved to make it more effective?\n",
        "\n",
        "Then, try experimenting with several parameters:\n",
        "\n",
        "- Run trainings with a fixed number of epochs without early stopping (5, 10, 20, 30, ...) and observe the differences in classification results.  \n",
        "- Run tests with a non-pretrained network (see the \"Going Further\" section) and compare both approaches.  \n",
        "- Add the [NDVI](https://www.dronesimaging.com/wp-content/uploads/2013/05/documentation/indice%20de%20v%C3%A9g%C3%A9tation%20NDVI.pdf) to the set of bands and evaluate the predictions.  "
      ]
    },
    {
      "cell_type": "markdown",
      "metadata": {
        "id": "lyJUTAE6lseh"
      },
      "source": [
        "# Solutions"
      ]
    },
    {
      "cell_type": "markdown",
      "metadata": {
        "id": "3nIOEp89m8BE"
      },
      "source": [
        "## Preprocessing"
      ]
    },
    {
      "cell_type": "code",
      "execution_count": null,
      "metadata": {
        "id": "MGGNTOR5lw_G"
      },
      "outputs": [],
      "source": [
        "PATH_GOOGLE_DRIVE = '/content/ISPRS_semantic_labeling_Vaihingen'\n",
        "FOLDER_GT = 'gts_for_participants'\n",
        "FOLDER_IMG = 'top'\n",
        "FOLDER_DSM = 'dsm'\n",
        "# Color palette for segmentation classes\n",
        "palette = {\n",
        "    0: (255, 255, 255),  # Impermeable surface (white)\n",
        "    1: (0, 0, 255),      # Building (blue)\n",
        "    2: (0, 255, 255),    # Low vegetation (cyan)\n",
        "    3: (0, 255, 0),      # Tree (green)\n",
        "    4: (255, 255, 0),    # Car (yellow)\n",
        "    5: (255, 0, 0),      # Clutter (red)\n",
        "    6: (0, 0, 0)         # Undefined (black)\n",
        "}\n",
        "invert_palette = {v: k for k, v in palette.items()}"
      ]
    },
    {
      "cell_type": "code",
      "execution_count": null,
      "metadata": {
        "id": "YRxnQDJJmJUC"
      },
      "outputs": [],
      "source": [
        "list_of_files = os.listdir(os.path.join(PATH_GOOGLE_DRIVE, FOLDER_GT))\n",
        "shuffle(list_of_files)\n",
        "\n",
        "TEST_FILE = list_of_files.pop()\n",
        "\n",
        "print('Name of the test img: ' + TEST_FILE)\n",
        "\n",
        "nb_file = len(list_of_files)\n",
        "nb_train = int(nb_file * (60/100))\n",
        "nb_valid = nb_file - nb_train\n",
        "\n",
        "print('\\n')\n",
        "print('Number of images in the list: ' + str(nb_file))\n",
        "print('Number of images for training: ' + str(nb_train))\n",
        "print('Number of images for validation: ' + str(nb_valid))\n",
        "\n",
        "list_valid = list_of_files[nb_train:nb_train+nb_valid]\n",
        "list_train = list_of_files[0:nb_train]\n",
        "\n",
        "print('\\n')\n",
        "print('Validation list:\\n' + str(list_valid))\n",
        "print('Train list:\\n' + str(list_train))"
      ]
    },
    {
      "cell_type": "code",
      "execution_count": null,
      "metadata": {
        "id": "288o5BxHmKUd"
      },
      "outputs": [],
      "source": [
        "indice_img = random.randint(0, len(list_of_files) - 1)\n",
        "path_img_example = os.path.join(PATH_GOOGLE_DRIVE, FOLDER_IMG, list_of_files[indice_img])\n",
        "path_gt_example = os.path.join(PATH_GOOGLE_DRIVE, FOLDER_GT, list_of_files[indice_img])\n",
        "img = plt.imread(path_img_example)\n",
        "gt = plt.imread(path_gt_example)\n",
        "\n",
        "f, axarr = plt.subplots(1,2)\n",
        "axarr[0].imshow(img)\n",
        "axarr[1].imshow(gt)\n",
        "\n",
        "print('Size of the image: ' + str(img.shape))\n",
        "print('Size of the ground truth: ' + str(gt.shape))"
      ]
    },
    {
      "cell_type": "code",
      "execution_count": null,
      "metadata": {
        "id": "hmPbsCvxmQTP"
      },
      "outputs": [],
      "source": [
        "from random import randrange\n",
        "from tqdm import tqdm\n",
        "\n",
        "def generate_learning_patches(path_folder_gt, path_folder_img, nb_patches, size_patches, list_with_filename, data_aug=False):\n",
        "  _current_nb = 0\n",
        "  X_res = list()\n",
        "  Y_res = list()\n",
        "\n",
        "  with tqdm(total=nb_patches) as pbar:\n",
        "    while _current_nb < nb_patches:\n",
        "      i = random.randint(0, len(list_with_filename) - 1)\n",
        "      _gt_path = os.path.join(path_folder_gt, list_with_filename[i])\n",
        "      _img_path = os.path.join(path_folder_img, list_with_filename[i])\n",
        "\n",
        "      _gt = tiff.imread(_gt_path).astype('uint8')\n",
        "      _img = tiff.imread(_img_path).astype('float16')\n",
        "\n",
        "      _y = random.randint(0, _gt.shape[0] - size_patches)\n",
        "      _x = random.randint(0, _gt.shape[1] - size_patches)\n",
        "\n",
        "      res_gt = _gt[_y:(_y + size_patches), _x:(_x + size_patches)]\n",
        "      res_img = _img[_y:(_y + size_patches), _x:(_x + size_patches)]\n",
        "\n",
        "      for b in range(0, res_img.shape[2]):\n",
        "        res_img[:,:,b] = res_img[:,:,b]/255\n",
        "\n",
        "      res_gt = convert_from_color(res_gt)\n",
        "\n",
        "      _tmp_gt = np.zeros((res_gt.shape[0], res_gt.shape[1], 7), dtype=np.uint8)\n",
        "\n",
        "      for i in range(0, 7):\n",
        "        _tmp_gt[:, :, i] = np.where(res_gt == i, 1, 0)\n",
        "\n",
        "      res_gt = _tmp_gt\n",
        "\n",
        "      X_res.append(res_img.astype(np.float16))\n",
        "      Y_res.append(res_gt.astype('uint8'))\n",
        "\n",
        "      _current_nb += 1\n",
        "\n",
        "      if data_aug:\n",
        "        if randrange(100) <= 25:\n",
        "          res_img, res_gt = data_augmentation(res_img, res_gt)\n",
        "          X_res.append(res_img.astype(np.float16))\n",
        "          Y_res.append(res_gt.astype('uint8'))\n",
        "          _current_nb += 1\n",
        "\n",
        "      pbar.update(1)\n",
        "\n",
        "  return np.array(X_res), np.array(Y_res)"
      ]
    },
    {
      "cell_type": "code",
      "execution_count": null,
      "metadata": {
        "id": "tT0PYxdSmTYH"
      },
      "outputs": [],
      "source": [
        "path_folder_gt = os.path.join(PATH_GOOGLE_DRIVE, FOLDER_GT)\n",
        "path_folder_img = os.path.join(PATH_GOOGLE_DRIVE, FOLDER_IMG)\n",
        "nb_patches_valid = 100\n",
        "nb_patches_train = 1200\n",
        "size_patches = 256\n",
        "\n",
        "X_train, Y_train = generate_learning_patches(path_folder_gt, path_folder_img, nb_patches_train, size_patches, list_train, data_aug=True)\n",
        "X_valid, Y_valid = generate_learning_patches(path_folder_gt, path_folder_img, nb_patches_valid, size_patches, list_train, data_aug=False)"
      ]
    },
    {
      "cell_type": "markdown",
      "metadata": {
        "id": "Cl6iDavOm_OH"
      },
      "source": [
        "## Training"
      ]
    },
    {
      "cell_type": "code",
      "execution_count": null,
      "metadata": {
        "id": "aI8wIw6NmfJO"
      },
      "outputs": [],
      "source": [
        "model = sm.Unet('vgg16', classes=7, activation='softmax', input_shape=(size_patches, size_patches, 3), encoder_weights='imagenet')"
      ]
    },
    {
      "cell_type": "code",
      "execution_count": null,
      "metadata": {
        "id": "4FmlJXGamifC"
      },
      "outputs": [],
      "source": [
        "model.compile(optimizer = tf.keras.optimizers.Adam(learning_rate = 1e-4), loss = 'categorical_crossentropy', metrics = ['accuracy'])"
      ]
    },
    {
      "cell_type": "code",
      "execution_count": null,
      "metadata": {
        "id": "obqagOHCmk7x"
      },
      "outputs": [],
      "source": [
        "PATH_WEIGHTS = 'weights_model.keras'\n",
        "\n",
        "early_stopping = EarlyStopping(monitor='val_loss', min_delta=0, patience=10, verbose=1, mode='auto')\n",
        "reduce_lr = ReduceLROnPlateau(monitor='loss', factor=0.1, patience=5, min_lr=0.00001)\n",
        "model_checkpoint = ModelCheckpoint(PATH_WEIGHTS, monitor='val_loss', save_best_only=True)"
      ]
    },
    {
      "cell_type": "code",
      "execution_count": null,
      "metadata": {
        "id": "W2OTUUnVmnmd"
      },
      "outputs": [],
      "source": [
        "history = model.fit(\n",
        "   x=X_train,\n",
        "   y=Y_train,\n",
        "   batch_size=16,\n",
        "   epochs=100,\n",
        "   callbacks = [early_stopping, reduce_lr, model_checkpoint],\n",
        "   validation_data=(X_valid, Y_valid)\n",
        ")"
      ]
    },
    {
      "cell_type": "code",
      "source": [
        "plt.figure(figsize=(10, 6))\n",
        "plt.plot(history.history['loss'], label='Training Loss')\n",
        "plt.plot(history.history['val_loss'], label='Validation Loss')\n",
        "plt.xlabel('Epochs')\n",
        "plt.ylabel('Loss')\n",
        "plt.title('Loss Curve')\n",
        "plt.legend()\n",
        "plt.grid(True)\n",
        "plt.show()"
      ],
      "metadata": {
        "id": "3KdWsV3lQf2t"
      },
      "execution_count": null,
      "outputs": []
    },
    {
      "cell_type": "markdown",
      "metadata": {
        "id": "pdazs190nHM8"
      },
      "source": [
        "## Prediction (or classification) and evaluation"
      ]
    },
    {
      "cell_type": "code",
      "execution_count": null,
      "metadata": {
        "id": "tg3H4oqUmp1c"
      },
      "outputs": [],
      "source": [
        "model.load_weights('/content/weights_model.keras')"
      ]
    },
    {
      "cell_type": "code",
      "execution_count": null,
      "metadata": {
        "id": "iRDCg3gNmtDy"
      },
      "outputs": [],
      "source": [
        "img_m = tiff.imread('/content/ISPRS_semantic_labeling_Vaihingen/top/top_mosaic_09cm_area32.tif').astype(int)\n",
        "gt = tiff.imread('/content/ISPRS_semantic_labeling_Vaihingen/gts_for_participants/top_mosaic_09cm_area32.tif').astype(int)\n",
        "dsm = tiff.imread('/content/ISPRS_semantic_labeling_Vaihingen/dsm/dsm_09cm_matching_area32.tif').astype(int)\n",
        "\n",
        "x = randint(0, img_m.shape[0] - size_patches - 1)\n",
        "y = randint(0, img_m.shape[1] - size_patches - 1)\n",
        "pred_test = predict(img_m[x:x+size_patches, y:y+size_patches, :]/255, model, patch_sz=size_patches, n_classes=7)\n",
        "pred_final = get_prediction_from_mask(pred_test, 7)\n",
        "res = convert_to_color(pred_final)\n",
        "img_output = img_m[x:x+size_patches, y:y+size_patches, :]\n",
        "gt_output = gt[x:x+size_patches, y:y+size_patches, :]\n",
        "dsm_output = dsm[x:x+size_patches, y:y+size_patches]\n",
        "\n",
        "f, axarr = plt.subplots(2,2)\n",
        "axarr[0,0].imshow(img_output)\n",
        "axarr[0,1].imshow(res)\n",
        "axarr[1,0].imshow(dsm_output)\n",
        "axarr[1,1].imshow(gt_output)\n",
        "\n",
        "palette = {0 : (255, 255, 255), # Surface imperméable (blanc)\n",
        "           1 : (0, 0, 255),     # Batiment (bleus)\n",
        "           2 : (0, 255, 255),   # Végétation basse (cyan)\n",
        "           3 : (0, 255, 0),     # Arbre (vert)\n",
        "           4 : (255, 255, 0),   # Voiture (jaune)\n",
        "           5 : (255, 0, 0),     # Clutter (rouge)\n",
        "           6 : (0, 0, 0)}       # Indéfini (noir)"
      ]
    },
    {
      "cell_type": "code",
      "execution_count": null,
      "metadata": {
        "id": "kj_9dDzk64LD"
      },
      "outputs": [],
      "source": [
        "gt = tiff.imread('/content/ISPRS_semantic_labeling_Vaihingen/gts_for_participants/top_mosaic_09cm_area32.tif').astype(int)\n",
        "array = np.unique(convert_from_color(gt))\n",
        "print(array)\n",
        "\n",
        "size_x = img_m.shape[0]\n",
        "size_y = img_m.shape[1]\n",
        "_tmp_x = 0\n",
        "_tmp_y = 0\n",
        "y_true = []\n",
        "y_pred = []\n",
        "\n",
        "while _tmp_y + size_patches < size_y:\n",
        "  while _tmp_x + size_patches < size_x:\n",
        "    _patch = img_m[_tmp_x:(_tmp_x + size_patches), _tmp_y:(_tmp_y+size_patches)]\n",
        "    _patch_gt = gt[_tmp_x:(_tmp_x + size_patches), _tmp_y:(_tmp_y+size_patches)]\n",
        "\n",
        "    pred = predict(_patch/255, model, patch_sz=size_patches, n_classes=7)\n",
        "    pred = get_prediction_from_mask(pred, 7)\n",
        "\n",
        "    _patch_gt = convert_from_color(_patch_gt)\n",
        "\n",
        "    y_pred = y_pred + list(pred.flatten())\n",
        "    y_true = y_true + list(_patch_gt.flatten())\n",
        "\n",
        "    _tmp_x += size_patches\n",
        "\n",
        "  _tmp_x = 0\n",
        "  _tmp_y += size_patches\n",
        "\n",
        "cm = confusion_matrix(y_true, y_pred)\n",
        "cr = classification_report(y_true, y_pred)\n",
        "save_confusion_matrix(cm, [0,1,2,3,4])\n",
        "print(cr)"
      ]
    }
  ],
  "metadata": {
    "accelerator": "GPU",
    "colab": {
      "collapsed_sections": [
        "QWzUtCPe_GDe"
      ],
      "provenance": []
    },
    "kernelspec": {
      "display_name": "Python 3",
      "name": "python3"
    }
  },
  "nbformat": 4,
  "nbformat_minor": 0
}