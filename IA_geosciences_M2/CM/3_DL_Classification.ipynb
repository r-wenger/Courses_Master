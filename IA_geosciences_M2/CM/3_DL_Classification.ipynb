{
  "nbformat": 4,
  "nbformat_minor": 0,
  "metadata": {
    "colab": {
      "provenance": [],
      "collapsed_sections": [
        "CWY8IaseeTgv",
        "ocGsrYrqebyP"
      ]
    },
    "kernelspec": {
      "name": "python3",
      "display_name": "Python 3"
    }
  },
  "cells": [
    {
      "cell_type": "markdown",
      "metadata": {
        "id": "Va4Ky7CPb0VN"
      },
      "source": [
        "# **Classification**"
      ]
    },
    {
      "cell_type": "markdown",
      "metadata": {
        "id": "Bf77-y0vHuHh"
      },
      "source": [
        "### Import des librairies"
      ]
    },
    {
      "cell_type": "code",
      "metadata": {
        "id": "iPIq79N4HyKC"
      },
      "source": [
        "from sklearn.model_selection import train_test_split\n",
        "from sklearn.datasets import load_iris\n",
        "from sklearn.preprocessing import normalize\n",
        "import numpy as np\n",
        "import matplotlib.pyplot as plt\n",
        "\n",
        "from mpl_toolkits.mplot3d import Axes3D\n",
        "from sklearn.preprocessing import LabelEncoder\n",
        "from sklearn.preprocessing import OneHotEncoder\n",
        "\n",
        "import tensorflow as tf\n",
        "from tensorflow import keras\n",
        "from tensorflow.keras import layers"
      ],
      "execution_count": null,
      "outputs": []
    },
    {
      "cell_type": "markdown",
      "metadata": {
        "id": "7pev-KczH_Vu"
      },
      "source": [
        "### Chargemet des données Iris"
      ]
    },
    {
      "cell_type": "code",
      "metadata": {
        "id": "4ePOs81VIEJ-"
      },
      "source": [
        "dataset = load_iris()\n",
        "\n",
        "X = dataset['data']\n",
        "Y = dataset['target']\n",
        "\n",
        "attributs = dataset['feature_names']\n",
        "\n",
        "print('Liste des attributs:',attributs)\n",
        "\n",
        "print('Nombre d\\'instances est:',X.shape[0])\n",
        "print('Nombre d\\'attributs est:',X.shape[1])\n",
        "\n",
        "print(\"Liste de ce que l'on veut prédire :\",np.unique(Y))"
      ],
      "execution_count": null,
      "outputs": []
    },
    {
      "cell_type": "markdown",
      "metadata": {
        "id": "aQSdk_JSIV0I"
      },
      "source": [
        "### Transformer le problème en classification binaire `[0,1]`"
      ]
    },
    {
      "cell_type": "code",
      "metadata": {
        "id": "0UiKkTy6IrB9"
      },
      "source": [
        "# on crée une copie de Y pour la transformer en binaire\n",
        "Y_binaire = Y.copy()\n",
        "# on met ce qui n'est pas 0 (Setosa) à 1\n",
        "Y_binaire[Y!=0] = 1\n",
        "\n",
        "print(\"Liste de ce que l'on veut prédire:\", np.unique(Y_binaire))"
      ],
      "execution_count": null,
      "outputs": []
    },
    {
      "cell_type": "markdown",
      "metadata": {
        "id": "2AkI7GJKcHoQ"
      },
      "source": [
        "### Définition d'une fonction qui transforme en représentation binaire pour plusieurs classes"
      ]
    },
    {
      "cell_type": "code",
      "metadata": {
        "id": "Ej3mDMx1cP8E"
      },
      "source": [
        "def transform_labels(y_train,y_test):\n",
        "  \"\"\"\n",
        "  Cette fonction transforme les classes non-binaires en une représentation binaire\n",
        "  Par exemple si on a une liste de 6 fleurs chacune peut avoir une des 3 classes\n",
        "  Entrée: [\n",
        "           1,\n",
        "           3,\n",
        "           3,\n",
        "           2,\n",
        "           1,\n",
        "           2\n",
        "          ]\n",
        "\n",
        "  Sortie: [\n",
        "           [1,0,0], # class 1\n",
        "           [0,0,1], # class 3\n",
        "           [0,0,1], # class 3\n",
        "           [0,1,0], # class 2\n",
        "           [1,0,0], # class 1\n",
        "           [0,1,0]  # class 2\n",
        "          ]\n",
        "  \"\"\"\n",
        "\n",
        "  print('y_train',y_train.shape)\n",
        "  print('y_test',y_test.shape)\n",
        "\n",
        "  # concatener train et test\n",
        "  y_train_test = np.concatenate((y_train,y_test),axis =0)\n",
        "\n",
        "  # init un encoder Label\n",
        "  encoder = LabelEncoder()\n",
        "  # transformer de [1,3,3,2,1,2] à [0,2,2,1,0,1]\n",
        "  new_y_train_test = encoder.fit_transform(y_train_test)\n",
        "\n",
        "  # init un encoder one-hot\n",
        "  encoder = OneHotEncoder()\n",
        "  # transformer de [0,2,2,1,0,1] à la représentation binaire\n",
        "  new_y_train_test = encoder.fit_transform(new_y_train_test.reshape(-1,1))\n",
        "\n",
        "  # resplit the train and test\n",
        "  new_y_train = new_y_train_test[0:len(y_train)]\n",
        "  new_y_test = new_y_train_test[len(y_train):]\n",
        "\n",
        "  print('new_y_train',new_y_train.shape)\n",
        "  print('new_y_test',new_y_test.shape)\n",
        "\n",
        "  return new_y_train, new_y_test"
      ],
      "execution_count": null,
      "outputs": []
    },
    {
      "cell_type": "markdown",
      "metadata": {
        "id": "rLEocK5fJz0Y"
      },
      "source": [
        "### Diviser en données d'entrainement et données de test"
      ]
    },
    {
      "cell_type": "code",
      "metadata": {
        "id": "sANNlHH6J2Fg"
      },
      "source": [
        "X_train, X_test, y_train, y_test = train_test_split(X,Y_binaire,test_size= 33/100)\n",
        "\n",
        "print('Nombre d\\'instances pour l\\'entrainement:',X_train.shape[0])\n",
        "print('Nombre d\\'instances pour le test:',X_test.shape[0])"
      ],
      "execution_count": null,
      "outputs": []
    },
    {
      "cell_type": "markdown",
      "metadata": {
        "id": "5mV_8aEPJ6CS"
      },
      "source": [
        "### Normalizer `X_train` et `X_test` pour que toutes les caractéristiques soient entre 0 et 1"
      ]
    },
    {
      "cell_type": "code",
      "metadata": {
        "id": "pV1uang1J77L"
      },
      "source": [
        "X_train = normalize(X_train)\n",
        "X_test = normalize(X_test)"
      ],
      "execution_count": null,
      "outputs": []
    },
    {
      "cell_type": "markdown",
      "metadata": {
        "id": "p-NjHugCJ91L"
      },
      "source": [
        "### Choisir les attributs sur lequels on veut travailler"
      ]
    },
    {
      "cell_type": "code",
      "metadata": {
        "id": "70ZCJ7dOJ_q6"
      },
      "source": [
        "index_des_attributs = [0,1]\n",
        "\n",
        "x_train = X_train[:,index_des_attributs]\n",
        "x_test = X_test[:,index_des_attributs]"
      ],
      "execution_count": null,
      "outputs": []
    },
    {
      "cell_type": "markdown",
      "metadata": {
        "id": "kBn5Q3huKLhq"
      },
      "source": [
        "## Créer un modèle de régression logistique avec Keras"
      ]
    },
    {
      "cell_type": "markdown",
      "metadata": {
        "id": "tbDsFY1eKSxE"
      },
      "source": [
        "### Créer la couche d'entrée qui a la même shape que celle d'une instance dans `x_train`"
      ]
    },
    {
      "cell_type": "code",
      "metadata": {
        "id": "3jnHNdsXKUw1"
      },
      "source": [
        "input_shape = x_train.shape[1:]\n",
        "\n",
        "input_layer = keras.layers.Input(input_shape)"
      ],
      "execution_count": null,
      "outputs": []
    },
    {
      "cell_type": "markdown",
      "metadata": {
        "id": "yMxf4WNzKfTj"
      },
      "source": [
        "### Créer une couche qui contient un neurone qui prend en entrée l'`input_layer` avec une activation 'sigmoid' (sigma)"
      ]
    },
    {
      "cell_type": "code",
      "metadata": {
        "id": "sR_Y6KYWKpj1"
      },
      "source": [
        "output_layer = keras.layers.Dense(units=1, activation='sigmoid')(input_layer)"
      ],
      "execution_count": null,
      "outputs": []
    },
    {
      "cell_type": "markdown",
      "metadata": {
        "id": "CNWcmriyK32-"
      },
      "source": [
        "### Création du modèle (qui est un perceptron)"
      ]
    },
    {
      "cell_type": "code",
      "metadata": {
        "id": "3ddmZ6BKK-Rw"
      },
      "source": [
        "model = keras.models.Model(inputs=input_layer, outputs=output_layer)\n",
        "\n",
        "model.summary()"
      ],
      "execution_count": null,
      "outputs": []
    },
    {
      "cell_type": "markdown",
      "metadata": {
        "id": "cW53R84LK_C-"
      },
      "source": [
        "### Choisir l'algorithme d'optimisation avec un learning rate de 0.1"
      ]
    },
    {
      "cell_type": "code",
      "metadata": {
        "id": "HR4HArStLBaz"
      },
      "source": [
        "learning_rate = 0.1\n",
        "optimizer_algo = keras.optimizers.SGD(learning_rate=learning_rate)"
      ],
      "execution_count": null,
      "outputs": []
    },
    {
      "cell_type": "markdown",
      "metadata": {
        "id": "HN-YYpmALHfU"
      },
      "source": [
        "### Choisir la fonction de coût qu'on veut optimiser : *Binary Cross-Entropy*"
      ]
    },
    {
      "cell_type": "code",
      "metadata": {
        "id": "m6FQizMYLSIA"
      },
      "source": [
        "cost_function = keras.losses.binary_crossentropy"
      ],
      "execution_count": null,
      "outputs": []
    },
    {
      "cell_type": "markdown",
      "metadata": {
        "id": "KGyCEDchLVS2"
      },
      "source": [
        "### Compiler le modèle en lui indiquant qu'on veut aussi mesurer l'accuracy"
      ]
    },
    {
      "cell_type": "code",
      "metadata": {
        "id": "sZ1B5MPcLXJ1"
      },
      "source": [
        "model.compile(loss=cost_function,optimizer=optimizer_algo, metrics=['accuracy'])"
      ],
      "execution_count": null,
      "outputs": []
    },
    {
      "cell_type": "markdown",
      "metadata": {
        "id": "jas6fvFuLZOa"
      },
      "source": [
        "### Entrainer le modèle avec un batch size de 32 pour 1000 époques"
      ]
    },
    {
      "cell_type": "code",
      "metadata": {
        "id": "kdq19gt4LdjP"
      },
      "source": [
        "mini_batch_size = 16\n",
        "nb_epochs = 1000\n",
        "history = model.fit(x_train,y_train,batch_size=mini_batch_size,epochs=nb_epochs,verbose=False)"
      ],
      "execution_count": null,
      "outputs": []
    },
    {
      "cell_type": "markdown",
      "metadata": {
        "id": "4cRZxmLFLjCh"
      },
      "source": [
        "### Tracer la variation du taux d'erreur sur le train en fonction du nombre d'epoque"
      ]
    },
    {
      "cell_type": "code",
      "metadata": {
        "id": "YgXeYyfGLlOl"
      },
      "source": [
        "history_dict = history.history\n",
        "loss_epochs = history_dict['loss']\n",
        "\n",
        "plt.figure()\n",
        "plt.plot(loss_epochs)\n",
        "plt.xlabel('epoch')\n",
        "plt.ylabel('loss')\n",
        "plt.show()\n",
        "plt.close()"
      ],
      "execution_count": null,
      "outputs": []
    },
    {
      "cell_type": "markdown",
      "metadata": {
        "id": "8gMatRpALs-h"
      },
      "source": [
        "### Évaluer ce modèle sur l'ensemble du train et test"
      ]
    },
    {
      "cell_type": "code",
      "metadata": {
        "id": "VU5dGa-JLu7b"
      },
      "source": [
        "loss,acc = model.evaluate(x_train,y_train,verbose=False)\n",
        "\n",
        "print(\"L'accuracy sur l'ensemble du train est:\",acc)\n",
        "\n",
        "loss,acc = model.evaluate(x_test,y_test,verbose=False)\n",
        "\n",
        "print(\"L'accuracy sur l'ensemble du test est:\",acc)"
      ],
      "execution_count": null,
      "outputs": []
    },
    {
      "cell_type": "markdown",
      "metadata": {
        "id": "sYsX3C52Mb81"
      },
      "source": [
        "## Tracer et visualiser les données dans un cas  2D"
      ]
    },
    {
      "cell_type": "markdown",
      "metadata": {
        "id": "D7yPeJstMhtQ"
      },
      "source": [
        "### Tracer les données sans la décision"
      ]
    },
    {
      "cell_type": "code",
      "metadata": {
        "id": "x67wcK5KMfLi"
      },
      "source": [
        "if len(index_des_attributs) == 2:\n",
        "  colors = np.empty(y_train.shape,dtype=str)\n",
        "  # rouge pour la première classe (Setosa)\n",
        "  colors[y_train==0] = 'red'\n",
        "  # bleu pour la deuxième classe (non-Setosa)\n",
        "  colors[y_train==1] = 'blue'\n",
        "  # tracer\n",
        "  plt.figure()\n",
        "  plt.ylabel('x_1')\n",
        "  plt.xlabel('x_2')\n",
        "  plt.scatter(x_train[:,0],x_train[:,1],c=colors)\n",
        "  plt.savefig('plot-2d-iris.pdf')\n",
        "  plt.show()\n",
        "  plt.close()"
      ],
      "execution_count": null,
      "outputs": []
    },
    {
      "cell_type": "markdown",
      "metadata": {
        "id": "siw6U85Bds9Z"
      },
      "source": [
        "### Tracer les données avec la décision"
      ]
    },
    {
      "cell_type": "code",
      "metadata": {
        "id": "84s6BiFAdxa3"
      },
      "source": [
        "if len(index_des_attributs) == 2:\n",
        "  colors = np.empty(y_train.shape,dtype=str)\n",
        "  # rouge pour la première classe (Setosa)\n",
        "  colors[y_train==0] = 'red'\n",
        "  # bleu pour la deuxième classe (non-Setosa)\n",
        "  colors[y_train==1] = 'blue'\n",
        "\n",
        "  # chercher les minimums et maximum des attributs\n",
        "  minimum_x_1 = x_train[:,0].min()-0.05\n",
        "  minimum_x_2 = x_train[:,1].min()-0.05\n",
        "  maximum_x_1 = x_train[:,0].max()+0.05\n",
        "  maximum_x_2 = x_train[:,1].max()+0.05\n",
        "\n",
        "  # pour remplir l'espace avec les décisions\n",
        "  # spécifier la précision des points de la surface de décision\n",
        "  step = 0.001\n",
        "\n",
        "  # créer le plan pour lui prédire la décision du classifieur\n",
        "  x_1,x_2 = np.mgrid[minimum_x_1:maximum_x_1:step,minimum_x_2:maximum_x_2:step]\n",
        "  grid = np.c_[x_1.ravel(), x_2.ravel()]\n",
        "\n",
        "  # créer x pour l'entrée du classifieur\n",
        "  x = grid\n",
        "\n",
        "  # chercher les probabilités prédites\n",
        "  y_pred = model.predict(x)\n",
        "\n",
        "  # maintenant transformer les probabilités en labels prédits\n",
        "  # ce qui est supérieur à 0.5 est considéré 1 sinon 0\n",
        "  y_pred[y_pred>0.5] = 1\n",
        "  y_pred[y_pred<=0.5] = 0\n",
        "\n",
        "  # changer la forme de la prédiction pour qu'elle corresponde à celle d'un plan\n",
        "  z = y_pred[:,0].reshape(x_1.shape)\n",
        "\n",
        "  # créer la figure vide\n",
        "  f, ax = plt.subplots(figsize=(8, 6))\n",
        "\n",
        "  # déssiner le contour de la prédiction\n",
        "  contour = ax.contourf(x_1, x_2, z, 25, cmap=\"RdBu\",\n",
        "                      vmin=0, vmax=1)\n",
        "  # mettre la barre de couleur\n",
        "  ax_c = f.colorbar(contour)\n",
        "\n",
        "  # tracer les points\n",
        "  ax.scatter(x_train[:,0],x_train[:,1],c=colors,\n",
        "            edgecolor=\"white\", linewidth=1)\n",
        "\n",
        "  # annoter\n",
        "  plt.ylabel('x_1')\n",
        "  plt.xlabel('x_2')\n",
        "  ax_c.set_label(\"$\\hat{y}$\")\n",
        "\n",
        "  # sauvegarder et afficher la figure\n",
        "  plt.savefig('decision-binary.pdf')\n",
        "  plt.show()\n",
        "  plt.close()"
      ],
      "execution_count": null,
      "outputs": []
    },
    {
      "cell_type": "code",
      "metadata": {
        "id": "rSK5jv0Pk9bn"
      },
      "source": [
        "print(y_pred.shape)\n",
        "print(z.shape)\n",
        "print(x_1.ravel().shape)"
      ],
      "execution_count": null,
      "outputs": []
    },
    {
      "cell_type": "markdown",
      "metadata": {
        "id": "GjMXNc4uY3CM"
      },
      "source": [
        "## **Exercices**"
      ]
    },
    {
      "cell_type": "markdown",
      "metadata": {
        "id": "mLtrD-ZBX4sz"
      },
      "source": [
        "## Refaire le travail pour la classification des trois classes `[0,1,2]`"
      ]
    },
    {
      "cell_type": "code",
      "metadata": {
        "id": "yf5yqD42dk6i"
      },
      "source": [
        "# Votre code ici"
      ],
      "execution_count": null,
      "outputs": []
    },
    {
      "cell_type": "markdown",
      "metadata": {
        "id": "tpXMF0_Hdmib"
      },
      "source": [
        " ### Corrigé :"
      ]
    },
    {
      "cell_type": "code",
      "metadata": {
        "id": "A_Se357GYAem"
      },
      "source": [
        "# restart keras and tensorflow session\n",
        "keras.backend.clear_session()\n",
        "\n",
        "# on divise en train et test\n",
        "X_train, X_test, y_train, y_test = train_test_split(X,Y,test_size= 33/100 )\n",
        "\n",
        "# Ensuite on normalise entre 0 et 1 toutes les valeurs\n",
        "X_train = normalize(X_train)\n",
        "X_test = normalize(X_test)\n",
        "\n",
        "# on choisit la liste des attributs sur lesquelles on veut travailler\n",
        "index_des_attributs = [0,1]\n",
        "x_train = X_train[:,index_des_attributs]\n",
        "x_test = X_test[:,index_des_attributs]\n",
        "\n",
        "# récupérer la liste unique des classes\n",
        "y_train_unique = np.unique(y_train)\n",
        "# récupérer le nombre de classes C\n",
        "C = len(y_train_unique)\n",
        "\n",
        "# transformer les classes en représentation binaire (one-hot encoding)\n",
        "y_train_binaire,y_test_binaire = transform_labels(y_train,y_test)\n",
        "\n",
        "# maintenant on créé le modèle\n",
        "# on commence par la couche d'entrée\n",
        "input_shape = x_train.shape[1:]\n",
        "input_layer = keras.layers.Input(input_shape)\n",
        "\n",
        "# ensuite la couche de sortie avec l'activation softmax\n",
        "# qui contient C neurones (C étant le nombre de classes)\n",
        "output_layer = keras.layers.Dense(units=C, activation='softmax')(input_layer)\n",
        "\n",
        "# créer le modèle en spécifiant input et output\n",
        "model = keras.models.Model(inputs=input_layer, outputs=output_layer)\n",
        "\n",
        "# choisir le taux d'apprentissage\n",
        "learning_rate = 0.1\n",
        "\n",
        "# choisir l'algorithme d'optimsation en lui spécifiant le taux d'aprentissage\n",
        "optimizer_algo = keras.optimizers.SGD(learning_rate=learning_rate)\n",
        "\n",
        "# choisir la fonction de coût: categorical cross entropy\n",
        "cost_function = keras.losses.categorical_crossentropy\n",
        "\n",
        "# compiler le modèle en lui spécifiant qu'on veut surveiller l'accuracy\n",
        "model.compile(loss=cost_function,optimizer=optimizer_algo, metrics=['accuracy'])\n",
        "\n",
        "# afficher les information du modèle\n",
        "model.summary()\n",
        "\n",
        "# choisir le batch size\n",
        "mini_batch_size = 8\n",
        "\n",
        "# choisir le nombre d'époque\n",
        "nb_epochs = 1000\n",
        "\n",
        "# conversion en array numpy (TF2)\n",
        "y_train_binaire = y_train_binaire.toarray()\n",
        "y_test_binaire = y_test_binaire.toarray()\n",
        "\n",
        "# commencer l'entrainement\n",
        "history = model.fit(x_train,y_train_binaire,batch_size=mini_batch_size,epochs=nb_epochs,verbose=False)\n",
        "\n",
        "# evaluation sur train\n",
        "loss,acc = model.evaluate(x_train,y_train_binaire,verbose=False)\n",
        "print(\"L'accuracy sur l'ensemble du train est :\",acc)\n",
        "\n",
        "# evaluation sur le test\n",
        "loss,acc = model.evaluate(x_test,y_test_binaire,verbose=False)\n",
        "print(\"L'accuracy sur l'ensemble du test est :\",acc)"
      ],
      "execution_count": null,
      "outputs": []
    },
    {
      "cell_type": "markdown",
      "metadata": {
        "id": "xe-CYOWdg0Sk"
      },
      "source": [
        "### Tracer les données dans un plan 2D mais avec trois couleurs (trois classes)"
      ]
    },
    {
      "cell_type": "code",
      "metadata": {
        "id": "8-nsb_81eRY9"
      },
      "source": [
        "# Votre code ici"
      ],
      "execution_count": null,
      "outputs": []
    },
    {
      "cell_type": "markdown",
      "metadata": {
        "id": "CWY8IaseeTgv"
      },
      "source": [
        " ### Corrigé :"
      ]
    },
    {
      "cell_type": "code",
      "metadata": {
        "id": "Ou6H6_ZDg52G"
      },
      "source": [
        "if len(index_des_attributs) == 2:\n",
        "  colors = np.empty(y_train.shape,dtype=str)\n",
        "  # rouge pour la première classe\n",
        "  colors[y_train==0] = 'red'\n",
        "  # bleu pour la deuxième classe\n",
        "  colors[y_train==1] = 'blue'\n",
        "  # vert pour la troisème classe\n",
        "  colors[y_train==2] = 'green'\n",
        "  # tracer\n",
        "  plt.figure()\n",
        "  plt.ylabel('x_1')\n",
        "  plt.xlabel('x_2')\n",
        "  plt.scatter(x_train[:,0],x_train[:,1],c=colors)\n",
        "  plt.savefig('plot-2d-iris.pdf')\n",
        "  plt.show()\n",
        "  plt.close()"
      ],
      "execution_count": null,
      "outputs": []
    },
    {
      "cell_type": "markdown",
      "metadata": {
        "id": "WWo80jA_rOeI"
      },
      "source": [
        "### Tracer la décision dans le cas de trois classes en utilisant [cmaps](https://matplotlib.org/examples/color/colormaps_reference.html)"
      ]
    },
    {
      "cell_type": "code",
      "metadata": {
        "id": "MWBJy3bNeaHU"
      },
      "source": [
        "# Votre code ici"
      ],
      "execution_count": null,
      "outputs": []
    },
    {
      "cell_type": "markdown",
      "metadata": {
        "id": "ocGsrYrqebyP"
      },
      "source": [
        " ### Corrigé :"
      ]
    },
    {
      "cell_type": "code",
      "metadata": {
        "id": "3LEoUOp-rRpv"
      },
      "source": [
        "if len(index_des_attributs) == 2:\n",
        "  colors = np.empty(y_train.shape,dtype=str)\n",
        "  # rouge pour la première classe (Setosa)\n",
        "  colors[y_train==0] = 'blue'\n",
        "  # bleu pour la deuxième classe (non-Setosa)\n",
        "  colors[y_train==1] = 'red'\n",
        "  # vert pour la troisème classe\n",
        "  colors[y_train==2] = 'green'\n",
        "\n",
        "  # chercher les minimums et maximum des attributs\n",
        "  minimum_x_1 = x_train[:,0].min()-0.05\n",
        "  minimum_x_2 = x_train[:,1].min()-0.05\n",
        "  maximum_x_1 = x_train[:,0].max()+0.05\n",
        "  maximum_x_2 = x_train[:,1].max()+0.05\n",
        "\n",
        "  # pour remplir l'espace avec les décisions\n",
        "  # spécifier la précision des points de la surface de décision\n",
        "  step = 0.001\n",
        "\n",
        "  # créer le plan pour lui prédire la décision du classifieur\n",
        "  x_1,x_2 = np.mgrid[minimum_x_1:maximum_x_1:step,minimum_x_2:maximum_x_2:step]\n",
        "  grid = np.c_[x_1.ravel(), x_2.ravel()]\n",
        "\n",
        "  # créer x pour l'entrée du classifieur\n",
        "  x = grid\n",
        "\n",
        "  # chercher les probabilités prédites\n",
        "  y_pred = model.predict(x)\n",
        "\n",
        "  print(\"y_pred avant la transformation\",y_pred.shape)\n",
        "\n",
        "  # maintenant transformer les probabilités en labels prédits\n",
        "  # en utilisant la fonction numpy.argmax\n",
        "  y_pred = np.argmax(y_pred,axis=1)\n",
        "\n",
        "  print(\"y_pred après la transformation\",y_pred.shape)\n",
        "\n",
        "  # changer la forme de la prédiction pour qu'elle correspon à celle d'un plan\n",
        "  z = y_pred.reshape(x_1.shape)\n",
        "\n",
        "  # créer la figure vide\n",
        "  f, ax = plt.subplots(figsize=(8, 6))\n",
        "\n",
        "  # déssiner le contour de la prédiction\n",
        "  contour = ax.contourf(x_1, x_2, z, 25, cmap=\"brg\",\n",
        "                      vmin=0, vmax=2)\n",
        "  # mettre la barre de couleure\n",
        "  ax_c = f.colorbar(contour)\n",
        "\n",
        "  # tracer les points\n",
        "  ax.scatter(x_train[:,0],x_train[:,1],c=colors,\n",
        "            edgecolor=\"white\", linewidth=1)\n",
        "\n",
        "  # annoter\n",
        "  plt.ylabel('x_1')\n",
        "  plt.xlabel('x_2')\n",
        "  ax_c.set_label(\"$\\hat{y}$\")\n",
        "\n",
        "  # sauveguarder et afficher la figure\n",
        "  plt.savefig('decision-binary.pdf')\n",
        "  plt.show()\n",
        "  plt.close()"
      ],
      "execution_count": null,
      "outputs": []
    },
    {
      "cell_type": "code",
      "metadata": {
        "id": "57YggcT7qc_m"
      },
      "source": [],
      "execution_count": null,
      "outputs": []
    }
  ]
}