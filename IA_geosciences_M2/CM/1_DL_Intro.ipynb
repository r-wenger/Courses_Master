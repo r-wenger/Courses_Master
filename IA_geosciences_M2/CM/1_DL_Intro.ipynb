{
  "nbformat": 4,
  "nbformat_minor": 0,
  "metadata": {
    "colab": {
      "provenance": [],
      "collapsed_sections": [
        "UaOjg37JSzin",
        "Eb5xhN1wSo7-"
      ]
    },
    "kernelspec": {
      "name": "python3",
      "display_name": "Python 3"
    }
  },
  "cells": [
    {
      "cell_type": "markdown",
      "metadata": {
        "id": "2tGofmckOWfv"
      },
      "source": [
        "# **Introduction**"
      ]
    },
    {
      "cell_type": "markdown",
      "metadata": {
        "id": "pJ062-i1Ogck"
      },
      "source": [
        "### Import des librairies"
      ]
    },
    {
      "cell_type": "code",
      "metadata": {
        "id": "rlTal2qbOGjt"
      },
      "source": [
        "from sklearn.datasets import load_boston\n",
        "from sklearn.model_selection import train_test_split\n",
        "import numpy as np\n",
        "import matplotlib.pyplot as plt"
      ],
      "execution_count": null,
      "outputs": []
    },
    {
      "cell_type": "markdown",
      "metadata": {
        "id": "DLluZckvOjGj"
      },
      "source": [
        "### Chargement des données House Prices Boston"
      ]
    },
    {
      "cell_type": "code",
      "metadata": {
        "id": "mjw7qfjoOlLz"
      },
      "source": [
        "dataset = load_boston()\n",
        "\n",
        "X = dataset['data']\n",
        "Y = dataset['target']\n",
        "\n",
        "attributs = dataset['feature_names']\n",
        "\n",
        "print('La liste des attributs:',attributs)\n",
        "\n",
        "print('Nomrbre d\\'instances est:',X.shape[0])\n",
        "print('Nomrbre d\\'attributs est:',X.shape[1])"
      ],
      "execution_count": null,
      "outputs": []
    },
    {
      "cell_type": "markdown",
      "metadata": {
        "id": "zCnfzpYjOn2k"
      },
      "source": [
        "### Décomposer les données en ensembles de train et de test"
      ]
    },
    {
      "cell_type": "code",
      "metadata": {
        "id": "JxB5fS-NOmfd"
      },
      "source": [
        "x_train, x_test, y_train, y_test = train_test_split(X,Y,test_size= 33/100 )\n",
        "\n",
        "print('Nombre d\\'instances pour entrainement :',x_train.shape[0])\n",
        "print('Nombre d\\'instances pour le test :',x_test.shape[0])"
      ],
      "execution_count": null,
      "outputs": []
    },
    {
      "cell_type": "markdown",
      "metadata": {
        "id": "lVHQGuruO4l8"
      },
      "source": [
        "## Créer un prédicteur linéaire en utilisant un seul attribut"
      ]
    },
    {
      "cell_type": "markdown",
      "metadata": {
        "id": "h_LFkkrvO748"
      },
      "source": [
        "### Choisir un attribut"
      ]
    },
    {
      "cell_type": "code",
      "metadata": {
        "id": "_8QVKTvsOnnU"
      },
      "source": [
        "index_attribut = 5\n",
        "\n",
        "new_x_train = x_train[:,index_attribut : index_attribut+1]\n",
        "new_x_test = x_test[:,index_attribut : index_attribut+1]"
      ],
      "execution_count": null,
      "outputs": []
    },
    {
      "cell_type": "markdown",
      "metadata": {
        "id": "MN_qeq5_PIgu"
      },
      "source": [
        "### Tracer la variation du prix de la maison en fonction de l'attribut choisi"
      ]
    },
    {
      "cell_type": "code",
      "metadata": {
        "id": "fUydzyDxPIMp"
      },
      "source": [
        "plt.figure()\n",
        "plt.ylabel('prix de la maison')\n",
        "plt.xlabel('attribut-'+str(index_attribut))\n",
        "plt.scatter(new_x_train,y_train)\n",
        "plt.show()\n",
        "plt.close()"
      ],
      "execution_count": null,
      "outputs": []
    },
    {
      "cell_type": "markdown",
      "metadata": {
        "id": "6dkP5T1zPMGt"
      },
      "source": [
        "### Définir la fonction du modèle prédictif: `y_pred = w*x`"
      ]
    },
    {
      "cell_type": "code",
      "metadata": {
        "id": "syBwX83HPLxt"
      },
      "source": [
        "def model(x, w):\n",
        "  y_pred = x*w\n",
        "  return y_pred"
      ],
      "execution_count": null,
      "outputs": []
    },
    {
      "cell_type": "markdown",
      "metadata": {
        "id": "-vdul9p9PRDV"
      },
      "source": [
        "### Définir la fonction d'erreur : `avg((|y - y_pred|)^2)`"
      ]
    },
    {
      "cell_type": "code",
      "metadata": {
        "id": "ckBZgzu1PXgU"
      },
      "source": [
        "def error_fun(y,y_pred):\n",
        "  erreur = np.square(np.abs(y-y_pred)).mean()\n",
        "  return erreur"
      ],
      "execution_count": null,
      "outputs": []
    },
    {
      "cell_type": "markdown",
      "metadata": {
        "id": "GBC-GzgSPZ3V"
      },
      "source": [
        "## Essayer tous les `w` et calculer l'erreur en fonction de `w`"
      ]
    },
    {
      "cell_type": "markdown",
      "metadata": {
        "id": "yweijOXmPd4c"
      },
      "source": [
        "### Créer la liste des `w` possibles entre `-2.0` et `8.0`"
      ]
    },
    {
      "cell_type": "code",
      "metadata": {
        "id": "6Xi2wlIqPhid"
      },
      "source": [
        "w_s = np.arange(start=-2.0, stop=8.0, step=0.01)\n",
        "print(w_s)"
      ],
      "execution_count": null,
      "outputs": []
    },
    {
      "cell_type": "markdown",
      "metadata": {
        "id": "AGEGLbdUPkCS"
      },
      "source": [
        "### Définir la liste vide des erreurs"
      ]
    },
    {
      "cell_type": "code",
      "metadata": {
        "id": "xSnCG0cLPjEV"
      },
      "source": [
        "list_erreurs = np.zeros(shape=(w_s.shape), dtype=np.float32)"
      ],
      "execution_count": null,
      "outputs": []
    },
    {
      "cell_type": "markdown",
      "metadata": {
        "id": "s7hyL8TXPpEF"
      },
      "source": [
        "### Parcourir toutes les valeurs possibles de `w` dans `w_s` et calculer l'erreur"
      ]
    },
    {
      "cell_type": "code",
      "metadata": {
        "id": "u9cE8fR-PoSV"
      },
      "source": [
        "for i in range(w_s.shape[0]):\n",
        "  w = w_s[i]\n",
        "  y_pred = model(new_x_train,w)\n",
        "  list_erreurs[i] = error_fun(y_train,y_pred)"
      ],
      "execution_count": null,
      "outputs": []
    },
    {
      "cell_type": "markdown",
      "metadata": {
        "id": "Q8vuH4GQPxSd"
      },
      "source": [
        "### Dessiner l'erreur en fonction de `w` sur l'ensemble d'entrainement"
      ]
    },
    {
      "cell_type": "code",
      "metadata": {
        "id": "xqQUgf9tPwGN"
      },
      "source": [
        "plt.figure()\n",
        "plt.plot(w_s,list_erreurs)\n",
        "plt.xlabel('w')\n",
        "plt.ylabel('erreur')\n",
        "plt.show()"
      ],
      "execution_count": null,
      "outputs": []
    },
    {
      "cell_type": "markdown",
      "metadata": {
        "id": "c0PLi5QWP5cd"
      },
      "source": [
        "### Trouver `w` qui minimise l'erreur"
      ]
    },
    {
      "cell_type": "code",
      "metadata": {
        "id": "W-bY1kvxP2F9"
      },
      "source": [
        "index_w_best = list_erreurs.argmin()\n",
        "erreur_train = list_erreurs.min()\n",
        "w_best = w_s[index_w_best]\n",
        "\n",
        "print('Pour w =',w_best,\"l'erreur sur l'ensemble d'entrainement est\",erreur_train)"
      ],
      "execution_count": null,
      "outputs": []
    },
    {
      "cell_type": "markdown",
      "metadata": {
        "id": "PwYjugSIP_b8"
      },
      "source": [
        "### Evaluer le modèle (pour `w=w_best`) sur l'ensemble de test"
      ]
    },
    {
      "cell_type": "code",
      "metadata": {
        "id": "sg6uqw72P-Ld"
      },
      "source": [
        "y_pred = model(new_x_test, w_best)\n",
        "\n",
        "erreur_test = error_fun(y_test,y_pred)\n",
        "\n",
        "print('Pour w =',w_best,\"l'erreur sur l'ensemble de test est\", erreur_test)"
      ],
      "execution_count": null,
      "outputs": []
    },
    {
      "cell_type": "markdown",
      "metadata": {
        "id": "uHBVg9wgQGMc"
      },
      "source": [
        "## Visualiser la prédiction sur l'ensemble de test"
      ]
    },
    {
      "cell_type": "markdown",
      "metadata": {
        "id": "ZgwLKx9zQKcV"
      },
      "source": [
        "### Prédire le prix des maisons pour l'ensemble de test"
      ]
    },
    {
      "cell_type": "code",
      "metadata": {
        "id": "JhDRQky_QER2"
      },
      "source": [
        "y_pred = model(new_x_test, w_best)"
      ],
      "execution_count": null,
      "outputs": []
    },
    {
      "cell_type": "markdown",
      "metadata": {
        "id": "uaxWiindQOPv"
      },
      "source": [
        "### Visualiser la prédiction par rapport à la vraie valeur"
      ]
    },
    {
      "cell_type": "code",
      "metadata": {
        "id": "EbyWRpqaQM82"
      },
      "source": [
        "plt.figure()\n",
        "plt.scatter(x=y_test, y=y_pred)\n",
        "plt.xlabel('Prix original')\n",
        "plt.ylabel('Prix prédit')\n",
        "plt.show()"
      ],
      "execution_count": null,
      "outputs": []
    },
    {
      "cell_type": "markdown",
      "metadata": {
        "id": "fTgYzBv0Q1B-"
      },
      "source": [
        "## Tracer `y=w_best * x` sur la figure du prix en fonction de l'attribut"
      ]
    },
    {
      "cell_type": "markdown",
      "metadata": {
        "id": "VvMLcEHMQ6i9"
      },
      "source": [
        "### Choisir deux points de la droite à dessiner"
      ]
    },
    {
      "cell_type": "code",
      "metadata": {
        "id": "JwKJkRqPQXjo"
      },
      "source": [
        "x1 = 4\n",
        "x2 = 9"
      ],
      "execution_count": null,
      "outputs": []
    },
    {
      "cell_type": "markdown",
      "metadata": {
        "id": "c47QrUhsQ-mZ"
      },
      "source": [
        "### Chercher la prédiction de `x1` et `x2` pour `w=w_best`"
      ]
    },
    {
      "cell_type": "code",
      "metadata": {
        "id": "0AuNJfBdRCA9"
      },
      "source": [
        "y1 = model(x1,w_best)\n",
        "y2 = model(x2,w_best)"
      ],
      "execution_count": null,
      "outputs": []
    },
    {
      "cell_type": "markdown",
      "metadata": {
        "id": "Vv6UvhJXRE9i"
      },
      "source": [
        "### Tracer la droite en utilisant ces deux points"
      ]
    },
    {
      "cell_type": "code",
      "metadata": {
        "id": "7vFB6z-_RDT2"
      },
      "source": [
        "plt.figure()\n",
        "plt.ylabel('prix de la maison')\n",
        "plt.xlabel('attribut-'+str(index_attribut))\n",
        "plt.scatter(new_x_train,y_train)\n",
        "plt.plot([x1,x2],[y1,y2],color='red')\n",
        "plt.show()\n",
        "plt.close()"
      ],
      "execution_count": null,
      "outputs": []
    },
    {
      "cell_type": "markdown",
      "metadata": {
        "id": "jiYchet6Ro52"
      },
      "source": [
        "## **Exercices**"
      ]
    },
    {
      "cell_type": "markdown",
      "metadata": {
        "id": "O4G0HshzRrhh"
      },
      "source": [
        " ### Comment peut-on améliorer encore la précision ?"
      ]
    },
    {
      "cell_type": "markdown",
      "metadata": {
        "id": "I28cnUDwS3Pi"
      },
      "source": [
        "Votre réponse ici"
      ]
    },
    {
      "cell_type": "markdown",
      "metadata": {
        "id": "UaOjg37JSzin"
      },
      "source": [
        " ### Corrigé"
      ]
    },
    {
      "cell_type": "markdown",
      "metadata": {
        "id": "Gy09HGVORvXW"
      },
      "source": [
        "En ajoutant `b -> y=w*x+b` maintenant on a un paramètre en plus à apprendre"
      ]
    },
    {
      "cell_type": "markdown",
      "metadata": {
        "id": "DvufXL40R4Xw"
      },
      "source": [
        " ### Écrire le code pour apprendre `y=w*x+b` et visualiser la modèle appris sur la trace de `y` en fonction `x`"
      ]
    },
    {
      "cell_type": "code",
      "metadata": {
        "id": "MVeGe6t0Sv0W"
      },
      "source": [
        "# Votre code ici"
      ],
      "execution_count": null,
      "outputs": []
    },
    {
      "cell_type": "markdown",
      "metadata": {
        "id": "Eb5xhN1wSo7-"
      },
      "source": [
        " ### Corrigé"
      ]
    },
    {
      "cell_type": "code",
      "metadata": {
        "id": "bJKDANHYR_Pe"
      },
      "source": [
        "def model_b(x, w, b):\n",
        "  y_pred = x*w+b\n",
        "  return y_pred\n",
        "\n",
        "w_min = 0\n",
        "w_max = 10\n",
        "w_step = 0.1\n",
        "b_min = -50\n",
        "b_max = -10\n",
        "b_step = 1\n",
        "\n",
        "w_s = np.arange(start=w_min, stop=w_max, step=w_step)\n",
        "b_s = np.arange(start=b_min, stop=b_max, step=b_step)\n",
        "\n",
        "# b_s = [-40]\n",
        "\n",
        "list_erreurs = np.zeros(shape=(len(w_s),len(b_s)), dtype=np.float32)\n",
        "\n",
        "min_err = np.inf\n",
        "\n",
        "for i in range(len(w_s)):\n",
        "  w = w_s[i]\n",
        "  for j in range(len(b_s)):\n",
        "\n",
        "    b = b_s[j]\n",
        "\n",
        "    y_pred = model_b(new_x_train,w,b)\n",
        "\n",
        "    curr_err = error_fun(y_train,y_pred)\n",
        "\n",
        "    if min_err > curr_err:\n",
        "      min_err = curr_err\n",
        "      w_best = w\n",
        "      b_best = b\n",
        "\n",
        "print('Pour w =',w_best,\"b=\",b_best,\"l'erreur sur l'ensemble d'entrainement est\",min_err)"
      ],
      "execution_count": null,
      "outputs": []
    },
    {
      "cell_type": "code",
      "metadata": {
        "id": "pSU3_0V6ScZg"
      },
      "source": [
        "x1 = 4\n",
        "x2 = 9\n",
        "y1 = model_b(x1,w_best,b_best)\n",
        "y2 = model_b(x2,w_best,b_best)\n",
        "plt.figure()\n",
        "plt.ylabel('prix de la maison')\n",
        "plt.xlabel('attribut-'+str(index_attribut))\n",
        "plt.scatter(new_x_train,y_train)\n",
        "plt.plot([x1,x2],[y1,y2],color='red')\n",
        "plt.show()\n",
        "plt.close()"
      ],
      "execution_count": null,
      "outputs": []
    },
    {
      "cell_type": "code",
      "metadata": {
        "id": "omWEmtSdSfHf"
      },
      "source": [],
      "execution_count": null,
      "outputs": []
    }
  ]
}